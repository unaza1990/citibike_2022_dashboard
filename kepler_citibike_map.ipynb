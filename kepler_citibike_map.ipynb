{
 "cells": [
  {
   "cell_type": "markdown",
   "id": "2ba47f72-a22d-4b41-877c-f68ae6df94cd",
   "metadata": {},
   "source": [
    "### Importing Libraries\n",
    "\n",
    "We start by importing `pandas` for data manipulation and `KeplerGl` for geospatial visualization.\n"
   ]
  },
  {
   "cell_type": "code",
   "execution_count": 2,
   "id": "d5db4498-bbde-47df-930d-25761647ecae",
   "metadata": {},
   "outputs": [],
   "source": [
    "# 1. Import necessary libraries\n",
    "import pandas as pd\n",
    "from keplergl import KeplerGl\n",
    "import warnings\n",
    "warnings.filterwarnings(\"ignore\", category=UserWarning)\n"
   ]
  },
  {
   "cell_type": "markdown",
   "id": "9a4eae8c-c5d9-40e4-bdd0-ee01fe781801",
   "metadata": {},
   "source": [
    "### Loading Trip Data\n",
    "\n",
    "We load the cleaned CitiBike trip sample data collected during the year 2022. This includes station names, coordinates, and trip timestamps.\n"
   ]
  },
  {
   "cell_type": "code",
   "execution_count": 3,
   "id": "613c80ba-69f6-46af-8f20-af152c929675",
   "metadata": {},
   "outputs": [
    {
     "data": {
      "text/html": [
       "<div>\n",
       "<style scoped>\n",
       "    .dataframe tbody tr th:only-of-type {\n",
       "        vertical-align: middle;\n",
       "    }\n",
       "\n",
       "    .dataframe tbody tr th {\n",
       "        vertical-align: top;\n",
       "    }\n",
       "\n",
       "    .dataframe thead th {\n",
       "        text-align: right;\n",
       "    }\n",
       "</style>\n",
       "<table border=\"1\" class=\"dataframe\">\n",
       "  <thead>\n",
       "    <tr style=\"text-align: right;\">\n",
       "      <th></th>\n",
       "      <th>ride_id</th>\n",
       "      <th>rideable_type</th>\n",
       "      <th>started_at</th>\n",
       "      <th>ended_at</th>\n",
       "      <th>start_station_name</th>\n",
       "      <th>start_station_id</th>\n",
       "      <th>end_station_name</th>\n",
       "      <th>end_station_id</th>\n",
       "      <th>start_lat</th>\n",
       "      <th>start_lng</th>\n",
       "      <th>end_lat</th>\n",
       "      <th>end_lng</th>\n",
       "      <th>member_casual</th>\n",
       "    </tr>\n",
       "  </thead>\n",
       "  <tbody>\n",
       "    <tr>\n",
       "      <th>0</th>\n",
       "      <td>AD280D4AE55D3506</td>\n",
       "      <td>electric_bike</td>\n",
       "      <td>2022-06-17 17:32:55.309</td>\n",
       "      <td>2022-06-17 17:45:46.076</td>\n",
       "      <td>E 47 St &amp; 2 Ave</td>\n",
       "      <td>6498.10</td>\n",
       "      <td>E 2 St &amp; Avenue C</td>\n",
       "      <td>5476.03</td>\n",
       "      <td>40.753231</td>\n",
       "      <td>-73.970325</td>\n",
       "      <td>40.720874</td>\n",
       "      <td>-73.980858</td>\n",
       "      <td>member</td>\n",
       "    </tr>\n",
       "    <tr>\n",
       "      <th>1</th>\n",
       "      <td>734318BA808A46DC</td>\n",
       "      <td>electric_bike</td>\n",
       "      <td>2022-09-20 17:04:00.975</td>\n",
       "      <td>2022-09-20 17:18:40.884</td>\n",
       "      <td>Monroe St &amp; Bedford Ave</td>\n",
       "      <td>4368.05</td>\n",
       "      <td>Wythe Ave &amp; Metropolitan Ave</td>\n",
       "      <td>5348.02</td>\n",
       "      <td>40.685129</td>\n",
       "      <td>-73.953813</td>\n",
       "      <td>40.716887</td>\n",
       "      <td>-73.963198</td>\n",
       "      <td>member</td>\n",
       "    </tr>\n",
       "    <tr>\n",
       "      <th>2</th>\n",
       "      <td>DE53B4E2A0F3A27A</td>\n",
       "      <td>classic_bike</td>\n",
       "      <td>2022-10-20 19:05:14.263</td>\n",
       "      <td>2022-10-20 19:12:11.338</td>\n",
       "      <td>8 Ave &amp; W 38 St</td>\n",
       "      <td>6526.05</td>\n",
       "      <td>W 35 St &amp; Dyer Ave</td>\n",
       "      <td>6569.08</td>\n",
       "      <td>40.754610</td>\n",
       "      <td>-73.991770</td>\n",
       "      <td>40.754692</td>\n",
       "      <td>-73.997402</td>\n",
       "      <td>member</td>\n",
       "    </tr>\n",
       "    <tr>\n",
       "      <th>3</th>\n",
       "      <td>E39D5C4183A3403C</td>\n",
       "      <td>electric_bike</td>\n",
       "      <td>2022-02-03 17:04:12.668</td>\n",
       "      <td>2022-02-03 17:13:41.827</td>\n",
       "      <td>E 84 St &amp; Park Ave</td>\n",
       "      <td>7243.04</td>\n",
       "      <td>Columbus Ave &amp; W 95 St</td>\n",
       "      <td>7520.07</td>\n",
       "      <td>40.778627</td>\n",
       "      <td>-73.957721</td>\n",
       "      <td>40.791956</td>\n",
       "      <td>-73.968087</td>\n",
       "      <td>member</td>\n",
       "    </tr>\n",
       "    <tr>\n",
       "      <th>4</th>\n",
       "      <td>4C7D7975092F14F7</td>\n",
       "      <td>electric_bike</td>\n",
       "      <td>2022-03-15 12:47:17.204</td>\n",
       "      <td>2022-03-15 12:54:00.503</td>\n",
       "      <td>Greenwich St &amp; Hubert St</td>\n",
       "      <td>5470.10</td>\n",
       "      <td>Centre St &amp; Chambers St</td>\n",
       "      <td>5207.01</td>\n",
       "      <td>40.721319</td>\n",
       "      <td>-74.010065</td>\n",
       "      <td>40.712733</td>\n",
       "      <td>-74.004607</td>\n",
       "      <td>member</td>\n",
       "    </tr>\n",
       "  </tbody>\n",
       "</table>\n",
       "</div>"
      ],
      "text/plain": [
       "            ride_id  rideable_type               started_at  \\\n",
       "0  AD280D4AE55D3506  electric_bike  2022-06-17 17:32:55.309   \n",
       "1  734318BA808A46DC  electric_bike  2022-09-20 17:04:00.975   \n",
       "2  DE53B4E2A0F3A27A   classic_bike  2022-10-20 19:05:14.263   \n",
       "3  E39D5C4183A3403C  electric_bike  2022-02-03 17:04:12.668   \n",
       "4  4C7D7975092F14F7  electric_bike  2022-03-15 12:47:17.204   \n",
       "\n",
       "                  ended_at        start_station_name  start_station_id  \\\n",
       "0  2022-06-17 17:45:46.076           E 47 St & 2 Ave           6498.10   \n",
       "1  2022-09-20 17:18:40.884   Monroe St & Bedford Ave           4368.05   \n",
       "2  2022-10-20 19:12:11.338           8 Ave & W 38 St           6526.05   \n",
       "3  2022-02-03 17:13:41.827        E 84 St & Park Ave           7243.04   \n",
       "4  2022-03-15 12:54:00.503  Greenwich St & Hubert St           5470.10   \n",
       "\n",
       "               end_station_name  end_station_id  start_lat  start_lng  \\\n",
       "0             E 2 St & Avenue C         5476.03  40.753231 -73.970325   \n",
       "1  Wythe Ave & Metropolitan Ave         5348.02  40.685129 -73.953813   \n",
       "2            W 35 St & Dyer Ave         6569.08  40.754610 -73.991770   \n",
       "3        Columbus Ave & W 95 St         7520.07  40.778627 -73.957721   \n",
       "4       Centre St & Chambers St         5207.01  40.721319 -74.010065   \n",
       "\n",
       "     end_lat    end_lng member_casual  \n",
       "0  40.720874 -73.980858        member  \n",
       "1  40.716887 -73.963198        member  \n",
       "2  40.754692 -73.997402        member  \n",
       "3  40.791956 -73.968087        member  \n",
       "4  40.712733 -74.004607        member  "
      ]
     },
     "execution_count": 3,
     "metadata": {},
     "output_type": "execute_result"
    }
   ],
   "source": [
    "# 2. Load CitiBike trip data\n",
    "df = pd.read_csv('/Users/muhammaddildar/Desktop/citibike_2022_dashboard/citibike_trip_sample.csv')\n",
    "df.head()\n"
   ]
  },
  {
   "cell_type": "markdown",
   "id": "b63ab337-6245-40dd-b62f-787cda367326",
   "metadata": {
    "jp-MarkdownHeadingCollapsed": true
   },
   "source": [
    "### Aggregating Route Data\n",
    "\n",
    "To analyze trips between stations, we create a new column with a constant value of `1`.  \n",
    "Then we group the data by start and end station coordinates to calculate the number of trips between each pair of stations.\n"
   ]
  },
  {
   "cell_type": "code",
   "execution_count": 4,
   "id": "c6aab354-4ab2-44ef-a96d-c8e0f31ff2d4",
   "metadata": {},
   "outputs": [
    {
     "data": {
      "text/html": [
       "<div>\n",
       "<style scoped>\n",
       "    .dataframe tbody tr th:only-of-type {\n",
       "        vertical-align: middle;\n",
       "    }\n",
       "\n",
       "    .dataframe tbody tr th {\n",
       "        vertical-align: top;\n",
       "    }\n",
       "\n",
       "    .dataframe thead th {\n",
       "        text-align: right;\n",
       "    }\n",
       "</style>\n",
       "<table border=\"1\" class=\"dataframe\">\n",
       "  <thead>\n",
       "    <tr style=\"text-align: right;\">\n",
       "      <th></th>\n",
       "      <th>start_station_name</th>\n",
       "      <th>end_station_name</th>\n",
       "      <th>start_lat</th>\n",
       "      <th>start_lng</th>\n",
       "      <th>end_lat</th>\n",
       "      <th>end_lng</th>\n",
       "      <th>trip_count</th>\n",
       "    </tr>\n",
       "  </thead>\n",
       "  <tbody>\n",
       "    <tr>\n",
       "      <th>0</th>\n",
       "      <td>1 Ave &amp; E 110 St</td>\n",
       "      <td>2 Ave &amp; E 104 St</td>\n",
       "      <td>40.792327</td>\n",
       "      <td>-73.938300</td>\n",
       "      <td>40.789211</td>\n",
       "      <td>-73.943708</td>\n",
       "      <td>1</td>\n",
       "    </tr>\n",
       "    <tr>\n",
       "      <th>1</th>\n",
       "      <td>1 Ave &amp; E 110 St</td>\n",
       "      <td>E 106 St &amp; Madison Ave</td>\n",
       "      <td>40.792327</td>\n",
       "      <td>-73.938300</td>\n",
       "      <td>40.793434</td>\n",
       "      <td>-73.949450</td>\n",
       "      <td>1</td>\n",
       "    </tr>\n",
       "    <tr>\n",
       "      <th>2</th>\n",
       "      <td>1 Ave &amp; E 110 St</td>\n",
       "      <td>E 114 St &amp; 1 Ave</td>\n",
       "      <td>40.792327</td>\n",
       "      <td>-73.938300</td>\n",
       "      <td>40.794566</td>\n",
       "      <td>-73.936254</td>\n",
       "      <td>1</td>\n",
       "    </tr>\n",
       "    <tr>\n",
       "      <th>3</th>\n",
       "      <td>1 Ave &amp; E 110 St</td>\n",
       "      <td>E 91 St &amp; Park Ave</td>\n",
       "      <td>40.792327</td>\n",
       "      <td>-73.938300</td>\n",
       "      <td>40.783502</td>\n",
       "      <td>-73.955327</td>\n",
       "      <td>1</td>\n",
       "    </tr>\n",
       "    <tr>\n",
       "      <th>4</th>\n",
       "      <td>1 Ave &amp; E 110 St</td>\n",
       "      <td>Lenox Ave &amp; W 130 St</td>\n",
       "      <td>40.792428</td>\n",
       "      <td>-73.938206</td>\n",
       "      <td>40.810792</td>\n",
       "      <td>-73.943068</td>\n",
       "      <td>1</td>\n",
       "    </tr>\n",
       "  </tbody>\n",
       "</table>\n",
       "</div>"
      ],
      "text/plain": [
       "  start_station_name        end_station_name  start_lat  start_lng    end_lat  \\\n",
       "0   1 Ave & E 110 St        2 Ave & E 104 St  40.792327 -73.938300  40.789211   \n",
       "1   1 Ave & E 110 St  E 106 St & Madison Ave  40.792327 -73.938300  40.793434   \n",
       "2   1 Ave & E 110 St        E 114 St & 1 Ave  40.792327 -73.938300  40.794566   \n",
       "3   1 Ave & E 110 St      E 91 St & Park Ave  40.792327 -73.938300  40.783502   \n",
       "4   1 Ave & E 110 St    Lenox Ave & W 130 St  40.792428 -73.938206  40.810792   \n",
       "\n",
       "     end_lng  trip_count  \n",
       "0 -73.943708           1  \n",
       "1 -73.949450           1  \n",
       "2 -73.936254           1  \n",
       "3 -73.955327           1  \n",
       "4 -73.943068           1  "
      ]
     },
     "execution_count": 4,
     "metadata": {},
     "output_type": "execute_result"
    }
   ],
   "source": [
    "# 3. Add a column with value 1 to count trips\n",
    "df['trip'] = 1\n",
    "\n",
    "# 4. Aggregate by route: start and end station + coordinates\n",
    "df_routes = df.groupby(\n",
    "    ['start_station_name', 'end_station_name', 'start_lat', 'start_lng', 'end_lat', 'end_lng']\n",
    ")['trip'].count().reset_index(name='trip_count')\n",
    "\n",
    "df_routes.head()\n"
   ]
  },
  {
   "cell_type": "markdown",
   "id": "87a25a7d-9700-4f18-9d5d-ff60ea0d6445",
   "metadata": {},
   "source": [
    "### Initializing Kepler.gl Map\n",
    "\n",
    "We create a KeplerGl map and add the aggregated route data to it.  \n",
    "This will allow us to visualize bike trip flows across New York City using arc layers.\n"
   ]
  },
  {
   "cell_type": "code",
   "execution_count": 8,
   "id": "e4c6f11f-0646-4384-a3b1-2427f51d440b",
   "metadata": {},
   "outputs": [
    {
     "name": "stdout",
     "output_type": "stream",
     "text": [
      "User Guide: https://docs.kepler.gl/docs/keplergl-jupyter\n"
     ]
    },
    {
     "data": {
      "application/vnd.jupyter.widget-view+json": {
       "model_id": "ce29756e7da64fb09a240898da6eed95",
       "version_major": 2,
       "version_minor": 0
      },
      "text/plain": [
       "KeplerGl(data={'Trip Routes': {'index': [0, 1, 2, 3, 4, 5, 6, 7, 8, 9, 10, 11, 12, 13, 14, 15, 16, 17, 18, 19,…"
      ]
     },
     "execution_count": 8,
     "metadata": {},
     "output_type": "execute_result"
    }
   ],
   "source": [
    "# 5. Initialize Kepler map\n",
    "map_routes = KeplerGl(height=700)\n",
    "\n",
    "# 6. Add route data to the map\n",
    "map_routes.add_data(data=df_routes, name='Trip Routes')\n",
    "map_routes\n"
   ]
  },
  {
   "cell_type": "markdown",
   "id": "9c8b4dc4-f516-4f30-afcd-b0c03d9524d4",
   "metadata": {},
   "source": [
    "### Map Customization: Arc Layer & Colors\n",
    "\n",
    "In the Kepler.gl interface, I added an **Arc Layer** to visualize the flow of trips between stations.  \n",
    "Settings used:\n",
    "\n",
    "- **Source Position**: `start_lat`, `start_lng`\n",
    "- **Target Position**: `end_lat`, `end_lng`\n",
    "- **Color scale**: `trip_count` (orange-red palette)\n",
    "- **Tooltip**: Enabled to show station names and trip count\n",
    "- **Filter**: Added slider on `trip_count` to isolate high-volume routes\n",
    "\n",
    "These settings help identify the most popular bike routes and commuting patterns in NYC.\n"
   ]
  },
  {
   "cell_type": "markdown",
   "id": "81450a46-e2bd-441c-ab4b-f86bfc0e3235",
   "metadata": {},
   "source": [
    "### Observations and Insights\n",
    "\n",
    "By applying the `trip_count` filter, the most common trips occur in **Midtown Manhattan**, near transportation hubs like Penn Station and Grand Central.  \n",
    "Other busy zones include:\n",
    "\n",
    "- Downtown Brooklyn and Lower Manhattan\n",
    "- Central Park area during weekends\n",
    "\n",
    "This reflects known commuter and tourism patterns in NYC.  \n",
    "According to NYC Open Data, weekday rush hours are the busiest for CitiBike usage.\n"
   ]
  },
  {
   "cell_type": "code",
   "execution_count": 6,
   "id": "51c318d0-6ba6-4d50-8304-16a4ee3710e0",
   "metadata": {},
   "outputs": [
    {
     "name": "stdout",
     "output_type": "stream",
     "text": [
      "Map saved to citibike_trip_routes.html!\n"
     ]
    }
   ],
   "source": [
    "# 7. Save config file\n",
    "config = map_routes.config\n",
    "import json\n",
    "with open('kepler_trip_routes_config.json', 'w') as f:\n",
    "    json.dump(config, f)\n",
    "\n",
    "# 8. Export map as HTML\n",
    "map_routes.save_to_html(file_name='citibike_trip_routes.html')\n"
   ]
  },
  {
   "cell_type": "markdown",
   "id": "e4d3035d-0b31-4934-96bc-9ea8c62b9734",
   "metadata": {},
   "source": [
    "### Saving Map Output\n",
    "\n",
    "We save the customized map's configuration as a `.json` file and export the entire interactive map as an `.html` file to be included in the project submission and dashboard.\n"
   ]
  },
  {
   "cell_type": "markdown",
   "id": "3ab55b54-fd18-4556-bb15-174ab598d1f3",
   "metadata": {},
   "source": [
    "### Final Submission Notes\n",
    "\n",
    "Before pushing to GitHub, large files such as the dataset (over 25 MB) were removed from the folder to comply with GitHub's file size limit.\n",
    "\n",
    "Files submitted:\n",
    "- This notebook (`kepler_trip_routes_dashboard.ipynb`)\n",
    "- Map HTML file (`citibike_trip_routes.html`)\n",
    "- Config JSON file (`kepler_trip_routes_config.json`)\n",
    "- GitHub link: *[insert your repo URL here]*\n",
    "\n",
    "Mentor can open the HTML file directly in browser to view the interactive Kepler map.\n"
   ]
  },
  {
   "cell_type": "code",
   "execution_count": null,
   "id": "7a2e7c3f-b522-4f9a-ba90-c48a31fbca2c",
   "metadata": {},
   "outputs": [],
   "source": []
  }
 ],
 "metadata": {
  "kernelspec": {
   "display_name": "Python (citibike_2022)",
   "language": "python",
   "name": "citibike_2022"
  },
  "language_info": {
   "codemirror_mode": {
    "name": "ipython",
    "version": 3
   },
   "file_extension": ".py",
   "mimetype": "text/x-python",
   "name": "python",
   "nbconvert_exporter": "python",
   "pygments_lexer": "ipython3",
   "version": "3.10.18"
  }
 },
 "nbformat": 4,
 "nbformat_minor": 5
}
