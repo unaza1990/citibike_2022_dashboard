{
 "cells": [
  {
   "cell_type": "markdown",
   "id": "da2722c7-2963-4208-95b8-7905a8c6f79d",
   "metadata": {},
   "source": [
    "## Importing Libraries\n",
    "\n",
    "In this step, we import the necessary libraries for data manipulation (`pandas`) and visualization (`plotly.graph_objs` and `plotly.express`). These will help us create interactive bar and line charts for our dashboard.\n"
   ]
  },
  {
   "cell_type": "code",
   "execution_count": 1,
   "id": "dfc2b034-fb4e-4c0f-9f69-30dc355ffd07",
   "metadata": {},
   "outputs": [],
   "source": [
    "# Import necessary libraries\n",
    "import pandas as pd\n",
    "import plotly.graph_objs as go\n",
    "import plotly.express as px\n"
   ]
  },
  {
   "cell_type": "markdown",
   "id": "c4c91966-eec8-4ab3-9000-ae760883ca55",
   "metadata": {},
   "source": [
    "## Load Dataset\n",
    "\n",
    "We load the cleaned and merged dataset containing both CitiBike trip data and weather data (temperature) for analysis. This dataset was prepared in the previous tasks.\n"
   ]
  },
  {
   "cell_type": "code",
   "execution_count": 2,
   "id": "00e40945-deb8-402f-baaf-76d5eb8ba22c",
   "metadata": {},
   "outputs": [
    {
     "data": {
      "text/html": [
       "<div>\n",
       "<style scoped>\n",
       "    .dataframe tbody tr th:only-of-type {\n",
       "        vertical-align: middle;\n",
       "    }\n",
       "\n",
       "    .dataframe tbody tr th {\n",
       "        vertical-align: top;\n",
       "    }\n",
       "\n",
       "    .dataframe thead th {\n",
       "        text-align: right;\n",
       "    }\n",
       "</style>\n",
       "<table border=\"1\" class=\"dataframe\">\n",
       "  <thead>\n",
       "    <tr style=\"text-align: right;\">\n",
       "      <th></th>\n",
       "      <th>ride_id</th>\n",
       "      <th>rideable_type</th>\n",
       "      <th>started_at</th>\n",
       "      <th>ended_at</th>\n",
       "      <th>start_station_name</th>\n",
       "      <th>start_station_id</th>\n",
       "      <th>end_station_name</th>\n",
       "      <th>end_station_id</th>\n",
       "      <th>start_lat</th>\n",
       "      <th>start_lng</th>\n",
       "      <th>end_lat</th>\n",
       "      <th>end_lng</th>\n",
       "      <th>member_casual</th>\n",
       "      <th>date</th>\n",
       "      <th>avg_temp_f_tenths</th>\n",
       "      <th>avg_temp_f</th>\n",
       "    </tr>\n",
       "  </thead>\n",
       "  <tbody>\n",
       "    <tr>\n",
       "      <th>0</th>\n",
       "      <td>AD280D4AE55D3506</td>\n",
       "      <td>electric_bike</td>\n",
       "      <td>2022-06-17 17:32:55.309</td>\n",
       "      <td>2022-06-17 17:45:46.076</td>\n",
       "      <td>E 47 St &amp; 2 Ave</td>\n",
       "      <td>6498.10</td>\n",
       "      <td>E 2 St &amp; Avenue C</td>\n",
       "      <td>5476.03</td>\n",
       "      <td>40.753231</td>\n",
       "      <td>-73.970325</td>\n",
       "      <td>40.720874</td>\n",
       "      <td>-73.980858</td>\n",
       "      <td>member</td>\n",
       "      <td>2022-06-17</td>\n",
       "      <td>252</td>\n",
       "      <td>77.4</td>\n",
       "    </tr>\n",
       "    <tr>\n",
       "      <th>1</th>\n",
       "      <td>734318BA808A46DC</td>\n",
       "      <td>electric_bike</td>\n",
       "      <td>2022-09-20 17:04:00.975</td>\n",
       "      <td>2022-09-20 17:18:40.884</td>\n",
       "      <td>Monroe St &amp; Bedford Ave</td>\n",
       "      <td>4368.05</td>\n",
       "      <td>Wythe Ave &amp; Metropolitan Ave</td>\n",
       "      <td>5348.02</td>\n",
       "      <td>40.685129</td>\n",
       "      <td>-73.953813</td>\n",
       "      <td>40.716887</td>\n",
       "      <td>-73.963198</td>\n",
       "      <td>member</td>\n",
       "      <td>2022-09-20</td>\n",
       "      <td>232</td>\n",
       "      <td>73.8</td>\n",
       "    </tr>\n",
       "    <tr>\n",
       "      <th>2</th>\n",
       "      <td>DE53B4E2A0F3A27A</td>\n",
       "      <td>classic_bike</td>\n",
       "      <td>2022-10-20 19:05:14.263</td>\n",
       "      <td>2022-10-20 19:12:11.338</td>\n",
       "      <td>8 Ave &amp; W 38 St</td>\n",
       "      <td>6526.05</td>\n",
       "      <td>W 35 St &amp; Dyer Ave</td>\n",
       "      <td>6569.08</td>\n",
       "      <td>40.754610</td>\n",
       "      <td>-73.991770</td>\n",
       "      <td>40.754692</td>\n",
       "      <td>-73.997402</td>\n",
       "      <td>member</td>\n",
       "      <td>2022-10-20</td>\n",
       "      <td>111</td>\n",
       "      <td>52.0</td>\n",
       "    </tr>\n",
       "    <tr>\n",
       "      <th>3</th>\n",
       "      <td>E39D5C4183A3403C</td>\n",
       "      <td>electric_bike</td>\n",
       "      <td>2022-02-03 17:04:12.668</td>\n",
       "      <td>2022-02-03 17:13:41.827</td>\n",
       "      <td>E 84 St &amp; Park Ave</td>\n",
       "      <td>7243.04</td>\n",
       "      <td>Columbus Ave &amp; W 95 St</td>\n",
       "      <td>7520.07</td>\n",
       "      <td>40.778627</td>\n",
       "      <td>-73.957721</td>\n",
       "      <td>40.791956</td>\n",
       "      <td>-73.968087</td>\n",
       "      <td>member</td>\n",
       "      <td>2022-02-03</td>\n",
       "      <td>64</td>\n",
       "      <td>43.5</td>\n",
       "    </tr>\n",
       "    <tr>\n",
       "      <th>4</th>\n",
       "      <td>4C7D7975092F14F7</td>\n",
       "      <td>electric_bike</td>\n",
       "      <td>2022-03-15 12:47:17.204</td>\n",
       "      <td>2022-03-15 12:54:00.503</td>\n",
       "      <td>Greenwich St &amp; Hubert St</td>\n",
       "      <td>5470.10</td>\n",
       "      <td>Centre St &amp; Chambers St</td>\n",
       "      <td>5207.01</td>\n",
       "      <td>40.721319</td>\n",
       "      <td>-74.010065</td>\n",
       "      <td>40.712733</td>\n",
       "      <td>-74.004607</td>\n",
       "      <td>member</td>\n",
       "      <td>2022-03-15</td>\n",
       "      <td>116</td>\n",
       "      <td>52.9</td>\n",
       "    </tr>\n",
       "  </tbody>\n",
       "</table>\n",
       "</div>"
      ],
      "text/plain": [
       "            ride_id  rideable_type               started_at  \\\n",
       "0  AD280D4AE55D3506  electric_bike  2022-06-17 17:32:55.309   \n",
       "1  734318BA808A46DC  electric_bike  2022-09-20 17:04:00.975   \n",
       "2  DE53B4E2A0F3A27A   classic_bike  2022-10-20 19:05:14.263   \n",
       "3  E39D5C4183A3403C  electric_bike  2022-02-03 17:04:12.668   \n",
       "4  4C7D7975092F14F7  electric_bike  2022-03-15 12:47:17.204   \n",
       "\n",
       "                  ended_at        start_station_name  start_station_id  \\\n",
       "0  2022-06-17 17:45:46.076           E 47 St & 2 Ave           6498.10   \n",
       "1  2022-09-20 17:18:40.884   Monroe St & Bedford Ave           4368.05   \n",
       "2  2022-10-20 19:12:11.338           8 Ave & W 38 St           6526.05   \n",
       "3  2022-02-03 17:13:41.827        E 84 St & Park Ave           7243.04   \n",
       "4  2022-03-15 12:54:00.503  Greenwich St & Hubert St           5470.10   \n",
       "\n",
       "               end_station_name  end_station_id  start_lat  start_lng  \\\n",
       "0             E 2 St & Avenue C         5476.03  40.753231 -73.970325   \n",
       "1  Wythe Ave & Metropolitan Ave         5348.02  40.685129 -73.953813   \n",
       "2            W 35 St & Dyer Ave         6569.08  40.754610 -73.991770   \n",
       "3        Columbus Ave & W 95 St         7520.07  40.778627 -73.957721   \n",
       "4       Centre St & Chambers St         5207.01  40.721319 -74.010065   \n",
       "\n",
       "     end_lat    end_lng member_casual        date  avg_temp_f_tenths  \\\n",
       "0  40.720874 -73.980858        member  2022-06-17                252   \n",
       "1  40.716887 -73.963198        member  2022-09-20                232   \n",
       "2  40.754692 -73.997402        member  2022-10-20                111   \n",
       "3  40.791956 -73.968087        member  2022-02-03                 64   \n",
       "4  40.712733 -74.004607        member  2022-03-15                116   \n",
       "\n",
       "   avg_temp_f  \n",
       "0        77.4  \n",
       "1        73.8  \n",
       "2        52.0  \n",
       "3        43.5  \n",
       "4        52.9  "
      ]
     },
     "execution_count": 2,
     "metadata": {},
     "output_type": "execute_result"
    }
   ],
   "source": [
    "# Load the cleaned CitiBike + weather merged dataset\n",
    "df = pd.read_csv('citibike_weather_merged_2022.csv')\n",
    "\n",
    "# Display the first few rows\n",
    "df.head()\n"
   ]
  },
  {
   "cell_type": "markdown",
   "id": "899cc5ec-dee3-436c-914d-0f8e965c7b9d",
   "metadata": {},
   "source": [
    "### Bar Chart: Top 20 Most Popular Start Stations\n",
    "\n",
    "The chart displays the top 20 most frequently used start stations in the CitiBike 2022 dataset. The use of a blue color scale adds visual clarity, highlighting the busiest stations more vividly. This visualization offers valuable insights for optimizing station placements and understanding ridership patterns in New York City.\n",
    "\n"
   ]
  },
  {
   "cell_type": "code",
   "execution_count": 3,
   "id": "e4e58f7a-1ae5-4504-b34a-a82d75b72d3f",
   "metadata": {},
   "outputs": [
    {
     "data": {
      "application/vnd.plotly.v1+json": {
       "config": {
        "plotlyServerURL": "https://plot.ly"
       },
       "data": [
        {
         "marker": {
          "color": {
           "bdata": "LywoKCYlIyIhHx8eHh0dHR0dHBw=",
           "dtype": "i1"
          },
          "colorscale": [
           [
            0,
            "rgb(243, 231, 155)"
           ],
           [
            0.16666666666666666,
            "rgb(250, 196, 132)"
           ],
           [
            0.3333333333333333,
            "rgb(248, 160, 126)"
           ],
           [
            0.5,
            "rgb(235, 127, 134)"
           ],
           [
            0.6666666666666666,
            "rgb(206, 102, 147)"
           ],
           [
            0.8333333333333334,
            "rgb(160, 89, 160)"
           ],
           [
            1,
            "rgb(92, 83, 165)"
           ]
          ],
          "showscale": false
         },
         "type": "bar",
         "x": [
          "Broadway & W 58 St",
          "W 21 St & 6 Ave",
          "W 31 St & 7 Ave",
          "Broadway & W 25 St",
          "1 Ave & E 68 St",
          "West St & Chambers St",
          "6 Ave & W 33 St",
          "E 40 St & Park Ave",
          "12 Ave & W 40 St",
          "Grand Army Plaza & Central Park S",
          "Central Park West & W 72 St",
          "5 Ave & E 93 St",
          "W 13 St & 7 Ave",
          "West St & Liberty St",
          "Cleveland Pl & Spring St",
          "Broadway & E 14 St",
          "W 43 St & 10 Ave",
          "W 41 St & 8 Ave",
          "7 Ave & Central Park South",
          "E 39 St & 2 Ave"
         ],
         "y": {
          "bdata": "LywoKCYlIyIhHx8eHh0dHR0dHBw=",
          "dtype": "i1"
         }
        }
       ],
       "layout": {
        "margin": {
         "b": 100,
         "l": 60,
         "r": 20,
         "t": 60
        },
        "template": {
         "data": {
          "bar": [
           {
            "error_x": {
             "color": "#2a3f5f"
            },
            "error_y": {
             "color": "#2a3f5f"
            },
            "marker": {
             "line": {
              "color": "white",
              "width": 0.5
             },
             "pattern": {
              "fillmode": "overlay",
              "size": 10,
              "solidity": 0.2
             }
            },
            "type": "bar"
           }
          ],
          "barpolar": [
           {
            "marker": {
             "line": {
              "color": "white",
              "width": 0.5
             },
             "pattern": {
              "fillmode": "overlay",
              "size": 10,
              "solidity": 0.2
             }
            },
            "type": "barpolar"
           }
          ],
          "carpet": [
           {
            "aaxis": {
             "endlinecolor": "#2a3f5f",
             "gridcolor": "#C8D4E3",
             "linecolor": "#C8D4E3",
             "minorgridcolor": "#C8D4E3",
             "startlinecolor": "#2a3f5f"
            },
            "baxis": {
             "endlinecolor": "#2a3f5f",
             "gridcolor": "#C8D4E3",
             "linecolor": "#C8D4E3",
             "minorgridcolor": "#C8D4E3",
             "startlinecolor": "#2a3f5f"
            },
            "type": "carpet"
           }
          ],
          "choropleth": [
           {
            "colorbar": {
             "outlinewidth": 0,
             "ticks": ""
            },
            "type": "choropleth"
           }
          ],
          "contour": [
           {
            "colorbar": {
             "outlinewidth": 0,
             "ticks": ""
            },
            "colorscale": [
             [
              0,
              "#0d0887"
             ],
             [
              0.1111111111111111,
              "#46039f"
             ],
             [
              0.2222222222222222,
              "#7201a8"
             ],
             [
              0.3333333333333333,
              "#9c179e"
             ],
             [
              0.4444444444444444,
              "#bd3786"
             ],
             [
              0.5555555555555556,
              "#d8576b"
             ],
             [
              0.6666666666666666,
              "#ed7953"
             ],
             [
              0.7777777777777778,
              "#fb9f3a"
             ],
             [
              0.8888888888888888,
              "#fdca26"
             ],
             [
              1,
              "#f0f921"
             ]
            ],
            "type": "contour"
           }
          ],
          "contourcarpet": [
           {
            "colorbar": {
             "outlinewidth": 0,
             "ticks": ""
            },
            "type": "contourcarpet"
           }
          ],
          "heatmap": [
           {
            "colorbar": {
             "outlinewidth": 0,
             "ticks": ""
            },
            "colorscale": [
             [
              0,
              "#0d0887"
             ],
             [
              0.1111111111111111,
              "#46039f"
             ],
             [
              0.2222222222222222,
              "#7201a8"
             ],
             [
              0.3333333333333333,
              "#9c179e"
             ],
             [
              0.4444444444444444,
              "#bd3786"
             ],
             [
              0.5555555555555556,
              "#d8576b"
             ],
             [
              0.6666666666666666,
              "#ed7953"
             ],
             [
              0.7777777777777778,
              "#fb9f3a"
             ],
             [
              0.8888888888888888,
              "#fdca26"
             ],
             [
              1,
              "#f0f921"
             ]
            ],
            "type": "heatmap"
           }
          ],
          "histogram": [
           {
            "marker": {
             "pattern": {
              "fillmode": "overlay",
              "size": 10,
              "solidity": 0.2
             }
            },
            "type": "histogram"
           }
          ],
          "histogram2d": [
           {
            "colorbar": {
             "outlinewidth": 0,
             "ticks": ""
            },
            "colorscale": [
             [
              0,
              "#0d0887"
             ],
             [
              0.1111111111111111,
              "#46039f"
             ],
             [
              0.2222222222222222,
              "#7201a8"
             ],
             [
              0.3333333333333333,
              "#9c179e"
             ],
             [
              0.4444444444444444,
              "#bd3786"
             ],
             [
              0.5555555555555556,
              "#d8576b"
             ],
             [
              0.6666666666666666,
              "#ed7953"
             ],
             [
              0.7777777777777778,
              "#fb9f3a"
             ],
             [
              0.8888888888888888,
              "#fdca26"
             ],
             [
              1,
              "#f0f921"
             ]
            ],
            "type": "histogram2d"
           }
          ],
          "histogram2dcontour": [
           {
            "colorbar": {
             "outlinewidth": 0,
             "ticks": ""
            },
            "colorscale": [
             [
              0,
              "#0d0887"
             ],
             [
              0.1111111111111111,
              "#46039f"
             ],
             [
              0.2222222222222222,
              "#7201a8"
             ],
             [
              0.3333333333333333,
              "#9c179e"
             ],
             [
              0.4444444444444444,
              "#bd3786"
             ],
             [
              0.5555555555555556,
              "#d8576b"
             ],
             [
              0.6666666666666666,
              "#ed7953"
             ],
             [
              0.7777777777777778,
              "#fb9f3a"
             ],
             [
              0.8888888888888888,
              "#fdca26"
             ],
             [
              1,
              "#f0f921"
             ]
            ],
            "type": "histogram2dcontour"
           }
          ],
          "mesh3d": [
           {
            "colorbar": {
             "outlinewidth": 0,
             "ticks": ""
            },
            "type": "mesh3d"
           }
          ],
          "parcoords": [
           {
            "line": {
             "colorbar": {
              "outlinewidth": 0,
              "ticks": ""
             }
            },
            "type": "parcoords"
           }
          ],
          "pie": [
           {
            "automargin": true,
            "type": "pie"
           }
          ],
          "scatter": [
           {
            "fillpattern": {
             "fillmode": "overlay",
             "size": 10,
             "solidity": 0.2
            },
            "type": "scatter"
           }
          ],
          "scatter3d": [
           {
            "line": {
             "colorbar": {
              "outlinewidth": 0,
              "ticks": ""
             }
            },
            "marker": {
             "colorbar": {
              "outlinewidth": 0,
              "ticks": ""
             }
            },
            "type": "scatter3d"
           }
          ],
          "scattercarpet": [
           {
            "marker": {
             "colorbar": {
              "outlinewidth": 0,
              "ticks": ""
             }
            },
            "type": "scattercarpet"
           }
          ],
          "scattergeo": [
           {
            "marker": {
             "colorbar": {
              "outlinewidth": 0,
              "ticks": ""
             }
            },
            "type": "scattergeo"
           }
          ],
          "scattergl": [
           {
            "marker": {
             "colorbar": {
              "outlinewidth": 0,
              "ticks": ""
             }
            },
            "type": "scattergl"
           }
          ],
          "scattermap": [
           {
            "marker": {
             "colorbar": {
              "outlinewidth": 0,
              "ticks": ""
             }
            },
            "type": "scattermap"
           }
          ],
          "scattermapbox": [
           {
            "marker": {
             "colorbar": {
              "outlinewidth": 0,
              "ticks": ""
             }
            },
            "type": "scattermapbox"
           }
          ],
          "scatterpolar": [
           {
            "marker": {
             "colorbar": {
              "outlinewidth": 0,
              "ticks": ""
             }
            },
            "type": "scatterpolar"
           }
          ],
          "scatterpolargl": [
           {
            "marker": {
             "colorbar": {
              "outlinewidth": 0,
              "ticks": ""
             }
            },
            "type": "scatterpolargl"
           }
          ],
          "scatterternary": [
           {
            "marker": {
             "colorbar": {
              "outlinewidth": 0,
              "ticks": ""
             }
            },
            "type": "scatterternary"
           }
          ],
          "surface": [
           {
            "colorbar": {
             "outlinewidth": 0,
             "ticks": ""
            },
            "colorscale": [
             [
              0,
              "#0d0887"
             ],
             [
              0.1111111111111111,
              "#46039f"
             ],
             [
              0.2222222222222222,
              "#7201a8"
             ],
             [
              0.3333333333333333,
              "#9c179e"
             ],
             [
              0.4444444444444444,
              "#bd3786"
             ],
             [
              0.5555555555555556,
              "#d8576b"
             ],
             [
              0.6666666666666666,
              "#ed7953"
             ],
             [
              0.7777777777777778,
              "#fb9f3a"
             ],
             [
              0.8888888888888888,
              "#fdca26"
             ],
             [
              1,
              "#f0f921"
             ]
            ],
            "type": "surface"
           }
          ],
          "table": [
           {
            "cells": {
             "fill": {
              "color": "#EBF0F8"
             },
             "line": {
              "color": "white"
             }
            },
            "header": {
             "fill": {
              "color": "#C8D4E3"
             },
             "line": {
              "color": "white"
             }
            },
            "type": "table"
           }
          ]
         },
         "layout": {
          "annotationdefaults": {
           "arrowcolor": "#2a3f5f",
           "arrowhead": 0,
           "arrowwidth": 1
          },
          "autotypenumbers": "strict",
          "coloraxis": {
           "colorbar": {
            "outlinewidth": 0,
            "ticks": ""
           }
          },
          "colorscale": {
           "diverging": [
            [
             0,
             "#8e0152"
            ],
            [
             0.1,
             "#c51b7d"
            ],
            [
             0.2,
             "#de77ae"
            ],
            [
             0.3,
             "#f1b6da"
            ],
            [
             0.4,
             "#fde0ef"
            ],
            [
             0.5,
             "#f7f7f7"
            ],
            [
             0.6,
             "#e6f5d0"
            ],
            [
             0.7,
             "#b8e186"
            ],
            [
             0.8,
             "#7fbc41"
            ],
            [
             0.9,
             "#4d9221"
            ],
            [
             1,
             "#276419"
            ]
           ],
           "sequential": [
            [
             0,
             "#0d0887"
            ],
            [
             0.1111111111111111,
             "#46039f"
            ],
            [
             0.2222222222222222,
             "#7201a8"
            ],
            [
             0.3333333333333333,
             "#9c179e"
            ],
            [
             0.4444444444444444,
             "#bd3786"
            ],
            [
             0.5555555555555556,
             "#d8576b"
            ],
            [
             0.6666666666666666,
             "#ed7953"
            ],
            [
             0.7777777777777778,
             "#fb9f3a"
            ],
            [
             0.8888888888888888,
             "#fdca26"
            ],
            [
             1,
             "#f0f921"
            ]
           ],
           "sequentialminus": [
            [
             0,
             "#0d0887"
            ],
            [
             0.1111111111111111,
             "#46039f"
            ],
            [
             0.2222222222222222,
             "#7201a8"
            ],
            [
             0.3333333333333333,
             "#9c179e"
            ],
            [
             0.4444444444444444,
             "#bd3786"
            ],
            [
             0.5555555555555556,
             "#d8576b"
            ],
            [
             0.6666666666666666,
             "#ed7953"
            ],
            [
             0.7777777777777778,
             "#fb9f3a"
            ],
            [
             0.8888888888888888,
             "#fdca26"
            ],
            [
             1,
             "#f0f921"
            ]
           ]
          },
          "colorway": [
           "#636efa",
           "#EF553B",
           "#00cc96",
           "#ab63fa",
           "#FFA15A",
           "#19d3f3",
           "#FF6692",
           "#B6E880",
           "#FF97FF",
           "#FECB52"
          ],
          "font": {
           "color": "#2a3f5f"
          },
          "geo": {
           "bgcolor": "white",
           "lakecolor": "white",
           "landcolor": "white",
           "showlakes": true,
           "showland": true,
           "subunitcolor": "#C8D4E3"
          },
          "hoverlabel": {
           "align": "left"
          },
          "hovermode": "closest",
          "mapbox": {
           "style": "light"
          },
          "paper_bgcolor": "white",
          "plot_bgcolor": "white",
          "polar": {
           "angularaxis": {
            "gridcolor": "#EBF0F8",
            "linecolor": "#EBF0F8",
            "ticks": ""
           },
           "bgcolor": "white",
           "radialaxis": {
            "gridcolor": "#EBF0F8",
            "linecolor": "#EBF0F8",
            "ticks": ""
           }
          },
          "scene": {
           "xaxis": {
            "backgroundcolor": "white",
            "gridcolor": "#DFE8F3",
            "gridwidth": 2,
            "linecolor": "#EBF0F8",
            "showbackground": true,
            "ticks": "",
            "zerolinecolor": "#EBF0F8"
           },
           "yaxis": {
            "backgroundcolor": "white",
            "gridcolor": "#DFE8F3",
            "gridwidth": 2,
            "linecolor": "#EBF0F8",
            "showbackground": true,
            "ticks": "",
            "zerolinecolor": "#EBF0F8"
           },
           "zaxis": {
            "backgroundcolor": "white",
            "gridcolor": "#DFE8F3",
            "gridwidth": 2,
            "linecolor": "#EBF0F8",
            "showbackground": true,
            "ticks": "",
            "zerolinecolor": "#EBF0F8"
           }
          },
          "shapedefaults": {
           "line": {
            "color": "#2a3f5f"
           }
          },
          "ternary": {
           "aaxis": {
            "gridcolor": "#DFE8F3",
            "linecolor": "#A2B1C6",
            "ticks": ""
           },
           "baxis": {
            "gridcolor": "#DFE8F3",
            "linecolor": "#A2B1C6",
            "ticks": ""
           },
           "bgcolor": "white",
           "caxis": {
            "gridcolor": "#DFE8F3",
            "linecolor": "#A2B1C6",
            "ticks": ""
           }
          },
          "title": {
           "x": 0.05
          },
          "xaxis": {
           "automargin": true,
           "gridcolor": "#EBF0F8",
           "linecolor": "#EBF0F8",
           "ticks": "",
           "title": {
            "standoff": 15
           },
           "zerolinecolor": "#EBF0F8",
           "zerolinewidth": 2
          },
          "yaxis": {
           "automargin": true,
           "gridcolor": "#EBF0F8",
           "linecolor": "#EBF0F8",
           "ticks": "",
           "title": {
            "standoff": 15
           },
           "zerolinecolor": "#EBF0F8",
           "zerolinewidth": 2
          }
         }
        },
        "title": {
         "font": {
          "color": "darkred",
          "size": 22
         },
         "text": "Top 20 Most Popular Start Stations in NYC (2022)"
        },
        "xaxis": {
         "tickangle": -45,
         "tickfont": {
          "size": 10
         },
         "title": {
          "text": "Start Station"
         }
        },
        "yaxis": {
         "tickfont": {
          "size": 12
         },
         "title": {
          "text": "Number of Trips"
         }
        }
       }
      },
      "image/png": "[encoded data removed]"
     },
     "metadata": {},
     "output_type": "display_data"
    }
   ],
   "source": [
    "import plotly.graph_objects as go\n",
    "import pandas as pd\n",
    "\n",
    "# Group and sort the data\n",
    "start_station_counts = df['start_station_name'].value_counts().head(20).reset_index()\n",
    "start_station_counts.columns = ['start_station_name', 'trip_count']\n",
    "\n",
    "# Create the bar chart\n",
    "fig = go.Figure(\n",
    "    go.Bar(\n",
    "        x=start_station_counts['start_station_name'],\n",
    "        y=start_station_counts['trip_count'],\n",
    "        marker=dict(\n",
    "            color=start_station_counts['trip_count'],\n",
    "            colorscale='Sunset',  # Try 'Sunsetdark' or 'Earth' too\n",
    "            showscale=False\n",
    "        )\n",
    "    )\n",
    ")\n",
    "\n",
    "# Update layout for better appearance\n",
    "fig.update_layout(\n",
    "    title='Top 20 Most Popular Start Stations in NYC (2022)',\n",
    "    title_font=dict(size=22, color='darkred'),\n",
    "    xaxis_title='Start Station',\n",
    "    yaxis_title='Number of Trips',\n",
    "    xaxis_tickangle=-45,\n",
    "    xaxis_tickfont=dict(size=10),\n",
    "    yaxis_tickfont=dict(size=12),\n",
    "    template='plotly_white',\n",
    "    margin=dict(l=60, r=20, t=60, b=100)\n",
    ")\n",
    "\n",
    "fig.show()\n"
   ]
  },
  {
   "cell_type": "markdown",
   "id": "b0130eb5-5295-4c54-83f1-0e62d00572f7",
   "metadata": {},
   "source": [
    "### Line Chart: Daily Bike Rides vs. Temperature in NYC (2022)\n",
    "\n",
    "This dual-axis line chart visualizes the relationship between the number of CitiBike rides and the average daily temperature in New York City during 2022.\n",
    "\n",
    "- The **left y-axis** (in orange) represents the **daily count of bike rides**.\n",
    "- The **right y-axis** (in golden yellow, dashed line) represents the **average temperature (°F)**.\n",
    "\n",
    "The purpose of this chart is to observe how temperature fluctuations may impact biking behavior. A strong seasonal trend is noticeable—higher temperatures tend to correlate with an increase in daily bike rides.\n",
    "\n",
    "The design uses warm, earthy tones inspired by sunrise and sunset colors to enhance readability and aesthetic appeal. This helps clearly distinguish the two variables while maintaining a cohesive and professional look.\n"
   ]
  },
  {
   "cell_type": "code",
   "execution_count": 4,
   "id": "5542af50-5fb1-4705-b356-0cef9c268c46",
   "metadata": {},
   "outputs": [
    {
     "data": {
      "application/vnd.plotly.v1+json": {
       "config": {
        "plotlyServerURL": "https://plot.ly"
       },
       "data": [
        {
         "line": {
          "color": "#FF7F50",
          "width": 2.5
         },
         "mode": "lines",
         "name": "Daily Bike Rides",
         "type": "scatter",
         "x": [
          "2022-01-01T00:00:00.000000000",
          "2022-01-02T00:00:00.000000000",
          "2022-01-03T00:00:00.000000000",
          "2022-01-04T00:00:00.000000000",
          "2022-01-05T00:00:00.000000000",
          "2022-01-06T00:00:00.000000000",
          "2022-01-07T00:00:00.000000000",
          "2022-01-08T00:00:00.000000000",
          "2022-01-09T00:00:00.000000000",
          "2022-01-10T00:00:00.000000000",
          "2022-01-11T00:00:00.000000000",
          "2022-01-12T00:00:00.000000000",
          "2022-01-13T00:00:00.000000000",
          "2022-01-14T00:00:00.000000000",
          "2022-01-15T00:00:00.000000000",
          "2022-01-16T00:00:00.000000000",
          "2022-01-17T00:00:00.000000000",
          "2022-01-18T00:00:00.000000000",
          "2022-01-19T00:00:00.000000000",
          "2022-01-20T00:00:00.000000000",
          "2022-01-21T00:00:00.000000000",
          "2022-01-22T00:00:00.000000000",
          "2022-01-23T00:00:00.000000000",
          "2022-01-24T00:00:00.000000000",
          "2022-01-25T00:00:00.000000000",
          "2022-01-26T00:00:00.000000000",
          "2022-01-27T00:00:00.000000000",
          "2022-01-28T00:00:00.000000000",
          "2022-01-30T00:00:00.000000000",
          "2022-01-31T00:00:00.000000000",
          "2022-02-01T00:00:00.000000000",
          "2022-02-02T00:00:00.000000000",
          "2022-02-03T00:00:00.000000000",
          "2022-02-04T00:00:00.000000000",
          "2022-02-05T00:00:00.000000000",
          "2022-02-06T00:00:00.000000000",
          "2022-02-07T00:00:00.000000000",
          "2022-02-08T00:00:00.000000000",
          "2022-02-09T00:00:00.000000000",
          "2022-02-10T00:00:00.000000000",
          "2022-02-11T00:00:00.000000000",
          "2022-02-12T00:00:00.000000000",
          "2022-02-13T00:00:00.000000000",
          "2022-02-14T00:00:00.000000000",
          "2022-02-15T00:00:00.000000000",
          "2022-02-16T00:00:00.000000000",
          "2022-02-17T00:00:00.000000000",
          "2022-02-18T00:00:00.000000000",
          "2022-02-19T00:00:00.000000000",
          "2022-02-20T00:00:00.000000000",
          "2022-02-21T00:00:00.000000000",
          "2022-02-22T00:00:00.000000000",
          "2022-02-23T00:00:00.000000000",
          "2022-02-24T00:00:00.000000000",
          "2022-02-25T00:00:00.000000000",
          "2022-02-26T00:00:00.000000000",
          "2022-02-27T00:00:00.000000000",
          "2022-02-28T00:00:00.000000000",
          "2022-03-01T00:00:00.000000000",
          "2022-03-02T00:00:00.000000000",
          "2022-03-03T00:00:00.000000000",
          "2022-03-04T00:00:00.000000000",
          "2022-03-05T00:00:00.000000000",
          "2022-03-06T00:00:00.000000000",
          "2022-03-07T00:00:00.000000000",
          "2022-03-08T00:00:00.000000000",
          "2022-03-09T00:00:00.000000000",
          "2022-03-10T00:00:00.000000000",
          "2022-03-11T00:00:00.000000000",
          "2022-03-12T00:00:00.000000000",
          "2022-03-13T00:00:00.000000000",
          "2022-03-14T00:00:00.000000000",
          "2022-03-15T00:00:00.000000000",
          "2022-03-16T00:00:00.000000000",
          "2022-03-17T00:00:00.000000000",
          "2022-03-18T00:00:00.000000000",
          "2022-03-19T00:00:00.000000000",
          "2022-03-20T00:00:00.000000000",
          "2022-03-21T00:00:00.000000000",
          "2022-03-22T00:00:00.000000000",
          "2022-03-23T00:00:00.000000000",
          "2022-03-24T00:00:00.000000000",
          "2022-03-25T00:00:00.000000000",
          "2022-03-26T00:00:00.000000000",
          "2022-03-27T00:00:00.000000000",
          "2022-03-28T00:00:00.000000000",
          "2022-03-29T00:00:00.000000000",
          "2022-03-30T00:00:00.000000000",
          "2022-03-31T00:00:00.000000000",
          "2022-04-01T00:00:00.000000000",
          "2022-04-02T00:00:00.000000000",
          "2022-04-03T00:00:00.000000000",
          "2022-04-04T00:00:00.000000000",
          "2022-04-05T00:00:00.000000000",
          "2022-04-06T00:00:00.000000000",
          "2022-04-07T00:00:00.000000000",
          "2022-04-08T00:00:00.000000000",
          "2022-04-09T00:00:00.000000000",
          "2022-04-10T00:00:00.000000000",
          "2022-04-11T00:00:00.000000000",
          "2022-04-12T00:00:00.000000000",
          "2022-04-13T00:00:00.000000000",
          "2022-04-14T00:00:00.000000000",
          "2022-04-15T00:00:00.000000000",
          "2022-04-16T00:00:00.000000000",
          "2022-04-17T00:00:00.000000000",
          "2022-04-18T00:00:00.000000000",
          "2022-04-19T00:00:00.000000000",
          "2022-04-20T00:00:00.000000000",
          "2022-04-21T00:00:00.000000000",
          "2022-04-22T00:00:00.000000000",
          "2022-04-23T00:00:00.000000000",
          "2022-04-24T00:00:00.000000000",
          "2022-04-25T00:00:00.000000000",
          "2022-04-26T00:00:00.000000000",
          "2022-04-27T00:00:00.000000000",
          "2022-04-28T00:00:00.000000000",
          "2022-04-29T00:00:00.000000000",
          "2022-04-30T00:00:00.000000000",
          "2022-05-01T00:00:00.000000000",
          "2022-05-02T00:00:00.000000000",
          "2022-05-03T00:00:00.000000000",
          "2022-05-04T00:00:00.000000000",
          "2022-05-05T00:00:00.000000000",
          "2022-05-06T00:00:00.000000000",
          "2022-05-07T00:00:00.000000000",
          "2022-05-08T00:00:00.000000000",
          "2022-05-09T00:00:00.000000000",
          "2022-05-10T00:00:00.000000000",
          "2022-05-11T00:00:00.000000000",
          "2022-05-12T00:00:00.000000000",
          "2022-05-13T00:00:00.000000000",
          "2022-05-14T00:00:00.000000000",
          "2022-05-15T00:00:00.000000000",
          "2022-05-16T00:00:00.000000000",
          "2022-05-17T00:00:00.000000000",
          "2022-05-18T00:00:00.000000000",
          "2022-05-19T00:00:00.000000000",
          "2022-05-20T00:00:00.000000000",
          "2022-05-21T00:00:00.000000000",
          "2022-05-22T00:00:00.000000000",
          "2022-05-23T00:00:00.000000000",
          "2022-05-24T00:00:00.000000000",
          "2022-05-25T00:00:00.000000000",
          "2022-05-26T00:00:00.000000000",
          "2022-05-27T00:00:00.000000000",
          "2022-05-28T00:00:00.000000000",
          "2022-05-29T00:00:00.000000000",
          "2022-05-30T00:00:00.000000000",
          "2022-05-31T00:00:00.000000000",
          "2022-06-01T00:00:00.000000000",
          "2022-06-02T00:00:00.000000000",
          "2022-06-03T00:00:00.000000000",
          "2022-06-04T00:00:00.000000000",
          "2022-06-05T00:00:00.000000000",
          "2022-06-06T00:00:00.000000000",
          "2022-06-07T00:00:00.000000000",
          "2022-06-08T00:00:00.000000000",
          "2022-06-09T00:00:00.000000000",
          "2022-06-10T00:00:00.000000000",
          "2022-06-11T00:00:00.000000000",
          "2022-06-12T00:00:00.000000000",
          "2022-06-13T00:00:00.000000000",
          "2022-06-14T00:00:00.000000000",
          "2022-06-15T00:00:00.000000000",
          "2022-06-16T00:00:00.000000000",
          "2022-06-17T00:00:00.000000000",
          "2022-06-18T00:00:00.000000000",
          "2022-06-19T00:00:00.000000000",
          "2022-06-20T00:00:00.000000000",
          "2022-06-21T00:00:00.000000000",
          "2022-06-22T00:00:00.000000000",
          "2022-06-23T00:00:00.000000000",
          "2022-06-24T00:00:00.000000000",
          "2022-06-25T00:00:00.000000000",
          "2022-06-26T00:00:00.000000000",
          "2022-06-27T00:00:00.000000000",
          "2022-06-28T00:00:00.000000000",
          "2022-06-29T00:00:00.000000000",
          "2022-06-30T00:00:00.000000000",
          "2022-07-01T00:00:00.000000000",
          "2022-07-02T00:00:00.000000000",
          "2022-07-03T00:00:00.000000000",
          "2022-07-04T00:00:00.000000000",
          "2022-07-05T00:00:00.000000000",
          "2022-07-06T00:00:00.000000000",
          "2022-07-07T00:00:00.000000000",
          "2022-07-08T00:00:00.000000000",
          "2022-07-09T00:00:00.000000000",
          "2022-07-10T00:00:00.000000000",
          "2022-07-11T00:00:00.000000000",
          "2022-07-12T00:00:00.000000000",
          "2022-07-13T00:00:00.000000000",
          "2022-07-14T00:00:00.000000000",
          "2022-07-15T00:00:00.000000000",
          "2022-07-16T00:00:00.000000000",
          "2022-07-17T00:00:00.000000000",
          "2022-07-18T00:00:00.000000000",
          "2022-07-19T00:00:00.000000000",
          "2022-07-20T00:00:00.000000000",
          "2022-07-21T00:00:00.000000000",
          "2022-07-22T00:00:00.000000000",
          "2022-07-23T00:00:00.000000000",
          "2022-07-24T00:00:00.000000000",
          "2022-07-25T00:00:00.000000000",
          "2022-07-26T00:00:00.000000000",
          "2022-07-27T00:00:00.000000000",
          "2022-07-28T00:00:00.000000000",
          "2022-07-29T00:00:00.000000000",
          "2022-07-30T00:00:00.000000000",
          "2022-07-31T00:00:00.000000000",
          "2022-08-01T00:00:00.000000000",
          "2022-08-02T00:00:00.000000000",
          "2022-08-03T00:00:00.000000000",
          "2022-08-04T00:00:00.000000000",
          "2022-08-05T00:00:00.000000000",
          "2022-08-06T00:00:00.000000000",
          "2022-08-07T00:00:00.000000000",
          "2022-08-08T00:00:00.000000000",
          "2022-08-09T00:00:00.000000000",
          "2022-08-10T00:00:00.000000000",
          "2022-08-11T00:00:00.000000000",
          "2022-08-12T00:00:00.000000000",
          "2022-08-13T00:00:00.000000000",
          "2022-08-14T00:00:00.000000000",
          "2022-08-15T00:00:00.000000000",
          "2022-08-16T00:00:00.000000000",
          "2022-08-17T00:00:00.000000000",
          "2022-08-18T00:00:00.000000000",
          "2022-08-19T00:00:00.000000000",
          "2022-08-20T00:00:00.000000000",
          "2022-08-21T00:00:00.000000000",
          "2022-08-22T00:00:00.000000000",
          "2022-08-23T00:00:00.000000000",
          "2022-08-24T00:00:00.000000000",
          "2022-08-25T00:00:00.000000000",
          "2022-08-26T00:00:00.000000000",
          "2022-08-27T00:00:00.000000000",
          "2022-08-28T00:00:00.000000000",
          "2022-08-29T00:00:00.000000000",
          "2022-08-30T00:00:00.000000000",
          "2022-08-31T00:00:00.000000000",
          "2022-09-01T00:00:00.000000000",
          "2022-09-02T00:00:00.000000000",
          "2022-09-03T00:00:00.000000000",
          "2022-09-04T00:00:00.000000000",
          "2022-09-05T00:00:00.000000000",
          "2022-09-06T00:00:00.000000000",
          "2022-09-07T00:00:00.000000000",
          "2022-09-08T00:00:00.000000000",
          "2022-09-09T00:00:00.000000000",
          "2022-09-10T00:00:00.000000000",
          "2022-09-11T00:00:00.000000000",
          "2022-09-12T00:00:00.000000000",
          "2022-09-13T00:00:00.000000000",
          "2022-09-14T00:00:00.000000000",
          "2022-09-15T00:00:00.000000000",
          "2022-09-16T00:00:00.000000000",
          "2022-09-17T00:00:00.000000000",
          "2022-09-18T00:00:00.000000000",
          "2022-09-19T00:00:00.000000000",
          "2022-09-20T00:00:00.000000000",
          "2022-09-21T00:00:00.000000000",
          "2022-09-22T00:00:00.000000000",
          "2022-09-23T00:00:00.000000000",
          "2022-09-24T00:00:00.000000000",
          "2022-09-25T00:00:00.000000000",
          "2022-09-26T00:00:00.000000000",
          "2022-09-27T00:00:00.000000000",
          "2022-09-28T00:00:00.000000000",
          "2022-09-29T00:00:00.000000000",
          "2022-09-30T00:00:00.000000000",
          "2022-10-01T00:00:00.000000000",
          "2022-10-02T00:00:00.000000000",
          "2022-10-03T00:00:00.000000000",
          "2022-10-04T00:00:00.000000000",
          "2022-10-05T00:00:00.000000000",
          "2022-10-06T00:00:00.000000000",
          "2022-10-07T00:00:00.000000000",
          "2022-10-08T00:00:00.000000000",
          "2022-10-09T00:00:00.000000000",
          "2022-10-10T00:00:00.000000000",
          "2022-10-11T00:00:00.000000000",
          "2022-10-12T00:00:00.000000000",
          "2022-10-13T00:00:00.000000000",
          "2022-10-14T00:00:00.000000000",
          "2022-10-15T00:00:00.000000000",
          "2022-10-16T00:00:00.000000000",
          "2022-10-17T00:00:00.000000000",
          "2022-10-18T00:00:00.000000000",
          "2022-10-19T00:00:00.000000000",
          "2022-10-20T00:00:00.000000000",
          "2022-10-21T00:00:00.000000000",
          "2022-10-22T00:00:00.000000000",
          "2022-10-23T00:00:00.000000000",
          "2022-10-24T00:00:00.000000000",
          "2022-10-25T00:00:00.000000000",
          "2022-10-26T00:00:00.000000000",
          "2022-10-27T00:00:00.000000000",
          "2022-10-28T00:00:00.000000000",
          "2022-10-29T00:00:00.000000000",
          "2022-10-30T00:00:00.000000000",
          "2022-10-31T00:00:00.000000000",
          "2022-11-01T00:00:00.000000000",
          "2022-11-02T00:00:00.000000000",
          "2022-11-03T00:00:00.000000000",
          "2022-11-04T00:00:00.000000000",
          "2022-11-05T00:00:00.000000000",
          "2022-11-06T00:00:00.000000000",
          "2022-11-07T00:00:00.000000000",
          "2022-11-08T00:00:00.000000000",
          "2022-11-09T00:00:00.000000000",
          "2022-11-10T00:00:00.000000000",
          "2022-11-11T00:00:00.000000000",
          "2022-11-12T00:00:00.000000000",
          "2022-11-13T00:00:00.000000000",
          "2022-11-14T00:00:00.000000000",
          "2022-11-15T00:00:00.000000000",
          "2022-11-16T00:00:00.000000000",
          "2022-11-17T00:00:00.000000000",
          "2022-11-18T00:00:00.000000000",
          "2022-11-19T00:00:00.000000000",
          "2022-11-20T00:00:00.000000000",
          "2022-11-21T00:00:00.000000000",
          "2022-11-22T00:00:00.000000000",
          "2022-11-23T00:00:00.000000000",
          "2022-11-24T00:00:00.000000000",
          "2022-11-25T00:00:00.000000000",
          "2022-11-26T00:00:00.000000000",
          "2022-11-27T00:00:00.000000000",
          "2022-11-28T00:00:00.000000000",
          "2022-11-29T00:00:00.000000000",
          "2022-11-30T00:00:00.000000000",
          "2022-12-01T00:00:00.000000000",
          "2022-12-02T00:00:00.000000000",
          "2022-12-03T00:00:00.000000000",
          "2022-12-04T00:00:00.000000000",
          "2022-12-05T00:00:00.000000000",
          "2022-12-06T00:00:00.000000000",
          "2022-12-07T00:00:00.000000000",
          "2022-12-08T00:00:00.000000000",
          "2022-12-09T00:00:00.000000000",
          "2022-12-10T00:00:00.000000000",
          "2022-12-11T00:00:00.000000000",
          "2022-12-12T00:00:00.000000000",
          "2022-12-13T00:00:00.000000000",
          "2022-12-14T00:00:00.000000000",
          "2022-12-15T00:00:00.000000000",
          "2022-12-16T00:00:00.000000000",
          "2022-12-17T00:00:00.000000000",
          "2022-12-18T00:00:00.000000000",
          "2022-12-19T00:00:00.000000000",
          "2022-12-20T00:00:00.000000000",
          "2022-12-21T00:00:00.000000000",
          "2022-12-22T00:00:00.000000000",
          "2022-12-23T00:00:00.000000000",
          "2022-12-24T00:00:00.000000000",
          "2022-12-25T00:00:00.000000000",
          "2022-12-26T00:00:00.000000000",
          "2022-12-27T00:00:00.000000000",
          "2022-12-28T00:00:00.000000000",
          "2022-12-29T00:00:00.000000000",
          "2022-12-30T00:00:00.000000000",
          "2022-12-31T00:00:00.000000000"
         ],
         "xaxis": "x",
         "y": {
          "bdata": "BwwLBw4OBgcHDAsKCxEHCA8KFBQQBwYLDwoREAQFCRAIBAsNCQ4NFBMeCw8NExUPDA0RCh8QDQ0LEhchEBMSDhchBhESBwkUHhUYHRkeGBcMDB8NFgcQGhATFg0WHBASGhsTEBsfGRwnFRkVHiMdIxwZIQ4aGCIhESAfKg4DFRk+KDcdHiIXJjQfGykkHSMnIyATHBkqISIxIyYlJy4pHSofHiczIBwiIiseHCMuJyISLDInGBskIxQqMSMuJy8mJCccHSgeHCQqHyIoHCkwJiosJiktKiwkJyEgJycqIS8iJzMkJCsnISAmHzAaMBcjHDQkHhgdHA4yLjkrFiUnJjI2JjIaQTkpGygcJisiKiwUDw0aFTAhGScgFyQVJiooIiYiHSkcGhYsHykcIyIpIC4iJCQfKiIeIhEwFxwRFBYSEw8bFRcKEhgOFhwTIh4HFBcMFxccGAwSFBcPCSEMDxESDgcCBAQLEBMXBg==",
          "dtype": "i1"
         },
         "yaxis": "y"
        },
        {
         "line": {
          "color": "#FFD700",
          "dash": "dot",
          "width": 2.5
         },
         "mode": "lines",
         "name": "Avg Temp (°F)",
         "type": "scatter",
         "x": [
          "2022-01-01",
          "2022-01-02",
          "2022-01-03",
          "2022-01-04",
          "2022-01-05",
          "2022-01-06",
          "2022-01-07",
          "2022-01-08",
          "2022-01-09",
          "2022-01-10",
          "2022-01-11",
          "2022-01-12",
          "2022-01-13",
          "2022-01-14",
          "2022-01-15",
          "2022-01-16",
          "2022-01-17",
          "2022-01-18",
          "2022-01-19",
          "2022-01-20",
          "2022-01-21",
          "2022-01-22",
          "2022-01-23",
          "2022-01-24",
          "2022-01-25",
          "2022-01-26",
          "2022-01-27",
          "2022-01-28",
          "2022-01-30",
          "2022-01-31",
          "2022-02-01",
          "2022-02-02",
          "2022-02-03",
          "2022-02-04",
          "2022-02-05",
          "2022-02-06",
          "2022-02-07",
          "2022-02-08",
          "2022-02-09",
          "2022-02-10",
          "2022-02-11",
          "2022-02-12",
          "2022-02-13",
          "2022-02-14",
          "2022-02-15",
          "2022-02-16",
          "2022-02-17",
          "2022-02-18",
          "2022-02-19",
          "2022-02-20",
          "2022-02-21",
          "2022-02-22",
          "2022-02-23",
          "2022-02-24",
          "2022-02-25",
          "2022-02-26",
          "2022-02-27",
          "2022-02-28",
          "2022-03-01",
          "2022-03-02",
          "2022-03-03",
          "2022-03-04",
          "2022-03-05",
          "2022-03-06",
          "2022-03-07",
          "2022-03-08",
          "2022-03-09",
          "2022-03-10",
          "2022-03-11",
          "2022-03-12",
          "2022-03-13",
          "2022-03-14",
          "2022-03-15",
          "2022-03-16",
          "2022-03-17",
          "2022-03-18",
          "2022-03-19",
          "2022-03-20",
          "2022-03-21",
          "2022-03-22",
          "2022-03-23",
          "2022-03-24",
          "2022-03-25",
          "2022-03-26",
          "2022-03-27",
          "2022-03-28",
          "2022-03-29",
          "2022-03-30",
          "2022-03-31",
          "2022-04-01",
          "2022-04-02",
          "2022-04-03",
          "2022-04-04",
          "2022-04-05",
          "2022-04-06",
          "2022-04-07",
          "2022-04-08",
          "2022-04-09",
          "2022-04-10",
          "2022-04-11",
          "2022-04-12",
          "2022-04-13",
          "2022-04-14",
          "2022-04-15",
          "2022-04-16",
          "2022-04-17",
          "2022-04-18",
          "2022-04-19",
          "2022-04-20",
          "2022-04-21",
          "2022-04-22",
          "2022-04-23",
          "2022-04-24",
          "2022-04-25",
          "2022-04-26",
          "2022-04-27",
          "2022-04-28",
          "2022-04-29",
          "2022-04-30",
          "2022-05-01",
          "2022-05-02",
          "2022-05-03",
          "2022-05-04",
          "2022-05-05",
          "2022-05-06",
          "2022-05-07",
          "2022-05-08",
          "2022-05-09",
          "2022-05-10",
          "2022-05-11",
          "2022-05-12",
          "2022-05-13",
          "2022-05-14",
          "2022-05-15",
          "2022-05-16",
          "2022-05-17",
          "2022-05-18",
          "2022-05-19",
          "2022-05-20",
          "2022-05-21",
          "2022-05-22",
          "2022-05-23",
          "2022-05-24",
          "2022-05-25",
          "2022-05-26",
          "2022-05-27",
          "2022-05-28",
          "2022-05-29",
          "2022-05-30",
          "2022-05-31",
          "2022-06-01",
          "2022-06-02",
          "2022-06-03",
          "2022-06-04",
          "2022-06-05",
          "2022-06-06",
          "2022-06-07",
          "2022-06-08",
          "2022-06-09",
          "2022-06-10",
          "2022-06-11",
          "2022-06-12",
          "2022-06-13",
          "2022-06-14",
          "2022-06-15",
          "2022-06-16",
          "2022-06-17",
          "2022-06-18",
          "2022-06-19",
          "2022-06-20",
          "2022-06-21",
          "2022-06-22",
          "2022-06-23",
          "2022-06-24",
          "2022-06-25",
          "2022-06-26",
          "2022-06-27",
          "2022-06-28",
          "2022-06-29",
          "2022-06-30",
          "2022-07-01",
          "2022-07-02",
          "2022-07-03",
          "2022-07-04",
          "2022-07-05",
          "2022-07-06",
          "2022-07-07",
          "2022-07-08",
          "2022-07-09",
          "2022-07-10",
          "2022-07-11",
          "2022-07-12",
          "2022-07-13",
          "2022-07-14",
          "2022-07-15",
          "2022-07-16",
          "2022-07-17",
          "2022-07-18",
          "2022-07-19",
          "2022-07-20",
          "2022-07-21",
          "2022-07-22",
          "2022-07-23",
          "2022-07-24",
          "2022-07-25",
          "2022-07-26",
          "2022-07-27",
          "2022-07-28",
          "2022-07-29",
          "2022-07-30",
          "2022-07-31",
          "2022-08-01",
          "2022-08-02",
          "2022-08-03",
          "2022-08-04",
          "2022-08-05",
          "2022-08-06",
          "2022-08-07",
          "2022-08-08",
          "2022-08-09",
          "2022-08-10",
          "2022-08-11",
          "2022-08-12",
          "2022-08-13",
          "2022-08-14",
          "2022-08-15",
          "2022-08-16",
          "2022-08-17",
          "2022-08-18",
          "2022-08-19",
          "2022-08-20",
          "2022-08-21",
          "2022-08-22",
          "2022-08-23",
          "2022-08-24",
          "2022-08-25",
          "2022-08-26",
          "2022-08-27",
          "2022-08-28",
          "2022-08-29",
          "2022-08-30",
          "2022-08-31",
          "2022-09-01",
          "2022-09-02",
          "2022-09-03",
          "2022-09-04",
          "2022-09-05",
          "2022-09-06",
          "2022-09-07",
          "2022-09-08",
          "2022-09-09",
          "2022-09-10",
          "2022-09-11",
          "2022-09-12",
          "2022-09-13",
          "2022-09-14",
          "2022-09-15",
          "2022-09-16",
          "2022-09-17",
          "2022-09-18",
          "2022-09-19",
          "2022-09-20",
          "2022-09-21",
          "2022-09-22",
          "2022-09-23",
          "2022-09-24",
          "2022-09-25",
          "2022-09-26",
          "2022-09-27",
          "2022-09-28",
          "2022-09-29",
          "2022-09-30",
          "2022-10-01",
          "2022-10-02",
          "2022-10-03",
          "2022-10-04",
          "2022-10-05",
          "2022-10-06",
          "2022-10-07",
          "2022-10-08",
          "2022-10-09",
          "2022-10-10",
          "2022-10-11",
          "2022-10-12",
          "2022-10-13",
          "2022-10-14",
          "2022-10-15",
          "2022-10-16",
          "2022-10-17",
          "2022-10-18",
          "2022-10-19",
          "2022-10-20",
          "2022-10-21",
          "2022-10-22",
          "2022-10-23",
          "2022-10-24",
          "2022-10-25",
          "2022-10-26",
          "2022-10-27",
          "2022-10-28",
          "2022-10-29",
          "2022-10-30",
          "2022-10-31",
          "2022-11-01",
          "2022-11-02",
          "2022-11-03",
          "2022-11-04",
          "2022-11-05",
          "2022-11-06",
          "2022-11-07",
          "2022-11-08",
          "2022-11-09",
          "2022-11-10",
          "2022-11-11",
          "2022-11-12",
          "2022-11-13",
          "2022-11-14",
          "2022-11-15",
          "2022-11-16",
          "2022-11-17",
          "2022-11-18",
          "2022-11-19",
          "2022-11-20",
          "2022-11-21",
          "2022-11-22",
          "2022-11-23",
          "2022-11-24",
          "2022-11-25",
          "2022-11-26",
          "2022-11-27",
          "2022-11-28",
          "2022-11-29",
          "2022-11-30",
          "2022-12-01",
          "2022-12-02",
          "2022-12-03",
          "2022-12-04",
          "2022-12-05",
          "2022-12-06",
          "2022-12-07",
          "2022-12-08",
          "2022-12-09",
          "2022-12-10",
          "2022-12-11",
          "2022-12-12",
          "2022-12-13",
          "2022-12-14",
          "2022-12-15",
          "2022-12-16",
          "2022-12-17",
          "2022-12-18",
          "2022-12-19",
          "2022-12-20",
          "2022-12-21",
          "2022-12-22",
          "2022-12-23",
          "2022-12-24",
          "2022-12-25",
          "2022-12-26",
          "2022-12-27",
          "2022-12-28",
          "2022-12-29",
          "2022-12-30",
          "2022-12-31"
         ],
         "xaxis": "x",
         "y": {
          "bdata": "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",
          "dtype": "f8"
         },
         "yaxis": "y2"
        }
       ],
       "layout": {
        "font": {
         "color": "black",
         "size": 13
        },
        "height": 600,
        "legend": {
         "x": 0.01,
         "y": 0.99
        },
        "paper_bgcolor": "rgba(255,255,255,1)",
        "plot_bgcolor": "rgba(255,255,255,1)",
        "template": {
         "data": {
          "bar": [
           {
            "error_x": {
             "color": "#2a3f5f"
            },
            "error_y": {
             "color": "#2a3f5f"
            },
            "marker": {
             "line": {
              "color": "#E5ECF6",
              "width": 0.5
             },
             "pattern": {
              "fillmode": "overlay",
              "size": 10,
              "solidity": 0.2
             }
            },
            "type": "bar"
           }
          ],
          "barpolar": [
           {
            "marker": {
             "line": {
              "color": "#E5ECF6",
              "width": 0.5
             },
             "pattern": {
              "fillmode": "overlay",
              "size": 10,
              "solidity": 0.2
             }
            },
            "type": "barpolar"
           }
          ],
          "carpet": [
           {
            "aaxis": {
             "endlinecolor": "#2a3f5f",
             "gridcolor": "white",
             "linecolor": "white",
             "minorgridcolor": "white",
             "startlinecolor": "#2a3f5f"
            },
            "baxis": {
             "endlinecolor": "#2a3f5f",
             "gridcolor": "white",
             "linecolor": "white",
             "minorgridcolor": "white",
             "startlinecolor": "#2a3f5f"
            },
            "type": "carpet"
           }
          ],
          "choropleth": [
           {
            "colorbar": {
             "outlinewidth": 0,
             "ticks": ""
            },
            "type": "choropleth"
           }
          ],
          "contour": [
           {
            "colorbar": {
             "outlinewidth": 0,
             "ticks": ""
            },
            "colorscale": [
             [
              0,
              "#0d0887"
             ],
             [
              0.1111111111111111,
              "#46039f"
             ],
             [
              0.2222222222222222,
              "#7201a8"
             ],
             [
              0.3333333333333333,
              "#9c179e"
             ],
             [
              0.4444444444444444,
              "#bd3786"
             ],
             [
              0.5555555555555556,
              "#d8576b"
             ],
             [
              0.6666666666666666,
              "#ed7953"
             ],
             [
              0.7777777777777778,
              "#fb9f3a"
             ],
             [
              0.8888888888888888,
              "#fdca26"
             ],
             [
              1,
              "#f0f921"
             ]
            ],
            "type": "contour"
           }
          ],
          "contourcarpet": [
           {
            "colorbar": {
             "outlinewidth": 0,
             "ticks": ""
            },
            "type": "contourcarpet"
           }
          ],
          "heatmap": [
           {
            "colorbar": {
             "outlinewidth": 0,
             "ticks": ""
            },
            "colorscale": [
             [
              0,
              "#0d0887"
             ],
             [
              0.1111111111111111,
              "#46039f"
             ],
             [
              0.2222222222222222,
              "#7201a8"
             ],
             [
              0.3333333333333333,
              "#9c179e"
             ],
             [
              0.4444444444444444,
              "#bd3786"
             ],
             [
              0.5555555555555556,
              "#d8576b"
             ],
             [
              0.6666666666666666,
              "#ed7953"
             ],
             [
              0.7777777777777778,
              "#fb9f3a"
             ],
             [
              0.8888888888888888,
              "#fdca26"
             ],
             [
              1,
              "#f0f921"
             ]
            ],
            "type": "heatmap"
           }
          ],
          "histogram": [
           {
            "marker": {
             "pattern": {
              "fillmode": "overlay",
              "size": 10,
              "solidity": 0.2
             }
            },
            "type": "histogram"
           }
          ],
          "histogram2d": [
           {
            "colorbar": {
             "outlinewidth": 0,
             "ticks": ""
            },
            "colorscale": [
             [
              0,
              "#0d0887"
             ],
             [
              0.1111111111111111,
              "#46039f"
             ],
             [
              0.2222222222222222,
              "#7201a8"
             ],
             [
              0.3333333333333333,
              "#9c179e"
             ],
             [
              0.4444444444444444,
              "#bd3786"
             ],
             [
              0.5555555555555556,
              "#d8576b"
             ],
             [
              0.6666666666666666,
              "#ed7953"
             ],
             [
              0.7777777777777778,
              "#fb9f3a"
             ],
             [
              0.8888888888888888,
              "#fdca26"
             ],
             [
              1,
              "#f0f921"
             ]
            ],
            "type": "histogram2d"
           }
          ],
          "histogram2dcontour": [
           {
            "colorbar": {
             "outlinewidth": 0,
             "ticks": ""
            },
            "colorscale": [
             [
              0,
              "#0d0887"
             ],
             [
              0.1111111111111111,
              "#46039f"
             ],
             [
              0.2222222222222222,
              "#7201a8"
             ],
             [
              0.3333333333333333,
              "#9c179e"
             ],
             [
              0.4444444444444444,
              "#bd3786"
             ],
             [
              0.5555555555555556,
              "#d8576b"
             ],
             [
              0.6666666666666666,
              "#ed7953"
             ],
             [
              0.7777777777777778,
              "#fb9f3a"
             ],
             [
              0.8888888888888888,
              "#fdca26"
             ],
             [
              1,
              "#f0f921"
             ]
            ],
            "type": "histogram2dcontour"
           }
          ],
          "mesh3d": [
           {
            "colorbar": {
             "outlinewidth": 0,
             "ticks": ""
            },
            "type": "mesh3d"
           }
          ],
          "parcoords": [
           {
            "line": {
             "colorbar": {
              "outlinewidth": 0,
              "ticks": ""
             }
            },
            "type": "parcoords"
           }
          ],
          "pie": [
           {
            "automargin": true,
            "type": "pie"
           }
          ],
          "scatter": [
           {
            "fillpattern": {
             "fillmode": "overlay",
             "size": 10,
             "solidity": 0.2
            },
            "type": "scatter"
           }
          ],
          "scatter3d": [
           {
            "line": {
             "colorbar": {
              "outlinewidth": 0,
              "ticks": ""
             }
            },
            "marker": {
             "colorbar": {
              "outlinewidth": 0,
              "ticks": ""
             }
            },
            "type": "scatter3d"
           }
          ],
          "scattercarpet": [
           {
            "marker": {
             "colorbar": {
              "outlinewidth": 0,
              "ticks": ""
             }
            },
            "type": "scattercarpet"
           }
          ],
          "scattergeo": [
           {
            "marker": {
             "colorbar": {
              "outlinewidth": 0,
              "ticks": ""
             }
            },
            "type": "scattergeo"
           }
          ],
          "scattergl": [
           {
            "marker": {
             "colorbar": {
              "outlinewidth": 0,
              "ticks": ""
             }
            },
            "type": "scattergl"
           }
          ],
          "scattermap": [
           {
            "marker": {
             "colorbar": {
              "outlinewidth": 0,
              "ticks": ""
             }
            },
            "type": "scattermap"
           }
          ],
          "scattermapbox": [
           {
            "marker": {
             "colorbar": {
              "outlinewidth": 0,
              "ticks": ""
             }
            },
            "type": "scattermapbox"
           }
          ],
          "scatterpolar": [
           {
            "marker": {
             "colorbar": {
              "outlinewidth": 0,
              "ticks": ""
             }
            },
            "type": "scatterpolar"
           }
          ],
          "scatterpolargl": [
           {
            "marker": {
             "colorbar": {
              "outlinewidth": 0,
              "ticks": ""
             }
            },
            "type": "scatterpolargl"
           }
          ],
          "scatterternary": [
           {
            "marker": {
             "colorbar": {
              "outlinewidth": 0,
              "ticks": ""
             }
            },
            "type": "scatterternary"
           }
          ],
          "surface": [
           {
            "colorbar": {
             "outlinewidth": 0,
             "ticks": ""
            },
            "colorscale": [
             [
              0,
              "#0d0887"
             ],
             [
              0.1111111111111111,
              "#46039f"
             ],
             [
              0.2222222222222222,
              "#7201a8"
             ],
             [
              0.3333333333333333,
              "#9c179e"
             ],
             [
              0.4444444444444444,
              "#bd3786"
             ],
             [
              0.5555555555555556,
              "#d8576b"
             ],
             [
              0.6666666666666666,
              "#ed7953"
             ],
             [
              0.7777777777777778,
              "#fb9f3a"
             ],
             [
              0.8888888888888888,
              "#fdca26"
             ],
             [
              1,
              "#f0f921"
             ]
            ],
            "type": "surface"
           }
          ],
          "table": [
           {
            "cells": {
             "fill": {
              "color": "#EBF0F8"
             },
             "line": {
              "color": "white"
             }
            },
            "header": {
             "fill": {
              "color": "#C8D4E3"
             },
             "line": {
              "color": "white"
             }
            },
            "type": "table"
           }
          ]
         },
         "layout": {
          "annotationdefaults": {
           "arrowcolor": "#2a3f5f",
           "arrowhead": 0,
           "arrowwidth": 1
          },
          "autotypenumbers": "strict",
          "coloraxis": {
           "colorbar": {
            "outlinewidth": 0,
            "ticks": ""
           }
          },
          "colorscale": {
           "diverging": [
            [
             0,
             "#8e0152"
            ],
            [
             0.1,
             "#c51b7d"
            ],
            [
             0.2,
             "#de77ae"
            ],
            [
             0.3,
             "#f1b6da"
            ],
            [
             0.4,
             "#fde0ef"
            ],
            [
             0.5,
             "#f7f7f7"
            ],
            [
             0.6,
             "#e6f5d0"
            ],
            [
             0.7,
             "#b8e186"
            ],
            [
             0.8,
             "#7fbc41"
            ],
            [
             0.9,
             "#4d9221"
            ],
            [
             1,
             "#276419"
            ]
           ],
           "sequential": [
            [
             0,
             "#0d0887"
            ],
            [
             0.1111111111111111,
             "#46039f"
            ],
            [
             0.2222222222222222,
             "#7201a8"
            ],
            [
             0.3333333333333333,
             "#9c179e"
            ],
            [
             0.4444444444444444,
             "#bd3786"
            ],
            [
             0.5555555555555556,
             "#d8576b"
            ],
            [
             0.6666666666666666,
             "#ed7953"
            ],
            [
             0.7777777777777778,
             "#fb9f3a"
            ],
            [
             0.8888888888888888,
             "#fdca26"
            ],
            [
             1,
             "#f0f921"
            ]
           ],
           "sequentialminus": [
            [
             0,
             "#0d0887"
            ],
            [
             0.1111111111111111,
             "#46039f"
            ],
            [
             0.2222222222222222,
             "#7201a8"
            ],
            [
             0.3333333333333333,
             "#9c179e"
            ],
            [
             0.4444444444444444,
             "#bd3786"
            ],
            [
             0.5555555555555556,
             "#d8576b"
            ],
            [
             0.6666666666666666,
             "#ed7953"
            ],
            [
             0.7777777777777778,
             "#fb9f3a"
            ],
            [
             0.8888888888888888,
             "#fdca26"
            ],
            [
             1,
             "#f0f921"
            ]
           ]
          },
          "colorway": [
           "#636efa",
           "#EF553B",
           "#00cc96",
           "#ab63fa",
           "#FFA15A",
           "#19d3f3",
           "#FF6692",
           "#B6E880",
           "#FF97FF",
           "#FECB52"
          ],
          "font": {
           "color": "#2a3f5f"
          },
          "geo": {
           "bgcolor": "white",
           "lakecolor": "white",
           "landcolor": "#E5ECF6",
           "showlakes": true,
           "showland": true,
           "subunitcolor": "white"
          },
          "hoverlabel": {
           "align": "left"
          },
          "hovermode": "closest",
          "mapbox": {
           "style": "light"
          },
          "paper_bgcolor": "white",
          "plot_bgcolor": "#E5ECF6",
          "polar": {
           "angularaxis": {
            "gridcolor": "white",
            "linecolor": "white",
            "ticks": ""
           },
           "bgcolor": "#E5ECF6",
           "radialaxis": {
            "gridcolor": "white",
            "linecolor": "white",
            "ticks": ""
           }
          },
          "scene": {
           "xaxis": {
            "backgroundcolor": "#E5ECF6",
            "gridcolor": "white",
            "gridwidth": 2,
            "linecolor": "white",
            "showbackground": true,
            "ticks": "",
            "zerolinecolor": "white"
           },
           "yaxis": {
            "backgroundcolor": "#E5ECF6",
            "gridcolor": "white",
            "gridwidth": 2,
            "linecolor": "white",
            "showbackground": true,
            "ticks": "",
            "zerolinecolor": "white"
           },
           "zaxis": {
            "backgroundcolor": "#E5ECF6",
            "gridcolor": "white",
            "gridwidth": 2,
            "linecolor": "white",
            "showbackground": true,
            "ticks": "",
            "zerolinecolor": "white"
           }
          },
          "shapedefaults": {
           "line": {
            "color": "#2a3f5f"
           }
          },
          "ternary": {
           "aaxis": {
            "gridcolor": "white",
            "linecolor": "white",
            "ticks": ""
           },
           "baxis": {
            "gridcolor": "white",
            "linecolor": "white",
            "ticks": ""
           },
           "bgcolor": "#E5ECF6",
           "caxis": {
            "gridcolor": "white",
            "linecolor": "white",
            "ticks": ""
           }
          },
          "title": {
           "x": 0.05
          },
          "xaxis": {
           "automargin": true,
           "gridcolor": "white",
           "linecolor": "white",
           "ticks": "",
           "title": {
            "standoff": 15
           },
           "zerolinecolor": "white",
           "zerolinewidth": 2
          },
          "yaxis": {
           "automargin": true,
           "gridcolor": "white",
           "linecolor": "white",
           "ticks": "",
           "title": {
            "standoff": 15
           },
           "zerolinecolor": "white",
           "zerolinewidth": 2
          }
         }
        },
        "title": {
         "text": "Daily Bike Rides vs. Temperature in NYC (2022)"
        },
        "xaxis": {
         "anchor": "y",
         "domain": [
          0,
          0.94
         ],
         "title": {
          "text": "Date"
         }
        },
        "yaxis": {
         "anchor": "x",
         "domain": [
          0,
          1
         ],
         "title": {
          "text": "Daily Bike Rides"
         }
        },
        "yaxis2": {
         "anchor": "x",
         "overlaying": "y",
         "side": "right",
         "title": {
          "text": "Avg Temperature (°F)"
         }
        }
       }
      },
      "image/png": "[encoded data removed]"
     },
     "metadata": {},
     "output_type": "display_data"
    }
   ],
   "source": [
    "import plotly.graph_objects as go\n",
    "from plotly.subplots import make_subplots\n",
    "import pandas as pd\n",
    "\n",
    "# Group data by date to count rides\n",
    "daily_data = df.groupby('date').size().reset_index(name='daily_bike_rides')\n",
    "daily_data['date'] = pd.to_datetime(daily_data['date'])\n",
    "\n",
    "# Calculate daily average temperature\n",
    "avg_temp = df.groupby('date')['avg_temp_f'].mean().reset_index()\n",
    "\n",
    "# Create dual-axis chart\n",
    "fig2 = make_subplots(specs=[[{\"secondary_y\": True}]])\n",
    "\n",
    "# Add daily bike rides line (left y-axis)\n",
    "fig2.add_trace(\n",
    "    go.Scatter(\n",
    "        x=daily_data['date'],\n",
    "        y=daily_data['daily_bike_rides'],\n",
    "        mode='lines',\n",
    "        name='Daily Bike Rides',\n",
    "        line=dict(color='#FF7F50', width=2.5),  # coral/orange\n",
    "    ),\n",
    "    secondary_y=False\n",
    ")\n",
    "\n",
    "# Add average temperature line (right y-axis)\n",
    "fig2.add_trace(\n",
    "    go.Scatter(\n",
    "        x=avg_temp['date'],\n",
    "        y=avg_temp['avg_temp_f'],\n",
    "        mode='lines',\n",
    "        name='Avg Temp (°F)',\n",
    "        line=dict(color='#FFD700', width=2.5, dash='dot'),  # golden yellow\n",
    "    ),\n",
    "    secondary_y=True\n",
    ")\n",
    "\n",
    "# Layout customization with soft white background\n",
    "fig2.update_layout(\n",
    "    title='Daily Bike Rides vs. Temperature in NYC (2022)',\n",
    "    xaxis_title='Date',\n",
    "    plot_bgcolor='rgba(255,255,255,1)',\n",
    "    paper_bgcolor='rgba(255,255,255,1)',\n",
    "    font=dict(size=13, color='black'),\n",
    "    legend=dict(x=0.01, y=0.99),\n",
    "    height=600\n",
    ")\n",
    "\n",
    "# Set y-axis titles\n",
    "fig2.update_yaxes(title_text='Daily Bike Rides', secondary_y=False)\n",
    "fig2.update_yaxes(title_text='Avg Temperature (°F)', secondary_y=True)\n",
    "\n",
    "fig2.show()\n"
   ]
  },
  {
   "cell_type": "markdown",
   "id": "3add68d6-7d2a-4d48-9e9d-47f87643832d",
   "metadata": {},
   "source": [
    "## 📊 Average Ride Duration by Rider Type (Minutes)\n",
    "This horizontal bar chart compares the average trip duration between Casual and Member riders using distinct colors that match our dashboard’s overall theme. Casual riders had a significantly longer average ride time compared to member riders.\n",
    "Design choices:\n",
    "\n",
    "🎨 Color scheme matches the theme used across our visualizations:\n",
    "Casual riders are shown in gold/yellow (#FFD700)\n",
    "Member riders are shown in warm orange (#FF7F0E)\n",
    "🧱 Horizontal layout improves readability for categorical comparison.\n",
    "🧼 White background and black font/gridlines ensure accessibility and professional visual contrast.\n",
    "🪄 Added axis lines and tick labels for clarity and presentation consistency.\n",
    "This visual helps highlight behavioral differences between user types, which can inform business decisions like targeted promotions or subscription offerings."
   ]
  },
  {
   "cell_type": "code",
   "execution_count": 5,
   "id": "515e7bde-197c-4567-bf41-3cce131d515d",
   "metadata": {},
   "outputs": [
    {
     "data": {
      "text/plain": [
       "Index(['ride_id', 'rideable_type', 'started_at', 'ended_at',\n",
       "       'start_station_name', 'start_station_id', 'end_station_name',\n",
       "       'end_station_id', 'start_lat', 'start_lng', 'end_lat', 'end_lng',\n",
       "       'member_casual', 'date', 'avg_temp_f_tenths', 'avg_temp_f'],\n",
       "      dtype='object')"
      ]
     },
     "execution_count": 5,
     "metadata": {},
     "output_type": "execute_result"
    }
   ],
   "source": [
    "df.columns\n"
   ]
  },
  {
   "cell_type": "code",
   "execution_count": 6,
   "id": "24f7d6be-9df3-4d0b-a5d5-8022f5cc4dd5",
   "metadata": {},
   "outputs": [
    {
     "data": {
      "application/vnd.plotly.v1+json": {
       "config": {
        "plotlyServerURL": "https://plot.ly"
       },
       "data": [
        {
         "marker": {
          "color": [
           "gold",
           "darkorange"
          ],
          "line": {
           "color": "black",
           "width": 1.5
          }
         },
         "orientation": "h",
         "type": "bar",
         "x": [
          25.57984211178201,
          14.285497882417909
         ],
         "y": [
          "Casual",
          "Member"
         ]
        }
       ],
       "layout": {
        "template": {
         "data": {
          "bar": [
           {
            "error_x": {
             "color": "#2a3f5f"
            },
            "error_y": {
             "color": "#2a3f5f"
            },
            "marker": {
             "line": {
              "color": "#E5ECF6",
              "width": 0.5
             },
             "pattern": {
              "fillmode": "overlay",
              "size": 10,
              "solidity": 0.2
             }
            },
            "type": "bar"
           }
          ],
          "barpolar": [
           {
            "marker": {
             "line": {
              "color": "#E5ECF6",
              "width": 0.5
             },
             "pattern": {
              "fillmode": "overlay",
              "size": 10,
              "solidity": 0.2
             }
            },
            "type": "barpolar"
           }
          ],
          "carpet": [
           {
            "aaxis": {
             "endlinecolor": "#2a3f5f",
             "gridcolor": "white",
             "linecolor": "white",
             "minorgridcolor": "white",
             "startlinecolor": "#2a3f5f"
            },
            "baxis": {
             "endlinecolor": "#2a3f5f",
             "gridcolor": "white",
             "linecolor": "white",
             "minorgridcolor": "white",
             "startlinecolor": "#2a3f5f"
            },
            "type": "carpet"
           }
          ],
          "choropleth": [
           {
            "colorbar": {
             "outlinewidth": 0,
             "ticks": ""
            },
            "type": "choropleth"
           }
          ],
          "contour": [
           {
            "colorbar": {
             "outlinewidth": 0,
             "ticks": ""
            },
            "colorscale": [
             [
              0,
              "#0d0887"
             ],
             [
              0.1111111111111111,
              "#46039f"
             ],
             [
              0.2222222222222222,
              "#7201a8"
             ],
             [
              0.3333333333333333,
              "#9c179e"
             ],
             [
              0.4444444444444444,
              "#bd3786"
             ],
             [
              0.5555555555555556,
              "#d8576b"
             ],
             [
              0.6666666666666666,
              "#ed7953"
             ],
             [
              0.7777777777777778,
              "#fb9f3a"
             ],
             [
              0.8888888888888888,
              "#fdca26"
             ],
             [
              1,
              "#f0f921"
             ]
            ],
            "type": "contour"
           }
          ],
          "contourcarpet": [
           {
            "colorbar": {
             "outlinewidth": 0,
             "ticks": ""
            },
            "type": "contourcarpet"
           }
          ],
          "heatmap": [
           {
            "colorbar": {
             "outlinewidth": 0,
             "ticks": ""
            },
            "colorscale": [
             [
              0,
              "#0d0887"
             ],
             [
              0.1111111111111111,
              "#46039f"
             ],
             [
              0.2222222222222222,
              "#7201a8"
             ],
             [
              0.3333333333333333,
              "#9c179e"
             ],
             [
              0.4444444444444444,
              "#bd3786"
             ],
             [
              0.5555555555555556,
              "#d8576b"
             ],
             [
              0.6666666666666666,
              "#ed7953"
             ],
             [
              0.7777777777777778,
              "#fb9f3a"
             ],
             [
              0.8888888888888888,
              "#fdca26"
             ],
             [
              1,
              "#f0f921"
             ]
            ],
            "type": "heatmap"
           }
          ],
          "histogram": [
           {
            "marker": {
             "pattern": {
              "fillmode": "overlay",
              "size": 10,
              "solidity": 0.2
             }
            },
            "type": "histogram"
           }
          ],
          "histogram2d": [
           {
            "colorbar": {
             "outlinewidth": 0,
             "ticks": ""
            },
            "colorscale": [
             [
              0,
              "#0d0887"
             ],
             [
              0.1111111111111111,
              "#46039f"
             ],
             [
              0.2222222222222222,
              "#7201a8"
             ],
             [
              0.3333333333333333,
              "#9c179e"
             ],
             [
              0.4444444444444444,
              "#bd3786"
             ],
             [
              0.5555555555555556,
              "#d8576b"
             ],
             [
              0.6666666666666666,
              "#ed7953"
             ],
             [
              0.7777777777777778,
              "#fb9f3a"
             ],
             [
              0.8888888888888888,
              "#fdca26"
             ],
             [
              1,
              "#f0f921"
             ]
            ],
            "type": "histogram2d"
           }
          ],
          "histogram2dcontour": [
           {
            "colorbar": {
             "outlinewidth": 0,
             "ticks": ""
            },
            "colorscale": [
             [
              0,
              "#0d0887"
             ],
             [
              0.1111111111111111,
              "#46039f"
             ],
             [
              0.2222222222222222,
              "#7201a8"
             ],
             [
              0.3333333333333333,
              "#9c179e"
             ],
             [
              0.4444444444444444,
              "#bd3786"
             ],
             [
              0.5555555555555556,
              "#d8576b"
             ],
             [
              0.6666666666666666,
              "#ed7953"
             ],
             [
              0.7777777777777778,
              "#fb9f3a"
             ],
             [
              0.8888888888888888,
              "#fdca26"
             ],
             [
              1,
              "#f0f921"
             ]
            ],
            "type": "histogram2dcontour"
           }
          ],
          "mesh3d": [
           {
            "colorbar": {
             "outlinewidth": 0,
             "ticks": ""
            },
            "type": "mesh3d"
           }
          ],
          "parcoords": [
           {
            "line": {
             "colorbar": {
              "outlinewidth": 0,
              "ticks": ""
             }
            },
            "type": "parcoords"
           }
          ],
          "pie": [
           {
            "automargin": true,
            "type": "pie"
           }
          ],
          "scatter": [
           {
            "fillpattern": {
             "fillmode": "overlay",
             "size": 10,
             "solidity": 0.2
            },
            "type": "scatter"
           }
          ],
          "scatter3d": [
           {
            "line": {
             "colorbar": {
              "outlinewidth": 0,
              "ticks": ""
             }
            },
            "marker": {
             "colorbar": {
              "outlinewidth": 0,
              "ticks": ""
             }
            },
            "type": "scatter3d"
           }
          ],
          "scattercarpet": [
           {
            "marker": {
             "colorbar": {
              "outlinewidth": 0,
              "ticks": ""
             }
            },
            "type": "scattercarpet"
           }
          ],
          "scattergeo": [
           {
            "marker": {
             "colorbar": {
              "outlinewidth": 0,
              "ticks": ""
             }
            },
            "type": "scattergeo"
           }
          ],
          "scattergl": [
           {
            "marker": {
             "colorbar": {
              "outlinewidth": 0,
              "ticks": ""
             }
            },
            "type": "scattergl"
           }
          ],
          "scattermap": [
           {
            "marker": {
             "colorbar": {
              "outlinewidth": 0,
              "ticks": ""
             }
            },
            "type": "scattermap"
           }
          ],
          "scattermapbox": [
           {
            "marker": {
             "colorbar": {
              "outlinewidth": 0,
              "ticks": ""
             }
            },
            "type": "scattermapbox"
           }
          ],
          "scatterpolar": [
           {
            "marker": {
             "colorbar": {
              "outlinewidth": 0,
              "ticks": ""
             }
            },
            "type": "scatterpolar"
           }
          ],
          "scatterpolargl": [
           {
            "marker": {
             "colorbar": {
              "outlinewidth": 0,
              "ticks": ""
             }
            },
            "type": "scatterpolargl"
           }
          ],
          "scatterternary": [
           {
            "marker": {
             "colorbar": {
              "outlinewidth": 0,
              "ticks": ""
             }
            },
            "type": "scatterternary"
           }
          ],
          "surface": [
           {
            "colorbar": {
             "outlinewidth": 0,
             "ticks": ""
            },
            "colorscale": [
             [
              0,
              "#0d0887"
             ],
             [
              0.1111111111111111,
              "#46039f"
             ],
             [
              0.2222222222222222,
              "#7201a8"
             ],
             [
              0.3333333333333333,
              "#9c179e"
             ],
             [
              0.4444444444444444,
              "#bd3786"
             ],
             [
              0.5555555555555556,
              "#d8576b"
             ],
             [
              0.6666666666666666,
              "#ed7953"
             ],
             [
              0.7777777777777778,
              "#fb9f3a"
             ],
             [
              0.8888888888888888,
              "#fdca26"
             ],
             [
              1,
              "#f0f921"
             ]
            ],
            "type": "surface"
           }
          ],
          "table": [
           {
            "cells": {
             "fill": {
              "color": "#EBF0F8"
             },
             "line": {
              "color": "white"
             }
            },
            "header": {
             "fill": {
              "color": "#C8D4E3"
             },
             "line": {
              "color": "white"
             }
            },
            "type": "table"
           }
          ]
         },
         "layout": {
          "annotationdefaults": {
           "arrowcolor": "#2a3f5f",
           "arrowhead": 0,
           "arrowwidth": 1
          },
          "autotypenumbers": "strict",
          "coloraxis": {
           "colorbar": {
            "outlinewidth": 0,
            "ticks": ""
           }
          },
          "colorscale": {
           "diverging": [
            [
             0,
             "#8e0152"
            ],
            [
             0.1,
             "#c51b7d"
            ],
            [
             0.2,
             "#de77ae"
            ],
            [
             0.3,
             "#f1b6da"
            ],
            [
             0.4,
             "#fde0ef"
            ],
            [
             0.5,
             "#f7f7f7"
            ],
            [
             0.6,
             "#e6f5d0"
            ],
            [
             0.7,
             "#b8e186"
            ],
            [
             0.8,
             "#7fbc41"
            ],
            [
             0.9,
             "#4d9221"
            ],
            [
             1,
             "#276419"
            ]
           ],
           "sequential": [
            [
             0,
             "#0d0887"
            ],
            [
             0.1111111111111111,
             "#46039f"
            ],
            [
             0.2222222222222222,
             "#7201a8"
            ],
            [
             0.3333333333333333,
             "#9c179e"
            ],
            [
             0.4444444444444444,
             "#bd3786"
            ],
            [
             0.5555555555555556,
             "#d8576b"
            ],
            [
             0.6666666666666666,
             "#ed7953"
            ],
            [
             0.7777777777777778,
             "#fb9f3a"
            ],
            [
             0.8888888888888888,
             "#fdca26"
            ],
            [
             1,
             "#f0f921"
            ]
           ],
           "sequentialminus": [
            [
             0,
             "#0d0887"
            ],
            [
             0.1111111111111111,
             "#46039f"
            ],
            [
             0.2222222222222222,
             "#7201a8"
            ],
            [
             0.3333333333333333,
             "#9c179e"
            ],
            [
             0.4444444444444444,
             "#bd3786"
            ],
            [
             0.5555555555555556,
             "#d8576b"
            ],
            [
             0.6666666666666666,
             "#ed7953"
            ],
            [
             0.7777777777777778,
             "#fb9f3a"
            ],
            [
             0.8888888888888888,
             "#fdca26"
            ],
            [
             1,
             "#f0f921"
            ]
           ]
          },
          "colorway": [
           "#636efa",
           "#EF553B",
           "#00cc96",
           "#ab63fa",
           "#FFA15A",
           "#19d3f3",
           "#FF6692",
           "#B6E880",
           "#FF97FF",
           "#FECB52"
          ],
          "font": {
           "color": "#2a3f5f"
          },
          "geo": {
           "bgcolor": "white",
           "lakecolor": "white",
           "landcolor": "#E5ECF6",
           "showlakes": true,
           "showland": true,
           "subunitcolor": "white"
          },
          "hoverlabel": {
           "align": "left"
          },
          "hovermode": "closest",
          "mapbox": {
           "style": "light"
          },
          "paper_bgcolor": "white",
          "plot_bgcolor": "#E5ECF6",
          "polar": {
           "angularaxis": {
            "gridcolor": "white",
            "linecolor": "white",
            "ticks": ""
           },
           "bgcolor": "#E5ECF6",
           "radialaxis": {
            "gridcolor": "white",
            "linecolor": "white",
            "ticks": ""
           }
          },
          "scene": {
           "xaxis": {
            "backgroundcolor": "#E5ECF6",
            "gridcolor": "white",
            "gridwidth": 2,
            "linecolor": "white",
            "showbackground": true,
            "ticks": "",
            "zerolinecolor": "white"
           },
           "yaxis": {
            "backgroundcolor": "#E5ECF6",
            "gridcolor": "white",
            "gridwidth": 2,
            "linecolor": "white",
            "showbackground": true,
            "ticks": "",
            "zerolinecolor": "white"
           },
           "zaxis": {
            "backgroundcolor": "#E5ECF6",
            "gridcolor": "white",
            "gridwidth": 2,
            "linecolor": "white",
            "showbackground": true,
            "ticks": "",
            "zerolinecolor": "white"
           }
          },
          "shapedefaults": {
           "line": {
            "color": "#2a3f5f"
           }
          },
          "ternary": {
           "aaxis": {
            "gridcolor": "white",
            "linecolor": "white",
            "ticks": ""
           },
           "baxis": {
            "gridcolor": "white",
            "linecolor": "white",
            "ticks": ""
           },
           "bgcolor": "#E5ECF6",
           "caxis": {
            "gridcolor": "white",
            "linecolor": "white",
            "ticks": ""
           }
          },
          "title": {
           "x": 0.05
          },
          "xaxis": {
           "automargin": true,
           "gridcolor": "white",
           "linecolor": "white",
           "ticks": "",
           "title": {
            "standoff": 15
           },
           "zerolinecolor": "white",
           "zerolinewidth": 2
          },
          "yaxis": {
           "automargin": true,
           "gridcolor": "white",
           "linecolor": "white",
           "ticks": "",
           "title": {
            "standoff": 15
           },
           "zerolinecolor": "white",
           "zerolinewidth": 2
          }
         }
        },
        "title": {
         "text": "Average Ride Duration by Rider Type (Minutes)"
        },
        "xaxis": {
         "linecolor": "black",
         "showline": true,
         "tickcolor": "black",
         "tickfont": {
          "color": "black"
         },
         "title": {
          "font": {
           "color": "black"
          },
          "text": "Average Duration (min)"
         }
        },
        "yaxis": {
         "linecolor": "black",
         "showgrid": false,
         "showline": true,
         "tickcolor": "black",
         "tickfont": {
          "color": "black"
         },
         "tickmode": "array",
         "ticktext": [
          "Casual",
          "Member"
         ],
         "tickvals": [
          0,
          1
         ],
         "title": {
          "font": {
           "color": "black"
          }
         }
        }
       }
      }
     },
     "metadata": {},
     "output_type": "display_data"
    }
   ],
   "source": [
    "import pandas as pd\n",
    "import plotly.graph_objects as go\n",
    "\n",
    "# Step 1: Convert to datetime\n",
    "df['started_at'] = pd.to_datetime(df['started_at'])\n",
    "df['ended_at'] = pd.to_datetime(df['ended_at'])\n",
    "\n",
    "# Step 2: Create a new column for trip duration in minutes\n",
    "df['trip_duration_min'] = (df['ended_at'] - df['started_at']).dt.total_seconds() / 60\n",
    "\n",
    "# Step 3: Group by rider type and calculate average duration\n",
    "avg_duration = df.groupby('member_casual')['trip_duration_min'].mean().reset_index()\n",
    "\n",
    "# Step 4: Set order and extract values\n",
    "ride_types = ['Casual', 'Member']\n",
    "durations = [\n",
    "    avg_duration.loc[avg_duration['member_casual'] == 'casual', 'trip_duration_min'].values[0],\n",
    "    avg_duration.loc[avg_duration['member_casual'] == 'member', 'trip_duration_min'].values[0]\n",
    "]\n",
    "\n",
    "# Step 5: Create the horizontal bar chart\n",
    "fig3 = go.Figure(go.Bar(\n",
    "    x=durations,\n",
    "    y=ride_types,\n",
    "    orientation='h',\n",
    "    marker=dict(\n",
    "        color=['gold', 'darkorange'],\n",
    "        line=dict(color='black', width=1.5)\n",
    "    )\n",
    "))\n",
    "\n",
    "fig3.update_layout(\n",
    "    title='Average Ride Duration by Rider Type (Minutes)',\n",
    "    xaxis=dict(\n",
    "        title='Average Duration (min)',\n",
    "        showline=True,\n",
    "        linecolor='black',\n",
    "        tickcolor='black',\n",
    "        tickfont=dict(color='black'),\n",
    "        title_font=dict(color='black')\n",
    "    ),\n",
    "    yaxis=dict(\n",
    "        showline=True,\n",
    "        showgrid=False,\n",
    "        linecolor='black',\n",
    "        tickcolor='black',\n",
    "        tickfont=dict(color='black'),\n",
    "        title_font=dict(color='black'),\n",
    "        tickmode='array',\n",
    "        tickvals=[0, 1],\n",
    "        ticktext=ride_types\n",
    "    )\n",
    ")\n",
    "\n",
    "# Display the chart\n",
    "fig3.show()\n"
   ]
  },
  {
   "cell_type": "code",
   "execution_count": null,
   "id": "a611db08-d99a-4743-a0a4-4572ae4c7335",
   "metadata": {},
   "outputs": [],
   "source": []
  },
  {
   "cell_type": "code",
   "execution_count": 7,
   "id": "112fe14e-d55f-42d1-bf6b-7a10944dc2d8",
   "metadata": {},
   "outputs": [],
   "source": [
    "# Group and count rides by rider type\n",
    "ride_counts = df['member_casual'].value_counts().reset_index()\n",
    "ride_counts.columns = ['rider_type', 'count']\n"
   ]
  },
  {
   "cell_type": "code",
   "execution_count": 8,
   "id": "51911a86-ae90-4369-9ee3-8edd4f8dfa32",
   "metadata": {},
   "outputs": [
    {
     "name": "stdout",
     "output_type": "stream",
     "text": [
      "['rider_type', 'count']\n",
      "  rider_type  count\n",
      "0     member   7847\n",
      "1     casual   2153\n"
     ]
    },
    {
     "data": {
      "application/vnd.plotly.v1+json": {
       "config": {
        "plotlyServerURL": "https://plot.ly"
       },
       "data": [
        {
         "hovertemplate": "Rider Type=%{x}<br>Number of Rides=%{y}<extra></extra>",
         "legendgroup": "member",
         "marker": {
          "color": "orange",
          "pattern": {
           "shape": ""
          }
         },
         "name": "member",
         "orientation": "v",
         "showlegend": true,
         "textposition": "auto",
         "type": "bar",
         "x": [
          "member"
         ],
         "xaxis": "x",
         "y": {
          "bdata": "px4=",
          "dtype": "i2"
         },
         "yaxis": "y"
        },
        {
         "hovertemplate": "Rider Type=%{x}<br>Number of Rides=%{y}<extra></extra>",
         "legendgroup": "casual",
         "marker": {
          "color": "gold",
          "pattern": {
           "shape": ""
          }
         },
         "name": "casual",
         "orientation": "v",
         "showlegend": true,
         "textposition": "auto",
         "type": "bar",
         "x": [
          "casual"
         ],
         "xaxis": "x",
         "y": {
          "bdata": "aQg=",
          "dtype": "i2"
         },
         "yaxis": "y"
        }
       ],
       "layout": {
        "barmode": "relative",
        "legend": {
         "title": {
          "text": "Rider Type"
         },
         "tracegroupgap": 0
        },
        "showlegend": false,
        "template": {
         "data": {
          "bar": [
           {
            "error_x": {
             "color": "#2a3f5f"
            },
            "error_y": {
             "color": "#2a3f5f"
            },
            "marker": {
             "line": {
              "color": "#E5ECF6",
              "width": 0.5
             },
             "pattern": {
              "fillmode": "overlay",
              "size": 10,
              "solidity": 0.2
             }
            },
            "type": "bar"
           }
          ],
          "barpolar": [
           {
            "marker": {
             "line": {
              "color": "#E5ECF6",
              "width": 0.5
             },
             "pattern": {
              "fillmode": "overlay",
              "size": 10,
              "solidity": 0.2
             }
            },
            "type": "barpolar"
           }
          ],
          "carpet": [
           {
            "aaxis": {
             "endlinecolor": "#2a3f5f",
             "gridcolor": "white",
             "linecolor": "white",
             "minorgridcolor": "white",
             "startlinecolor": "#2a3f5f"
            },
            "baxis": {
             "endlinecolor": "#2a3f5f",
             "gridcolor": "white",
             "linecolor": "white",
             "minorgridcolor": "white",
             "startlinecolor": "#2a3f5f"
            },
            "type": "carpet"
           }
          ],
          "choropleth": [
           {
            "colorbar": {
             "outlinewidth": 0,
             "ticks": ""
            },
            "type": "choropleth"
           }
          ],
          "contour": [
           {
            "colorbar": {
             "outlinewidth": 0,
             "ticks": ""
            },
            "colorscale": [
             [
              0,
              "#0d0887"
             ],
             [
              0.1111111111111111,
              "#46039f"
             ],
             [
              0.2222222222222222,
              "#7201a8"
             ],
             [
              0.3333333333333333,
              "#9c179e"
             ],
             [
              0.4444444444444444,
              "#bd3786"
             ],
             [
              0.5555555555555556,
              "#d8576b"
             ],
             [
              0.6666666666666666,
              "#ed7953"
             ],
             [
              0.7777777777777778,
              "#fb9f3a"
             ],
             [
              0.8888888888888888,
              "#fdca26"
             ],
             [
              1,
              "#f0f921"
             ]
            ],
            "type": "contour"
           }
          ],
          "contourcarpet": [
           {
            "colorbar": {
             "outlinewidth": 0,
             "ticks": ""
            },
            "type": "contourcarpet"
           }
          ],
          "heatmap": [
           {
            "colorbar": {
             "outlinewidth": 0,
             "ticks": ""
            },
            "colorscale": [
             [
              0,
              "#0d0887"
             ],
             [
              0.1111111111111111,
              "#46039f"
             ],
             [
              0.2222222222222222,
              "#7201a8"
             ],
             [
              0.3333333333333333,
              "#9c179e"
             ],
             [
              0.4444444444444444,
              "#bd3786"
             ],
             [
              0.5555555555555556,
              "#d8576b"
             ],
             [
              0.6666666666666666,
              "#ed7953"
             ],
             [
              0.7777777777777778,
              "#fb9f3a"
             ],
             [
              0.8888888888888888,
              "#fdca26"
             ],
             [
              1,
              "#f0f921"
             ]
            ],
            "type": "heatmap"
           }
          ],
          "histogram": [
           {
            "marker": {
             "pattern": {
              "fillmode": "overlay",
              "size": 10,
              "solidity": 0.2
             }
            },
            "type": "histogram"
           }
          ],
          "histogram2d": [
           {
            "colorbar": {
             "outlinewidth": 0,
             "ticks": ""
            },
            "colorscale": [
             [
              0,
              "#0d0887"
             ],
             [
              0.1111111111111111,
              "#46039f"
             ],
             [
              0.2222222222222222,
              "#7201a8"
             ],
             [
              0.3333333333333333,
              "#9c179e"
             ],
             [
              0.4444444444444444,
              "#bd3786"
             ],
             [
              0.5555555555555556,
              "#d8576b"
             ],
             [
              0.6666666666666666,
              "#ed7953"
             ],
             [
              0.7777777777777778,
              "#fb9f3a"
             ],
             [
              0.8888888888888888,
              "#fdca26"
             ],
             [
              1,
              "#f0f921"
             ]
            ],
            "type": "histogram2d"
           }
          ],
          "histogram2dcontour": [
           {
            "colorbar": {
             "outlinewidth": 0,
             "ticks": ""
            },
            "colorscale": [
             [
              0,
              "#0d0887"
             ],
             [
              0.1111111111111111,
              "#46039f"
             ],
             [
              0.2222222222222222,
              "#7201a8"
             ],
             [
              0.3333333333333333,
              "#9c179e"
             ],
             [
              0.4444444444444444,
              "#bd3786"
             ],
             [
              0.5555555555555556,
              "#d8576b"
             ],
             [
              0.6666666666666666,
              "#ed7953"
             ],
             [
              0.7777777777777778,
              "#fb9f3a"
             ],
             [
              0.8888888888888888,
              "#fdca26"
             ],
             [
              1,
              "#f0f921"
             ]
            ],
            "type": "histogram2dcontour"
           }
          ],
          "mesh3d": [
           {
            "colorbar": {
             "outlinewidth": 0,
             "ticks": ""
            },
            "type": "mesh3d"
           }
          ],
          "parcoords": [
           {
            "line": {
             "colorbar": {
              "outlinewidth": 0,
              "ticks": ""
             }
            },
            "type": "parcoords"
           }
          ],
          "pie": [
           {
            "automargin": true,
            "type": "pie"
           }
          ],
          "scatter": [
           {
            "fillpattern": {
             "fillmode": "overlay",
             "size": 10,
             "solidity": 0.2
            },
            "type": "scatter"
           }
          ],
          "scatter3d": [
           {
            "line": {
             "colorbar": {
              "outlinewidth": 0,
              "ticks": ""
             }
            },
            "marker": {
             "colorbar": {
              "outlinewidth": 0,
              "ticks": ""
             }
            },
            "type": "scatter3d"
           }
          ],
          "scattercarpet": [
           {
            "marker": {
             "colorbar": {
              "outlinewidth": 0,
              "ticks": ""
             }
            },
            "type": "scattercarpet"
           }
          ],
          "scattergeo": [
           {
            "marker": {
             "colorbar": {
              "outlinewidth": 0,
              "ticks": ""
             }
            },
            "type": "scattergeo"
           }
          ],
          "scattergl": [
           {
            "marker": {
             "colorbar": {
              "outlinewidth": 0,
              "ticks": ""
             }
            },
            "type": "scattergl"
           }
          ],
          "scattermap": [
           {
            "marker": {
             "colorbar": {
              "outlinewidth": 0,
              "ticks": ""
             }
            },
            "type": "scattermap"
           }
          ],
          "scattermapbox": [
           {
            "marker": {
             "colorbar": {
              "outlinewidth": 0,
              "ticks": ""
             }
            },
            "type": "scattermapbox"
           }
          ],
          "scatterpolar": [
           {
            "marker": {
             "colorbar": {
              "outlinewidth": 0,
              "ticks": ""
             }
            },
            "type": "scatterpolar"
           }
          ],
          "scatterpolargl": [
           {
            "marker": {
             "colorbar": {
              "outlinewidth": 0,
              "ticks": ""
             }
            },
            "type": "scatterpolargl"
           }
          ],
          "scatterternary": [
           {
            "marker": {
             "colorbar": {
              "outlinewidth": 0,
              "ticks": ""
             }
            },
            "type": "scatterternary"
           }
          ],
          "surface": [
           {
            "colorbar": {
             "outlinewidth": 0,
             "ticks": ""
            },
            "colorscale": [
             [
              0,
              "#0d0887"
             ],
             [
              0.1111111111111111,
              "#46039f"
             ],
             [
              0.2222222222222222,
              "#7201a8"
             ],
             [
              0.3333333333333333,
              "#9c179e"
             ],
             [
              0.4444444444444444,
              "#bd3786"
             ],
             [
              0.5555555555555556,
              "#d8576b"
             ],
             [
              0.6666666666666666,
              "#ed7953"
             ],
             [
              0.7777777777777778,
              "#fb9f3a"
             ],
             [
              0.8888888888888888,
              "#fdca26"
             ],
             [
              1,
              "#f0f921"
             ]
            ],
            "type": "surface"
           }
          ],
          "table": [
           {
            "cells": {
             "fill": {
              "color": "#EBF0F8"
             },
             "line": {
              "color": "white"
             }
            },
            "header": {
             "fill": {
              "color": "#C8D4E3"
             },
             "line": {
              "color": "white"
             }
            },
            "type": "table"
           }
          ]
         },
         "layout": {
          "annotationdefaults": {
           "arrowcolor": "#2a3f5f",
           "arrowhead": 0,
           "arrowwidth": 1
          },
          "autotypenumbers": "strict",
          "coloraxis": {
           "colorbar": {
            "outlinewidth": 0,
            "ticks": ""
           }
          },
          "colorscale": {
           "diverging": [
            [
             0,
             "#8e0152"
            ],
            [
             0.1,
             "#c51b7d"
            ],
            [
             0.2,
             "#de77ae"
            ],
            [
             0.3,
             "#f1b6da"
            ],
            [
             0.4,
             "#fde0ef"
            ],
            [
             0.5,
             "#f7f7f7"
            ],
            [
             0.6,
             "#e6f5d0"
            ],
            [
             0.7,
             "#b8e186"
            ],
            [
             0.8,
             "#7fbc41"
            ],
            [
             0.9,
             "#4d9221"
            ],
            [
             1,
             "#276419"
            ]
           ],
           "sequential": [
            [
             0,
             "#0d0887"
            ],
            [
             0.1111111111111111,
             "#46039f"
            ],
            [
             0.2222222222222222,
             "#7201a8"
            ],
            [
             0.3333333333333333,
             "#9c179e"
            ],
            [
             0.4444444444444444,
             "#bd3786"
            ],
            [
             0.5555555555555556,
             "#d8576b"
            ],
            [
             0.6666666666666666,
             "#ed7953"
            ],
            [
             0.7777777777777778,
             "#fb9f3a"
            ],
            [
             0.8888888888888888,
             "#fdca26"
            ],
            [
             1,
             "#f0f921"
            ]
           ],
           "sequentialminus": [
            [
             0,
             "#0d0887"
            ],
            [
             0.1111111111111111,
             "#46039f"
            ],
            [
             0.2222222222222222,
             "#7201a8"
            ],
            [
             0.3333333333333333,
             "#9c179e"
            ],
            [
             0.4444444444444444,
             "#bd3786"
            ],
            [
             0.5555555555555556,
             "#d8576b"
            ],
            [
             0.6666666666666666,
             "#ed7953"
            ],
            [
             0.7777777777777778,
             "#fb9f3a"
            ],
            [
             0.8888888888888888,
             "#fdca26"
            ],
            [
             1,
             "#f0f921"
            ]
           ]
          },
          "colorway": [
           "#636efa",
           "#EF553B",
           "#00cc96",
           "#ab63fa",
           "#FFA15A",
           "#19d3f3",
           "#FF6692",
           "#B6E880",
           "#FF97FF",
           "#FECB52"
          ],
          "font": {
           "color": "#2a3f5f"
          },
          "geo": {
           "bgcolor": "white",
           "lakecolor": "white",
           "landcolor": "#E5ECF6",
           "showlakes": true,
           "showland": true,
           "subunitcolor": "white"
          },
          "hoverlabel": {
           "align": "left"
          },
          "hovermode": "closest",
          "mapbox": {
           "style": "light"
          },
          "paper_bgcolor": "white",
          "plot_bgcolor": "#E5ECF6",
          "polar": {
           "angularaxis": {
            "gridcolor": "white",
            "linecolor": "white",
            "ticks": ""
           },
           "bgcolor": "#E5ECF6",
           "radialaxis": {
            "gridcolor": "white",
            "linecolor": "white",
            "ticks": ""
           }
          },
          "scene": {
           "xaxis": {
            "backgroundcolor": "#E5ECF6",
            "gridcolor": "white",
            "gridwidth": 2,
            "linecolor": "white",
            "showbackground": true,
            "ticks": "",
            "zerolinecolor": "white"
           },
           "yaxis": {
            "backgroundcolor": "#E5ECF6",
            "gridcolor": "white",
            "gridwidth": 2,
            "linecolor": "white",
            "showbackground": true,
            "ticks": "",
            "zerolinecolor": "white"
           },
           "zaxis": {
            "backgroundcolor": "#E5ECF6",
            "gridcolor": "white",
            "gridwidth": 2,
            "linecolor": "white",
            "showbackground": true,
            "ticks": "",
            "zerolinecolor": "white"
           }
          },
          "shapedefaults": {
           "line": {
            "color": "#2a3f5f"
           }
          },
          "ternary": {
           "aaxis": {
            "gridcolor": "white",
            "linecolor": "white",
            "ticks": ""
           },
           "baxis": {
            "gridcolor": "white",
            "linecolor": "white",
            "ticks": ""
           },
           "bgcolor": "#E5ECF6",
           "caxis": {
            "gridcolor": "white",
            "linecolor": "white",
            "ticks": ""
           }
          },
          "title": {
           "x": 0.05
          },
          "xaxis": {
           "automargin": true,
           "gridcolor": "white",
           "linecolor": "white",
           "ticks": "",
           "title": {
            "standoff": 15
           },
           "zerolinecolor": "white",
           "zerolinewidth": 2
          },
          "yaxis": {
           "automargin": true,
           "gridcolor": "white",
           "linecolor": "white",
           "ticks": "",
           "title": {
            "standoff": 15
           },
           "zerolinecolor": "white",
           "zerolinewidth": 2
          }
         }
        },
        "title": {
         "font": {
          "color": "black"
         },
         "text": "Total Number of Rides by Rider Type"
        },
        "xaxis": {
         "anchor": "y",
         "categoryarray": [
          "member",
          "casual"
         ],
         "categoryorder": "array",
         "domain": [
          0,
          1
         ],
         "tickfont": {
          "color": "black"
         },
         "title": {
          "font": {
           "color": "black"
          },
          "text": "Rider Type"
         }
        },
        "yaxis": {
         "anchor": "x",
         "domain": [
          0,
          1
         ],
         "tickfont": {
          "color": "black"
         },
         "title": {
          "font": {
           "color": "black"
          },
          "text": "Count"
         }
        }
       }
      }
     },
     "metadata": {},
     "output_type": "display_data"
    }
   ],
   "source": [
    "import pandas as pd\n",
    "import plotly.express as px\n",
    "\n",
    "# 1) Recreate the counts from scratch (robust to state/order)\n",
    "ride_counts = (\n",
    "    df['member_casual']                       # column exists in your df\n",
    "      .value_counts(dropna=False)             # count all values\n",
    "      .rename_axis('rider_type')              # make the index a column name\n",
    "      .reset_index(name='count')              # -> DataFrame with ['rider_type','count']\n",
    ")\n",
    "\n",
    "# 2) Sanity checks (these prevent the “acting funny” surprises)\n",
    "print(ride_counts.columns.tolist())\n",
    "print(ride_counts.head())\n",
    "\n",
    "assert {'rider_type','count'} <= set(ride_counts.columns), \"Columns not as expected\"\n",
    "assert ride_counts.shape[0] > 0, \"No rows in ride_counts\"\n",
    "\n",
    "# 3) Plot\n",
    "fig4 = px.bar(\n",
    "    ride_counts,\n",
    "    x='rider_type',\n",
    "    y='count',\n",
    "    color='rider_type',\n",
    "    title='Total Number of Rides by Rider Type',\n",
    "    labels={'rider_type': 'Rider Type', 'count': 'Number of Rides'},\n",
    "    color_discrete_map={'member': 'orange', 'casual': 'gold'}  # exact lowercase keys\n",
    ")\n",
    "\n",
    "fig4.update_layout(\n",
    "    showlegend=False,\n",
    "    xaxis=dict(title_font=dict(color='black'), tickfont=dict(color='black')),\n",
    "    yaxis=dict(title='Count', title_font=dict(color='black'), tickfont=dict(color='black')),\n",
    "    title_font=dict(color='black')\n",
    ")\n",
    "fig4.show()\n"
   ]
  },
  {
   "cell_type": "code",
   "execution_count": null,
   "id": "bc455d8e-6aca-458f-b5f0-71d9af7b3170",
   "metadata": {},
   "outputs": [],
   "source": []
  },
  {
   "cell_type": "markdown",
   "id": "a18fe958-40fd-4220-8999-b68624b6579b",
   "metadata": {},
   "source": [
    "### Total Number of Rides by Rider Type\n",
    "\n",
    "This bar chart visualizes the total number of bike rides taken by different rider types — **members** and **casual** riders — using the CitiBike dataset.  \n",
    "\n",
    "**Steps Taken:**\n",
    "1. **Data Preparation:**\n",
    "   - Grouped the dataset by the `member_casual` column to separate rides by rider type.\n",
    "   - Counted the number of rides for each type using `.value_counts()` and reset the index for a clean DataFrame.\n",
    "   - Renamed the columns to `rider_type` and `count` for clarity.\n",
    "\n",
    "2. **Visualization:**\n",
    "   - Created a **bar chart** using Plotly Express (`px.bar`) with:\n",
    "     - **X-axis:** Rider type (`member` vs `casual`)\n",
    "     - **Y-axis:** Total ride count.\n",
    "     - Custom **color mapping**:\n",
    "       - Members: **Orange**\n",
    "       - Casual riders: **Gold**\n",
    "   - Updated the chart layout to:\n",
    "     - Hide the legend (`showlegend=False`) since the color mapping is self-explanatory.\n",
    "     - Apply black font for axis titles and tick labels for better readability.\n",
    "\n",
    "3. **Insights:**\n",
    "   - The chart highlights the disparity in ride counts between the two rider types.\n",
    "   - Typically, **members** have a higher ride count compared to casual riders, suggesting consistent usage patterns from subscribers.\n",
    "\n",
    "This visualization helps identify the distribution of rides across user categories, which is valuable for understanding user engagement and for designing targeted marketing or retention strategies.\n"
   ]
  },
  {
   "cell_type": "code",
   "execution_count": 9,
   "id": "98aa92a8-20a1-473d-879e-bbbb7ba64ad6",
   "metadata": {},
   "outputs": [],
   "source": [
    "df['day_of_week'] = pd.to_datetime(df['started_at']).dt.day_name()\n"
   ]
  },
  {
   "cell_type": "code",
   "execution_count": 10,
   "id": "38e0b3f1-1151-42fb-9820-9a96469ccd13",
   "metadata": {},
   "outputs": [],
   "source": [
    "weekday_counts = df.groupby(['day_of_week', 'member_casual']).size().reset_index(name='ride_count')\n"
   ]
  },
  {
   "cell_type": "code",
   "execution_count": 11,
   "id": "479323eb-f36f-4643-933b-007df366caf3",
   "metadata": {},
   "outputs": [],
   "source": [
    "days_order = ['Monday', 'Tuesday', 'Wednesday', 'Thursday', 'Friday', 'Saturday', 'Sunday']\n",
    "weekday_counts['day_of_week'] = pd.Categorical(weekday_counts['day_of_week'], categories=days_order, ordered=True)\n",
    "weekday_counts = weekday_counts.sort_values('day_of_week')\n"
   ]
  },
  {
   "cell_type": "code",
   "execution_count": 12,
   "id": "c26c08be-1176-4c66-b4d7-7cc5ffbcc180",
   "metadata": {},
   "outputs": [
    {
     "data": {
      "application/vnd.plotly.v1+json": {
       "config": {
        "plotlyServerURL": "https://plot.ly"
       },
       "data": [
        {
         "alignmentgroup": "True",
         "hovertemplate": "Rider Type=casual<br>Day of the Week=%{x}<br>Number of Rides=%{y}<extra></extra>",
         "legendgroup": "casual",
         "marker": {
          "color": "gold",
          "pattern": {
           "shape": ""
          }
         },
         "name": "casual",
         "offsetgroup": "casual",
         "orientation": "v",
         "showlegend": true,
         "textposition": "auto",
         "type": "bar",
         "x": [
          "Monday",
          "Tuesday",
          "Wednesday",
          "Thursday",
          "Friday",
          "Saturday",
          "Sunday"
         ],
         "xaxis": "x",
         "y": {
          "bdata": "6gD2ABkBMAEVAa8BfAE=",
          "dtype": "i2"
         },
         "yaxis": "y"
        },
        {
         "alignmentgroup": "True",
         "hovertemplate": "Rider Type=member<br>Day of the Week=%{x}<br>Number of Rides=%{y}<extra></extra>",
         "legendgroup": "member",
         "marker": {
          "color": "orange",
          "pattern": {
           "shape": ""
          }
         },
         "name": "member",
         "offsetgroup": "member",
         "orientation": "v",
         "showlegend": true,
         "textposition": "auto",
         "type": "bar",
         "x": [
          "Monday",
          "Tuesday",
          "Wednesday",
          "Thursday",
          "Friday",
          "Saturday",
          "Sunday"
         ],
         "xaxis": "x",
         "y": {
          "bdata": "IQTiBAwF5QR2BM0DcAM=",
          "dtype": "i2"
         },
         "yaxis": "y"
        }
       ],
       "layout": {
        "barmode": "group",
        "legend": {
         "font": {
          "color": "black"
         },
         "title": {
          "font": {
           "color": "black"
          },
          "text": "Rider Type"
         },
         "tracegroupgap": 0
        },
        "plot_bgcolor": "white",
        "template": {
         "data": {
          "bar": [
           {
            "error_x": {
             "color": "#2a3f5f"
            },
            "error_y": {
             "color": "#2a3f5f"
            },
            "marker": {
             "line": {
              "color": "#E5ECF6",
              "width": 0.5
             },
             "pattern": {
              "fillmode": "overlay",
              "size": 10,
              "solidity": 0.2
             }
            },
            "type": "bar"
           }
          ],
          "barpolar": [
           {
            "marker": {
             "line": {
              "color": "#E5ECF6",
              "width": 0.5
             },
             "pattern": {
              "fillmode": "overlay",
              "size": 10,
              "solidity": 0.2
             }
            },
            "type": "barpolar"
           }
          ],
          "carpet": [
           {
            "aaxis": {
             "endlinecolor": "#2a3f5f",
             "gridcolor": "white",
             "linecolor": "white",
             "minorgridcolor": "white",
             "startlinecolor": "#2a3f5f"
            },
            "baxis": {
             "endlinecolor": "#2a3f5f",
             "gridcolor": "white",
             "linecolor": "white",
             "minorgridcolor": "white",
             "startlinecolor": "#2a3f5f"
            },
            "type": "carpet"
           }
          ],
          "choropleth": [
           {
            "colorbar": {
             "outlinewidth": 0,
             "ticks": ""
            },
            "type": "choropleth"
           }
          ],
          "contour": [
           {
            "colorbar": {
             "outlinewidth": 0,
             "ticks": ""
            },
            "colorscale": [
             [
              0,
              "#0d0887"
             ],
             [
              0.1111111111111111,
              "#46039f"
             ],
             [
              0.2222222222222222,
              "#7201a8"
             ],
             [
              0.3333333333333333,
              "#9c179e"
             ],
             [
              0.4444444444444444,
              "#bd3786"
             ],
             [
              0.5555555555555556,
              "#d8576b"
             ],
             [
              0.6666666666666666,
              "#ed7953"
             ],
             [
              0.7777777777777778,
              "#fb9f3a"
             ],
             [
              0.8888888888888888,
              "#fdca26"
             ],
             [
              1,
              "#f0f921"
             ]
            ],
            "type": "contour"
           }
          ],
          "contourcarpet": [
           {
            "colorbar": {
             "outlinewidth": 0,
             "ticks": ""
            },
            "type": "contourcarpet"
           }
          ],
          "heatmap": [
           {
            "colorbar": {
             "outlinewidth": 0,
             "ticks": ""
            },
            "colorscale": [
             [
              0,
              "#0d0887"
             ],
             [
              0.1111111111111111,
              "#46039f"
             ],
             [
              0.2222222222222222,
              "#7201a8"
             ],
             [
              0.3333333333333333,
              "#9c179e"
             ],
             [
              0.4444444444444444,
              "#bd3786"
             ],
             [
              0.5555555555555556,
              "#d8576b"
             ],
             [
              0.6666666666666666,
              "#ed7953"
             ],
             [
              0.7777777777777778,
              "#fb9f3a"
             ],
             [
              0.8888888888888888,
              "#fdca26"
             ],
             [
              1,
              "#f0f921"
             ]
            ],
            "type": "heatmap"
           }
          ],
          "histogram": [
           {
            "marker": {
             "pattern": {
              "fillmode": "overlay",
              "size": 10,
              "solidity": 0.2
             }
            },
            "type": "histogram"
           }
          ],
          "histogram2d": [
           {
            "colorbar": {
             "outlinewidth": 0,
             "ticks": ""
            },
            "colorscale": [
             [
              0,
              "#0d0887"
             ],
             [
              0.1111111111111111,
              "#46039f"
             ],
             [
              0.2222222222222222,
              "#7201a8"
             ],
             [
              0.3333333333333333,
              "#9c179e"
             ],
             [
              0.4444444444444444,
              "#bd3786"
             ],
             [
              0.5555555555555556,
              "#d8576b"
             ],
             [
              0.6666666666666666,
              "#ed7953"
             ],
             [
              0.7777777777777778,
              "#fb9f3a"
             ],
             [
              0.8888888888888888,
              "#fdca26"
             ],
             [
              1,
              "#f0f921"
             ]
            ],
            "type": "histogram2d"
           }
          ],
          "histogram2dcontour": [
           {
            "colorbar": {
             "outlinewidth": 0,
             "ticks": ""
            },
            "colorscale": [
             [
              0,
              "#0d0887"
             ],
             [
              0.1111111111111111,
              "#46039f"
             ],
             [
              0.2222222222222222,
              "#7201a8"
             ],
             [
              0.3333333333333333,
              "#9c179e"
             ],
             [
              0.4444444444444444,
              "#bd3786"
             ],
             [
              0.5555555555555556,
              "#d8576b"
             ],
             [
              0.6666666666666666,
              "#ed7953"
             ],
             [
              0.7777777777777778,
              "#fb9f3a"
             ],
             [
              0.8888888888888888,
              "#fdca26"
             ],
             [
              1,
              "#f0f921"
             ]
            ],
            "type": "histogram2dcontour"
           }
          ],
          "mesh3d": [
           {
            "colorbar": {
             "outlinewidth": 0,
             "ticks": ""
            },
            "type": "mesh3d"
           }
          ],
          "parcoords": [
           {
            "line": {
             "colorbar": {
              "outlinewidth": 0,
              "ticks": ""
             }
            },
            "type": "parcoords"
           }
          ],
          "pie": [
           {
            "automargin": true,
            "type": "pie"
           }
          ],
          "scatter": [
           {
            "fillpattern": {
             "fillmode": "overlay",
             "size": 10,
             "solidity": 0.2
            },
            "type": "scatter"
           }
          ],
          "scatter3d": [
           {
            "line": {
             "colorbar": {
              "outlinewidth": 0,
              "ticks": ""
             }
            },
            "marker": {
             "colorbar": {
              "outlinewidth": 0,
              "ticks": ""
             }
            },
            "type": "scatter3d"
           }
          ],
          "scattercarpet": [
           {
            "marker": {
             "colorbar": {
              "outlinewidth": 0,
              "ticks": ""
             }
            },
            "type": "scattercarpet"
           }
          ],
          "scattergeo": [
           {
            "marker": {
             "colorbar": {
              "outlinewidth": 0,
              "ticks": ""
             }
            },
            "type": "scattergeo"
           }
          ],
          "scattergl": [
           {
            "marker": {
             "colorbar": {
              "outlinewidth": 0,
              "ticks": ""
             }
            },
            "type": "scattergl"
           }
          ],
          "scattermap": [
           {
            "marker": {
             "colorbar": {
              "outlinewidth": 0,
              "ticks": ""
             }
            },
            "type": "scattermap"
           }
          ],
          "scattermapbox": [
           {
            "marker": {
             "colorbar": {
              "outlinewidth": 0,
              "ticks": ""
             }
            },
            "type": "scattermapbox"
           }
          ],
          "scatterpolar": [
           {
            "marker": {
             "colorbar": {
              "outlinewidth": 0,
              "ticks": ""
             }
            },
            "type": "scatterpolar"
           }
          ],
          "scatterpolargl": [
           {
            "marker": {
             "colorbar": {
              "outlinewidth": 0,
              "ticks": ""
             }
            },
            "type": "scatterpolargl"
           }
          ],
          "scatterternary": [
           {
            "marker": {
             "colorbar": {
              "outlinewidth": 0,
              "ticks": ""
             }
            },
            "type": "scatterternary"
           }
          ],
          "surface": [
           {
            "colorbar": {
             "outlinewidth": 0,
             "ticks": ""
            },
            "colorscale": [
             [
              0,
              "#0d0887"
             ],
             [
              0.1111111111111111,
              "#46039f"
             ],
             [
              0.2222222222222222,
              "#7201a8"
             ],
             [
              0.3333333333333333,
              "#9c179e"
             ],
             [
              0.4444444444444444,
              "#bd3786"
             ],
             [
              0.5555555555555556,
              "#d8576b"
             ],
             [
              0.6666666666666666,
              "#ed7953"
             ],
             [
              0.7777777777777778,
              "#fb9f3a"
             ],
             [
              0.8888888888888888,
              "#fdca26"
             ],
             [
              1,
              "#f0f921"
             ]
            ],
            "type": "surface"
           }
          ],
          "table": [
           {
            "cells": {
             "fill": {
              "color": "#EBF0F8"
             },
             "line": {
              "color": "white"
             }
            },
            "header": {
             "fill": {
              "color": "#C8D4E3"
             },
             "line": {
              "color": "white"
             }
            },
            "type": "table"
           }
          ]
         },
         "layout": {
          "annotationdefaults": {
           "arrowcolor": "#2a3f5f",
           "arrowhead": 0,
           "arrowwidth": 1
          },
          "autotypenumbers": "strict",
          "coloraxis": {
           "colorbar": {
            "outlinewidth": 0,
            "ticks": ""
           }
          },
          "colorscale": {
           "diverging": [
            [
             0,
             "#8e0152"
            ],
            [
             0.1,
             "#c51b7d"
            ],
            [
             0.2,
             "#de77ae"
            ],
            [
             0.3,
             "#f1b6da"
            ],
            [
             0.4,
             "#fde0ef"
            ],
            [
             0.5,
             "#f7f7f7"
            ],
            [
             0.6,
             "#e6f5d0"
            ],
            [
             0.7,
             "#b8e186"
            ],
            [
             0.8,
             "#7fbc41"
            ],
            [
             0.9,
             "#4d9221"
            ],
            [
             1,
             "#276419"
            ]
           ],
           "sequential": [
            [
             0,
             "#0d0887"
            ],
            [
             0.1111111111111111,
             "#46039f"
            ],
            [
             0.2222222222222222,
             "#7201a8"
            ],
            [
             0.3333333333333333,
             "#9c179e"
            ],
            [
             0.4444444444444444,
             "#bd3786"
            ],
            [
             0.5555555555555556,
             "#d8576b"
            ],
            [
             0.6666666666666666,
             "#ed7953"
            ],
            [
             0.7777777777777778,
             "#fb9f3a"
            ],
            [
             0.8888888888888888,
             "#fdca26"
            ],
            [
             1,
             "#f0f921"
            ]
           ],
           "sequentialminus": [
            [
             0,
             "#0d0887"
            ],
            [
             0.1111111111111111,
             "#46039f"
            ],
            [
             0.2222222222222222,
             "#7201a8"
            ],
            [
             0.3333333333333333,
             "#9c179e"
            ],
            [
             0.4444444444444444,
             "#bd3786"
            ],
            [
             0.5555555555555556,
             "#d8576b"
            ],
            [
             0.6666666666666666,
             "#ed7953"
            ],
            [
             0.7777777777777778,
             "#fb9f3a"
            ],
            [
             0.8888888888888888,
             "#fdca26"
            ],
            [
             1,
             "#f0f921"
            ]
           ]
          },
          "colorway": [
           "#636efa",
           "#EF553B",
           "#00cc96",
           "#ab63fa",
           "#FFA15A",
           "#19d3f3",
           "#FF6692",
           "#B6E880",
           "#FF97FF",
           "#FECB52"
          ],
          "font": {
           "color": "#2a3f5f"
          },
          "geo": {
           "bgcolor": "white",
           "lakecolor": "white",
           "landcolor": "#E5ECF6",
           "showlakes": true,
           "showland": true,
           "subunitcolor": "white"
          },
          "hoverlabel": {
           "align": "left"
          },
          "hovermode": "closest",
          "mapbox": {
           "style": "light"
          },
          "paper_bgcolor": "white",
          "plot_bgcolor": "#E5ECF6",
          "polar": {
           "angularaxis": {
            "gridcolor": "white",
            "linecolor": "white",
            "ticks": ""
           },
           "bgcolor": "#E5ECF6",
           "radialaxis": {
            "gridcolor": "white",
            "linecolor": "white",
            "ticks": ""
           }
          },
          "scene": {
           "xaxis": {
            "backgroundcolor": "#E5ECF6",
            "gridcolor": "white",
            "gridwidth": 2,
            "linecolor": "white",
            "showbackground": true,
            "ticks": "",
            "zerolinecolor": "white"
           },
           "yaxis": {
            "backgroundcolor": "#E5ECF6",
            "gridcolor": "white",
            "gridwidth": 2,
            "linecolor": "white",
            "showbackground": true,
            "ticks": "",
            "zerolinecolor": "white"
           },
           "zaxis": {
            "backgroundcolor": "#E5ECF6",
            "gridcolor": "white",
            "gridwidth": 2,
            "linecolor": "white",
            "showbackground": true,
            "ticks": "",
            "zerolinecolor": "white"
           }
          },
          "shapedefaults": {
           "line": {
            "color": "#2a3f5f"
           }
          },
          "ternary": {
           "aaxis": {
            "gridcolor": "white",
            "linecolor": "white",
            "ticks": ""
           },
           "baxis": {
            "gridcolor": "white",
            "linecolor": "white",
            "ticks": ""
           },
           "bgcolor": "#E5ECF6",
           "caxis": {
            "gridcolor": "white",
            "linecolor": "white",
            "ticks": ""
           }
          },
          "title": {
           "x": 0.05
          },
          "xaxis": {
           "automargin": true,
           "gridcolor": "white",
           "linecolor": "white",
           "ticks": "",
           "title": {
            "standoff": 15
           },
           "zerolinecolor": "white",
           "zerolinewidth": 2
          },
          "yaxis": {
           "automargin": true,
           "gridcolor": "white",
           "linecolor": "white",
           "ticks": "",
           "title": {
            "standoff": 15
           },
           "zerolinecolor": "white",
           "zerolinewidth": 2
          }
         }
        },
        "title": {
         "font": {
          "color": "black"
         },
         "text": "Ride Counts by Day of Week and Rider Type"
        },
        "xaxis": {
         "anchor": "y",
         "domain": [
          0,
          1
         ],
         "tickfont": {
          "color": "black"
         },
         "title": {
          "font": {
           "color": "black"
          },
          "text": "Day of the Week"
         }
        },
        "yaxis": {
         "anchor": "x",
         "domain": [
          0,
          1
         ],
         "tickfont": {
          "color": "black"
         },
         "title": {
          "font": {
           "color": "black"
          },
          "text": "Number of Rides"
         }
        }
       }
      }
     },
     "metadata": {},
     "output_type": "display_data"
    }
   ],
   "source": [
    "fig5 = px.bar(\n",
    "    weekday_counts,\n",
    "    x='day_of_week',\n",
    "    y='ride_count',\n",
    "    color='member_casual',  # Column name\n",
    "    barmode='group',\n",
    "    title='Ride Counts by Day of Week and Rider Type',\n",
    "    labels={\n",
    "        'member_casual': 'Rider Type',\n",
    "        'ride_count': 'Number of Rides',\n",
    "        'day_of_week': 'Day of the Week'\n",
    "    },\n",
    "    color_discrete_map={\n",
    "        'member': 'orange',\n",
    "        'casual': 'gold'\n",
    "    }\n",
    ")\n",
    "\n",
    "fig5.update_layout(\n",
    "    xaxis=dict(\n",
    "        title='Day of the Week',\n",
    "        title_font=dict(color='black'),\n",
    "        tickfont=dict(color='black')\n",
    "    ),\n",
    "    yaxis=dict(\n",
    "        title='Number of Rides',\n",
    "        title_font=dict(color='black'),\n",
    "        tickfont=dict(color='black')\n",
    "    ),\n",
    "    title_font=dict(color='black'),\n",
    "    legend_title_font=dict(color='black'),\n",
    "    legend_font=dict(color='black'),\n",
    "    plot_bgcolor='white'\n",
    ")\n",
    "\n",
    "fig5.show()\n"
   ]
  },
  {
   "cell_type": "code",
   "execution_count": null,
   "id": "43b3e48d-874a-4671-bf58-bd2219d98b6f",
   "metadata": {},
   "outputs": [],
   "source": []
  },
  {
   "cell_type": "markdown",
   "id": "1261b525-73fd-498b-8770-3cb49d9f086e",
   "metadata": {},
   "source": [
    "### Ride Counts by Day of Week and Rider Type\n",
    "\n",
    "This grouped bar chart shows the **number of rides** taken by casual riders and members for each day of the week.\n",
    "\n",
    "**Key Observations:**\n",
    "- **Members consistently account for the majority of rides** throughout the week.\n",
    "- Weekdays (Tuesday to Thursday) show relatively stable ride counts for members, suggesting regular commuting patterns.\n",
    "- Casual rider activity increases slightly on **weekends**, indicating more leisure or recreational trips.\n",
    "- Saturday and Sunday have lower total ride counts compared to midweek, but casual riders make up a larger share during these days.\n",
    "\n",
    "**Insights:**\n",
    "- Membership retention campaigns may focus on weekday commuting benefits.\n",
    "- Weekend promotions or events could attract more casual riders and potentially convert them into members.\n"
   ]
  },
  {
   "cell_type": "code",
   "execution_count": 13,
   "id": "6c3e2383-43ee-4ce2-8661-75443c1158c9",
   "metadata": {},
   "outputs": [],
   "source": [
    "# Convert to datetime\n",
    "df['date'] = pd.to_datetime(df['date'])\n",
    "\n",
    "# Create a new 'month' column\n",
    "df['month'] = df['date'].dt.to_period('M').astype(str)\n"
   ]
  },
  {
   "cell_type": "code",
   "execution_count": 14,
   "id": "d546577f-d97d-4d45-8ae6-eb0b7063e5a7",
   "metadata": {},
   "outputs": [],
   "source": [
    "monthly_trips = df.groupby(['month', 'member_casual']).size().reset_index(name='ride_count')\n"
   ]
  },
  {
   "cell_type": "code",
   "execution_count": 15,
   "id": "e8179051-7b49-4817-8e6b-2be05d37f201",
   "metadata": {},
   "outputs": [
    {
     "data": {
      "application/vnd.plotly.v1+json": {
       "config": {
        "plotlyServerURL": "https://plot.ly"
       },
       "data": [
        {
         "hovertemplate": "Rider Type=casual<br>Month=%{x}<br>Number of Rides=%{y}<extra></extra>",
         "legendgroup": "casual",
         "line": {
          "color": "gold",
          "dash": "solid"
         },
         "marker": {
          "symbol": "circle"
         },
         "mode": "lines",
         "name": "casual",
         "orientation": "v",
         "showlegend": true,
         "type": "scatter",
         "x": [
          "2022-01",
          "2022-02",
          "2022-03",
          "2022-04",
          "2022-05",
          "2022-06",
          "2022-07",
          "2022-08",
          "2022-09",
          "2022-10",
          "2022-11",
          "2022-12"
         ],
         "xaxis": "x",
         "y": {
          "bdata": "JABIAHMAtQDnAPwABgE0AQQB2QCWAEUA",
          "dtype": "i2"
         },
         "yaxis": "y"
        },
        {
         "hovertemplate": "Rider Type=member<br>Month=%{x}<br>Number of Rides=%{y}<extra></extra>",
         "legendgroup": "member",
         "line": {
          "color": "orange",
          "dash": "solid"
         },
         "marker": {
          "symbol": "circle"
         },
         "mode": "lines",
         "name": "member",
         "orientation": "v",
         "showlegend": true,
         "type": "scatter",
         "x": [
          "2022-01",
          "2022-02",
          "2022-03",
          "2022-04",
          "2022-05",
          "2022-06",
          "2022-07",
          "2022-08",
          "2022-09",
          "2022-10",
          "2022-11",
          "2022-12"
         ],
         "xaxis": "x",
         "y": {
          "bdata": "KQFWAfYBPwIBA1gDZANsA44D+QJ+AsUB",
          "dtype": "i2"
         },
         "yaxis": "y"
        }
       ],
       "layout": {
        "legend": {
         "font": {
          "color": "black"
         },
         "title": {
          "text": "Rider Type"
         },
         "tracegroupgap": 0
        },
        "plot_bgcolor": "white",
        "template": {
         "data": {
          "bar": [
           {
            "error_x": {
             "color": "#2a3f5f"
            },
            "error_y": {
             "color": "#2a3f5f"
            },
            "marker": {
             "line": {
              "color": "#E5ECF6",
              "width": 0.5
             },
             "pattern": {
              "fillmode": "overlay",
              "size": 10,
              "solidity": 0.2
             }
            },
            "type": "bar"
           }
          ],
          "barpolar": [
           {
            "marker": {
             "line": {
              "color": "#E5ECF6",
              "width": 0.5
             },
             "pattern": {
              "fillmode": "overlay",
              "size": 10,
              "solidity": 0.2
             }
            },
            "type": "barpolar"
           }
          ],
          "carpet": [
           {
            "aaxis": {
             "endlinecolor": "#2a3f5f",
             "gridcolor": "white",
             "linecolor": "white",
             "minorgridcolor": "white",
             "startlinecolor": "#2a3f5f"
            },
            "baxis": {
             "endlinecolor": "#2a3f5f",
             "gridcolor": "white",
             "linecolor": "white",
             "minorgridcolor": "white",
             "startlinecolor": "#2a3f5f"
            },
            "type": "carpet"
           }
          ],
          "choropleth": [
           {
            "colorbar": {
             "outlinewidth": 0,
             "ticks": ""
            },
            "type": "choropleth"
           }
          ],
          "contour": [
           {
            "colorbar": {
             "outlinewidth": 0,
             "ticks": ""
            },
            "colorscale": [
             [
              0,
              "#0d0887"
             ],
             [
              0.1111111111111111,
              "#46039f"
             ],
             [
              0.2222222222222222,
              "#7201a8"
             ],
             [
              0.3333333333333333,
              "#9c179e"
             ],
             [
              0.4444444444444444,
              "#bd3786"
             ],
             [
              0.5555555555555556,
              "#d8576b"
             ],
             [
              0.6666666666666666,
              "#ed7953"
             ],
             [
              0.7777777777777778,
              "#fb9f3a"
             ],
             [
              0.8888888888888888,
              "#fdca26"
             ],
             [
              1,
              "#f0f921"
             ]
            ],
            "type": "contour"
           }
          ],
          "contourcarpet": [
           {
            "colorbar": {
             "outlinewidth": 0,
             "ticks": ""
            },
            "type": "contourcarpet"
           }
          ],
          "heatmap": [
           {
            "colorbar": {
             "outlinewidth": 0,
             "ticks": ""
            },
            "colorscale": [
             [
              0,
              "#0d0887"
             ],
             [
              0.1111111111111111,
              "#46039f"
             ],
             [
              0.2222222222222222,
              "#7201a8"
             ],
             [
              0.3333333333333333,
              "#9c179e"
             ],
             [
              0.4444444444444444,
              "#bd3786"
             ],
             [
              0.5555555555555556,
              "#d8576b"
             ],
             [
              0.6666666666666666,
              "#ed7953"
             ],
             [
              0.7777777777777778,
              "#fb9f3a"
             ],
             [
              0.8888888888888888,
              "#fdca26"
             ],
             [
              1,
              "#f0f921"
             ]
            ],
            "type": "heatmap"
           }
          ],
          "histogram": [
           {
            "marker": {
             "pattern": {
              "fillmode": "overlay",
              "size": 10,
              "solidity": 0.2
             }
            },
            "type": "histogram"
           }
          ],
          "histogram2d": [
           {
            "colorbar": {
             "outlinewidth": 0,
             "ticks": ""
            },
            "colorscale": [
             [
              0,
              "#0d0887"
             ],
             [
              0.1111111111111111,
              "#46039f"
             ],
             [
              0.2222222222222222,
              "#7201a8"
             ],
             [
              0.3333333333333333,
              "#9c179e"
             ],
             [
              0.4444444444444444,
              "#bd3786"
             ],
             [
              0.5555555555555556,
              "#d8576b"
             ],
             [
              0.6666666666666666,
              "#ed7953"
             ],
             [
              0.7777777777777778,
              "#fb9f3a"
             ],
             [
              0.8888888888888888,
              "#fdca26"
             ],
             [
              1,
              "#f0f921"
             ]
            ],
            "type": "histogram2d"
           }
          ],
          "histogram2dcontour": [
           {
            "colorbar": {
             "outlinewidth": 0,
             "ticks": ""
            },
            "colorscale": [
             [
              0,
              "#0d0887"
             ],
             [
              0.1111111111111111,
              "#46039f"
             ],
             [
              0.2222222222222222,
              "#7201a8"
             ],
             [
              0.3333333333333333,
              "#9c179e"
             ],
             [
              0.4444444444444444,
              "#bd3786"
             ],
             [
              0.5555555555555556,
              "#d8576b"
             ],
             [
              0.6666666666666666,
              "#ed7953"
             ],
             [
              0.7777777777777778,
              "#fb9f3a"
             ],
             [
              0.8888888888888888,
              "#fdca26"
             ],
             [
              1,
              "#f0f921"
             ]
            ],
            "type": "histogram2dcontour"
           }
          ],
          "mesh3d": [
           {
            "colorbar": {
             "outlinewidth": 0,
             "ticks": ""
            },
            "type": "mesh3d"
           }
          ],
          "parcoords": [
           {
            "line": {
             "colorbar": {
              "outlinewidth": 0,
              "ticks": ""
             }
            },
            "type": "parcoords"
           }
          ],
          "pie": [
           {
            "automargin": true,
            "type": "pie"
           }
          ],
          "scatter": [
           {
            "fillpattern": {
             "fillmode": "overlay",
             "size": 10,
             "solidity": 0.2
            },
            "type": "scatter"
           }
          ],
          "scatter3d": [
           {
            "line": {
             "colorbar": {
              "outlinewidth": 0,
              "ticks": ""
             }
            },
            "marker": {
             "colorbar": {
              "outlinewidth": 0,
              "ticks": ""
             }
            },
            "type": "scatter3d"
           }
          ],
          "scattercarpet": [
           {
            "marker": {
             "colorbar": {
              "outlinewidth": 0,
              "ticks": ""
             }
            },
            "type": "scattercarpet"
           }
          ],
          "scattergeo": [
           {
            "marker": {
             "colorbar": {
              "outlinewidth": 0,
              "ticks": ""
             }
            },
            "type": "scattergeo"
           }
          ],
          "scattergl": [
           {
            "marker": {
             "colorbar": {
              "outlinewidth": 0,
              "ticks": ""
             }
            },
            "type": "scattergl"
           }
          ],
          "scattermap": [
           {
            "marker": {
             "colorbar": {
              "outlinewidth": 0,
              "ticks": ""
             }
            },
            "type": "scattermap"
           }
          ],
          "scattermapbox": [
           {
            "marker": {
             "colorbar": {
              "outlinewidth": 0,
              "ticks": ""
             }
            },
            "type": "scattermapbox"
           }
          ],
          "scatterpolar": [
           {
            "marker": {
             "colorbar": {
              "outlinewidth": 0,
              "ticks": ""
             }
            },
            "type": "scatterpolar"
           }
          ],
          "scatterpolargl": [
           {
            "marker": {
             "colorbar": {
              "outlinewidth": 0,
              "ticks": ""
             }
            },
            "type": "scatterpolargl"
           }
          ],
          "scatterternary": [
           {
            "marker": {
             "colorbar": {
              "outlinewidth": 0,
              "ticks": ""
             }
            },
            "type": "scatterternary"
           }
          ],
          "surface": [
           {
            "colorbar": {
             "outlinewidth": 0,
             "ticks": ""
            },
            "colorscale": [
             [
              0,
              "#0d0887"
             ],
             [
              0.1111111111111111,
              "#46039f"
             ],
             [
              0.2222222222222222,
              "#7201a8"
             ],
             [
              0.3333333333333333,
              "#9c179e"
             ],
             [
              0.4444444444444444,
              "#bd3786"
             ],
             [
              0.5555555555555556,
              "#d8576b"
             ],
             [
              0.6666666666666666,
              "#ed7953"
             ],
             [
              0.7777777777777778,
              "#fb9f3a"
             ],
             [
              0.8888888888888888,
              "#fdca26"
             ],
             [
              1,
              "#f0f921"
             ]
            ],
            "type": "surface"
           }
          ],
          "table": [
           {
            "cells": {
             "fill": {
              "color": "#EBF0F8"
             },
             "line": {
              "color": "white"
             }
            },
            "header": {
             "fill": {
              "color": "#C8D4E3"
             },
             "line": {
              "color": "white"
             }
            },
            "type": "table"
           }
          ]
         },
         "layout": {
          "annotationdefaults": {
           "arrowcolor": "#2a3f5f",
           "arrowhead": 0,
           "arrowwidth": 1
          },
          "autotypenumbers": "strict",
          "coloraxis": {
           "colorbar": {
            "outlinewidth": 0,
            "ticks": ""
           }
          },
          "colorscale": {
           "diverging": [
            [
             0,
             "#8e0152"
            ],
            [
             0.1,
             "#c51b7d"
            ],
            [
             0.2,
             "#de77ae"
            ],
            [
             0.3,
             "#f1b6da"
            ],
            [
             0.4,
             "#fde0ef"
            ],
            [
             0.5,
             "#f7f7f7"
            ],
            [
             0.6,
             "#e6f5d0"
            ],
            [
             0.7,
             "#b8e186"
            ],
            [
             0.8,
             "#7fbc41"
            ],
            [
             0.9,
             "#4d9221"
            ],
            [
             1,
             "#276419"
            ]
           ],
           "sequential": [
            [
             0,
             "#0d0887"
            ],
            [
             0.1111111111111111,
             "#46039f"
            ],
            [
             0.2222222222222222,
             "#7201a8"
            ],
            [
             0.3333333333333333,
             "#9c179e"
            ],
            [
             0.4444444444444444,
             "#bd3786"
            ],
            [
             0.5555555555555556,
             "#d8576b"
            ],
            [
             0.6666666666666666,
             "#ed7953"
            ],
            [
             0.7777777777777778,
             "#fb9f3a"
            ],
            [
             0.8888888888888888,
             "#fdca26"
            ],
            [
             1,
             "#f0f921"
            ]
           ],
           "sequentialminus": [
            [
             0,
             "#0d0887"
            ],
            [
             0.1111111111111111,
             "#46039f"
            ],
            [
             0.2222222222222222,
             "#7201a8"
            ],
            [
             0.3333333333333333,
             "#9c179e"
            ],
            [
             0.4444444444444444,
             "#bd3786"
            ],
            [
             0.5555555555555556,
             "#d8576b"
            ],
            [
             0.6666666666666666,
             "#ed7953"
            ],
            [
             0.7777777777777778,
             "#fb9f3a"
            ],
            [
             0.8888888888888888,
             "#fdca26"
            ],
            [
             1,
             "#f0f921"
            ]
           ]
          },
          "colorway": [
           "#636efa",
           "#EF553B",
           "#00cc96",
           "#ab63fa",
           "#FFA15A",
           "#19d3f3",
           "#FF6692",
           "#B6E880",
           "#FF97FF",
           "#FECB52"
          ],
          "font": {
           "color": "#2a3f5f"
          },
          "geo": {
           "bgcolor": "white",
           "lakecolor": "white",
           "landcolor": "#E5ECF6",
           "showlakes": true,
           "showland": true,
           "subunitcolor": "white"
          },
          "hoverlabel": {
           "align": "left"
          },
          "hovermode": "closest",
          "mapbox": {
           "style": "light"
          },
          "paper_bgcolor": "white",
          "plot_bgcolor": "#E5ECF6",
          "polar": {
           "angularaxis": {
            "gridcolor": "white",
            "linecolor": "white",
            "ticks": ""
           },
           "bgcolor": "#E5ECF6",
           "radialaxis": {
            "gridcolor": "white",
            "linecolor": "white",
            "ticks": ""
           }
          },
          "scene": {
           "xaxis": {
            "backgroundcolor": "#E5ECF6",
            "gridcolor": "white",
            "gridwidth": 2,
            "linecolor": "white",
            "showbackground": true,
            "ticks": "",
            "zerolinecolor": "white"
           },
           "yaxis": {
            "backgroundcolor": "#E5ECF6",
            "gridcolor": "white",
            "gridwidth": 2,
            "linecolor": "white",
            "showbackground": true,
            "ticks": "",
            "zerolinecolor": "white"
           },
           "zaxis": {
            "backgroundcolor": "#E5ECF6",
            "gridcolor": "white",
            "gridwidth": 2,
            "linecolor": "white",
            "showbackground": true,
            "ticks": "",
            "zerolinecolor": "white"
           }
          },
          "shapedefaults": {
           "line": {
            "color": "#2a3f5f"
           }
          },
          "ternary": {
           "aaxis": {
            "gridcolor": "white",
            "linecolor": "white",
            "ticks": ""
           },
           "baxis": {
            "gridcolor": "white",
            "linecolor": "white",
            "ticks": ""
           },
           "bgcolor": "#E5ECF6",
           "caxis": {
            "gridcolor": "white",
            "linecolor": "white",
            "ticks": ""
           }
          },
          "title": {
           "x": 0.05
          },
          "xaxis": {
           "automargin": true,
           "gridcolor": "white",
           "linecolor": "white",
           "ticks": "",
           "title": {
            "standoff": 15
           },
           "zerolinecolor": "white",
           "zerolinewidth": 2
          },
          "yaxis": {
           "automargin": true,
           "gridcolor": "white",
           "linecolor": "white",
           "ticks": "",
           "title": {
            "standoff": 15
           },
           "zerolinecolor": "white",
           "zerolinewidth": 2
          }
         }
        },
        "title": {
         "font": {
          "color": "black"
         },
         "text": "Monthly Ride Trends by Rider Type"
        },
        "xaxis": {
         "anchor": "y",
         "domain": [
          0,
          1
         ],
         "tickfont": {
          "color": "black"
         },
         "title": {
          "font": {
           "color": "black"
          },
          "text": "Month"
         }
        },
        "yaxis": {
         "anchor": "x",
         "domain": [
          0,
          1
         ],
         "tickfont": {
          "color": "black"
         },
         "title": {
          "font": {
           "color": "black"
          },
          "text": "Number of Rides"
         }
        }
       }
      }
     },
     "metadata": {},
     "output_type": "display_data"
    }
   ],
   "source": [
    "fig6 = px.line(\n",
    "    monthly_trips,\n",
    "    x='month',\n",
    "    y='ride_count',\n",
    "    color='member_casual',\n",
    "    title='Monthly Ride Trends by Rider Type',\n",
    "    labels={'month': 'Month', 'ride_count': 'Number of Rides', 'member_casual': 'Rider Type'},\n",
    "    color_discrete_map={'member': 'orange', 'casual': 'gold'}\n",
    ")\n",
    "\n",
    "fig6.update_layout(\n",
    "    xaxis=dict(title_font=dict(color='black'), tickfont=dict(color='black')),\n",
    "    yaxis=dict(title_font=dict(color='black'), tickfont=dict(color='black')),\n",
    "    title_font=dict(color='black'),\n",
    "    legend_font=dict(color='black'),\n",
    "    plot_bgcolor='white'\n",
    ")\n",
    "\n",
    "fig6.show()\n"
   ]
  },
  {
   "cell_type": "code",
   "execution_count": null,
   "id": "9173091f-83d2-47df-b4b2-d1a1d6812586",
   "metadata": {},
   "outputs": [],
   "source": []
  },
  {
   "cell_type": "code",
   "execution_count": null,
   "id": "05435ee6-0a04-45cf-ba3a-680b0e4f09c9",
   "metadata": {},
   "outputs": [],
   "source": []
  },
  {
   "cell_type": "markdown",
   "id": "4f8f5583-b72e-4d0b-a9b9-65386a599b28",
   "metadata": {},
   "source": [
    "### Monthly Ride Trends by Rider Type\n",
    "\n",
    "This line chart illustrates the monthly ride counts for both casual riders and members throughout 2022.\n",
    "\n",
    "**Key Observations:**\n",
    "- **Members consistently record more rides than casual riders** in every month of the year.\n",
    "- Both groups show a **steady increase in rides from January to mid-summer** (peaking around August/September), likely driven by warmer weather and longer daylight hours.\n",
    "- After September, rides decline sharply for both groups, possibly due to colder temperatures and seasonal changes.\n",
    "- The gap between members and casual riders remains consistent, suggesting stable loyalty among members.\n",
    "\n",
    "**Insights:**\n",
    "- Seasonal trends highlight the importance of summer-focused marketing and service optimization.\n",
    "- Winter months may benefit from targeted promotions or indoor cycling partnerships to maintain ridership.\n"
   ]
  },
  {
   "cell_type": "code",
   "execution_count": 16,
   "id": "afedd0fe-7160-4b4c-aedd-ccf7fa7ac012",
   "metadata": {},
   "outputs": [],
   "source": [
    "# Convert to datetime\n",
    "df['started_at'] = pd.to_datetime(df['started_at'])\n",
    "df['ended_at'] = pd.to_datetime(df['ended_at'])\n",
    "\n",
    "# Calculate trip duration in minutes\n",
    "df['trip_duration_min'] = (df['ended_at'] - df['started_at']).dt.total_seconds() / 60\n"
   ]
  },
  {
   "cell_type": "code",
   "execution_count": 17,
   "id": "35349c8b-9b78-4598-bdcc-09e2161eaf80",
   "metadata": {},
   "outputs": [
    {
     "data": {
      "application/vnd.plotly.v1+json": {
       "config": {
        "plotlyServerURL": "https://plot.ly"
       },
       "data": [
        {
         "alignmentgroup": "True",
         "hovertemplate": "Rider Type=%{x}<br>Trip Duration (min)=%{y}<extra></extra>",
         "legendgroup": "member",
         "marker": {
          "color": "orange"
         },
         "name": "member",
         "notched": false,
         "offsetgroup": "member",
         "orientation": "v",
         "showlegend": true,
         "type": "box",
         "x": [
          "member",
          "member",
          "member",
          "member",
          "member",
          "member",
          "member",
          "member",
          "member",
          "member",
          "member",
          "member",
          "member",
          "member",
          "member",
          "member",
          "member",
          "member",
          "member",
          "member",
          "member",
          "member",
          "member",
          "member",
          "member",
          "member",
          "member",
          "member",
          "member",
          "member",
          "member",
          "member",
          "member",
          "member",
          "member",
          "member",
          "member",
          "member",
          "member",
          "member",
          "member",
          "member",
          "member",
          "member",
          "member",
          "member",
          "member",
          "member",
          "member",
          "member",
          "member",
          "member",
          "member",
          "member",
          "member",
          "member",
          "member",
          "member",
          "member",
          "member",
          "member",
          "member",
          "member",
          "member",
          "member",
          "member",
          "member",
          "member",
          "member",
          "member",
          "member",
          "member",
          "member",
          "member",
          "member",
          "member",
          "member",
          "member",
          "member",
          "member",
          "member",
          "member",
          "member",
          "member",
          "member",
          "member",
          "member",
          "member",
          "member",
          "member",
          "member",
          "member",
          "member",
          "member",
          "member",
          "member",
          "member",
          "member",
          "member",
          "member",
          "member",
          "member",
          "member",
          "member",
          "member",
          "member",
          "member",
          "member",
          "member",
          "member",
          "member",
          "member",
          "member",
          "member",
          "member",
          "member",
          "member",
          "member",
          "member",
          "member",
          "member",
          "member",
          "member",
          "member",
          "member",
          "member",
          "member",
          "member",
          "member",
          "member",
          "member",
          "member",
          "member",
          "member",
          "member",
          "member",
          "member",
          "member",
          "member",
          "member",
          "member",
          "member",
          "member",
          "member",
          "member",
          "member",
          "member",
          "member",
          "member",
          "member",
          "member",
          "member",
          "member",
          "member",
          "member",
          "member",
          "member",
          "member",
          "member",
          "member",
          "member",
          "member",
          "member",
          "member",
          "member",
          "member",
          "member",
          "member",
          "member",
          "member",
          "member",
          "member",
          "member",
          "member",
          "member",
          "member",
          "member",
          "member",
          "member",
          "member",
          "member",
          "member",
          "member",
          "member",
          "member",
          "member",
          "member",
          "member",
          "member",
          "member",
          "member",
          "member",
          "member",
          "member",
          "member",
          "member",
          "member",
          "member",
          "member",
          "member",
          "member",
          "member",
          "member",
          "member",
          "member",
          "member",
          "member",
          "member",
          "member",
          "member",
          "member",
          "member",
          "member",
          "member",
          "member",
          "member",
          "member",
          "member",
          "member",
          "member",
          "member",
          "member",
          "member",
          "member",
          "member",
          "member",
          "member",
          "member",
          "member",
          "member",
          "member",
          "member",
          "member",
          "member",
          "member",
          "member",
          "member",
          "member",
          "member",
          "member",
          "member",
          "member",
          "member",
          "member",
          "member",
          "member",
          "member",
          "member",
          "member",
          "member",
          "member",
          "member",
          "member",
          "member",
          "member",
          "member",
          "member",
          "member",
          "member",
          "member",
          "member",
          "member",
          "member",
          "member",
          "member",
          "member",
          "member",
          "member",
          "member",
          "member",
          "member",
          "member",
          "member",
          "member",
          "member",
          "member",
          "member",
          "member",
          "member",
          "member",
          "member",
          "member",
          "member",
          "member",
          "member",
          "member",
          "member",
          "member",
          "member",
          "member",
          "member",
          "member",
          "member",
          "member",
          "member",
          "member",
          "member",
          "member",
          "member",
          "member",
          "member",
          "member",
          "member",
          "member",
          "member",
          "member",
          "member",
          "member",
          "member",
          "member",
          "member",
          "member",
          "member",
          "member",
          "member",
          "member",
          "member",
          "member",
          "member",
          "member",
          "member",
          "member",
          "member",
          "member",
          "member",
          "member",
          "member",
          "member",
          "member",
          "member",
          "member",
          "member",
          "member",
          "member",
          "member",
          "member",
          "member",
          "member",
          "member",
          "member",
          "member",
          "member",
          "member",
          "member",
          "member",
          "member",
          "member",
          "member",
          "member",
          "member",
          "member",
          "member",
          "member",
          "member",
          "member",
          "member",
          "member",
          "member",
          "member",
          "member",
          "member",
          "member",
          "member",
          "member",
          "member",
          "member",
          "member",
          "member",
          "member",
          "member",
          "member",
          "member",
          "member",
          "member",
          "member",
          "member",
          "member",
          "member",
          "member",
          "member",
          "member",
          "member",
          "member",
          "member",
          "member",
          "member",
          "member",
          "member",
          "member",
          "member",
          "member",
          "member",
          "member",
          "member",
          "member",
          "member",
          "member",
          "member",
          "member",
          "member",
          "member",
          "member",
          "member",
          "member",
          "member",
          "member",
          "member",
          "member",
          "member",
          "member",
          "member",
          "member",
          "member",
          "member",
          "member",
          "member",
          "member",
          "member",
          "member",
          "member",
          "member",
          "member",
          "member",
          "member",
          "member",
          "member",
          "member",
          "member",
          "member",
          "member",
          "member",
          "member",
          "member",
          "member",
          "member",
          "member",
          "member",
          "member",
          "member",
          "member",
          "member",
          "member",
          "member",
          "member",
          "member",
          "member",
          "member",
          "member",
          "member",
          "member",
          "member",
          "member",
          "member",
          "member",
          "member",
          "member",
          "member",
          "member",
          "member",
          "member",
          "member",
          "member",
          "member",
          "member",
          "member",
          "member",
          "member",
          "member",
          "member",
          "member",
          "member",
          "member",
          "member",
          "member",
          "member",
          "member",
          "member",
          "member",
          "member",
          "member",
          "member",
          "member",
          "member",
          "member",
          "member",
          "member",
          "member",
          "member",
          "member",
          "member",
          "member",
          "member",
          "member",
          "member",
          "member",
          "member",
          "member",
          "member",
          "member",
          "member",
          "member",
          "member",
          "member",
          "member",
          "member",
          "member",
          "member",
          "member",
          "member",
          "member",
          "member",
          "member",
          "member",
          "member",
          "member",
          "member",
          "member",
          "member",
          "member",
          "member",
          "member",
          "member",
          "member",
          "member",
          "member",
          "member",
          "member",
          "member",
          "member",
          "member",
          "member",
          "member",
          "member",
          "member",
          "member",
          "member",
          "member",
          "member",
          "member",
          "member",
          "member",
          "member",
          "member",
          "member",
          "member",
          "member",
          "member",
          "member",
          "member",
          "member",
          "member",
          "member",
          "member",
          "member",
          "member",
          "member",
          "member",
          "member",
          "member",
          "member",
          "member",
          "member",
          "member",
          "member",
          "member",
          "member",
          "member",
          "member",
          "member",
          "member",
          "member",
          "member",
          "member",
          "member",
          "member",
          "member",
          "member",
          "member",
          "member",
          "member",
          "member",
          "member",
          "member",
          "member",
          "member",
          "member",
          "member",
          "member",
          "member",
          "member",
          "member",
          "member",
          "member",
          "member",
          "member",
          "member",
          "member",
          "member",
          "member",
          "member",
          "member",
          "member",
          "member",
          "member",
          "member",
          "member",
          "member",
          "member",
          "member",
          "member",
          "member",
          "member",
          "member",
          "member",
          "member",
          "member",
          "member",
          "member",
          "member",
          "member",
          "member",
          "member",
          "member",
          "member",
          "member",
          "member",
          "member",
          "member",
          "member",
          "member",
          "member",
          "member",
          "member",
          "member",
          "member",
          "member",
          "member",
          "member",
          "member",
          "member",
          "member",
          "member",
          "member",
          "member",
          "member",
          "member",
          "member",
          "member",
          "member",
          "member",
          "member",
          "member",
          "member",
          "member",
          "member",
          "member",
          "member",
          "member",
          "member",
          "member",
          "member",
          "member",
          "member",
          "member",
          "member",
          "member",
          "member",
          "member",
          "member",
          "member",
          "member",
          "member",
          "member",
          "member",
          "member",
          "member",
          "member",
          "member",
          "member",
          "member",
          "member",
          "member",
          "member",
          "member",
          "member",
          "member",
          "member",
          "member",
          "member",
          "member",
          "member",
          "member",
          "member",
          "member",
          "member",
          "member",
          "member",
          "member",
          "member",
          "member",
          "member",
          "member",
          "member",
          "member",
          "member",
          "member",
          "member",
          "member",
          "member",
          "member",
          "member",
          "member",
          "member",
          "member",
          "member",
          "member",
          "member",
          "member",
          "member",
          "member",
          "member",
          "member",
          "member",
          "member",
          "member",
          "member",
          "member",
          "member",
          "member",
          "member",
          "member",
          "member",
          "member",
          "member",
          "member",
          "member",
          "member",
          "member",
          "member",
          "member",
          "member",
          "member",
          "member",
          "member",
          "member",
          "member",
          "member",
          "member",
          "member",
          "member",
          "member",
          "member",
          "member",
          "member",
          "member",
          "member",
          "member",
          "member",
          "member",
          "member",
          "member",
          "member",
          "member",
          "member",
          "member",
          "member",
          "member",
          "member",
          "member",
          "member",
          "member",
          "member",
          "member",
          "member",
          "member",
          "member",
          "member",
          "member",
          "member",
          "member",
          "member",
          "member",
          "member",
          "member",
          "member",
          "member",
          "member",
          "member",
          "member",
          "member",
          "member",
          "member",
          "member",
          "member",
          "member",
          "member",
          "member",
          "member",
          "member",
          "member",
          "member",
          "member",
          "member",
          "member",
          "member",
          "member",
          "member",
          "member",
          "member",
          "member",
          "member",
          "member",
          "member",
          "member",
          "member",
          "member",
          "member",
          "member",
          "member",
          "member",
          "member",
          "member",
          "member",
          "member",
          "member",
          "member",
          "member",
          "member",
          "member",
          "member",
          "member",
          "member",
          "member",
          "member",
          "member",
          "member",
          "member",
          "member",
          "member",
          "member",
          "member",
          "member",
          "member",
          "member",
          "member",
          "member",
          "member",
          "member",
          "member",
          "member",
          "member",
          "member",
          "member",
          "member",
          "member",
          "member",
          "member",
          "member",
          "member",
          "member",
          "member",
          "member",
          "member",
          "member",
          "member",
          "member",
          "member",
          "member",
          "member",
          "member",
          "member",
          "member",
          "member",
          "member",
          "member",
          "member",
          "member",
          "member",
          "member",
          "member",
          "member",
          "member",
          "member",
          "member",
          "member",
          "member",
          "member",
          "member",
          "member",
          "member",
          "member",
          "member",
          "member",
          "member",
          "member",
          "member",
          "member",
          "member",
          "member",
          "member",
          "member",
          "member",
          "member",
          "member",
          "member",
          "member",
          "member",
          "member",
          "member",
          "member",
          "member",
          "member",
          "member",
          "member",
          "member",
          "member",
          "member",
          "member",
          "member",
          "member",
          "member",
          "member",
          "member",
          "member",
          "member",
          "member",
          "member",
          "member",
          "member",
          "member",
          "member",
          "member",
          "member",
          "member",
          "member",
          "member",
          "member",
          "member",
          "member",
          "member",
          "member",
          "member",
          "member",
          "member",
          "member",
          "member",
          "member",
          "member",
          "member",
          "member",
          "member",
          "member",
          "member",
          "member",
          "member",
          "member",
          "member",
          "member",
          "member",
          "member",
          "member",
          "member",
          "member",
          "member",
          "member",
          "member",
          "member",
          "member",
          "member",
          "member",
          "member",
          "member",
          "member",
          "member",
          "member",
          "member",
          "member",
          "member",
          "member",
          "member",
          "member",
          "member",
          "member",
          "member",
          "member",
          "member",
          "member",
          "member",
          "member",
          "member",
          "member",
          "member",
          "member",
          "member",
          "member",
          "member",
          "member",
          "member",
          "member",
          "member",
          "member",
          "member",
          "member",
          "member",
          "member",
          "member",
          "member",
          "member",
          "member",
          "member",
          "member",
          "member",
          "member",
          "member",
          "member",
          "member",
          "member",
          "member",
          "member",
          "member",
          "member",
          "member",
          "member",
          "member",
          "member",
          "member",
          "member",
          "member",
          "member",
          "member",
          "member",
          "member",
          "member",
          "member",
          "member",
          "member",
          "member",
          "member",
          "member",
          "member",
          "member",
          "member",
          "member",
          "member",
          "member",
          "member",
          "member",
          "member",
          "member",
          "member",
          "member",
          "member",
          "member",
          "member",
          "member",
          "member",
          "member",
          "member",
          "member",
          "member",
          "member",
          "member",
          "member",
          "member",
          "member",
          "member",
          "member",
          "member",
          "member",
          "member",
          "member",
          "member",
          "member",
          "member",
          "member",
          "member",
          "member",
          "member",
          "member",
          "member",
          "member",
          "member",
          "member",
          "member",
          "member",
          "member",
          "member",
          "member",
          "member",
          "member",
          "member",
          "member",
          "member",
          "member",
          "member",
          "member",
          "member",
          "member",
          "member",
          "member",
          "member",
          "member",
          "member",
          "member",
          "member",
          "member",
          "member",
          "member",
          "member",
          "member",
          "member",
          "member",
          "member",
          "member",
          "member",
          "member",
          "member",
          "member",
          "member",
          "member",
          "member",
          "member",
          "member",
          "member",
          "member",
          "member",
          "member",
          "member",
          "member",
          "member",
          "member",
          "member",
          "member",
          "member",
          "member",
          "member",
          "member",
          "member",
          "member",
          "member",
          "member",
          "member",
          "member",
          "member",
          "member",
          "member",
          "member",
          "member",
          "member",
          "member",
          "member",
          "member",
          "member",
          "member",
          "member",
          "member",
          "member",
          "member",
          "member",
          "member",
          "member",
          "member",
          "member",
          "member",
          "member",
          "member",
          "member",
          "member",
          "member",
          "member",
          "member",
          "member",
          "member",
          "member",
          "member",
          "member",
          "member",
          "member",
          "member",
          "member",
          "member",
          "member",
          "member",
          "member",
          "member",
          "member",
          "member",
          "member",
          "member",
          "member",
          "member",
          "member",
          "member",
          "member",
          "member",
          "member",
          "member",
          "member",
          "member",
          "member",
          "member",
          "member",
          "member",
          "member",
          "member",
          "member",
          "member",
          "member",
          "member",
          "member",
          "member",
          "member",
          "member",
          "member",
          "member",
          "member",
          "member",
          "member",
          "member",
          "member",
          "member",
          "member",
          "member",
          "member",
          "member",
          "member",
          "member",
          "member",
          "member",
          "member",
          "member",
          "member",
          "member",
          "member",
          "member",
          "member",
          "member",
          "member",
          "member",
          "member",
          "member",
          "member",
          "member",
          "member",
          "member",
          "member",
          "member",
          "member",
          "member",
          "member",
          "member",
          "member",
          "member",
          "member",
          "member",
          "member",
          "member",
          "member",
          "member",
          "member",
          "member",
          "member",
          "member",
          "member",
          "member",
          "member",
          "member",
          "member",
          "member",
          "member",
          "member",
          "member",
          "member",
          "member",
          "member",
          "member",
          "member",
          "member",
          "member",
          "member",
          "member",
          "member",
          "member",
          "member",
          "member",
          "member",
          "member",
          "member",
          "member",
          "member",
          "member",
          "member",
          "member",
          "member",
          "member",
          "member",
          "member",
          "member",
          "member",
          "member",
          "member",
          "member",
          "member",
          "member",
          "member",
          "member",
          "member",
          "member",
          "member",
          "member",
          "member",
          "member",
          "member",
          "member",
          "member",
          "member",
          "member",
          "member",
          "member",
          "member",
          "member",
          "member",
          "member",
          "member",
          "member",
          "member",
          "member",
          "member",
          "member",
          "member",
          "member",
          "member",
          "member",
          "member",
          "member",
          "member",
          "member",
          "member",
          "member",
          "member",
          "member",
          "member",
          "member",
          "member",
          "member",
          "member",
          "member",
          "member",
          "member",
          "member",
          "member",
          "member",
          "member",
          "member",
          "member",
          "member",
          "member",
          "member",
          "member",
          "member",
          "member",
          "member",
          "member",
          "member",
          "member",
          "member",
          "member",
          "member",
          "member",
          "member",
          "member",
          "member",
          "member",
          "member",
          "member",
          "member",
          "member",
          "member",
          "member",
          "member",
          "member",
          "member",
          "member",
          "member",
          "member",
          "member",
          "member",
          "member",
          "member",
          "member",
          "member",
          "member",
          "member",
          "member",
          "member",
          "member",
          "member",
          "member",
          "member",
          "member",
          "member",
          "member",
          "member",
          "member",
          "member",
          "member",
          "member",
          "member",
          "member",
          "member",
          "member",
          "member",
          "member",
          "member",
          "member",
          "member",
          "member",
          "member",
          "member",
          "member",
          "member",
          "member",
          "member",
          "member",
          "member",
          "member",
          "member",
          "member",
          "member",
          "member",
          "member",
          "member",
          "member",
          "member",
          "member",
          "member",
          "member",
          "member",
          "member",
          "member",
          "member",
          "member",
          "member",
          "member",
          "member",
          "member",
          "member",
          "member",
          "member",
          "member",
          "member",
          "member",
          "member",
          "member",
          "member",
          "member",
          "member",
          "member",
          "member",
          "member",
          "member",
          "member",
          "member",
          "member",
          "member",
          "member",
          "member",
          "member",
          "member",
          "member",
          "member",
          "member",
          "member",
          "member",
          "member",
          "member",
          "member",
          "member",
          "member",
          "member",
          "member",
          "member",
          "member",
          "member",
          "member",
          "member",
          "member",
          "member",
          "member",
          "member",
          "member",
          "member",
          "member",
          "member",
          "member",
          "member",
          "member",
          "member",
          "member",
          "member",
          "member",
          "member",
          "member",
          "member",
          "member",
          "member",
          "member",
          "member",
          "member",
          "member",
          "member",
          "member",
          "member",
          "member",
          "member",
          "member",
          "member",
          "member",
          "member",
          "member",
          "member",
          "member",
          "member",
          "member",
          "member",
          "member",
          "member",
          "member",
          "member",
          "member",
          "member",
          "member",
          "member",
          "member",
          "member",
          "member",
          "member",
          "member",
          "member",
          "member",
          "member",
          "member",
          "member",
          "member",
          "member",
          "member",
          "member",
          "member",
          "member",
          "member",
          "member",
          "member",
          "member",
          "member",
          "member",
          "member",
          "member",
          "member",
          "member",
          "member",
          "member",
          "member",
          "member",
          "member",
          "member",
          "member",
          "member",
          "member",
          "member",
          "member",
          "member",
          "member",
          "member",
          "member",
          "member",
          "member",
          "member",
          "member",
          "member",
          "member",
          "member",
          "member",
          "member",
          "member",
          "member",
          "member",
          "member",
          "member",
          "member",
          "member",
          "member",
          "member",
          "member",
          "member",
          "member",
          "member",
          "member",
          "member",
          "member",
          "member",
          "member",
          "member",
          "member",
          "member",
          "member",
          "member",
          "member",
          "member",
          "member",
          "member",
          "member",
          "member",
          "member",
          "member",
          "member",
          "member",
          "member",
          "member",
          "member",
          "member",
          "member",
          "member",
          "member",
          "member",
          "member",
          "member",
          "member",
          "member",
          "member",
          "member",
          "member",
          "member",
          "member",
          "member",
          "member",
          "member",
          "member",
          "member",
          "member",
          "member",
          "member",
          "member",
          "member",
          "member",
          "member",
          "member",
          "member",
          "member",
          "member",
          "member",
          "member",
          "member",
          "member",
          "member",
          "member",
          "member",
          "member",
          "member",
          "member",
          "member",
          "member",
          "member",
          "member",
          "member",
          "member",
          "member",
          "member",
          "member",
          "member",
          "member",
          "member",
          "member",
          "member",
          "member",
          "member",
          "member",
          "member",
          "member",
          "member",
          "member",
          "member",
          "member",
          "member",
          "member",
          "member",
          "member",
          "member",
          "member",
          "member",
          "member",
          "member",
          "member",
          "member",
          "member",
          "member",
          "member",
          "member",
          "member",
          "member",
          "member",
          "member",
          "member",
          "member",
          "member",
          "member",
          "member",
          "member",
          "member",
          "member",
          "member",
          "member",
          "member",
          "member",
          "member",
          "member",
          "member",
          "member",
          "member",
          "member",
          "member",
          "member",
          "member",
          "member",
          "member",
          "member",
          "member",
          "member",
          "member",
          "member",
          "member",
          "member",
          "member",
          "member",
          "member",
          "member",
          "member",
          "member",
          "member",
          "member",
          "member",
          "member",
          "member",
          "member",
          "member",
          "member",
          "member",
          "member",
          "member",
          "member",
          "member",
          "member",
          "member",
          "member",
          "member",
          "member",
          "member",
          "member",
          "member",
          "member",
          "member",
          "member",
          "member",
          "member",
          "member",
          "member",
          "member",
          "member",
          "member",
          "member",
          "member",
          "member",
          "member",
          "member",
          "member",
          "member",
          "member",
          "member",
          "member",
          "member",
          "member",
          "member",
          "member",
          "member",
          "member",
          "member",
          "member",
          "member",
          "member",
          "member",
          "member",
          "member",
          "member",
          "member",
          "member",
          "member",
          "member",
          "member",
          "member",
          "member",
          "member",
          "member",
          "member",
          "member",
          "member",
          "member",
          "member",
          "member",
          "member",
          "member",
          "member",
          "member",
          "member",
          "member",
          "member",
          "member",
          "member",
          "member",
          "member",
          "member",
          "member",
          "member",
          "member",
          "member",
          "member",
          "member",
          "member",
          "member",
          "member",
          "member",
          "member",
          "member",
          "member",
          "member",
          "member",
          "member",
          "member",
          "member",
          "member",
          "member",
          "member",
          "member",
          "member",
          "member",
          "member",
          "member",
          "member",
          "member",
          "member",
          "member",
          "member",
          "member",
          "member",
          "member",
          "member",
          "member",
          "member",
          "member",
          "member",
          "member",
          "member",
          "member",
          "member",
          "member",
          "member",
          "member",
          "member",
          "member",
          "member",
          "member",
          "member",
          "member",
          "member",
          "member",
          "member",
          "member",
          "member",
          "member",
          "member",
          "member",
          "member",
          "member",
          "member",
          "member",
          "member",
          "member",
          "member",
          "member",
          "member",
          "member",
          "member",
          "member",
          "member",
          "member",
          "member",
          "member",
          "member",
          "member",
          "member",
          "member",
          "member",
          "member",
          "member",
          "member",
          "member",
          "member",
          "member",
          "member",
          "member",
          "member",
          "member",
          "member",
          "member",
          "member",
          "member",
          "member",
          "member",
          "member",
          "member",
          "member",
          "member",
          "member",
          "member",
          "member",
          "member",
          "member",
          "member",
          "member",
          "member",
          "member",
          "member",
          "member",
          "member",
          "member",
          "member",
          "member",
          "member",
          "member",
          "member",
          "member",
          "member",
          "member",
          "member",
          "member",
          "member",
          "member",
          "member",
          "member",
          "member",
          "member",
          "member",
          "member",
          "member",
          "member",
          "member",
          "member",
          "member",
          "member",
          "member",
          "member",
          "member",
          "member",
          "member",
          "member",
          "member",
          "member",
          "member",
          "member",
          "member",
          "member",
          "member",
          "member",
          "member",
          "member",
          "member",
          "member",
          "member",
          "member",
          "member",
          "member",
          "member",
          "member",
          "member",
          "member",
          "member",
          "member",
          "member",
          "member",
          "member",
          "member",
          "member",
          "member",
          "member",
          "member",
          "member",
          "member",
          "member",
          "member",
          "member",
          "member",
          "member",
          "member",
          "member",
          "member",
          "member",
          "member",
          "member",
          "member",
          "member",
          "member",
          "member",
          "member",
          "member",
          "member",
          "member",
          "member",
          "member",
          "member",
          "member",
          "member",
          "member",
          "member",
          "member",
          "member",
          "member",
          "member",
          "member",
          "member",
          "member",
          "member",
          "member",
          "member",
          "member",
          "member",
          "member",
          "member",
          "member",
          "member",
          "member",
          "member",
          "member",
          "member",
          "member",
          "member",
          "member",
          "member",
          "member",
          "member",
          "member",
          "member",
          "member",
          "member",
          "member",
          "member",
          "member",
          "member",
          "member",
          "member",
          "member",
          "member",
          "member",
          "member",
          "member",
          "member",
          "member",
          "member",
          "member",
          "member",
          "member",
          "member",
          "member",
          "member",
          "member",
          "member",
          "member",
          "member",
          "member",
          "member",
          "member",
          "member",
          "member",
          "member",
          "member",
          "member",
          "member",
          "member",
          "member",
          "member",
          "member",
          "member",
          "member",
          "member",
          "member",
          "member",
          "member",
          "member",
          "member",
          "member",
          "member",
          "member",
          "member",
          "member",
          "member",
          "member",
          "member",
          "member",
          "member",
          "member",
          "member",
          "member",
          "member",
          "member",
          "member",
          "member",
          "member",
          "member",
          "member",
          "member",
          "member",
          "member",
          "member",
          "member",
          "member",
          "member",
          "member",
          "member",
          "member",
          "member",
          "member",
          "member",
          "member",
          "member",
          "member",
          "member",
          "member",
          "member",
          "member",
          "member",
          "member",
          "member",
          "member",
          "member",
          "member",
          "member",
          "member",
          "member",
          "member",
          "member",
          "member",
          "member",
          "member",
          "member",
          "member",
          "member",
          "member",
          "member",
          "member",
          "member",
          "member",
          "member",
          "member",
          "member",
          "member",
          "member",
          "member",
          "member",
          "member",
          "member",
          "member",
          "member",
          "member",
          "member",
          "member",
          "member",
          "member",
          "member",
          "member",
          "member",
          "member",
          "member",
          "member",
          "member",
          "member",
          "member",
          "member",
          "member",
          "member",
          "member",
          "member",
          "member",
          "member",
          "member",
          "member",
          "member",
          "member",
          "member",
          "member",
          "member",
          "member",
          "member",
          "member",
          "member",
          "member",
          "member",
          "member",
          "member",
          "member",
          "member",
          "member",
          "member",
          "member",
          "member",
          "member",
          "member",
          "member",
          "member",
          "member",
          "member",
          "member",
          "member",
          "member",
          "member",
          "member",
          "member",
          "member",
          "member",
          "member",
          "member",
          "member",
          "member",
          "member",
          "member",
          "member",
          "member",
          "member",
          "member",
          "member",
          "member",
          "member",
          "member",
          "member",
          "member",
          "member",
          "member",
          "member",
          "member",
          "member",
          "member",
          "member",
          "member",
          "member",
          "member",
          "member",
          "member",
          "member",
          "member",
          "member",
          "member",
          "member",
          "member",
          "member",
          "member",
          "member",
          "member",
          "member",
          "member",
          "member",
          "member",
          "member",
          "member",
          "member",
          "member",
          "member",
          "member",
          "member",
          "member",
          "member",
          "member",
          "member",
          "member",
          "member",
          "member",
          "member",
          "member",
          "member",
          "member",
          "member",
          "member",
          "member",
          "member",
          "member",
          "member",
          "member",
          "member",
          "member",
          "member",
          "member",
          "member",
          "member",
          "member",
          "member",
          "member",
          "member",
          "member",
          "member",
          "member",
          "member",
          "member",
          "member",
          "member",
          "member",
          "member",
          "member",
          "member",
          "member",
          "member",
          "member",
          "member",
          "member",
          "member",
          "member",
          "member",
          "member",
          "member",
          "member",
          "member",
          "member",
          "member",
          "member",
          "member",
          "member",
          "member",
          "member",
          "member",
          "member",
          "member",
          "member",
          "member",
          "member",
          "member",
          "member",
          "member",
          "member",
          "member",
          "member",
          "member",
          "member",
          "member",
          "member",
          "member",
          "member",
          "member",
          "member",
          "member",
          "member",
          "member",
          "member",
          "member",
          "member",
          "member",
          "member",
          "member",
          "member",
          "member",
          "member",
          "member",
          "member",
          "member",
          "member",
          "member",
          "member",
          "member",
          "member",
          "member",
          "member",
          "member",
          "member",
          "member",
          "member",
          "member",
          "member",
          "member",
          "member",
          "member",
          "member",
          "member",
          "member",
          "member",
          "member",
          "member",
          "member",
          "member",
          "member",
          "member",
          "member",
          "member",
          "member",
          "member",
          "member",
          "member",
          "member",
          "member",
          "member",
          "member",
          "member",
          "member",
          "member",
          "member",
          "member",
          "member",
          "member",
          "member",
          "member",
          "member",
          "member",
          "member",
          "member",
          "member",
          "member",
          "member",
          "member",
          "member",
          "member",
          "member",
          "member",
          "member",
          "member",
          "member",
          "member",
          "member",
          "member",
          "member",
          "member",
          "member",
          "member",
          "member",
          "member",
          "member",
          "member",
          "member",
          "member",
          "member",
          "member",
          "member",
          "member",
          "member",
          "member",
          "member",
          "member",
          "member",
          "member",
          "member",
          "member",
          "member",
          "member",
          "member",
          "member",
          "member",
          "member",
          "member",
          "member",
          "member",
          "member",
          "member",
          "member",
          "member",
          "member",
          "member",
          "member",
          "member",
          "member",
          "member",
          "member",
          "member",
          "member",
          "member",
          "member",
          "member",
          "member",
          "member",
          "member",
          "member",
          "member",
          "member",
          "member",
          "member",
          "member",
          "member",
          "member",
          "member",
          "member",
          "member",
          "member",
          "member",
          "member",
          "member",
          "member",
          "member",
          "member",
          "member",
          "member",
          "member",
          "member",
          "member",
          "member",
          "member",
          "member",
          "member",
          "member",
          "member",
          "member",
          "member",
          "member",
          "member",
          "member",
          "member",
          "member",
          "member",
          "member",
          "member",
          "member",
          "member",
          "member",
          "member",
          "member",
          "member",
          "member",
          "member",
          "member",
          "member",
          "member",
          "member",
          "member",
          "member",
          "member",
          "member",
          "member",
          "member",
          "member",
          "member",
          "member",
          "member",
          "member",
          "member",
          "member",
          "member",
          "member",
          "member",
          "member",
          "member",
          "member",
          "member",
          "member",
          "member",
          "member",
          "member",
          "member",
          "member",
          "member",
          "member",
          "member",
          "member",
          "member",
          "member",
          "member",
          "member",
          "member",
          "member",
          "member",
          "member",
          "member",
          "member",
          "member",
          "member",
          "member",
          "member",
          "member",
          "member",
          "member",
          "member",
          "member",
          "member",
          "member",
          "member",
          "member",
          "member",
          "member",
          "member",
          "member",
          "member",
          "member",
          "member",
          "member",
          "member",
          "member",
          "member",
          "member",
          "member",
          "member",
          "member",
          "member",
          "member",
          "member",
          "member",
          "member",
          "member",
          "member",
          "member",
          "member",
          "member",
          "member",
          "member",
          "member",
          "member",
          "member",
          "member",
          "member",
          "member",
          "member",
          "member",
          "member",
          "member",
          "member",
          "member",
          "member",
          "member",
          "member",
          "member",
          "member",
          "member",
          "member",
          "member",
          "member",
          "member",
          "member",
          "member",
          "member",
          "member",
          "member",
          "member",
          "member",
          "member",
          "member",
          "member",
          "member",
          "member",
          "member",
          "member",
          "member",
          "member",
          "member",
          "member",
          "member",
          "member",
          "member",
          "member",
          "member",
          "member",
          "member",
          "member",
          "member",
          "member",
          "member",
          "member",
          "member",
          "member",
          "member",
          "member",
          "member",
          "member",
          "member",
          "member",
          "member",
          "member",
          "member",
          "member",
          "member",
          "member",
          "member",
          "member",
          "member",
          "member",
          "member",
          "member",
          "member",
          "member",
          "member",
          "member",
          "member",
          "member",
          "member",
          "member",
          "member",
          "member",
          "member",
          "member",
          "member",
          "member",
          "member",
          "member",
          "member",
          "member",
          "member",
          "member",
          "member",
          "member",
          "member",
          "member",
          "member",
          "member",
          "member",
          "member",
          "member",
          "member",
          "member",
          "member",
          "member",
          "member",
          "member",
          "member",
          "member",
          "member",
          "member",
          "member",
          "member",
          "member",
          "member",
          "member",
          "member",
          "member",
          "member",
          "member",
          "member",
          "member",
          "member",
          "member",
          "member",
          "member",
          "member",
          "member",
          "member",
          "member",
          "member",
          "member",
          "member",
          "member",
          "member",
          "member",
          "member",
          "member",
          "member",
          "member",
          "member",
          "member",
          "member",
          "member",
          "member",
          "member",
          "member",
          "member",
          "member",
          "member",
          "member",
          "member",
          "member",
          "member",
          "member",
          "member",
          "member",
          "member",
          "member",
          "member",
          "member",
          "member",
          "member",
          "member",
          "member",
          "member",
          "member",
          "member",
          "member",
          "member",
          "member",
          "member",
          "member",
          "member",
          "member",
          "member",
          "member",
          "member",
          "member",
          "member",
          "member",
          "member",
          "member",
          "member",
          "member",
          "member",
          "member",
          "member",
          "member",
          "member",
          "member",
          "member",
          "member",
          "member",
          "member",
          "member",
          "member",
          "member",
          "member",
          "member",
          "member",
          "member",
          "member",
          "member",
          "member",
          "member",
          "member",
          "member",
          "member",
          "member",
          "member",
          "member",
          "member",
          "member",
          "member",
          "member",
          "member",
          "member",
          "member",
          "member",
          "member",
          "member",
          "member",
          "member",
          "member",
          "member",
          "member",
          "member",
          "member",
          "member",
          "member",
          "member",
          "member",
          "member",
          "member",
          "member",
          "member",
          "member",
          "member",
          "member",
          "member",
          "member",
          "member",
          "member",
          "member",
          "member",
          "member",
          "member",
          "member",
          "member",
          "member",
          "member",
          "member",
          "member",
          "member",
          "member",
          "member",
          "member",
          "member",
          "member",
          "member",
          "member",
          "member",
          "member",
          "member",
          "member",
          "member",
          "member",
          "member",
          "member",
          "member",
          "member",
          "member",
          "member",
          "member",
          "member",
          "member",
          "member",
          "member",
          "member",
          "member",
          "member",
          "member",
          "member",
          "member",
          "member",
          "member",
          "member",
          "member",
          "member",
          "member",
          "member",
          "member",
          "member",
          "member",
          "member",
          "member",
          "member",
          "member",
          "member",
          "member",
          "member",
          "member",
          "member",
          "member",
          "member",
          "member",
          "member",
          "member",
          "member",
          "member",
          "member",
          "member",
          "member",
          "member",
          "member",
          "member",
          "member",
          "member",
          "member",
          "member",
          "member",
          "member",
          "member",
          "member",
          "member",
          "member",
          "member",
          "member",
          "member",
          "member",
          "member",
          "member",
          "member",
          "member",
          "member",
          "member",
          "member",
          "member",
          "member",
          "member",
          "member",
          "member",
          "member",
          "member",
          "member",
          "member",
          "member",
          "member",
          "member",
          "member",
          "member",
          "member",
          "member",
          "member",
          "member",
          "member",
          "member",
          "member",
          "member",
          "member",
          "member",
          "member",
          "member",
          "member",
          "member",
          "member",
          "member",
          "member",
          "member",
          "member",
          "member",
          "member",
          "member",
          "member",
          "member",
          "member",
          "member",
          "member",
          "member",
          "member",
          "member",
          "member",
          "member",
          "member",
          "member",
          "member",
          "member",
          "member",
          "member",
          "member",
          "member",
          "member",
          "member",
          "member",
          "member",
          "member",
          "member",
          "member",
          "member",
          "member",
          "member",
          "member",
          "member",
          "member",
          "member",
          "member",
          "member",
          "member",
          "member",
          "member",
          "member",
          "member",
          "member",
          "member",
          "member",
          "member",
          "member",
          "member",
          "member",
          "member",
          "member",
          "member",
          "member",
          "member",
          "member",
          "member",
          "member",
          "member",
          "member",
          "member",
          "member",
          "member",
          "member",
          "member",
          "member",
          "member",
          "member",
          "member",
          "member",
          "member",
          "member",
          "member",
          "member",
          "member",
          "member",
          "member",
          "member",
          "member",
          "member",
          "member",
          "member",
          "member",
          "member",
          "member",
          "member",
          "member",
          "member",
          "member",
          "member",
          "member",
          "member",
          "member",
          "member",
          "member",
          "member",
          "member",
          "member",
          "member",
          "member",
          "member",
          "member",
          "member",
          "member",
          "member",
          "member",
          "member",
          "member",
          "member",
          "member",
          "member",
          "member",
          "member",
          "member",
          "member",
          "member",
          "member",
          "member",
          "member",
          "member",
          "member",
          "member",
          "member",
          "member",
          "member",
          "member",
          "member",
          "member",
          "member",
          "member",
          "member",
          "member",
          "member",
          "member",
          "member",
          "member",
          "member",
          "member",
          "member",
          "member",
          "member",
          "member",
          "member",
          "member",
          "member",
          "member",
          "member",
          "member",
          "member",
          "member",
          "member",
          "member",
          "member",
          "member",
          "member",
          "member",
          "member",
          "member",
          "member",
          "member",
          "member",
          "member",
          "member",
          "member",
          "member",
          "member",
          "member",
          "member",
          "member",
          "member",
          "member",
          "member",
          "member",
          "member",
          "member",
          "member",
          "member",
          "member",
          "member",
          "member",
          "member",
          "member",
          "member",
          "member",
          "member",
          "member",
          "member",
          "member",
          "member",
          "member",
          "member",
          "member",
          "member",
          "member",
          "member",
          "member",
          "member",
          "member",
          "member",
          "member",
          "member",
          "member",
          "member",
          "member",
          "member",
          "member",
          "member",
          "member",
          "member",
          "member",
          "member",
          "member",
          "member",
          "member",
          "member",
          "member",
          "member",
          "member",
          "member",
          "member",
          "member",
          "member",
          "member",
          "member",
          "member",
          "member",
          "member",
          "member",
          "member",
          "member",
          "member",
          "member",
          "member",
          "member",
          "member",
          "member",
          "member",
          "member",
          "member",
          "member",
          "member",
          "member",
          "member",
          "member",
          "member",
          "member",
          "member",
          "member",
          "member",
          "member",
          "member",
          "member",
          "member",
          "member",
          "member",
          "member",
          "member",
          "member",
          "member",
          "member",
          "member",
          "member",
          "member",
          "member",
          "member",
          "member",
          "member",
          "member",
          "member",
          "member",
          "member",
          "member",
          "member",
          "member",
          "member",
          "member",
          "member",
          "member",
          "member",
          "member",
          "member",
          "member",
          "member",
          "member",
          "member",
          "member",
          "member",
          "member",
          "member",
          "member",
          "member",
          "member",
          "member",
          "member",
          "member",
          "member",
          "member",
          "member",
          "member",
          "member",
          "member",
          "member",
          "member",
          "member",
          "member",
          "member",
          "member",
          "member",
          "member",
          "member",
          "member",
          "member",
          "member",
          "member",
          "member",
          "member",
          "member",
          "member",
          "member",
          "member",
          "member",
          "member",
          "member",
          "member",
          "member",
          "member",
          "member",
          "member",
          "member",
          "member",
          "member",
          "member",
          "member",
          "member",
          "member",
          "member",
          "member",
          "member",
          "member",
          "member",
          "member",
          "member",
          "member",
          "member",
          "member",
          "member",
          "member",
          "member",
          "member",
          "member",
          "member",
          "member",
          "member",
          "member",
          "member",
          "member",
          "member",
          "member",
          "member",
          "member",
          "member",
          "member",
          "member",
          "member",
          "member",
          "member",
          "member",
          "member",
          "member",
          "member",
          "member",
          "member",
          "member",
          "member",
          "member",
          "member",
          "member",
          "member",
          "member",
          "member",
          "member",
          "member",
          "member",
          "member",
          "member",
          "member",
          "member",
          "member",
          "member",
          "member",
          "member",
          "member",
          "member",
          "member",
          "member",
          "member",
          "member",
          "member",
          "member",
          "member",
          "member",
          "member",
          "member",
          "member",
          "member",
          "member",
          "member",
          "member",
          "member",
          "member",
          "member",
          "member",
          "member",
          "member",
          "member",
          "member",
          "member",
          "member",
          "member",
          "member",
          "member",
          "member",
          "member",
          "member",
          "member",
          "member",
          "member",
          "member",
          "member",
          "member",
          "member",
          "member",
          "member",
          "member",
          "member",
          "member",
          "member",
          "member",
          "member",
          "member",
          "member",
          "member",
          "member",
          "member",
          "member",
          "member",
          "member",
          "member",
          "member",
          "member",
          "member",
          "member",
          "member",
          "member",
          "member",
          "member",
          "member",
          "member",
          "member",
          "member",
          "member",
          "member",
          "member",
          "member",
          "member",
          "member",
          "member",
          "member",
          "member",
          "member",
          "member",
          "member",
          "member",
          "member",
          "member",
          "member",
          "member",
          "member",
          "member",
          "member",
          "member",
          "member",
          "member",
          "member",
          "member",
          "member",
          "member",
          "member",
          "member",
          "member",
          "member",
          "member",
          "member",
          "member",
          "member",
          "member",
          "member",
          "member",
          "member",
          "member",
          "member",
          "member",
          "member",
          "member",
          "member",
          "member",
          "member",
          "member",
          "member",
          "member",
          "member",
          "member",
          "member",
          "member",
          "member",
          "member",
          "member",
          "member",
          "member",
          "member",
          "member",
          "member",
          "member",
          "member",
          "member",
          "member",
          "member",
          "member",
          "member",
          "member",
          "member",
          "member",
          "member",
          "member",
          "member",
          "member",
          "member",
          "member",
          "member",
          "member",
          "member",
          "member",
          "member",
          "member",
          "member",
          "member",
          "member",
          "member",
          "member",
          "member",
          "member",
          "member",
          "member",
          "member",
          "member",
          "member",
          "member",
          "member",
          "member",
          "member",
          "member",
          "member",
          "member",
          "member",
          "member",
          "member",
          "member",
          "member",
          "member",
          "member",
          "member",
          "member",
          "member",
          "member",
          "member",
          "member",
          "member",
          "member",
          "member",
          "member",
          "member",
          "member",
          "member",
          "member",
          "member",
          "member",
          "member",
          "member",
          "member",
          "member",
          "member",
          "member",
          "member",
          "member",
          "member",
          "member",
          "member",
          "member",
          "member",
          "member",
          "member",
          "member",
          "member",
          "member",
          "member",
          "member",
          "member",
          "member",
          "member",
          "member",
          "member",
          "member",
          "member",
          "member",
          "member",
          "member",
          "member",
          "member",
          "member",
          "member",
          "member",
          "member",
          "member",
          "member",
          "member",
          "member",
          "member",
          "member",
          "member",
          "member",
          "member",
          "member",
          "member",
          "member",
          "member",
          "member",
          "member",
          "member",
          "member",
          "member",
          "member",
          "member",
          "member",
          "member",
          "member",
          "member",
          "member",
          "member",
          "member",
          "member",
          "member",
          "member",
          "member",
          "member",
          "member",
          "member",
          "member",
          "member",
          "member",
          "member",
          "member",
          "member",
          "member",
          "member",
          "member",
          "member",
          "member",
          "member",
          "member",
          "member",
          "member",
          "member",
          "member",
          "member",
          "member",
          "member",
          "member",
          "member",
          "member",
          "member",
          "member",
          "member",
          "member",
          "member",
          "member",
          "member",
          "member",
          "member",
          "member",
          "member",
          "member",
          "member",
          "member",
          "member",
          "member",
          "member",
          "member",
          "member",
          "member",
          "member",
          "member",
          "member",
          "member",
          "member",
          "member",
          "member",
          "member",
          "member",
          "member",
          "member",
          "member",
          "member",
          "member",
          "member",
          "member",
          "member",
          "member",
          "member",
          "member",
          "member",
          "member",
          "member",
          "member",
          "member",
          "member",
          "member",
          "member",
          "member",
          "member",
          "member",
          "member",
          "member",
          "member",
          "member",
          "member",
          "member",
          "member",
          "member",
          "member",
          "member",
          "member",
          "member",
          "member",
          "member",
          "member",
          "member",
          "member",
          "member",
          "member",
          "member",
          "member",
          "member",
          "member",
          "member",
          "member",
          "member",
          "member",
          "member",
          "member",
          "member",
          "member",
          "member",
          "member",
          "member",
          "member",
          "member",
          "member",
          "member",
          "member",
          "member",
          "member",
          "member",
          "member",
          "member",
          "member",
          "member",
          "member",
          "member",
          "member",
          "member",
          "member",
          "member",
          "member",
          "member",
          "member",
          "member",
          "member",
          "member",
          "member",
          "member",
          "member",
          "member",
          "member",
          "member",
          "member",
          "member",
          "member",
          "member",
          "member",
          "member",
          "member",
          "member",
          "member",
          "member",
          "member",
          "member",
          "member",
          "member",
          "member",
          "member",
          "member",
          "member",
          "member",
          "member",
          "member",
          "member",
          "member",
          "member",
          "member",
          "member",
          "member",
          "member",
          "member",
          "member",
          "member",
          "member",
          "member",
          "member",
          "member",
          "member",
          "member",
          "member",
          "member",
          "member",
          "member",
          "member",
          "member",
          "member",
          "member",
          "member",
          "member",
          "member",
          "member",
          "member",
          "member",
          "member",
          "member",
          "member",
          "member",
          "member",
          "member",
          "member",
          "member",
          "member",
          "member",
          "member",
          "member",
          "member",
          "member",
          "member",
          "member",
          "member",
          "member",
          "member",
          "member",
          "member",
          "member",
          "member",
          "member",
          "member",
          "member",
          "member",
          "member",
          "member",
          "member",
          "member",
          "member",
          "member",
          "member",
          "member",
          "member",
          "member",
          "member",
          "member",
          "member",
          "member",
          "member",
          "member",
          "member",
          "member",
          "member",
          "member",
          "member",
          "member",
          "member",
          "member",
          "member",
          "member",
          "member",
          "member",
          "member",
          "member",
          "member",
          "member",
          "member",
          "member",
          "member",
          "member",
          "member",
          "member",
          "member",
          "member",
          "member",
          "member",
          "member",
          "member",
          "member",
          "member",
          "member",
          "member",
          "member",
          "member",
          "member",
          "member",
          "member",
          "member",
          "member",
          "member",
          "member",
          "member",
          "member",
          "member",
          "member",
          "member",
          "member",
          "member",
          "member",
          "member",
          "member",
          "member",
          "member",
          "member",
          "member",
          "member",
          "member",
          "member",
          "member",
          "member",
          "member",
          "member",
          "member",
          "member",
          "member",
          "member",
          "member",
          "member",
          "member",
          "member",
          "member",
          "member",
          "member",
          "member",
          "member",
          "member",
          "member",
          "member",
          "member",
          "member",
          "member",
          "member",
          "member",
          "member",
          "member",
          "member",
          "member",
          "member",
          "member",
          "member",
          "member",
          "member",
          "member",
          "member",
          "member",
          "member",
          "member",
          "member",
          "member",
          "member",
          "member",
          "member",
          "member",
          "member",
          "member",
          "member",
          "member",
          "member",
          "member",
          "member",
          "member",
          "member",
          "member",
          "member",
          "member",
          "member",
          "member",
          "member",
          "member",
          "member",
          "member",
          "member",
          "member",
          "member",
          "member",
          "member",
          "member",
          "member",
          "member",
          "member",
          "member",
          "member",
          "member",
          "member",
          "member",
          "member",
          "member",
          "member",
          "member",
          "member",
          "member",
          "member",
          "member",
          "member",
          "member",
          "member",
          "member",
          "member",
          "member",
          "member",
          "member",
          "member",
          "member",
          "member",
          "member",
          "member",
          "member",
          "member",
          "member",
          "member",
          "member",
          "member",
          "member",
          "member",
          "member",
          "member",
          "member",
          "member",
          "member",
          "member",
          "member",
          "member",
          "member",
          "member",
          "member",
          "member",
          "member",
          "member",
          "member",
          "member",
          "member",
          "member",
          "member",
          "member",
          "member",
          "member",
          "member",
          "member",
          "member",
          "member",
          "member",
          "member",
          "member",
          "member",
          "member",
          "member",
          "member",
          "member",
          "member",
          "member",
          "member",
          "member",
          "member",
          "member",
          "member",
          "member",
          "member",
          "member",
          "member",
          "member",
          "member",
          "member",
          "member",
          "member",
          "member",
          "member",
          "member",
          "member",
          "member",
          "member",
          "member",
          "member",
          "member",
          "member",
          "member",
          "member",
          "member",
          "member",
          "member",
          "member",
          "member",
          "member",
          "member",
          "member",
          "member",
          "member",
          "member",
          "member",
          "member",
          "member",
          "member",
          "member",
          "member",
          "member",
          "member",
          "member",
          "member",
          "member",
          "member",
          "member",
          "member",
          "member",
          "member",
          "member",
          "member",
          "member",
          "member",
          "member",
          "member",
          "member",
          "member",
          "member",
          "member",
          "member",
          "member",
          "member",
          "member",
          "member",
          "member",
          "member",
          "member",
          "member",
          "member",
          "member",
          "member",
          "member",
          "member",
          "member",
          "member",
          "member",
          "member",
          "member",
          "member",
          "member",
          "member",
          "member",
          "member",
          "member",
          "member",
          "member",
          "member",
          "member",
          "member",
          "member",
          "member",
          "member",
          "member",
          "member",
          "member",
          "member",
          "member",
          "member",
          "member",
          "member",
          "member",
          "member",
          "member",
          "member",
          "member",
          "member",
          "member",
          "member",
          "member",
          "member",
          "member",
          "member",
          "member",
          "member",
          "member",
          "member",
          "member",
          "member",
          "member",
          "member",
          "member",
          "member",
          "member",
          "member",
          "member",
          "member",
          "member",
          "member",
          "member",
          "member",
          "member",
          "member",
          "member",
          "member",
          "member",
          "member",
          "member",
          "member",
          "member",
          "member",
          "member",
          "member",
          "member",
          "member",
          "member",
          "member",
          "member",
          "member",
          "member",
          "member",
          "member",
          "member",
          "member",
          "member",
          "member",
          "member",
          "member",
          "member",
          "member",
          "member",
          "member",
          "member",
          "member",
          "member",
          "member",
          "member",
          "member",
          "member",
          "member",
          "member",
          "member",
          "member",
          "member",
          "member",
          "member",
          "member",
          "member",
          "member",
          "member",
          "member",
          "member",
          "member",
          "member",
          "member",
          "member",
          "member",
          "member",
          "member",
          "member",
          "member",
          "member",
          "member",
          "member",
          "member",
          "member",
          "member",
          "member",
          "member",
          "member",
          "member",
          "member",
          "member",
          "member",
          "member",
          "member",
          "member",
          "member",
          "member",
          "member",
          "member",
          "member",
          "member",
          "member",
          "member",
          "member",
          "member",
          "member",
          "member",
          "member",
          "member",
          "member",
          "member",
          "member",
          "member",
          "member",
          "member",
          "member",
          "member",
          "member",
          "member",
          "member",
          "member",
          "member",
          "member",
          "member",
          "member",
          "member",
          "member",
          "member",
          "member",
          "member",
          "member",
          "member",
          "member",
          "member",
          "member",
          "member",
          "member",
          "member",
          "member",
          "member",
          "member",
          "member",
          "member",
          "member",
          "member",
          "member",
          "member",
          "member",
          "member",
          "member",
          "member",
          "member",
          "member",
          "member",
          "member",
          "member",
          "member",
          "member",
          "member",
          "member",
          "member",
          "member",
          "member",
          "member",
          "member",
          "member",
          "member",
          "member",
          "member",
          "member",
          "member",
          "member",
          "member",
          "member",
          "member",
          "member",
          "member",
          "member",
          "member",
          "member",
          "member",
          "member",
          "member",
          "member",
          "member",
          "member",
          "member",
          "member",
          "member",
          "member",
          "member",
          "member",
          "member",
          "member",
          "member",
          "member",
          "member",
          "member",
          "member",
          "member",
          "member",
          "member",
          "member",
          "member",
          "member",
          "member",
          "member",
          "member",
          "member",
          "member",
          "member",
          "member",
          "member",
          "member",
          "member",
          "member",
          "member",
          "member",
          "member",
          "member",
          "member",
          "member",
          "member",
          "member",
          "member",
          "member",
          "member",
          "member",
          "member",
          "member",
          "member",
          "member",
          "member",
          "member",
          "member",
          "member",
          "member",
          "member",
          "member",
          "member",
          "member",
          "member",
          "member",
          "member",
          "member",
          "member",
          "member",
          "member",
          "member",
          "member",
          "member",
          "member",
          "member",
          "member",
          "member",
          "member",
          "member",
          "member",
          "member",
          "member",
          "member",
          "member",
          "member",
          "member",
          "member",
          "member",
          "member",
          "member",
          "member",
          "member",
          "member",
          "member",
          "member",
          "member",
          "member",
          "member",
          "member",
          "member",
          "member",
          "member",
          "member",
          "member",
          "member",
          "member",
          "member",
          "member",
          "member",
          "member",
          "member",
          "member",
          "member",
          "member",
          "member",
          "member",
          "member",
          "member",
          "member",
          "member",
          "member",
          "member",
          "member",
          "member",
          "member",
          "member",
          "member",
          "member",
          "member",
          "member",
          "member",
          "member",
          "member",
          "member",
          "member",
          "member",
          "member",
          "member",
          "member",
          "member",
          "member",
          "member",
          "member",
          "member",
          "member",
          "member",
          "member",
          "member",
          "member",
          "member",
          "member",
          "member",
          "member",
          "member",
          "member",
          "member",
          "member",
          "member",
          "member",
          "member",
          "member",
          "member",
          "member",
          "member",
          "member",
          "member",
          "member",
          "member",
          "member",
          "member",
          "member",
          "member",
          "member",
          "member",
          "member",
          "member",
          "member",
          "member",
          "member",
          "member",
          "member",
          "member",
          "member",
          "member",
          "member",
          "member",
          "member",
          "member",
          "member",
          "member",
          "member",
          "member",
          "member",
          "member",
          "member",
          "member",
          "member",
          "member",
          "member",
          "member",
          "member",
          "member",
          "member",
          "member",
          "member",
          "member",
          "member",
          "member",
          "member",
          "member",
          "member",
          "member",
          "member",
          "member",
          "member",
          "member",
          "member",
          "member",
          "member",
          "member",
          "member",
          "member",
          "member",
          "member",
          "member",
          "member",
          "member",
          "member",
          "member",
          "member",
          "member",
          "member",
          "member",
          "member",
          "member",
          "member",
          "member",
          "member",
          "member",
          "member",
          "member",
          "member",
          "member",
          "member",
          "member",
          "member",
          "member",
          "member",
          "member",
          "member",
          "member",
          "member",
          "member",
          "member",
          "member",
          "member",
          "member",
          "member",
          "member",
          "member",
          "member",
          "member",
          "member",
          "member",
          "member",
          "member",
          "member",
          "member",
          "member",
          "member",
          "member",
          "member",
          "member",
          "member",
          "member",
          "member",
          "member",
          "member",
          "member",
          "member",
          "member",
          "member",
          "member",
          "member",
          "member",
          "member",
          "member",
          "member",
          "member",
          "member",
          "member",
          "member",
          "member",
          "member",
          "member",
          "member",
          "member",
          "member",
          "member",
          "member",
          "member",
          "member",
          "member",
          "member",
          "member",
          "member",
          "member",
          "member",
          "member",
          "member",
          "member",
          "member",
          "member",
          "member",
          "member",
          "member",
          "member",
          "member",
          "member",
          "member",
          "member",
          "member",
          "member",
          "member",
          "member",
          "member",
          "member",
          "member",
          "member",
          "member",
          "member",
          "member",
          "member",
          "member",
          "member",
          "member",
          "member",
          "member",
          "member",
          "member",
          "member",
          "member",
          "member",
          "member",
          "member",
          "member",
          "member",
          "member",
          "member",
          "member",
          "member",
          "member",
          "member",
          "member",
          "member",
          "member",
          "member",
          "member",
          "member",
          "member",
          "member",
          "member",
          "member",
          "member",
          "member",
          "member",
          "member",
          "member",
          "member",
          "member",
          "member",
          "member",
          "member",
          "member",
          "member",
          "member",
          "member",
          "member",
          "member",
          "member",
          "member",
          "member",
          "member",
          "member",
          "member",
          "member",
          "member",
          "member",
          "member",
          "member",
          "member",
          "member",
          "member",
          "member",
          "member",
          "member",
          "member",
          "member",
          "member",
          "member",
          "member",
          "member",
          "member",
          "member",
          "member",
          "member",
          "member",
          "member",
          "member",
          "member",
          "member",
          "member",
          "member",
          "member",
          "member",
          "member",
          "member",
          "member",
          "member",
          "member",
          "member",
          "member",
          "member",
          "member",
          "member",
          "member",
          "member",
          "member",
          "member",
          "member",
          "member",
          "member",
          "member",
          "member",
          "member",
          "member",
          "member",
          "member",
          "member",
          "member",
          "member",
          "member",
          "member",
          "member",
          "member",
          "member",
          "member",
          "member",
          "member",
          "member",
          "member",
          "member",
          "member",
          "member",
          "member",
          "member",
          "member",
          "member",
          "member",
          "member",
          "member",
          "member",
          "member",
          "member",
          "member",
          "member",
          "member",
          "member",
          "member",
          "member",
          "member",
          "member",
          "member",
          "member",
          "member",
          "member",
          "member",
          "member",
          "member",
          "member",
          "member",
          "member",
          "member",
          "member",
          "member",
          "member",
          "member",
          "member",
          "member",
          "member",
          "member",
          "member",
          "member",
          "member",
          "member",
          "member",
          "member",
          "member",
          "member",
          "member",
          "member",
          "member",
          "member",
          "member",
          "member",
          "member",
          "member",
          "member",
          "member",
          "member",
          "member",
          "member",
          "member",
          "member",
          "member",
          "member",
          "member",
          "member",
          "member",
          "member",
          "member",
          "member",
          "member",
          "member",
          "member",
          "member",
          "member",
          "member",
          "member",
          "member",
          "member",
          "member",
          "member",
          "member",
          "member",
          "member",
          "member",
          "member",
          "member",
          "member",
          "member",
          "member",
          "member",
          "member",
          "member",
          "member",
          "member",
          "member",
          "member",
          "member",
          "member",
          "member",
          "member",
          "member",
          "member",
          "member",
          "member",
          "member",
          "member",
          "member",
          "member",
          "member",
          "member",
          "member",
          "member",
          "member",
          "member",
          "member",
          "member",
          "member",
          "member",
          "member",
          "member",
          "member",
          "member",
          "member",
          "member",
          "member",
          "member",
          "member",
          "member",
          "member",
          "member",
          "member",
          "member",
          "member",
          "member",
          "member",
          "member",
          "member",
          "member",
          "member",
          "member",
          "member",
          "member",
          "member",
          "member",
          "member",
          "member",
          "member",
          "member",
          "member",
          "member",
          "member",
          "member",
          "member",
          "member",
          "member",
          "member",
          "member",
          "member",
          "member",
          "member",
          "member",
          "member",
          "member",
          "member",
          "member",
          "member",
          "member",
          "member",
          "member",
          "member",
          "member",
          "member",
          "member",
          "member",
          "member",
          "member",
          "member",
          "member",
          "member",
          "member",
          "member",
          "member",
          "member",
          "member",
          "member",
          "member",
          "member",
          "member",
          "member",
          "member",
          "member",
          "member",
          "member",
          "member",
          "member",
          "member",
          "member",
          "member",
          "member",
          "member",
          "member",
          "member",
          "member",
          "member",
          "member",
          "member",
          "member",
          "member",
          "member",
          "member",
          "member",
          "member",
          "member",
          "member",
          "member",
          "member",
          "member",
          "member",
          "member",
          "member",
          "member",
          "member",
          "member",
          "member",
          "member",
          "member",
          "member",
          "member",
          "member",
          "member",
          "member",
          "member",
          "member",
          "member",
          "member",
          "member",
          "member",
          "member",
          "member",
          "member",
          "member",
          "member",
          "member",
          "member",
          "member",
          "member",
          "member",
          "member",
          "member",
          "member",
          "member",
          "member",
          "member",
          "member",
          "member",
          "member",
          "member",
          "member",
          "member",
          "member",
          "member",
          "member",
          "member",
          "member",
          "member",
          "member",
          "member",
          "member",
          "member",
          "member",
          "member",
          "member",
          "member",
          "member",
          "member",
          "member",
          "member",
          "member",
          "member",
          "member",
          "member",
          "member",
          "member",
          "member",
          "member",
          "member",
          "member",
          "member",
          "member",
          "member",
          "member",
          "member",
          "member",
          "member",
          "member",
          "member",
          "member",
          "member",
          "member",
          "member",
          "member",
          "member",
          "member",
          "member",
          "member",
          "member",
          "member",
          "member",
          "member",
          "member",
          "member",
          "member",
          "member",
          "member",
          "member",
          "member",
          "member",
          "member",
          "member",
          "member",
          "member",
          "member",
          "member",
          "member",
          "member",
          "member",
          "member",
          "member",
          "member",
          "member",
          "member",
          "member",
          "member",
          "member",
          "member",
          "member",
          "member",
          "member",
          "member",
          "member",
          "member",
          "member",
          "member",
          "member",
          "member",
          "member",
          "member",
          "member",
          "member",
          "member",
          "member",
          "member",
          "member",
          "member",
          "member",
          "member",
          "member",
          "member",
          "member",
          "member",
          "member",
          "member",
          "member",
          "member",
          "member",
          "member",
          "member",
          "member",
          "member",
          "member",
          "member",
          "member",
          "member",
          "member",
          "member",
          "member",
          "member",
          "member",
          "member",
          "member",
          "member",
          "member",
          "member",
          "member",
          "member",
          "member",
          "member",
          "member",
          "member",
          "member",
          "member",
          "member",
          "member",
          "member",
          "member",
          "member",
          "member",
          "member",
          "member",
          "member",
          "member",
          "member",
          "member",
          "member",
          "member",
          "member",
          "member",
          "member",
          "member",
          "member",
          "member",
          "member",
          "member",
          "member",
          "member",
          "member",
          "member",
          "member",
          "member",
          "member",
          "member",
          "member",
          "member",
          "member",
          "member",
          "member",
          "member",
          "member",
          "member",
          "member",
          "member",
          "member",
          "member",
          "member",
          "member",
          "member",
          "member",
          "member",
          "member",
          "member",
          "member",
          "member",
          "member",
          "member",
          "member",
          "member",
          "member",
          "member",
          "member",
          "member",
          "member",
          "member",
          "member",
          "member",
          "member",
          "member",
          "member",
          "member",
          "member",
          "member",
          "member",
          "member",
          "member",
          "member",
          "member",
          "member",
          "member",
          "member",
          "member",
          "member",
          "member",
          "member",
          "member",
          "member",
          "member",
          "member",
          "member",
          "member",
          "member",
          "member",
          "member",
          "member",
          "member",
          "member",
          "member",
          "member",
          "member",
          "member",
          "member",
          "member",
          "member",
          "member",
          "member",
          "member",
          "member",
          "member",
          "member",
          "member",
          "member",
          "member",
          "member",
          "member",
          "member",
          "member",
          "member",
          "member",
          "member",
          "member",
          "member",
          "member",
          "member",
          "member",
          "member",
          "member",
          "member",
          "member",
          "member",
          "member",
          "member",
          "member",
          "member",
          "member",
          "member",
          "member",
          "member",
          "member",
          "member",
          "member",
          "member",
          "member",
          "member",
          "member",
          "member",
          "member",
          "member",
          "member",
          "member",
          "member",
          "member",
          "member",
          "member",
          "member",
          "member",
          "member",
          "member",
          "member",
          "member",
          "member",
          "member",
          "member",
          "member",
          "member",
          "member",
          "member",
          "member",
          "member",
          "member",
          "member",
          "member",
          "member",
          "member",
          "member",
          "member",
          "member",
          "member",
          "member",
          "member",
          "member",
          "member",
          "member",
          "member",
          "member",
          "member",
          "member",
          "member",
          "member",
          "member",
          "member",
          "member",
          "member",
          "member",
          "member",
          "member",
          "member",
          "member",
          "member",
          "member",
          "member",
          "member",
          "member",
          "member",
          "member",
          "member",
          "member",
          "member",
          "member",
          "member",
          "member",
          "member",
          "member",
          "member",
          "member",
          "member",
          "member",
          "member",
          "member",
          "member",
          "member",
          "member",
          "member",
          "member",
          "member",
          "member",
          "member",
          "member",
          "member",
          "member",
          "member",
          "member",
          "member",
          "member",
          "member",
          "member",
          "member",
          "member",
          "member",
          "member",
          "member",
          "member",
          "member",
          "member",
          "member",
          "member",
          "member",
          "member",
          "member",
          "member",
          "member",
          "member",
          "member",
          "member",
          "member",
          "member",
          "member",
          "member",
          "member",
          "member",
          "member",
          "member",
          "member",
          "member",
          "member",
          "member",
          "member",
          "member",
          "member",
          "member",
          "member",
          "member",
          "member",
          "member",
          "member",
          "member",
          "member",
          "member",
          "member",
          "member",
          "member",
          "member",
          "member",
          "member",
          "member",
          "member",
          "member",
          "member",
          "member",
          "member",
          "member",
          "member",
          "member",
          "member",
          "member",
          "member",
          "member",
          "member",
          "member",
          "member",
          "member",
          "member",
          "member",
          "member",
          "member",
          "member",
          "member",
          "member",
          "member",
          "member",
          "member",
          "member",
          "member",
          "member",
          "member",
          "member",
          "member",
          "member",
          "member",
          "member",
          "member",
          "member",
          "member",
          "member",
          "member",
          "member",
          "member",
          "member",
          "member",
          "member",
          "member",
          "member",
          "member",
          "member",
          "member",
          "member",
          "member",
          "member",
          "member",
          "member",
          "member",
          "member",
          "member",
          "member",
          "member",
          "member",
          "member",
          "member",
          "member",
          "member",
          "member",
          "member",
          "member",
          "member",
          "member",
          "member",
          "member",
          "member",
          "member",
          "member",
          "member",
          "member",
          "member",
          "member",
          "member",
          "member",
          "member",
          "member",
          "member",
          "member",
          "member",
          "member",
          "member",
          "member",
          "member",
          "member",
          "member",
          "member",
          "member",
          "member",
          "member",
          "member",
          "member",
          "member",
          "member",
          "member",
          "member",
          "member",
          "member",
          "member",
          "member",
          "member",
          "member",
          "member",
          "member",
          "member",
          "member",
          "member",
          "member",
          "member",
          "member",
          "member",
          "member",
          "member",
          "member",
          "member",
          "member",
          "member",
          "member",
          "member",
          "member",
          "member",
          "member",
          "member",
          "member",
          "member",
          "member",
          "member",
          "member",
          "member",
          "member",
          "member",
          "member",
          "member",
          "member",
          "member",
          "member",
          "member",
          "member",
          "member",
          "member",
          "member",
          "member",
          "member",
          "member",
          "member",
          "member",
          "member",
          "member",
          "member",
          "member",
          "member",
          "member",
          "member",
          "member",
          "member",
          "member",
          "member",
          "member",
          "member",
          "member",
          "member",
          "member",
          "member",
          "member",
          "member",
          "member",
          "member",
          "member",
          "member",
          "member",
          "member",
          "member",
          "member",
          "member",
          "member",
          "member",
          "member",
          "member",
          "member",
          "member",
          "member",
          "member",
          "member",
          "member",
          "member",
          "member",
          "member",
          "member",
          "member",
          "member",
          "member",
          "member",
          "member",
          "member",
          "member",
          "member",
          "member",
          "member",
          "member",
          "member",
          "member",
          "member",
          "member",
          "member",
          "member",
          "member",
          "member",
          "member",
          "member",
          "member",
          "member",
          "member",
          "member",
          "member",
          "member",
          "member",
          "member",
          "member",
          "member",
          "member",
          "member",
          "member",
          "member",
          "member",
          "member",
          "member",
          "member",
          "member",
          "member",
          "member",
          "member",
          "member",
          "member",
          "member",
          "member",
          "member",
          "member",
          "member",
          "member",
          "member",
          "member",
          "member",
          "member",
          "member",
          "member",
          "member",
          "member",
          "member",
          "member",
          "member",
          "member",
          "member",
          "member",
          "member",
          "member",
          "member",
          "member",
          "member",
          "member",
          "member",
          "member",
          "member",
          "member",
          "member",
          "member",
          "member",
          "member",
          "member",
          "member",
          "member",
          "member",
          "member",
          "member",
          "member",
          "member",
          "member",
          "member",
          "member",
          "member",
          "member",
          "member",
          "member",
          "member",
          "member",
          "member",
          "member",
          "member",
          "member",
          "member",
          "member",
          "member",
          "member",
          "member",
          "member",
          "member",
          "member",
          "member",
          "member",
          "member",
          "member",
          "member",
          "member",
          "member",
          "member",
          "member",
          "member",
          "member",
          "member",
          "member",
          "member",
          "member",
          "member",
          "member",
          "member",
          "member",
          "member",
          "member",
          "member",
          "member",
          "member",
          "member",
          "member",
          "member",
          "member",
          "member",
          "member",
          "member",
          "member",
          "member",
          "member",
          "member",
          "member",
          "member",
          "member",
          "member",
          "member",
          "member",
          "member",
          "member",
          "member",
          "member",
          "member",
          "member",
          "member",
          "member",
          "member",
          "member",
          "member",
          "member",
          "member",
          "member",
          "member",
          "member",
          "member",
          "member",
          "member",
          "member",
          "member",
          "member",
          "member",
          "member",
          "member",
          "member",
          "member",
          "member",
          "member",
          "member",
          "member",
          "member",
          "member",
          "member",
          "member",
          "member",
          "member",
          "member",
          "member",
          "member",
          "member",
          "member",
          "member",
          "member",
          "member",
          "member",
          "member",
          "member",
          "member",
          "member",
          "member",
          "member",
          "member",
          "member",
          "member",
          "member",
          "member",
          "member",
          "member",
          "member",
          "member",
          "member",
          "member",
          "member",
          "member",
          "member",
          "member",
          "member",
          "member",
          "member",
          "member",
          "member",
          "member",
          "member",
          "member",
          "member",
          "member",
          "member",
          "member",
          "member",
          "member",
          "member",
          "member",
          "member",
          "member",
          "member",
          "member",
          "member",
          "member",
          "member",
          "member",
          "member",
          "member",
          "member",
          "member",
          "member",
          "member",
          "member",
          "member",
          "member",
          "member",
          "member",
          "member",
          "member",
          "member",
          "member",
          "member",
          "member",
          "member",
          "member",
          "member",
          "member",
          "member",
          "member",
          "member",
          "member",
          "member",
          "member",
          "member",
          "member",
          "member",
          "member",
          "member",
          "member",
          "member",
          "member",
          "member",
          "member",
          "member",
          "member",
          "member",
          "member",
          "member",
          "member",
          "member",
          "member",
          "member",
          "member",
          "member",
          "member",
          "member",
          "member",
          "member",
          "member",
          "member",
          "member",
          "member",
          "member",
          "member",
          "member",
          "member",
          "member",
          "member",
          "member",
          "member",
          "member",
          "member",
          "member",
          "member",
          "member",
          "member",
          "member",
          "member",
          "member",
          "member",
          "member",
          "member",
          "member",
          "member",
          "member",
          "member",
          "member",
          "member",
          "member",
          "member",
          "member",
          "member",
          "member",
          "member",
          "member",
          "member",
          "member",
          "member",
          "member",
          "member",
          "member",
          "member",
          "member",
          "member",
          "member",
          "member",
          "member",
          "member",
          "member",
          "member",
          "member",
          "member",
          "member",
          "member",
          "member",
          "member",
          "member",
          "member",
          "member",
          "member",
          "member",
          "member",
          "member",
          "member",
          "member",
          "member",
          "member",
          "member",
          "member",
          "member",
          "member",
          "member",
          "member",
          "member",
          "member",
          "member",
          "member",
          "member",
          "member",
          "member",
          "member",
          "member",
          "member",
          "member",
          "member",
          "member",
          "member",
          "member",
          "member",
          "member",
          "member",
          "member",
          "member",
          "member",
          "member",
          "member",
          "member",
          "member",
          "member",
          "member",
          "member",
          "member",
          "member",
          "member",
          "member",
          "member",
          "member",
          "member",
          "member",
          "member",
          "member",
          "member",
          "member",
          "member",
          "member",
          "member",
          "member",
          "member",
          "member",
          "member",
          "member",
          "member",
          "member",
          "member",
          "member",
          "member",
          "member",
          "member",
          "member",
          "member",
          "member",
          "member",
          "member",
          "member",
          "member",
          "member",
          "member",
          "member",
          "member",
          "member",
          "member",
          "member",
          "member",
          "member",
          "member",
          "member",
          "member",
          "member",
          "member",
          "member",
          "member",
          "member",
          "member",
          "member",
          "member",
          "member",
          "member",
          "member",
          "member",
          "member",
          "member",
          "member",
          "member",
          "member",
          "member",
          "member",
          "member",
          "member",
          "member",
          "member",
          "member",
          "member",
          "member",
          "member",
          "member",
          "member",
          "member",
          "member",
          "member",
          "member",
          "member",
          "member",
          "member",
          "member",
          "member",
          "member",
          "member",
          "member",
          "member",
          "member",
          "member",
          "member",
          "member",
          "member",
          "member",
          "member",
          "member",
          "member",
          "member",
          "member",
          "member",
          "member",
          "member",
          "member",
          "member",
          "member",
          "member",
          "member",
          "member",
          "member",
          "member",
          "member",
          "member",
          "member",
          "member",
          "member",
          "member",
          "member",
          "member",
          "member",
          "member",
          "member",
          "member",
          "member",
          "member",
          "member",
          "member",
          "member",
          "member",
          "member",
          "member",
          "member",
          "member",
          "member",
          "member",
          "member",
          "member",
          "member",
          "member",
          "member",
          "member",
          "member",
          "member",
          "member",
          "member",
          "member",
          "member",
          "member",
          "member",
          "member",
          "member",
          "member",
          "member",
          "member",
          "member",
          "member",
          "member",
          "member",
          "member",
          "member",
          "member",
          "member",
          "member",
          "member",
          "member",
          "member",
          "member",
          "member",
          "member",
          "member",
          "member",
          "member",
          "member",
          "member",
          "member",
          "member",
          "member",
          "member",
          "member",
          "member",
          "member",
          "member",
          "member",
          "member",
          "member",
          "member",
          "member",
          "member",
          "member",
          "member",
          "member",
          "member",
          "member",
          "member",
          "member",
          "member",
          "member",
          "member",
          "member",
          "member",
          "member",
          "member",
          "member",
          "member",
          "member",
          "member",
          "member",
          "member",
          "member",
          "member",
          "member",
          "member",
          "member",
          "member",
          "member",
          "member",
          "member",
          "member",
          "member",
          "member",
          "member",
          "member",
          "member",
          "member",
          "member",
          "member",
          "member",
          "member",
          "member",
          "member",
          "member",
          "member",
          "member",
          "member",
          "member",
          "member",
          "member",
          "member",
          "member",
          "member",
          "member",
          "member",
          "member",
          "member",
          "member",
          "member",
          "member",
          "member",
          "member",
          "member",
          "member",
          "member",
          "member",
          "member",
          "member",
          "member",
          "member",
          "member",
          "member",
          "member",
          "member",
          "member",
          "member",
          "member",
          "member",
          "member",
          "member",
          "member",
          "member",
          "member",
          "member",
          "member",
          "member",
          "member",
          "member",
          "member",
          "member",
          "member",
          "member",
          "member",
          "member",
          "member",
          "member",
          "member",
          "member",
          "member",
          "member",
          "member",
          "member",
          "member",
          "member",
          "member",
          "member",
          "member",
          "member",
          "member",
          "member",
          "member",
          "member",
          "member",
          "member",
          "member",
          "member",
          "member",
          "member",
          "member",
          "member",
          "member",
          "member",
          "member",
          "member",
          "member",
          "member",
          "member",
          "member",
          "member",
          "member",
          "member",
          "member",
          "member",
          "member",
          "member",
          "member",
          "member",
          "member",
          "member",
          "member",
          "member",
          "member",
          "member",
          "member",
          "member",
          "member",
          "member",
          "member",
          "member",
          "member",
          "member",
          "member",
          "member",
          "member",
          "member",
          "member",
          "member",
          "member",
          "member",
          "member",
          "member",
          "member",
          "member",
          "member",
          "member",
          "member",
          "member",
          "member",
          "member",
          "member",
          "member",
          "member",
          "member",
          "member",
          "member",
          "member",
          "member",
          "member",
          "member",
          "member",
          "member",
          "member",
          "member",
          "member",
          "member",
          "member",
          "member",
          "member",
          "member",
          "member",
          "member",
          "member",
          "member",
          "member",
          "member",
          "member",
          "member",
          "member",
          "member",
          "member",
          "member",
          "member",
          "member",
          "member",
          "member",
          "member",
          "member",
          "member",
          "member",
          "member",
          "member",
          "member",
          "member",
          "member",
          "member",
          "member",
          "member",
          "member",
          "member",
          "member",
          "member",
          "member",
          "member",
          "member",
          "member",
          "member",
          "member",
          "member",
          "member",
          "member",
          "member",
          "member",
          "member",
          "member",
          "member",
          "member",
          "member",
          "member",
          "member",
          "member",
          "member",
          "member",
          "member",
          "member",
          "member",
          "member",
          "member",
          "member",
          "member",
          "member",
          "member",
          "member",
          "member",
          "member",
          "member",
          "member",
          "member",
          "member",
          "member",
          "member",
          "member",
          "member",
          "member",
          "member",
          "member",
          "member",
          "member",
          "member",
          "member",
          "member",
          "member",
          "member",
          "member",
          "member",
          "member",
          "member",
          "member",
          "member",
          "member",
          "member",
          "member",
          "member",
          "member",
          "member",
          "member",
          "member",
          "member",
          "member",
          "member",
          "member",
          "member",
          "member",
          "member",
          "member",
          "member",
          "member",
          "member",
          "member",
          "member",
          "member",
          "member",
          "member",
          "member",
          "member",
          "member",
          "member",
          "member",
          "member",
          "member",
          "member",
          "member",
          "member",
          "member",
          "member",
          "member",
          "member",
          "member",
          "member",
          "member",
          "member",
          "member",
          "member",
          "member",
          "member",
          "member",
          "member",
          "member",
          "member",
          "member",
          "member",
          "member",
          "member",
          "member",
          "member",
          "member",
          "member",
          "member",
          "member",
          "member",
          "member",
          "member",
          "member",
          "member",
          "member",
          "member",
          "member",
          "member",
          "member",
          "member",
          "member",
          "member",
          "member",
          "member",
          "member",
          "member",
          "member",
          "member",
          "member",
          "member",
          "member",
          "member",
          "member",
          "member",
          "member",
          "member",
          "member",
          "member",
          "member",
          "member",
          "member",
          "member",
          "member",
          "member",
          "member",
          "member",
          "member",
          "member",
          "member",
          "member",
          "member",
          "member",
          "member",
          "member",
          "member",
          "member",
          "member",
          "member",
          "member",
          "member",
          "member",
          "member",
          "member",
          "member",
          "member",
          "member",
          "member",
          "member",
          "member",
          "member",
          "member",
          "member",
          "member",
          "member",
          "member",
          "member",
          "member",
          "member",
          "member",
          "member",
          "member",
          "member",
          "member",
          "member",
          "member",
          "member",
          "member",
          "member",
          "member",
          "member",
          "member",
          "member",
          "member",
          "member",
          "member",
          "member",
          "member",
          "member",
          "member",
          "member",
          "member",
          "member",
          "member",
          "member",
          "member",
          "member",
          "member",
          "member",
          "member",
          "member",
          "member",
          "member",
          "member",
          "member",
          "member",
          "member",
          "member",
          "member",
          "member",
          "member",
          "member",
          "member",
          "member",
          "member",
          "member",
          "member",
          "member",
          "member",
          "member",
          "member",
          "member",
          "member",
          "member",
          "member",
          "member",
          "member",
          "member",
          "member",
          "member",
          "member",
          "member",
          "member",
          "member",
          "member",
          "member",
          "member",
          "member",
          "member",
          "member",
          "member",
          "member",
          "member",
          "member",
          "member",
          "member",
          "member",
          "member",
          "member",
          "member",
          "member",
          "member",
          "member",
          "member",
          "member",
          "member",
          "member",
          "member",
          "member",
          "member",
          "member",
          "member",
          "member",
          "member",
          "member",
          "member",
          "member",
          "member",
          "member",
          "member",
          "member",
          "member",
          "member",
          "member",
          "member",
          "member",
          "member",
          "member",
          "member",
          "member",
          "member",
          "member",
          "member",
          "member",
          "member",
          "member",
          "member",
          "member",
          "member",
          "member",
          "member",
          "member",
          "member",
          "member",
          "member",
          "member",
          "member",
          "member",
          "member",
          "member",
          "member",
          "member",
          "member",
          "member",
          "member",
          "member",
          "member",
          "member",
          "member",
          "member",
          "member",
          "member",
          "member",
          "member",
          "member",
          "member",
          "member",
          "member",
          "member",
          "member",
          "member",
          "member",
          "member",
          "member",
          "member",
          "member",
          "member",
          "member",
          "member",
          "member",
          "member",
          "member",
          "member",
          "member",
          "member",
          "member",
          "member",
          "member",
          "member",
          "member",
          "member",
          "member",
          "member",
          "member",
          "member",
          "member",
          "member",
          "member",
          "member",
          "member",
          "member",
          "member",
          "member",
          "member",
          "member",
          "member",
          "member",
          "member",
          "member",
          "member",
          "member",
          "member",
          "member",
          "member",
          "member",
          "member",
          "member",
          "member",
          "member",
          "member",
          "member",
          "member",
          "member",
          "member",
          "member",
          "member",
          "member",
          "member",
          "member",
          "member",
          "member",
          "member",
          "member",
          "member",
          "member",
          "member",
          "member",
          "member",
          "member",
          "member",
          "member",
          "member",
          "member",
          "member",
          "member",
          "member",
          "member",
          "member",
          "member",
          "member",
          "member",
          "member",
          "member",
          "member",
          "member",
          "member",
          "member",
          "member",
          "member",
          "member",
          "member",
          "member",
          "member",
          "member",
          "member",
          "member",
          "member",
          "member",
          "member",
          "member",
          "member",
          "member",
          "member",
          "member",
          "member",
          "member",
          "member",
          "member",
          "member",
          "member",
          "member",
          "member",
          "member",
          "member",
          "member",
          "member",
          "member",
          "member",
          "member",
          "member",
          "member",
          "member",
          "member",
          "member",
          "member",
          "member",
          "member",
          "member",
          "member",
          "member",
          "member",
          "member",
          "member",
          "member",
          "member",
          "member",
          "member",
          "member",
          "member",
          "member",
          "member",
          "member",
          "member",
          "member",
          "member",
          "member",
          "member",
          "member",
          "member",
          "member",
          "member",
          "member",
          "member",
          "member",
          "member",
          "member",
          "member",
          "member",
          "member",
          "member",
          "member",
          "member",
          "member",
          "member",
          "member",
          "member",
          "member",
          "member",
          "member",
          "member",
          "member",
          "member",
          "member",
          "member",
          "member",
          "member",
          "member",
          "member",
          "member",
          "member",
          "member",
          "member",
          "member",
          "member",
          "member",
          "member",
          "member",
          "member",
          "member",
          "member",
          "member",
          "member",
          "member",
          "member",
          "member",
          "member",
          "member",
          "member",
          "member",
          "member",
          "member",
          "member",
          "member",
          "member",
          "member",
          "member",
          "member",
          "member",
          "member",
          "member",
          "member",
          "member",
          "member",
          "member",
          "member",
          "member",
          "member",
          "member",
          "member",
          "member",
          "member",
          "member",
          "member",
          "member",
          "member",
          "member",
          "member",
          "member",
          "member",
          "member",
          "member",
          "member",
          "member",
          "member",
          "member",
          "member",
          "member",
          "member",
          "member",
          "member",
          "member",
          "member",
          "member",
          "member",
          "member",
          "member",
          "member",
          "member",
          "member",
          "member",
          "member",
          "member",
          "member",
          "member",
          "member",
          "member",
          "member",
          "member",
          "member",
          "member",
          "member",
          "member",
          "member",
          "member",
          "member",
          "member",
          "member",
          "member",
          "member",
          "member",
          "member",
          "member",
          "member",
          "member",
          "member",
          "member",
          "member",
          "member",
          "member",
          "member",
          "member",
          "member",
          "member",
          "member",
          "member",
          "member",
          "member",
          "member",
          "member",
          "member",
          "member",
          "member",
          "member",
          "member",
          "member",
          "member",
          "member",
          "member",
          "member",
          "member",
          "member",
          "member",
          "member",
          "member",
          "member",
          "member",
          "member",
          "member",
          "member",
          "member",
          "member",
          "member",
          "member",
          "member",
          "member",
          "member",
          "member",
          "member",
          "member",
          "member",
          "member",
          "member",
          "member",
          "member",
          "member",
          "member",
          "member",
          "member",
          "member",
          "member",
          "member",
          "member",
          "member",
          "member",
          "member",
          "member",
          "member",
          "member",
          "member",
          "member",
          "member",
          "member",
          "member",
          "member",
          "member",
          "member",
          "member",
          "member",
          "member",
          "member",
          "member",
          "member",
          "member",
          "member",
          "member",
          "member",
          "member",
          "member",
          "member",
          "member",
          "member",
          "member",
          "member",
          "member",
          "member",
          "member",
          "member",
          "member",
          "member",
          "member",
          "member",
          "member",
          "member",
          "member",
          "member",
          "member",
          "member",
          "member",
          "member",
          "member",
          "member",
          "member",
          "member",
          "member",
          "member",
          "member",
          "member",
          "member",
          "member",
          "member",
          "member",
          "member",
          "member",
          "member",
          "member",
          "member",
          "member",
          "member",
          "member",
          "member",
          "member",
          "member",
          "member",
          "member",
          "member",
          "member",
          "member",
          "member",
          "member",
          "member",
          "member",
          "member",
          "member",
          "member",
          "member",
          "member",
          "member",
          "member",
          "member",
          "member",
          "member",
          "member",
          "member",
          "member",
          "member",
          "member",
          "member",
          "member",
          "member",
          "member",
          "member",
          "member",
          "member",
          "member",
          "member",
          "member",
          "member",
          "member",
          "member",
          "member",
          "member",
          "member",
          "member",
          "member",
          "member",
          "member",
          "member",
          "member",
          "member",
          "member",
          "member",
          "member",
          "member",
          "member",
          "member",
          "member",
          "member",
          "member",
          "member",
          "member",
          "member",
          "member",
          "member",
          "member",
          "member",
          "member",
          "member",
          "member",
          "member",
          "member",
          "member",
          "member",
          "member",
          "member",
          "member",
          "member",
          "member",
          "member",
          "member",
          "member",
          "member",
          "member",
          "member",
          "member",
          "member",
          "member",
          "member",
          "member",
          "member",
          "member",
          "member",
          "member",
          "member",
          "member",
          "member",
          "member",
          "member",
          "member",
          "member",
          "member",
          "member",
          "member",
          "member",
          "member",
          "member",
          "member",
          "member",
          "member",
          "member",
          "member",
          "member",
          "member",
          "member",
          "member",
          "member",
          "member",
          "member",
          "member",
          "member",
          "member",
          "member",
          "member",
          "member",
          "member",
          "member",
          "member",
          "member",
          "member",
          "member",
          "member",
          "member",
          "member",
          "member",
          "member",
          "member",
          "member",
          "member",
          "member",
          "member",
          "member",
          "member",
          "member",
          "member",
          "member",
          "member",
          "member",
          "member",
          "member",
          "member",
          "member",
          "member",
          "member",
          "member",
          "member",
          "member",
          "member",
          "member",
          "member",
          "member",
          "member",
          "member",
          "member",
          "member",
          "member",
          "member",
          "member",
          "member",
          "member",
          "member",
          "member",
          "member",
          "member",
          "member",
          "member",
          "member",
          "member",
          "member",
          "member",
          "member",
          "member",
          "member",
          "member",
          "member",
          "member",
          "member",
          "member",
          "member",
          "member",
          "member",
          "member",
          "member",
          "member",
          "member",
          "member",
          "member",
          "member",
          "member",
          "member",
          "member",
          "member",
          "member",
          "member",
          "member",
          "member",
          "member",
          "member",
          "member",
          "member",
          "member",
          "member",
          "member",
          "member",
          "member",
          "member",
          "member",
          "member",
          "member",
          "member",
          "member",
          "member",
          "member",
          "member",
          "member",
          "member",
          "member",
          "member",
          "member",
          "member",
          "member",
          "member",
          "member",
          "member",
          "member",
          "member",
          "member",
          "member",
          "member",
          "member",
          "member",
          "member",
          "member",
          "member",
          "member",
          "member",
          "member",
          "member",
          "member",
          "member",
          "member",
          "member",
          "member",
          "member",
          "member",
          "member",
          "member",
          "member",
          "member",
          "member",
          "member",
          "member",
          "member",
          "member",
          "member",
          "member",
          "member",
          "member",
          "member",
          "member",
          "member",
          "member",
          "member",
          "member",
          "member",
          "member",
          "member",
          "member",
          "member",
          "member",
          "member",
          "member",
          "member",
          "member",
          "member",
          "member",
          "member",
          "member",
          "member",
          "member",
          "member",
          "member",
          "member",
          "member",
          "member",
          "member",
          "member",
          "member",
          "member",
          "member",
          "member",
          "member",
          "member",
          "member",
          "member",
          "member",
          "member",
          "member",
          "member",
          "member",
          "member",
          "member",
          "member",
          "member",
          "member",
          "member",
          "member",
          "member",
          "member",
          "member",
          "member",
          "member",
          "member",
          "member",
          "member",
          "member",
          "member",
          "member",
          "member",
          "member",
          "member",
          "member",
          "member",
          "member",
          "member",
          "member",
          "member",
          "member",
          "member",
          "member",
          "member",
          "member",
          "member",
          "member",
          "member",
          "member",
          "member",
          "member",
          "member",
          "member",
          "member",
          "member",
          "member",
          "member",
          "member",
          "member",
          "member",
          "member",
          "member",
          "member",
          "member",
          "member",
          "member",
          "member",
          "member",
          "member",
          "member",
          "member",
          "member",
          "member",
          "member",
          "member",
          "member",
          "member",
          "member",
          "member",
          "member",
          "member",
          "member",
          "member",
          "member",
          "member",
          "member",
          "member",
          "member",
          "member",
          "member",
          "member",
          "member",
          "member",
          "member",
          "member",
          "member",
          "member",
          "member",
          "member",
          "member",
          "member",
          "member",
          "member",
          "member",
          "member",
          "member",
          "member",
          "member",
          "member",
          "member",
          "member",
          "member",
          "member",
          "member",
          "member",
          "member",
          "member",
          "member",
          "member",
          "member",
          "member",
          "member",
          "member",
          "member",
          "member",
          "member",
          "member",
          "member",
          "member",
          "member",
          "member",
          "member",
          "member",
          "member",
          "member",
          "member",
          "member",
          "member",
          "member",
          "member",
          "member",
          "member",
          "member",
          "member",
          "member",
          "member",
          "member",
          "member",
          "member",
          "member",
          "member",
          "member",
          "member",
          "member",
          "member",
          "member",
          "member",
          "member",
          "member",
          "member",
          "member",
          "member",
          "member",
          "member",
          "member",
          "member",
          "member",
          "member",
          "member",
          "member",
          "member",
          "member",
          "member",
          "member",
          "member",
          "member",
          "member",
          "member",
          "member",
          "member",
          "member",
          "member",
          "member",
          "member",
          "member",
          "member",
          "member",
          "member",
          "member",
          "member",
          "member",
          "member",
          "member",
          "member",
          "member",
          "member",
          "member",
          "member",
          "member",
          "member",
          "member",
          "member",
          "member",
          "member",
          "member",
          "member",
          "member",
          "member",
          "member",
          "member",
          "member",
          "member",
          "member",
          "member",
          "member",
          "member",
          "member",
          "member",
          "member",
          "member",
          "member",
          "member",
          "member",
          "member",
          "member",
          "member",
          "member",
          "member",
          "member",
          "member",
          "member",
          "member",
          "member",
          "member",
          "member",
          "member",
          "member",
          "member",
          "member",
          "member",
          "member",
          "member",
          "member",
          "member",
          "member",
          "member",
          "member",
          "member",
          "member",
          "member",
          "member",
          "member",
          "member",
          "member",
          "member",
          "member",
          "member",
          "member",
          "member",
          "member",
          "member",
          "member",
          "member",
          "member",
          "member",
          "member",
          "member",
          "member",
          "member",
          "member",
          "member",
          "member",
          "member",
          "member",
          "member",
          "member",
          "member",
          "member",
          "member",
          "member",
          "member",
          "member",
          "member",
          "member",
          "member",
          "member",
          "member",
          "member",
          "member",
          "member",
          "member",
          "member",
          "member",
          "member",
          "member",
          "member",
          "member",
          "member",
          "member",
          "member",
          "member",
          "member",
          "member",
          "member",
          "member",
          "member",
          "member",
          "member",
          "member",
          "member",
          "member",
          "member",
          "member",
          "member",
          "member",
          "member",
          "member",
          "member",
          "member",
          "member",
          "member",
          "member",
          "member",
          "member",
          "member",
          "member",
          "member",
          "member",
          "member",
          "member",
          "member",
          "member"
         ],
         "x0": " ",
         "xaxis": "x",
         "y": {
          "bdata": "JN4nNDaxKUBq3nGKjlQtQK5H4XoUzhtAriK2ztL4IkAzorQ3+OIaQMSxLm6jIRdAVMGopE6AGUCW1zcd7pAlQPaX3ZOHbTxABOq63bhyEkCPwvUoXE9MQEIZvS1rFSJA0SLb+X5qE0ACdd1uXMkgQAEDLrXLJAlAO9wh2MtJJ0DVDJbXN10KQFwgQfFj8EZAxnBiNYPlFEBBO7ok4QUiQEcr0WwxUiVAr0oPMOASCUDxGXYFyEU7QL53wc3PeixA6rrduLKx8z9b07zjFH0VQLNWxwQPxh5A/M4cf4/HJ0AynFjNYCk7QO0y6dzarwtAeoABl9olIEBmQTu6JAESQGQ730+NVxtAU+B35vibMUBVeoABl5I2QCWaLUZKUDNApSxDHOsGQEBvy1odE6QwQPs3Qhm9bRFAFIkcNTmPEkA3+MJkqmDwP4Ep8DtzjDpA05e4aNtDL0B7gAGX2oUjQG5Zq2OCBytAIfrIwBSYGUCOdXEbDTAyQMKr0gMMCCVAQKTfvg4MMkD1b4QyepsLQLVfUSRyrDNA3ic0NmEAM0D8zhx/j29CQE/UvxHKOCNAZmZmZmb2K0Bl0rm1XxEvQBwyC9rRFTtA3gIJih+DJUCwl5M9LyIpQHTaQKcNlBNAQog+MjC1N0AQejarPqchQHRJwqvSgwtA/Yf029dxKUDn+6nx0o0ZQEIZvS1rRSpAtH4gZhyQHECnfPXeBQcnQNnLyZ4XaU5AVOOlm8TwI0AV+8vuyQMLQB3J5T+kHylAkchRk/N4EUDz2KnMp2EOQHP8PZ6DhDNAdd1uXNkY9T/MOCAcxvceQHqi/o1QvjhA3kxf4qIdMkBdtO2haiVEQHEbDeAtmDlAUI2XbhIjEEBLNFuMlGATQFo/EDMOOCRAIYtHvE9YKkA2hhOrGWQxQHGsi9togCZANoYTqxkkMEB3LSEf9OzxP1S+eu+CmxRAppvEILDKN0DdtYR80LMOQAcYcKldJh1AOiNKe4MPM0CFf/5oJZonQN+74OZn/fc/RERERET0M0BVC//80aoaQESOmpzHzhtAG8OJ1QwWIEATqxksr28VQJrj7/EcZA9A5/up8dKFOUDhehSuRzElQDYawFsgYTFAvJaQD3p2GUDmZ/1AzKgrQHyoWvjn7yJA9Las1TFlSUC1X1EkcjQZQL2ZvsRF2/U/Ejlqch5rKkBVMCqpE5g8QJoqGJXUqSRA57FTmU9DDkC7uI0G8JYkQNvUU756TxRAVscED+bJFEBiNYPl9c0KQNWdFNNyJTNAarlG3kwvMUAM//zRSiQmQAUSFD/GFEZASQnUdbsxC0AxvlXE1gkqQHSQ6k6KKRRA/0Yoo7c9NkAzorQ3+MIOQAdixgHhYCJAXynLEMf6IUAnVjNYXuc8QGsGy+ubTh1A9UpZhji+NUCThFelB4g5QE+vlGWIow9ALyd7XgQYOUCnMp+GgmwmQLLCGlQIgShAguLHmLv2GUC9LWt1TFAbQHJDZkE7yiZAbuopX73XF0DPHH+P51RAQML1KFyPghhAqxksr2+aGkBBYOXQIms6QJkF7eiSBANAdSfFtFzDH0Ag95oLSTMaQGJXgNxr3iZA0Y4uSXhV8D9k8Yj3CaUwQFrQji5JeP0/z2bV52qLIUCiI7n8hzQdQN5MX+KinSlAhTWoEKJPCkC/xEXbHnolQBeSplScfQhA9Las1TFBDUBPr5RliDMoQKH4Meau5SRAbAn5oGdzA0BP+eq9Cy4jQMGDeaL+rRhAHswT9W/kFUCPeJ/Q2MQIQMwT9W+EsiVA7Q2+MJnKEEDANvWUr94YQLIubqMB7CZAWhrlhsyCFEDBg3mi/r00QPXeBTc/6yNAOWdEaW/AJ0BzjbyZvgQbQHUCmggbFjJAAU2EDU8/LkACvzPH32MpQCzUmuYdu0hAIv32deCMMEDApXaZdC4aQN5uXNkYljtATV/iom0vHUCFpCkVZ484QJLwqvQAAzVANe84RUcyHEDp/temnrIFQH9FkchRE0NA7saVjeG0QUAgY+5aQp4aQKnupJiW60FAZ9gVIPc6GkAywYN5or4NQGDApXaZzDRAwxpUCNFnJkAlBoGVQysSQJQbMgvacSFAduCcEaXVM0BhMlUwKh1CQO/Jw0KteSpA++3rwDnjDUA3Qhm9LWseQDtwzojSjiZAwxpUCNEHBkAFEhQ/xtwfQCQDU+B31iNAINJvXwdO/j/9PZ6DVLcIQJAxdy0hPyhAjy5JeFW6AkDwzPH3eO4mQK5sDCdWIy1AssIaVAhBKEAJrBxaZHskQNRQkMUjZjdAu924sjF8KUCrYFRSJwBNQP9oJZotxhNAMCqpE9DEHkCitDf4wsQQQMVICdR1KyRAubIxnFj9I0Baq2OCB+MpQIkZB4TDOAhAvODmZ/0wJ0BiEFg5tMgXQPnnj1aiOURA0LArQO71LUCMbxWxdbYTQA8w4FK7rChAGgeEw/hWBUAlCa9KD5AkQOQ5SHUn5SxAtKNLEl6VEUASFD/G3L0xQOF6FK5H+TJAVukBBlxq+z87kst/SD8RQNagQog+EilAHzuV+TQ0F0CKH2PuWpIoQCrwO3P8HTlAS8XZh8+INUAXAShZYY0QQFkXt9EA3g5AEMSMA8LZREAp7Q2+MPkaQPGI9wmNOUVAjy5JeFXKI0DQji5JeDUaQMXZh8+wgzVAqet248qGB0C511xImiIsQI8JHswT3TpAC9ejcD3KGEByQ2ZBO/opQLzg5mf94BJAyzLEsS5uNEDqAQZcalcRQARWDi2yvRtAkhXWoEIgN0DTBjptoPMlQAZcapdJxxNAUSRy1OTcFkAPC7WmebchQDCW/GLJvyRAkvCq9ABjN0BScfbhMywTQJ45/h7P4RNASVD8GHPjQkCaCBueXnktQH+P5yDVnR5AjACUrLDWMUAQDuNbRTJTQBzr4jYa2DRAXt90uEMgLkA7lfk0FAQWQFGQxSPeJ/0/tqmnfPVOIED/a1NP+eogQG/tVxSJTDRAZWM4sZrpOkCX/5B++6I3QKqnfPXedTNAsLy+6XBPOkALtaZ5x6kUQLByaJHtHBJAi0SOmpyPNEBvy1odE5wTQA4Ih/GtgihAkzoBTYRJQEACvAUSFF83QFeA3GsuRC9ANFuMlEA9KEB7W9bqmFAoQPZysudFKDNAqsynoSBLAkDLxnBiNWMrQHecoiO5fBZAbxKDwMpBIkBXW7G/7O42QEYASlZYgzxAKqblGnkTLkDcIdjLyZ4OQFphDSoEi3tA/0Yoo7fFJkCLIpGjJicUQEt7gy9Mpvk/0rm1X1GEOkC0XCNvpu8CQPYDMeOAODBAoYzelrV6A0AUiRw1ORc3QHyDL0ymqh5ApzKfhoLsA0CbnMdOZR4XQGN/2T15nFRAawbL65tOCEAEoGSFNegbQK0fiBkH9DBATcs18mZKL0BR/0Yoo+cqQCntDb4w+SBAHTU5j52KJUCcM6K0N5gdQOlILv8hPQNAQKTfvg7cDkBAWolmixEEQPDxHKS6mzlAkvCq9ACDCUDVDJbXN20hQHP8PZ6DNCRA3m5c2RjeKUC9vulwh7A9QNmpzKehUCBARWydpVHu+z87t/YriuQWQFYzWF7fJDlALpCg+DE2KkAT0ETY8NQpQO9/beopfzhA1qBCiD7yGEA1FGTxiFcRQEmaUnH2QTZA670Lbn6WGkCxK0DuNVcpQPJm+hIX/UlAGiyvbzo8KUCTXyz5xZIPQKMBvAUSVBZAKjqSy38YNUATqxksr68HQHctIR/0LC1A/T2eg1T3HkCThFelB5jxP+Iz7AqQqyFARdjw9EqpI0AtHvE+oTElQNMDDLjUThNA4eZn/UAMKEAVIPeaC+kvQL4wmSoYFRhAn9DYhKEDMEDN8fd4Dh5DQAmsHFpk2y1A9AADLrU7NUDWexfc/EwoQHyDL0ymyhhACtR1u3H1L0Asr2863MFLQPpZPxAzykRAs3vysFDLNkBDHOviNho3QBDEjAPCyTBAf9k9eVgIMEAOCIfxrWIOQGt1TPBgnihAfYmLtj1AQkBcRWydpREkQALhML5VKEBA97829ZQPQEAs0WwxUkIPQNftxpWNwS9AmwtJUyqeO0CCUUmdgJYmQEHxY8xdsz5Ad1JMyzViMkBfKcsQxzolQG/LWh0T/CNAYleA3Gu+QEDDrgC519wPQKPckFnQzipAz0GqOynON0AfGZgCv/MQQOlILv8hHRlAZ46/x3MAJEBP+eq9C74nQCW/WPKLQURADQVZPOI9PEBEs8VICaQvQME5I0p7IxpAJZotRkqAPEByr7mQNNUqQEoMAiuH9jRA670Lbn4GKEDXXEiaUjETQEE7uiThJUFAc7LnRQA2QUDFtFwjbyYPQKMm57FT2QpAu924sjHcHUAD5F5zIWkfQIK9nOx5MS9AvnfBzc+KJkCtad5xir4tQOU/pN++fiRA0LArQO41KEAfPsOuAFkQQKbA78zxFyVAOSAcxrfKFkAezBP1b+QaQOGfP1qJNixALyRNqTgrJECVHmDApfYFQCwbw4nVTCFA9lC18M8/HUApfoy5a4kYQHFAOIxv3TRAnTbQaQO5VUB6WKg1zV9EQHxhMlUwOiNAP3yGXQGyAEDlYaHWNG8FQHo2qz5X2xhAxW00gLf4N0Dn+6nx0h01QEVHcvkPaR1AmQXt6JIEAkBXFIkcNekkQO1U5tNQICdAEMSMA8KhE0Dkg57Nqq8TQGAvJ3temFNAC5B7zYWEGEDWexfc/HQyQGGeqH8jlB5Aomrhnz96JEBZgwoh+qghQG40gLdAUiNAd+b4ezyXLUDwgpuf9YMOQDmMbxWx9Q9AEjlqch77F0C511xImqIsQN64sjGceBlA7qFq4Z9/EUDqS1y07SECQOvfCGX0FihAAU2EDU9PKECF61G4HgUuQDEt18ibdUVAhl0Bcq85C0C8u7u7u8s0QHctIR/0DCFATcs18mZ6E0C+wRcmU31OQFO7TDq3BiBAnhTTco1ENUDlGnkzfSkqQHuoWvjn7zBAJN4nNDahPUDWxW00gHcfQNrO91PjZR1A6+I2GsDzREBqSsXZh6tLQKae8tV7JyNAX+KibQ89PkDPZtXnarsyQEyB35nj7yhAO9wh2MtJEkDNzMzMzHwxQKzSAwy4JCFAeekmMQhMFkAPwV5O9gwhQEymCkYl9ShAoNDYhKFbEUCfFwEoWcEcQIeqhX/+aBdA48rGcGK1JEA73CHYy0n5Pz7DrgC5VwpAfauIrbN0F0Ct1THBgzkYQPUDMeOAkC1A3+ALk6lCJkDzaSjI4lESQPqjlWi2+B1AH6oW/vmjGkBrBsvrm+ZCQHHRtoeq5RJAJzQ2Yeg+FUD2ULXwzy8kQIXGJgzdr0VAG8BbIEHRFUBL6gQ0EfYeQKJq4Z8/mihAbFNP+er9E0AH80T9G3lEQPL3eA5SXQxAkQ96NqteJUCZu5aQD/oeQJIV1qBCCApA5WGh1jT/KED7FUUiR50wQIHfmePvwSBA3WsuJE1JH0BpAG+BBEUCQBaPeJ/QuCRAPQep7qQ4KUCUGzIL2jEaQMe6uI0G3EFAnqVRbsjsAkC9UpYhjtUXQLprCfmgRyNAYleA3Gs+J0ChZ7Pqc0U2QEATYcPTqzRAp+hILv95MUDFbTSAt9g4QHrsVObTIChAKz3AgEuFNUCJY13cRlMiQHJlYzix4jdApCkVZx+uI0Bq3nGKjqQUQDxO0ZFcvhhA1sVtNIBnNkBDQRaPeN8KQMxaHRM8WCdAGZXUCWjCFkDn1n5FkfgtQKVRbsgsiBZAG8OJ1Qz2KUB6ov6NUMYFQF3ZGE6sRiFAXPsVRSLH8T+QxSPeJ5QUQNc3He4QXC9AUiegibDlR0BNFYxK6rQ3QL9Y8osl3yJAVZx9+AyLIEAUrkfheuQoQAvXo3A9ah9ArrM0yg3pKUCGzIJ2dPksQKKPDEyBnwRAT/nqvQsOKUCHqoV//kgXQHl6pSxDbCdA5fVNhzuEHkBVC//80QoUQI/C9Shcjy5Ajpqcx04VLUCEDU+vlCUYQLQSzRYjuUBAR3L5D+lvRUABAy61y4QlQFXm01CQjTRALv8h/faVN0Da8yIAJZshQGoDnTbQ6QZAeuxU5tMgJUA9B6nupAgjQJyf9QMxgzlAv+lwh2AvBUAwlvxiyS8XQJCg+DHm3jRAmAK/M8czQECaCBueXqn2P3xhMlUwShFAu924sjEcEEDuVxSJHKVNQMrDQq1p3h1Av6JI5KhpFkCamZmZmdkbQFOWIY51YSBAxgHhML6VCkANuwLkXqsyQJT2Bl+YjAlAC/zOHH/PCECLR7xPaCwfQCqm5Rp5UyhA6bSBThtoGEAs9pfdk8cNQNEi2/l+XkJA+sjAFPhdGkBZYQ0qhAhAQDu39iuKRBhAqhb++aMVKECiRbbz/RQiQFphDSqEiBJAbg9VC//sIECzVscED4YdQK6OCR7MEw5Af4/nINWtM0DBg3mi/g0FQFBDQRaPKCpAlIeFWtPcHkCDdnRJwpM0QGzkzfQlDhdA/dFKNFv0NkDkzfQlLsI5QGfYFSD3OhtAkX77OnAOHkAGXGqXSccpQG0xUgJ1fRtAnOlLXLRNGUBO9rwIQFEwQC8CULLC6iBAlR5gwKWWJ0CX2mXSufU3QPOzfiBmkERAk86t/YpiC0Buxf6yewI+QMJhfKuInSRAA8JhfKsYK0Bm1edqK7YlQJKmVJx9CCVA14FzRpQWR0COvJm+xEU1QBxXNoYTyyZAW9O84xR9H0AmUwWjkiZDQJE0peLsYxlAzMmeFwFoBkDcjSsbw8kFQAdixgHhUBVAvHFlYzj5O0C0yHa+n1I/QCwbw4nVDBdAvU9obMIwFUBqlBsyC9r5P2pv8IXJFA9AB4TD+FYRF0C18M8frQQLQDMzMzMz8yZADbsC5F7z9T8HhMP4VrEdQAOdNtBpwwpAH/RsVn0OEkA9wIBL7dIdQAsh+sjAlA1A/PAZdgUIFEDSAN4CCUoAQNrO91PjJStA/dFKNFvcMUBKnYAmwsYZQDGZKhiVFAVAxpWN4cQqB0A+eVioNdU3QBOG7n9t4jFAa3IeO5X5B0A+noNUd0IxQNdcSJpScfE/1jTvOEUnKECu/YoikQMxQCGwcmiR7QxArBxaZDu/H0CeqH8jlBEgQIG6bjeuLARAimaLkRLQN0A305e4aBscQC3XyJvpiwpArEGFEH0EHkC39iuKRJJFQCAcxreKuBJAoiO5/Id0BUBRSZ2AJgIlQBueXinLkPA/+n5qvHRDJ0A0yg2ZBa0dQE9lPg0FuTBA8x/Sb1+HJ0C5HoXrUVg6QPXeBTc/ezBAPVH/RijDJUCJ9wmNTSguQFS+eu+CGzxATcs18mY6EUA7lfk0FEQjQNeBc0aU9vY/CvmgZ7NGRkA18mb6EpcFQH0/NV66KStAFo94n9DY/z817zhFRxIXQA6ZBe3oUh9Aen3T4Q4BF0DxY8xdS7ghQHCpXSadWxdAYjJVMCqBMEBA7jUXkqbwP6NI5KjJ6SZALR7xPqExPUBnjr/HcxD2P08b6LSBAkJAxks3iUEQKECh+DHmriX/P/sSF217yBpA8/3UeOnmFEDg4zlIdWcBQM/VVuwvayBAvuZC0pSKI0BWxwQP5ukhQNv2ULXwTwNAY1qukTdjIEBlz4sAlMQ9QEYASlZYYxBA+VYRW2eZLkBlPg0FWbweQEIZvS1rLTJAEqW9wRfaQEC7SQwCK4cJQLyWkA96JjBAwRT4nTmOMECXuGjbQ5UCQHSQ6k6KSRZAlEBdtxvXH0DqJjEIrNwoQL7BFyZTDTZAuv+1qaesKUBvgQTFj1EkQHL5D+m3rwpAejarPle7FkC9UpYhjhUvQCegibDh6RZAEMSMA8KBEEBjOLGawTITQKLZYqQEKhFAj+TyH9J/J0Aq8Dtz/PVCQC61y6RzyxVAzmOnMp9GHEATYcPTK8UZQGoDnTbQCRtApeLsw2fYEEBM8GCeqLtQQBzr4jYaIBRAw4nVDJYXDEC0N/jCZIojQIrVDJbXxzFAqRCijwzMDkCBcBjfKqIcQEugrtuN6wZAUWuad5zCLkBMo9yQWcAuQHcI9nKytzJAw2SqYFTyIUBns+pztVUiQJrj7/EcXEdAn2FXgNyLHEBPZT4NBUkjQLr8h/TbVx5A0ko0W4xkOUDS3uALk4kZQKO3Za2OcUFA7eiShFddMkDnINWdFBMVQP2H9NvXQRBAXpUeYMAVIkCOKxvDiVUbQPRsVn2uVipA2/l+arx0OEChQog+MvARQNpipATqaj1AdgXIveZCNEDS3uALk8kdQMGopE5AMyNAYTJVMCqpE0BC9JGBKXAVQP4ez0Gq+w9Am5zHTmV+EEAHGHCpXZYwQCti6yyNUhRAX5hMFYwCN0B8zYWkKRUOQAlAyQprICpA1VO+eu9iFEBxrIvbaOAXQBOG7n9tqgRAP+sHYsaRIUBP1L8RyvgiQP3RSjRbPCJADr4wmSoYA0Ai/fZ14NwCQCk3ZBa0QyRArD5XW7GPJEAM3f/a1NMPQMRn2BUgdyVAFIkcNTlfJUC8u7u7u4sqQO84RUdyyS5Ax05lPg0FLEAJZfS2rDUTQK8AuddcCBdA6Ugu/yHdGkBdtO2hamECQKw+V1ux3xFAdEnCq9KDLkAy5q4l5EMVQFD8GHPX8iFACYofY+46MUAVIPeaC0kBQOtztRX7Sw9AY13cRgPYGkCJY13cRlMiQNRQkMUjHhxA/PAZdgVERkB1lka5IdMXQO1XFIkcBSFANmHo/temB0BnHz7DrkAhQDN6W9bq6DBAB1+YTBWcIEDxqvQAA04RQL8zx9/jGRNAynnsVOYLNEAfO5X5NOQoQAiH8a0idhBAxLEubqPRIECyCUP3vzYZQDwEeznZIylATV/iom1vPEAWIyVQ16FKQEE7uiThFR5AmuPv8RykGkCrOymm5ZoVQHwX3Pysa0RAVC3880fLJEDbQ9XCP08gQKH7X5t6WitA2j15WKj1KEBGSqCu240qQIf029eBcwJAeVV6gAEX9z+vbzrcIYhAQOexU5lPIx9ALNSa5h2n9j9XEVtnaVQ9QDVeukkMAv4/RWydpVGuDUCgP1qJZisfQEl1J8W0nA9ARgN4CyRIEkCy50UASl41QHTaQKcNJDBAUkzLNfKWKkD3vzb1lI8cQLTIdr6fui9Av8RF2x4qFUCAbeopX70mQNtl0rm1HwVATkATYcMDMEClUW7ILIA3QLLnRQBKFgpAih9j7lpCCED/a1NP+ao9QAdfmEwVjBZAIdWdFNMiJkBZPOJ9QiMNQP9GKKO3RRNAuwLkXnMRLUCLjuTyH5o8QC8kTak4iz5ATfBgnqh/BUApo7dlrS4gQOFV6QEG/BlA/F+beso3KEA0NmHo/hcVQHJlYzixyiRA7FG4HoVjOUBKeFV6gFEiQNsbfGEylRpAaijI4hHfKEDjEe8TGkM1QBXWoEKIfiNAawbL65uuEkCRNKXi7BMjQFkXt9EA3vA/bxKDwMohIUBFbJ2lUYYyQKz3Lrj5GTVACkP3vzbdOkA1OY+dyvwRQMMaVAjRxxRAE2HD0yu1IkDkF0t+seQGQKFCiD4yMA5As8VICdQFKUB99d4FNw84QLAD54wo7SFAa3IeO5W5HEAfPsOuACkmQByhjN6WtRZALR7xPqGZMUBScfbhM8wlQMI8Uf9G0D1ATKYKRiX1KkBAf7QSzXYTQJOpglFJHRNAgSnwO3O8HkB++Ay7AmQZQFai2WKkBDRATc5jpzKfFED/snvysGA8QEaU9gZfmBlAYxOG7n/t/D/dRgN4C8wxQO5aQj7oeShA93gOUt0JKECdgCbChhdEQAWjkjoBzf8/SnhVeoDhK0AlBoGVQ+sWQIBIv30deCZA3NeBc0akJkARoo8MTAk9QFLdSTEtFxFAplScffg8PEC6IbOgHfU1QGN/2T15+BlApeLsw2doJ0CpEKKPDNwoQJWKsw+fYRpABVk84n0yIkBcj8L1KARCQIVa07zjVBRA07zjFB0pH0BX711w83MlQHDzs34gpg5At2WtjgmeDkAamAK/M6caQDkgHMa3mjJAgLdAguJHDEBFR3L5D8kQQLohs6AdvR5AJ+rfCGX0KkAqgbpuNx4uQJVothgpYShAYej+16ZmMUBquUbeTE8sQPe/NvWUTzVAqet248oGC0BfB84ZUTIxQOzAOSNKWyJArEGFEH1kBUAWak3zjoMtQBaPeJ/QmBdA/tR46SYBI0ATPJgn6k8yQFyxv+yeXBpAVxFbZ2kkIUCXJLwqPZApQB44Z0RpPydAgbpuN65kM0AnNDZh6N4cQPBgnqh/4xVAFWcfPsMOIUBuowG8BVIvQFCNl24SYx1AjblrCfkgDEBtDCdWM7gUQN+74OZn3RJA6gQ0ETbkMEDnaiv2l60iQIJzRpT23jFAgnNGlPb2JEBZF7fRAL4fQNVW7C+7BxZAQfFjzF0rGkCsQYUQfSQVQOQ5SHUn5SdAhzsEezkZCEAadgXIvWYbQAMJih9j3iFALyRNqTj78z/EZ9gVIHcqQFICdd1uXApAtH4gZhxAKUCW/GLJLzYgQFfKMsSxbhdAj1N0JJdPO0AhjnVxG5U3QHE9Ctej+DBAygprUCEED0AmeDBP1H8yQIdgLyd7XhtAsJeTPS/iPUBza7+iSOQOQFpkO99PVTFANe84RUeyKEDR27JWx4QjQLxxZWM4ERdACmgibHjKKUB6xyk6kismQP7UeOkm8QpAcBjfKmLDM0DlPHYq8+kWQOZC0pSKsypAWmENKoTYNUAc6LSBTlsLQBPyQc9mVRJAIrOgHV1SLECiI7n8h5QpQHa+nxovXfM/iRkHhMN4JEAsZRniWBcEQDq0yHa+NzBARZHIUZMTE0AWIyVQ100WQPH0SlmG2BlAfrHkF0u+C0CHFtnO94MrQPP91HjpxipApN++DpyjJkCjt2WtjqknQGBRJHLUxD1AYAr8zhwPJEDJm+lLXLTzP0495av33iRA4g7BXk52GUC+C25+1g8FQI+dynwaeidAqaROQBMhHUAJh/GtIvYPQCmjt2WtriJA0duyVsfsNEDfBTc/6781QDeJQWDlEBRAz0GqOymm+T/rToppuVYlQKcyn4aCzB1As+pztRW7EEA2hhOrGawvQDaGE6sZzBNAzYJ2dEkKNEC9T2hswhAJQHyDL0ymygNAX+KibQ9FIkDmifo3QlkRQCNKe4Mv3CBAW/jnj1a6SkCTXyz5xeInQGtyHjuVeT1APCmm5Rp5HEC/6XCHYF8xQMw4IBzGNxRA48rGcGI1CECU9gZfmCwdQNqs+lxtlSBAblmrY4IH9D/8zhx/j2NCQOWr9y642RZAfRoKsnhECECLjuTyH9IVQHxhMlUwNkBAN65sDCcWFkB2dEnCqxIrQKIjufyHNCZA4cRqBssLGEBUwaikTsgyQF8EoGSFtQlABOq63bjKRkC0Es0WI5UxQBBYObTIpiZAYej+16YeHkCDVHdSTDM4QE3OY6cynxVAWqtjggfzAEBdtxtXNp42QC6QoPgx5hZAX5hMFYy6JkC7bjeubGwgQOwHYsYBYQFA3bWEfNATJkAJQMkKa/AVQEaU9gZfWA5AACUrrEEDYUC3QILixwgiQLes1THBYxtAZGAK/M48IkC/6XCHYC8TQANT4Hfm+BxAtxtXNoYDL0BTT/nqvYsWQOTN9CUuajZAIpGjJud5Q0C0yHa+n35AQLXwzx+tZDRAsglD978WG0BbrpE30/cbQO/u7u7uziJA97829ZTvEEAVsXWWRhkcQDPEsS5uQyRAHVpkO99vG0B/IGYcEC4YQJm7lpAPegRAMp+Ggiz+FUDNO07RkfhDQPmgZ7PqszZAdgXIveaiIEBQ1+3GlQ04QOYdp+hILvk/ppvEILCSHUCMSuoENHEWQAY6baDT5j1AYFEkctQkD0CTzq39isIQQHnpJjEIXDNAVliDCiHyNUDsLI1yQ2YTQDQRNjy9EgFAi9g6S6PcAkA1zTtO0bEcQB4Wak3zjglAi47k8h9yE0DrvQtufpYaQAsh+sjA5CRAX713wc3vGUDXgXNGlHb6P3lVeoABDzpAXgSgZIWFIEAR7OVkz4sjQAYVQvSR4RFA7qFq4Z8fOUDC9Shcj2ItQNxD1cI/LydAwBHK6G15FUAM//zRSpQcQPIcpLqTqjFAGlHaG3wBFkACdd1uXNnyP5SHhVrTvChAJb9Y8otVKUBbHRM8mCcZQC61y6Rz2ztA5q4l5IMOM0Ckc2u/ovghQO2ePCzUWiZAEzyYJ+pfCUAxvlXE1rkpQJ4U03KNHBRAIUQfGZiiGUCHhVrTvKMVQPVvhDJ6iyJA5vh7PAfpGUBTliGOdfEvQLTtoWrh3w9Ah2AvJ3te+j/Ax3OQ6o4kQHyDL0ymah1AJngwT9Q/JEA7AU2EDa8aQJVothgpcShApCkVZx9OKEDzs34gZrwmQIc7BHs5mSNAbzeubAz3JkAa4lgXt6lFQKIgi0e8rxZAMS3XyJspKEDe3d3d3QlGQLwFEhQ/1jBAfh04Z0QpMECmm8QgsMpAQAAAAAAALEFAlvxiyS82FUDANvWUr14FQKNLEl6VnhhAq2BUUieg+T8wT9S/ERZYQC9uowG8VS9AMOBSu0waFkB3nKIjuTwCQMPTK2UZujdAvjCZKhgVFkA2GsBbIEEdQDF3LSEfdB1AwV5O9rxwMUDgCGX0tqwzQJUeYMCl9vU/7jUXkqY0EUB7OdnzIogwQFH/RiijtwFA0iUJr0pnOEDuEOzlZCc8QPnnj1ai2RRA1zcd7hDs/D9CYxOG7g8nQM+t/Yoi0QZAuiThVemNQECyDHGsi3shQL8zx9/j+QRAVVVVVVX1E0AFyL3mQtIcQDCW/GLJLxVAxIwDwmEcEUDbG3xhMsUsQCk3ZBa0CzRAFfvL7slTJEBP+eq9C+4LQPrIwBT4zSVAyQprUCHkIEC4itg6S+MQQCFpSsXZh/o//9emnvI1KkCdoiO5/PcsQHaZdG7tNzJANx3uEOydPUBs5M30JX4vQCIiIiIiYhxAY13cRgMoIUAutcukcxdEQGf9QMw44CdAEDMOCIfxBECKsOHplZIRQJkn6t8IjTNAtV9RJHKEJkAbw4nVDBYzQLY9VC38SzdAi0e8T2hsMUBGb8taHSMgQG2g0wY6DRNA3gIJih9jDkAcMgva0WUNQN21hHzQOzhAb+1XFIkc+j8Xt9EA3jI+QDdCGb0t2yRA1CtlGeIoIUAZKYG6brcyQNSa5h2nSCBAxW00gLcgLEBtMVICdR02QJ0Rpb3BVyJA65jgwTxdR0AvuPlZPzA2QB/PQao7YTZAjGzn+6lx+z9mZmZmZkYQQJmWa+TNNCZALfnFkl8MNUAR7OVkz/slQKSVaLYYqfM/24r9ZffEIkBkzF1LyLcjQLn5WT8QUxpA1L8RyuitE0CgZIU1qAAkQLuTYlquMTJANx3uEOxlE0B8hl0Bcj8pQIPAyqFFFipAlPYGX5jsIECVjeHEahYiQLdlrY4JHgdAW4lmi5EyEUBMEl6VHrAuQAqyeMT7BAtAcfbhM+yCMkCQMXctId8MQF8HzhlRuhhAHz7DrgCZMEDJUZPz2OkKQL8OnDOipDVA8x/Sb1+LRUAofoy5awkhQGvhnz9a2SlA2anMp6EQLkA6I0p7g+8hQPdT46WbxD9AZ2mUGzJrIED/16ae8gUtQLJ4xPuERg1AkKD4Meau8z+UZYhjXZwnQFai2WKkfDlA/M4cf4/HOUA0W4yUQF0GQA5Pr5RlwEZAgiwe8T7BLUCBcBjfKvpBQBI5anIeewJAygprUCHUK0BbZ2mUG8oxQITD+FYRexZA/2glmi1mFEAThu5/baoKQN21hHzQoytACdR1u3GlIEDxY8xdS9ggQDvcIdjLiQhAdr6fGi+NOUD5nTn+Hj8oQCZTBaOS+g5AUUZvy1pNLUDHmLuWkA/6P5ayDHGsqzpA3SQGgZWDBUAr0WwxUiIgQDYawFsgkT9AdirzaSjoIkCxUGuad/wuQK5H4XoULgtA6iYxCKxMQUBVVVVVVVUWQJDqToppeQxA33GKjuSiJUArqRPQROA3QLwFEhQ/liJAbOTN9CXOHUBCYxOG7n/2P3vvgpufVTdAE6sZLK/7QkBaPxAzDkgIQFyPwvUoDCRAVjNYXt90EUA1g+X1TW8xQP9GKKO3pRdAe6ha+Oe/IEBgm3rKVz8/QHxhMlUwqjdAYjWD5fVdJkCLablG3tw0QH2Ji7Y9LDBA3kxf4qINLkD6D+m3r2MxQLkhs6AdXSBAbQwnVjPQPUDMWh0TPNgFQGkibHh6ZRtAsQYVQvSNQEBLoK7bjbsyQCxA7jUXwidA5DlIdScdPkDhVekBBiw6QDKfhoIsXgxAJLwqPcBwN0Bx9uEz7KI4QMovlvxiiQdApsDvzPHrS0Cj3JBZ0I4YQAN4CyQoRjBAFSD3mguxOkAW/vmjlagDQJPOrf2Kovc/R3L5D+nnIkCFoftfm3oeQBGijwxMUSFAVXqAAZd6E0AQWDm0yKYjQNftxpWNcSNA7saVjeF8QkBF/RuhjF7yP5Jc/kP6TSdAhoIsHvGuIUA7lfk0FOwxQHUCmggb0kRAeuxU5tPQCkA+6Nms+twbQC8kTak42yZAo0jkqMkpPUDFagbL61sQQGXPiwCUHCFAQacNdNqQPkCP5PIf0q8dQMP4VhFb9yFAnxcBKFkRK0AN4C2QoCgjQIxvFbF1tiNA6pWyDHEMHkBnHz7DrhAlQEs0W4yUwBJAmnRu7VesNUC/okjkqMkZQOTN9CUu2gpAW2dplBtyCkDlhsyCdhQeQCzRbDFSsi5ARwamwO+UOUC5+Vk/EPMRQOWGzIJ29P4/lWi2GCkB+T/MNfJm+pIUQLM0yg2ZpSVAhTWoEKIPDkCgibDh6dUfQEIZvS1rNQNABhVC9JGROkB2lka5IaMgQCCIGQeEIxZAO9wh2MvJLEBs5M30Je4CQGklmi1GSvQ/peLsw2dY+z+vlGWIY50MQNejcD0KdxdA24r9ZfcUPUD5VhFbZ+n9P/YrikSOCihAGU6sZrAQQEDANvWUrx4XQFNP+eq9EzFAI9v5fmpIQkArhxbZzlcVQC4kTak4KyBAEYCSFdaAK0CPDEyB3+VAQPd14JwRJQlAVliDCiF6DEBbiWaLkfIRQKk1zTtOOTJAUUZvy1qdB0ClvcEXJqMjQJkF7eiSxCNAh2AvJ3veLECVHmDApSJBQD4NBVk84hJAOrTIdr4vN0Dj7/EcpNI2QMx/SL99bSJAVxSJHDXJK0BUd1JMywUqQHEbDeAtsCFAfauIrbP0GEBz1xLyQU8kQBB9ZGAKTENAQvSRgSmwCUCzoB1dkrREQOpLXLTt4QZAEqW9wRfWK0BCYxOG7kdFQC5GSqCuIzVAUPwYc9eyEUAGXGqXSQcQQP9GKKO3JRJACWX0tqz1EEDzs34gZtwfQFVVVVVVRS9AmUwVjErqNkD2l92Th6UUQB/0bFZ9bgtAJ1YzWF6/EEAdf4/nILUdQOJYF7fRMChALIpEjpqcAkAbnl4py4AxQCfFtFwj7/Q/GwqyeMR7+j98F9z8rN8rQKK0N/jC5BVAJE2pOPtAIEAjJVDX7YYFQNo9eVio9RtAOSAcxrfuRkAHPZtVn6sWQBWMSuoEhCBA4XoUrkfh+D8La1AhRC8tQJYhjnVx+ylA1qBCiD5yJEC9dJMYBFbxP2kAb4EEBTFA1JrmHae4IUCH9NvXgX9GQNIA3gIJKhFAf0WRyFFzIUBFkchRk/MTQCxlGeJY1wZAj53KfBqaMED2Bl+YTHUUQNCwK0DuhTJApsDvzPG3D0CcespX770ZQCCIGQeEky5AbC4kTaloOEBmHBAO44shQLvduLIxPClA9SUu2vYwT0Be3EYDeEsWQPcJjU0YdkdA7zhFR3KpMkB2Bci95qIjQNc3He4QvCJA93gOUt2JHkAmeDBP1H8OQCWaLUZKYANASsKr0gMsF0BANV66ScwjQP+ye/Kw4CpAWmENKoQIJ0BAE2HD02sXQGEyVTAq6QtA9W+EMno7HUBvpi9x0dYUQDojSnuD/yNAHTU5j52qG0CqFv75o4UrQNmEoftfqzBAB1+YTBWMLkAtaEeXJHwVQN4nNDZhuCRA2vMiACUrGkDcQ9XCPycxQIMKIfrIQBtAAuEwvlVkLUBmQTu6JCEWQN4CCYofEy1AwxpUCNGHLkCx4emVsswcQBT4nTn+HgpAnA53CPZyFUCNuWsJ+XAkQPJBz2bVRyxA6SMDU+DTQkAqgbpuN8pDQGvhnz9a6SJAHjhnRGmPI0Dxzx+tRAM8QPvt68A54whAqTXNO07RNkAzxLEubiMrQFuJZouREghAjGzn+6mxE0BChRB9ZHxFQIfPsCtArgFA2fD0SlnGOUB1cRsN4KVQQENmQTu6lCJAd5yiI7k8HkD/snvysNAVQLMPn2FX4BtA/PNHK9H8I0DE1lka5TYnQI2UQF23WzNAQmDl0CJLIEAvSXhVesAFQIeqhX/+CB9ABMWPMXctDUB7pSxDHMszQGoDnTbQOSBAtMh2vp/KPkCvlGWIY30VQL+iSOSoUTZA9uEz7ArwKUBWM1he3ywxQPd4DlLdiQFAwxpUCNGHIUARx7q4jQYEQCQofoy5g0RA2V92Tx52MUAXkqZUnN0RQLQPn2FXQABAJb9Y8oslJ0BCz2bV53oiQNeBc0aURiVAYJt6yldPWUBcIEHxYwwgQL8OnDOidBVAxW00gLcAJ0Dc/KwfiBkiQH6x5BdLTkdAf9YPxIwjGECtad5xip4iQANT4HfmmCxAhA1Pr5QFG0DWxW00gLchQFYzWF7flBlAi/1l9+RxOEBAOIxvFXEBQMA29ZSvziNAa7x0kxjEHEC+VcTWWWI5QHCEMnpbckNAvS1rdUzwEkDnaiv2l90yQBPNFiMlWEJAurVfUSSSI0AH80T9G0EbQGAvJ3teZDxAelioNc1bFEA3iUFg5dD+P7R+IGYcoDBALUMc6+IWIUAyVTAqqVMmQLbz/dR4yT5A2hhOrGbgM0CFoftfm1o1QPXeBTc/WzNAYQ0qhOjLM0AAkX77OtApQOTN9CUuWhBA+6bDHYKNREApEjlqcl4iQOIOwV5Odv0/bn7WD8QMEUCDm5/1A5EfQLvduLIxXDlAxf6ye/LwIkCitDf4wkQUQPP91HjpJhFAvLu7u7tbFkCDdnRJwgsXQNXnaiv21wxAQj7o2azqIED88Bl2BegqQKYKRiV1whFAHhZqTfOeJEBOYhBYORQeQPlWEVtnCRxAgbpuN64MHkA6SHUnxVQXQDtLo9yQORZAIUQfGZiCMUDVU7567+IZQAqvSg8w4BxAP+sHYsYBDEC511xImrISQDJ6W9bq2BZAdLUV+8suKEAfPsOuADktQARWDi2y3StAUdobfGGyB0ANAiuHFpkTQNEi2/l+6h9ApHA9CtfjHED5nTn+Hl8vQIxvFbF1FiFAXkvIBz1/QUCFxiYM3f8HQAPCYXyrgDRAjy5JeFU6BkBr4Z8/WskqQPZQtfDPXwdA5yDVnRRzPUDZFSD3mhtNQLRZ9bna+i5A9y64+VlPK0Ab5YbMgp40QO6hauGffwdAn4aCLB6REkBzsudFAAI5QIn3CY1NWAlAhetRuB7dNUCXkz0vApAlQKqnfPXeVSVA0rm1X1FsOUChZ7Pqc3UdQLu4jQbwthxAcvkP6bfPEkB6ov6NUEYZQP2sH4gZ/z9AAZSssAbVIUDlPHYq81kxQJduEoPA4jlAf4/nINUdJ0CXSefWfhUhQJVDi2znuzNAB6nupJiWHUBb+OePVhIoQHvvgpuf9S1At2WtjgkeLUABlKywBvUkQJ6ofyOU4SFAKqblGnnzFEAcDeAtkGAOQKxjggfzRB9Abu1XFIlMIEBEjpqcx94lQLKd76fGOydAW66RN9P/NEBmQTu6JGEcQGUZ4lgXNw1AtMh2vp9aDkC9dJMYBNYZQNkVIPeaCxNA9Shcj8K1E0C6awn5oEcqQOELk6mC8R9AcF8HzhlxE0Ag95oLSWM2QGNarpE30wBAb+1XFIkUPUCKZouREignQJZr5M30ZSNAJJf/kH6bIUBte6ha+IcdQEvqBDQRdhhAFv75o5WANEDW6pjgwRwgQNHbslbHFCpAwvL6psOVMkBiNYPl9S0kQGQ730+NtxFAyQc9m1WfHEDp2az6XG0VQKla+OePdhJANc07TtGRDEBrch47lXkIQIfPsCtAPi1AukbeTF/CPkBMEl6VHkAyQH/ZPXlYKPY/5T+k374uO0DPQao7KQYgQHL5D+m3fyRA5IOezapLQkDdRgN4C6QYQNQrZRnieCFAl24Sg8AKHkBUnH34DHsbQPs3Qhm99TBA0duyVsdkMUA6j53KfAIzQCwbw4nVjCZASS7/If3GJECWIY51cVswQOeMKO0NHi5AOGdEaW8QEUBjOLGawXJJQEbeTF/isixAw2SqYFRiKkAbVAjRR6YWQPqjlWi2uBlA59Z+RZFIDUDdJAaBlcMJQEe8T2hs4hdAgLdAguLXK0CCThvotH1JQNyNKxvDEUdA8fRKWYb4EEBkqmBUUucoQMNkqmBUQjRAP+sHYsbBSEBFbJ2lUW7wP6Z5xyk6kgdAt9EA3gKJIkDp2az6XHUzQATqut24UhdAq2OCB/O0IEAy5q4l5MMgQA1xrIvbuDtALv8h/fa1HEC+nOx5EUg6QHs52fMigP0/cUA4jG91I0DqAQZcahcKQAn2crLnhR1A4umVsgwBNUAWj3if0JgXQIbJVMGopCFA6yyNckNmIEBWotlipKQiQLyWkA969hZA6dms+lwtGkDbZdK5td8EQEyj3JBZ8BVAzj58hl3BPEDQaQOdNjgwQC2NckNmgQxAH4XrUbh+J0BjXdxGA1xCQEztMuncWg5AYZ6ofyOUFkDgUrtMOscoQPtcbcX+WkNANIC3QILiR0Afz0GqO6ksQH4dOGdEuSNAZRniWBf3PEAKsnjE+6QhQIqw4emVIiBAkOcg1Z1UFEBwXwfOGYElQOLplbIMuTVAGuJYF7c5M0A2GsBbIKk0QHUnxbRc4x9ANcoNmQVtAECJ9wmNTWg7QAXt6JKE1xxAYlqukTeTNEAExY8xd+0+QAyTqYJRiSFAkRKo63ZDGECSy39Ivz0TQGwuJE2puApAMuauJeQDDEAyelvW6tgaQMzJnhcByBtAoftfm3o6JkApgbpuN45AQCDSb18HzgtAaZHtfD/VGkCnxks3icH6P5duEoPAIjNADUyB35lj8T8RNjy9UjYeQNtl0rm1XypALY1yQ2aBFEDWD8SMA/IkQBDpt68D5wxAvLu7u7v7AUBkhTWoEAIoQAqNTRi6/wxAwYN5ov5tEUBF2PD0SnkhQGeOv8dzUCZAnhTTco28CUBcapdJ51YfQGpv8IXJ9CNAZhwQDuNrIUAnDwu1psklQCTeJzQ2OT9A7xMamzC0IUB7FK5H4XoHQHH24TPsKjNAivo3Qhm9J0AeFmpN844aQHyGXQFy7y1A4n1CYxOuN0DpkoRXpaceQGOCB/NE3RpA46WbxCDQKkC5jQbwFggeQNY07zhFJxRAjwkezBOVHEBkFrSjSzITQJzEILBy2EdAC9rRJQmnM0AgY+5aQr4jQFV6gAGXKi9AZrC8vumQLEC/fR04Z6QWQNzXgXNG1BVAGU6sZrDwUkDcQ9XCPy8mQBXWoEKIXhFApCkVZx+eFkCjkjoBTaQSQL1PaGzCkB5AglFJnYBWKUDB78zx9/gjQG6jAbwFchZAuiGzoB1NNEBBguLHmLskQDGZKhiVNC1AYMCldpn0GUBeukkMAisoQN7d3d3d/RlA0ETY8PRqK0BmQTu6JLkwQArUdbtxZfI/BHs52fPqNkDa0SUJrwoNQFyxv+yeND9ATva8CEBJFkA+DQVZPBImQBHs5WTPSwpA+THmriVEE0ClmJZr5J0uQAKaCBueHgpAr0oPMOAiK0BB8WPMXWsoQGPuWkI+6ApApw102kDHHUB+Z46/x6MkQKsZLK9vuv8/FwEoWWGFN0Cs0gMMuJQLQJSHhVrTfABAmy1GSqCeI0BaZDvfT00MQN4CCYof8yhAxreK2DrbLUBOYhBYOaQmQCS8Kj3AVENAXnDzs37QIUD6WT8QM24nQDq0yHa+PxNAJHLU5Dx2B0CsZrC8vmnwPyDSb18HhjBAcF8HzhlRH0BWotlipMQNQLwFEhQ/BgRAecT7hMamF0B8gy9MpgocQNzXgXNGFCFAnoNUd1JMEUBsLiRNqRgZQEDuNReSJhxAtmJ/2T0ZIUBHK9FsMcIiQEw3iUFgxRxA268oEjnKIUDrc7UV+4sKQC8kTak4KyFAfRoKsnh0IUDWD8SMAwImQPe/NvWUzypA/F+beso3I0BC9JGBKYApQH5CYxOGviJAgG3qKV+9BEDvf23qKd8RQLbz/dR4CSFAGy/dJAbBG0D9PZ6DVKc1QMGDeaL+fS5ATRWMSuoECkAZuv+1qUcUQFphDSqE6DRAnHrKV+/lOECMtj1ULZwoQGOkBOq63TBApp7y1XsXMkCZlmvkzfQdQOkjA1PgRylANtBpA51WTEBSbsgsaO88QP0boYzelv4/aP1AzDigEEDaPXlYqDUmQIuO5PIf8hBAayv2l93bMkCKHDU5j+0iQNeBc0aUtjNAtBLNFiP1Q0AbVAjRR7YsQB3uEOzlRBtAkRKo63YzJ0Crz9VW7M8WQFtCPujZTBJA1edqK/YHJ0DLoUW28+0oQC2NckNmARhA35a1OiaYNkDn+6nx0j0oQPyExiYM/TFAJXUCmghbEUD5nTn+Hs8bQOn+16aeMiBA//zRSjQ7G0CppE5AEwEaQO/Jw0KtKRJAGXCpXSalM0AVsXWWRuE1QMDsnjwsRCZATV/iom3fJ0CHhVrTvCMDQFr1udqKnR5A30+Nl26yM0DJveZC0rQ/QL0IQMkKa/0/PL1SliG+IEAQMw4Ih7kyQGsr9pfdExRAdpl0bu0HJUBVC//80UoMQC/dJAaB1TFAbFNP+eo9GEAPdwj2cnIpQDMzMzMzkxZAeQskKH4MHkAukKD4MaYvQHpYqDXNexZAvJaQD3p2EkAA29RTvtohQN7d3d3d3SxAurVfUSSSHkDwp8ZLNykYQIJRSZ2ARilA3riyMZzYL0AF7eiShPcvQLwqPcCACxVAynnsVObTKEAbnl4py9AvQOVhodY03yVAGpgCvzOHB0DTBjptoBMVQLxxZWM4AShAlpAPejaLFUBiNYPl9S0kQCGLR7xPcDVAFfvL7sljEUAnxbRcI68NQMRF2x6qRixA4umVsgwhOkB2Bci95mIyQIkZB4TDOCZAgG3qKV/FM0CBlUOLbGcGQLqQNKXizBFA9NvXgXMGAUD1JS7a9pAUQO5XFIkcNR9AwvUoXI+iH0DbQKcNdFoZQC5GSqCuux1AGy/dJAYxIUBWfa62Yr8LQGf6EhdtGyRABz2bVZ+LJUCF61G4Hj0wQGcfPsOugCdAzqrP1VaMJUCCThvotBEuQJDqToppmRVArpE305f4D0D3CY1NGLoBQO0y6dza7zdAmr7ERdveHEAmMQisHOo0QA6ZBe3o0hhAAJF++zqwGUBWDi2ynf8vQO41F5KmlAlAukbeTF9iBEB9GgqyeCQVQC8CULLCOhBAgbpuN65sG0BCz2bV5yopQBdLfrHkpy5AQO41F5ImIkB7W9bqmAAnQKSVaLYYiShAofgx5q5pR0CC4seYu9YzQGfYFSD32jJAhHmi/o0wHUA73CHYyykoQLsC5F5zIRJAsN674ObnEUA0peLsw5clQN6Th4VaExlA9SUu2vaIPECFxiYM3YtJQGQWtKNLgihArpE305fIKEDfdLhDsMc5QCpfvXfBjQxAOWdEaW+wHEATzRYjJXAQQIxK6gQ0oSxACtR1u3GFHkAqOpLLf8giQMYB4TC+FQtA0pSKsw8fF0ANAiuHFtkLQM5jpzKfxgNAzs/6gZhxCED3vzb1lA8bQClcj8L1CCJAvpzseREAKkDJ4hHvE+omQOPv8RykWjdAx7q4jQaQGUCDwMqhRZYeQPZNhzsEOwhA7CyNckOmPEDTl7ho20MhQNsbfGEybTlANIC3QILiLUA9m1Wfqy0YQMksaEeXRB9AexSuR+F69j+g9QMx45AmQNrO91PjVSZAUNftxpVFM0DK5T+k334xQCrLEMe6+CNAMXT/a1MPAUDkzfQlLloWQFc2hhOruShAfM2FpClFMkD/16ae8nUVQG7ILGhHtxVAt0CC4seYGkBHcvkP6UcuQOPv8RykiiFAnTbQaQNdB0CUGzIL2lEbQBOG7n9tSiFA4QuTqYIxEEA6/h7PQUofQCNKe4MvLBBA268oEjlqJUCAbeopX51HQKNtD1UL7ylAhu5/beoJJEACBlxql4kJQGmR7Xw/HTlADwu1pnkXNECNl24Sg4AZQKNtD1UL3yBA8fRKWYZYHEBCGb0ta3UlQNS/EcrozSJAt68D54xgO0C/WPKLJQc1QKYvcdG2JyxAfoy5awkpIUDDidUMlhccQGTxiPcJzQRAVxFbZ2ncNkCLIpGjJgcqQMSMA8JhfP8/LbKd76fmFkCFf/5oJdoNQJSHhVrTnBhAHjhnRGlfMUCW1zcd7tATQCUGgZVDU0FA0gDeAgmKA0ChQog+MpAkQNH9r009xRRA76SYlmtEJkBrch47lfkGQCMlUNftBhdAVJlPQ0HGIEAG8BZIUEwpQAu1pnnHbURA9UpZhjj+M0Dtw2fYFSAJQJbXNx3uAChA+xIXbXtoDUDiM+wKkMshQM8cf4/n4DpAKcjiEe+zIECiauGfP3oTQJHtfD81ZkZAhoIsHvHeE0BEHxmYAv8QQLIJQ/e/1jNAeVV6gAFXEUCFxiYM3T8NQAbwFkhQfAdAgAGX2mXSGUBjE4buf20AQBUg95oLaSJA/2glmi2GC0AB3gIJit8fQGAvJ3teBApAqTXNO06xM0ATF217qLo6QL8zx9/jGTRASQnUdbuBK0DAgEvtMmk+QHPXEvJBDxxApnaZdG7tEEBVn6ut2N8MQF8pyxDHGhNAsCgSOWoyFkCfPCzUmqYsQF207aFqMTRAf9YPxIxzJECwA+eMKN0hQOspX713YS5AzojS3uCLEEAkA1Pgd147QD7DrgC5tylA/WLJL5bkM0BdSJpScTYSQIocNTmPkUpA1qBCiD6yEECzNMoNmUUKQJlMFYxKKgRAQ9KUirO/OkBm1edqK3Y9QCs9wIBLrRpAyZvpS1xUIkA7AU2EDQ8MQGOkBOq6YUFAoYzelrXaLUBK59Z+RaEkQC1oR5ckPB1AXEVsnaUJMUCpEKKPDMzyP5I305e4KCpA5DlIdSf1OEBRkMUj3qcJQLOgHV2SwDRAjSjtDb4wDEDWWRrlhhRCQNJKNFuMdDdAsp3vp8YLIUDgUrtMOhceQDcd7hDsfTVARLPFSAlEJUDBFPidOYxSQMFeTva8KCtAqOt248pGAEANcayL26gIQCc0NmHoZjFATDeJQWBVLEBQQ0EWj7gBQPd4DlLdyRJAYcPTK2XZHEA3iUFg5VAMQH3Qs1n1aSJA7JsOdwhmJECkTkATYRNDQFJuyCxo/zhAkxgEVg6tEkD2K4pEjroTQBTTco28eShADLjULpPuFEDmZ/1AzIguQFmDCiH6iBRAlyS8Kj1YOUAMSVMqzl4cQG7qKV+9+0VAubIxnFitG0C1hHzQs1klQIuO5PIfkgVAnsp8GgpyJkDrmODBPNECQLQ3+MJkKvI/rbM0yg2BMEA5Z0Rpb/xIQIBIv30dqCtAseHplbLsEUDS3uALk6kXQCUJr0oPkB5A1OQ8dipbMUBBFo94n3ARQIxs5/upMQdAVOOlm8RgE0ABAy61y6QmQFV6gAGXOhtA6Ugu/yEdE0CtH4gZB5QiQDTKDZkF7fc/Q0EWj3hvKkDHuriNBpAsQKOSOgFNNEFARbbz/dT4C0DifUJjE/ZAQA1xrIvbSClAv8RF2x6iOkDb9lC18M8LQKfoSC7/0SNAxNZZGuUWIEDsduPKxtAmQLbO0ig3NENAIUQfGZjaMECEMnpb1solQNzXgXNG9BpABjptoNOWIkCP5PIf0g8TQA8w4FK7XCtAlIeFWtOMIEAnVjNYXh8TQAqyeMT7RBNAz0GqOykGL0AuRkqgrtsBQLQSzRYjdS5A5mf9QMw49D/nZ/1AzHggQAc9m1WfqyRAnFWfq63YIUDXEvJBz9Y+QG/tVxSJXAFA/DpwzogSDEDZy8meF+ElQEATYcPTawZAN4lBYOUwFEBuNIC3QPIlQPzwGXYF8DtA14FzRpTWFUC9T2hswvAWQPCnxks3Cfs/OSAcxrcqEkACULLCGhQ+QPvt68A5az1A8fRKWYbYGkDc14FzRjw5QJWN4cRqBjRANaXi7MPXMEDvycNCrdktQPA7c/w9vhRAPlQt/POHKEDJwBT4nRkWQJVDi2znwzBA001iEFjJLUD0kYEp8NsbQDG+VcTWWfY/I7bO0iinJEAm5IOezRogQCQofoy5KyZA4cE8Uf9mJEBtMVICdZU1QFOZT0NB1hFAnqVRbsjkTkBwGN8qYrsmQJUeYMClRitAySxoR5cEMUDuNReSpgw2QLZif9k9uQxA606KablGH0AAAAAAAMATQISezarP1SJAGlHaG3yRMUDbrygSOUoSQEFg5dAiaVtAHqfoSC6PJ0B5CyQoftwrQHyoWvjn9zhAIiIiIiJiIkBquUbeTH8cQJJc/kP67SZAslOZT0PhEEA+CtejcOU6QPNpKMjiQSxAxY8xdy1xIEBfcyFpSrU6QPnCZKpg1C5ADpkF7eiSFECmm8QgsO5AQFCywhpUWCBAkAxMgd8ZSkAd7hDs5bQkQNlfdk8epkNAnOlLXLRhRkBrBsvrmw4ZQPZNhzsESyNALtr2ULWAIUDB78zx91gjQOFV6QEGtDJAIkdNzmNXKUAPMOBSu8wJQJwOdwj2xGZAMS3XyJvpHEDJveZC0jQlQEXbHqoWPgJA7CyNckPON0CKQWDl0AIVQAuQe82F5B5At4rYOkuDKkDFjzF3LYE2QFbHBA/mSQJAZPGI9wkNOEAZldQJaKIdQKnupJiWH0VAPSzUmuZdE0AXSFD8GDs0QLyWkA96dhVAkjoBTYQNBUC9LWt1TMA6QBPQRNjwlB1A03KNvJn+OEAwTKYKRqUrQHw8B6nubDFAK6kT0ETYC0B2Tx4WanlHQIN2dEnCCxlAwTkjSntXQkBBYOXQItv8P3JDZkE7ojFALGUZ4lg3H0DVwj9/tEI0QHyDL0ym6hdAbOTN9CVmOEC5HoXrUdxDQOf7qfHSrR1AawbL65vOIUAlK6xBhdAOQBfc/KwfCARA/PAZdgVoGEAFNBE2PD0FQLuTYlquASNALtr2ULUwI0CavsRF214EQFICdd1uHBtASS7/If3eSEAk3ic0NmEJQNeBc0aURjFA9pfdk4dBREChsQlD998yQKTfvg6ccyBA7lcUiRyVJ0DrvQtufr40QD8yMAV+pzFAF0t+seQXSkAPwV5O9vwcQBqbMHT/qxFAgy9MpgomNkABTYQNT/8wQCusQYUQLTFAH4XrUbgOL0BSJ6CJsAEcQHkOUt1J8RJATYQNT68UEUAaB4TD+AYhQL5VxNZZ0kRAmzB0/2uTMUDG3LWEfKAoQK8l5IOebTNAi47k8h/yEkBnRGlv8IUUQAeEw/hWEQpAp6Egi0ccFkCKQWDl0AIsQDTKDZkFXSFA9d4FNz87VUAZKYG6bvcYQAbwFkhQHBFABvAWSFD8DkAEoGSFNZgiQPzwGXYFKCJALGUZ4lgPRECa4+/xHBBAQAeEw/hWkR9ACrJ4xPvECUBdAXKvuYhAQHBfB84ZEQlA2j15WKhFKEBTliGOdcEjQH/7OnDOIDFAgLdAguL/PEDeJzQ2YYgSQPkx5q4lpBBAfoy5awl5D0BGSqCu200eQFelBxhwKQxAgd+Z4+8xFUAtjXJDZnEzQEKFEH1koCVAZdK5tV9xHEDJUZPz2AkcQHteBKBkhfM/cM6I0t4AFEApEjlqcj4VQK2OCR7M0wBA5BQdyeXfG0AwlvxiyY8WQFqrY4IHsytAjNtoAG/hFECuszTKDYktQM0WIyVQFwtAcYdgLyc7B0DOqs/VVmwiQEdy+Q/plxRALpCg+DGmGkDV52or9jcfQC1DHOviJjtABoGVQ4scLUBbiWaLkWIjQP6KIpGjtipAnqh/I5QtQ0DhC5OpgtEJQMzJnhcBcDxAfDwHqe48NUDxPqGxCWMRQPYDMeOAODBAO7ok4VWZIECPLkl4VTojQEOLbOf7vUJABVk84n2CK0AFWTzifZIjQPdT46WbNDJAcayL22iwKUAK+aBnsyoeQDF3LSEfdApAeqL+jVCGDkDvpJiWa2QdQCO2ztIotxlARUdy+Q+pEUBCz2bV54okQAKaCBueb5dA52f9QMx4MEBaPxAzDkgjQCz2l92T5xpA18ib6UvsKUBVxNZZGqUHQDtLo9yQ+RtAhqQpFWefEEDJm+lLXDTyP1KT89ipbBpAt/YrikQ+IUAtIR/0bFYQQHJDZkE7WilAN65sDCeWGUBrdUzwYD4eQOzlZM+LABhAF0t+seQX9j8QxIwDwmdgQCUrrEGFcCxA7zhFR3L5B0C73biyMSwuQPA7c/w9HiJAHVpkO98vJ0Dhnz9aiRY6QFuxv+yepEBAd3d3d3dnNUBhnqh/I9QlQINUd1JMeyhADZbXNx0uBUA/xty1hPwcQOHBPFH/YkRAwvUoXI/yJEB774Kbn3UQQB/PQao7qSNAwz9/tBL5QEAFo5I6Aa02QHfBzc/6QShAudQuk85tAUDl9U2HO8QBQG4PVQv/9DBAVg4tsp3vJkBhnqh/I1Q5QOSoyXnsRCVAzDggHMbnIECZ4ME8UYcyQOLsw2fYVRFAIyVQ1+1ONkDPiwCUrHAmQCqpE9BEWBBAjCW/WPITR0B0tRX7y+4CQB4Wak3zDghA/2tTT/nKLEBEREREREQwQPRsVn2uRiJAzH9Iv31lMkAZKYG6bh82QHUCmggb/iZAIUQfGZhiGUCQDEyB31kUQEvqBDQRtg5APgrXo3BdKUBMXLTtoRowQMYmDN3/2hhA/7J78rAQOUCLablG3qQ3QOtztRX7Wy9AvU9obMKQCkAg0m9fB+4VQG17qFr4Z/o/Ke0NvjCZCUAV+8vuyWsyQLsnDwu1hilApeLsw2f4NEB2Tx4WahUwQHJlYzixWi9AecT7hMbmGkDFagbL68tBQCoVZx8+AyBAv6JI5KjJF0DDP3+0Ev0sQDPp3Nqv6CFA6gEGXGqXMUBKMS3XyNsEQM70JS7aVhFAbVZ9rrZ6OECH9NvXgQMiQGXSubVf8TVAv58aL91kH0BJLv8h/XYBQMcpOpLLvw9Aj+cg1Z30EEBZF7fRAL4TQGSnMp+G4jhAzV1LyAcdIUCsPldbsSc1QCYM3f/aNBlAH4XrUbiuK0AEVg4tsl0LQDmxmsHyaiNAZtXnaisWKkDuoWrhnw8hQHd3d3d3txtAyb3mQtLEJUCCc0aU9oYIQH5njr/HEx1AS6Cu2437KkAdOGdEaa8gQN6Th4Va0w9AvHFlYzjRFkCcespX760sQEm/fR04hyFAxLEubqNpNEC8u7u7u3sVQFQt/PNHk0BA07zjFB2pEUA1g+X1TUcJQEm/fR041y1AVscED+YZL0BuowG8BWIpQPw6cM6IEhRAfKha+OdvE0BJdSfFtKwtQBt5M32JKxdAhslUwajEGUCWRrkhs+AZQNkVIPeaayRA8mb6EhctAkAP5on6N4oxQKGM3pa1mhNAxpWN4cTKH0DXNx3uEAwRQAmH8a0iFjRA9JGBKfDLKUAkl/+QfgssQHyriK2zbEBAGy/dJAZxK0BJv30dOKcCQG3n+6nxsiBAItjLyZ7LQEBtwtD9rw0tQFTjpZvEwBNAKTdkFrTzIEDE1lka5SYSQJzEILByyCdA11ka5YbcIEDZOkuj3OAkQG/LWh0T0EFA+aBns+qzDUDd2q8oEkFCQKla+OePdhtADpkF7ehKOkCqXSadWzsmQC1oR5ckfBRAXiadW/vFK0C5jQbwFkAxQKfoSC7/wRJAwMqhRbYTFEB1u3FlY/gOQAGX2mXSAThAbuopX70XGUAR7OVkz6sxQF207aFqQR9Anu+nxkuHLEAV1qBCiN5AQBKDwMqhtSNAo0jkqMlZFUBjWq6RN7MQQP75o5VoVhhAFIkcNTlvP0Byr7mQNOUyQDQ2Yej+NxNAhDJ6W5Zvl0Bjf9k9eWgqQG0MJ1Yz2AZAtxtXNobzGUDChqdXyrL3P1JMyzXy1jdAi2m5Rt4wQ0ClvcEXJtMGQAr5oGez6iRAEqjrduNKAkDCYXyriI0uQGNarpE3MyBAmwtJUyruFkDbZdK5tUcwQNR1u3FlYwBAJLn8h/RXQEAGXGqXSWdIQPdQtfDPzyBA8KfGSzfJJkCK+jdCGR0gQPwVRSJHTQ9A+Qy7AuTyRkBqA5020LE4QDeJQWDlUBVAQ4g+MjDNMEAcMgva0cFFQJ6ofyOUkRNALmt1TPAAF0AU+J05/sY8QObTUJDFowFA1C6Tzq1NPED6yMAU+J3yP5ESqOt2YyZABDHjgHBYH0B+0+EOwZ4RQBSJHDU55zhAzO7Jw0ItNEARx7q4jQYpQA4Ih/GtkjFAfh04Z0QpAUDQji5JeL1DQBPyQc9mtRdAAJF++zqwHUCH8a0ithJBQFk5tMh2/iZA/7Wpp3xtMEDaYqQE6tocQE9AE2HDkxJAycAU+J05HEDOYHl90yk3QP4ez0GquyFAREREREQ0PEAB3gIJin8cQPOzfiBmXEFAh4Va07wDLkAV1qBCiH4NQHCEMnpblitAAG+BBMUvM0D2K4pEjvoUQHJlYzix2i5AKz3AgEsdJ0Ajts7SKMcgQJT2Bl+YpD5AIYtHvE/IHEA/EDMOCKcUQEVsnaVRrg1AI9v5fmrcE0Ak3ic0Nqk6QF3ZGE6sikJAJSusQYXAMkCGONbFbaQqQBNhw9MrdTJAV4Dcay7kDUDBFPidOd4vQNQJaCJs2BxAgbpuN648MEB56SYxCBQyQBB6Nqs+lyZAEhQ/xtw1EEDUUJDFI/4VQKblGnkzfTdATTq39ivqGkCgZIU1qFASQMaVjeHEuiZAhzsEeznhOEDUdbtxZYMqQLIMcayL2w9AZfS2rNWhKED+QMw4ILwrQJRAXbcbVxlA7VTm01BAI0D9GHPXEpItQKFCiD4yEBpA59Z+RZG4NEAPUt1JMW0BQIFL7TLpfDdAt6zVMcGvSkDTl7ho24MBQFbpAQZcmiRAYsYB4TDuKEDwFkhQ/BgbQIv9ZffkwR9AehGAkhXOPECdx05lPg39P9v5fmq8EElAC0YldQJaIkDuEOzlZM/5P52iI7n85xNAQWDl0CI7KEC+eu+CmwcxQJ+rrdhfVh1A3NeBc0bUFUD9GHPXErIUQBsKsnjE2zVALPaX3ZNXJUDKVMGopM4UQIxK6gQ0wS5ATx4Wak2bNEAdWmQ7308dQDnWxW00gB5Ax3OQ6k6qJkCvJeSDnjU2QI8JHswTVR1Ag+X1TYe7CkBUUiegiRAYQBRk8Yj3STlA+THmriV0LUBpImx4emUWQPsSF217qCNAmU9DQRZHMECHqoV//sgSQGu8dJMY5B9AJeSDns1qF0BcapdJ55YmQDtLo9yQuRlAYjWD5fXtGkAnDwu1pokhQAUSFD/GfBlAJngwT9SfJUA5+/AZdmUhQNJvXwfOWR5AkKD4MeYuGEBEaW/whSkQQDsBTYQNnyVAKTdkFrQjPkDcQ9XCP/8oQPkMuwLkHgxA3WsuJE2JF0AFWTzifbIqQDtLo9yQuTtA4Jnj7/G8GUCbC0lTKhpLQKUsQxzrsixAOrTIdr7fIUDNgnZ0SUIPQNZ7F9z8DEJAlmvkzfQlOUDxiPcJjc0SQBDpt68D+0NA1sVtNIBXEEAuRkqgrnsZQCnI4hHvUxRAHoK9nOz5HkACvzPH30s1QOexU5lPAwZA/ooikaMGP0Dy0k1iELggQGx4eqUsQx1AliGOdXFbJ0Bgdk8eFgocQE06t/YruiBAkaMm57ETG0B/IGYcEC4iQEP3vzb11AJAW/jnj1bCE0CBBMWPMW83QCBj7lpCRkFAxEKtad4xKUBDZkE7ujQiQOZn/UDM+BlAXLG/7J68BkA17zhFRxIZQBcBKFlh7SNAIYtHvE+oCUCV+TQUZAEuQE0VjErq5BNArIitszQ6LUBQIUQfGVgBQNv2ULXwrylAl92Th4UaFkDBg3mi/l0oQDZh6P7XdjJAj7/Hc5C6IUA5jG8VsfUWQJ+rrdhfzjRA2RUg95rrIUAjSnuDLywYQJ+rrdhfXjhAF217qFr4EkDXpp7y1dMzQKS6k2JarhVAn2FXgNyjPUAxdP9rUw8NQGpv8IXJ9CVAokW28/0kLkDvExqbMFQeQAkbnl4pD0lA/awfiBkHCkArPcCAS40ZQGTMXUvIRxdAHqfoSC4/IUBe33S4Q0ApQMP4VhFb9yRA0PqBmHEQK0BgLyd7XkQRQAamwO/M8RBAj+cg1Z0EIUA3rmwMJ3YgQOLplbIMMR1Af2q8dJO4GkCyne+nxlsyQNQrZRniuCJAlvxiyS8uMUA0NmHo/kcuQMcpOpLLlzVAA1Pgd+ZYFkBULfzzR2sHQJWKsw+fARdAHA3gLZBgKkCavsRF244qQOdC0pSKszBA+jQUZPFoG0As9pfdk4cCQK1p3nGKripAh/GtIrYOEUB9ZGAK/M4IQK/bjSsb4xZA5KjJeeyUCEBEHxmYAv8QQJ3HTmU+bRFA2RUg95pLFkAc6LSBTpsRQK7YX3ZPriNAy8ZwYjXjMkALa1AhRD8iQK2L22gALxlANtBpA52GIEDxrSK2zhIfQFai2WKkzDxAM1he33R0QEDr3whl9JYdQIocNTmP3RtApN++DpyzLUB8PAep7vQkQL7BFyZThfg/hqdXyjIUKUDnj1ai2YITQPvL7snDkiFA/vmjlWi2JUCJiIiIiPg3QJEPejarXhZAQDiMbxXRMUCzoB1dkmAmQPSRgSnwszRA/RuhjN6mLUC9UpYhjn08QHnE+4TGxiBANe84RUfyFkDSAN4CCYoQQOOlm8QgEBdAAy61y6QzIUA2PL1SlqErQL5VxNZZWjVAUUZvy1qdB0CAkhXWoKIjQGoDnTbQ6RtAFtnO91MzLEAmLtr2UHUfQKehIItH/BZA4xHvExrbE0B/1g/EjGMmQMHvzPH3OBZAuR6F61HIJUA+eVioNeUxQBMXbXuogjBAR7xPaGwKMEDOY6cyn5YvQIMKIfrI8C5AvnfBzc+6CkBs5M30Jb4qQNwh2MvJNkRAQYLix5i7JEDz+qbDHUINQLprCfmgZxhA/ooikaM2PkC+nOx5ETBBQMkHPZtVnwhARrkhs6AdG0CKQWDl0PInQIObn/UDcSBA76SYlmucNUDqAQZcahcfQDf4wmSqoA1AggfzRP3bD0CSN9OXuLA1QBKDwMqhtSVAX5hMFYwaLUAUGpswdOczQOIz7AqQ+yJAjuHEagbrPUAVHcnlP6QWQKtgVFIn0CpA0baHqoUfJUDwYJ6of09CQI8uSXhVSixABoGVQ4tMG0AwcdG2h+oXQIVa07zjVA5Abn7WD8SkNEBUd1JMy+UjQDkgHMa3IjRAFbF1lkYhNkCh1jTvOG0zQAbL65sO9yNA1L8RyugtDkBuftYPxIwKQEXbHqoWbjNARB8ZmAK/BEDTKDdkFopYQEcGpsDvvCtApHNrv6IoH0AzMzMzMzMnQOn+16aeUhJAjnVxGw2gD0C3itg6S+MSQLPnRQBKlhBAVp+rrdj/MEBdtxtXNkYnQEB/tBLNRkBABFYOLbL9IEDA7J48LNQJQLwqPcCACz1A+8vuycPyK0Bh6P7Xpm4gQAXIveZCYjdAR7xPaGwuQ0ADwmF8q5gqQFZYgwohOj1AxbRcI2+GEUD2vAhAyRI5QHo2qz5XW/I/ckNmQTsaGECXkz0vAiBIQMw4IBzGdxJA6nCHYC8/NEBNX+KibW8QQLeK2DpLYxRAi/1l9+TBE0C9vulwh+AOQCegibDhkTFAFiMlUNft9T/w8RykuuMmQGQWtKNLAiFAIBzGt4roJUB248rGcOIjQFk84n1CIx9A9pfdk4f1LUD5DLsC5D4pQGbV52ordgZAGd8qYuvMHEDC0P2vTf0ZQO8TGpswlBVATRWMSuqkGEAwKqkT0PxFQLAD54woFTlA0rm1X1HMPUCJrbM0yvUyQOybDncIhjlAe14EoGQlF0AsQO41F7IyQAmH8a0iNh9AvCo9wIBvSEA3rmwMJxYTQKUHGHCpzSJAnaVRbsjsMEDcay4kTYlAQOaJ+jdCqSNA/T2eg1S3HEC0Es0WI71DQA502kCn3SRA9gZfmExlKEDxiPcJjU0HQNJvXwfO+R5AKVyPwvUAM0CASL99HcgyQJ/Nqs/V4kNAjlBGb8vaDkChZ7Pqc4lDQHCpXSad2xdAbAn5oGcz/D9NhA1Pr1QQQGklmi1G6hJAxpWN4cTq/j+epVFuyKwbQCnI4hHv8xFAWfKLJb94F0C30QDeAoE2QCLYy8mexyBAv1jyiyX/J0D+Q/rt67g4QN5uXNkYDiZA+jQUZPFoGkADeAskKC4tQLn5WT8Q8yNA9gZfmExFMEA+LwJQsiZTQL7mQtKUCg5ASFD8GHP/MED1SlmGONYOQPeaC0lTqglAYHZPHhZ6I0CdgCbChuczQLyWkA967j5AMJb8YsmfJkAN4C2QoJgoQJstRkqg7hdAR5ckvCq9DkBiodY077AyQKTfvg6c8xlAS6Cu240LFkAC4TC+VQQeQB7ME/VvRABAIBzGt4pYEkBpke18PzlAQLYYKYG6XiJA18ib6UvcA0Alv1jyi4FDQIsikaMmtzFA4umVsgzZO0BfTva8CMRBQF3ZGE6shiJAPN9PjZcuDkAVHcnlP8QQQILix5i71hRAWfKLJb/YAED6WT8QM44fQE9AE2HDy0FA/2glmi1G+z97gAGX2iUhQNVTvnrvUiZAS1mGONalF0D+ZffkYZEiQNc3He4QtDNA76SYlmukB0BbrpE301cWQBvAWyBBYTNArR+IGQe0JkD/If32dbg7QKuqqqqqWjdAFmpN844TGEDnINWdFDMfQFle33S42z9ArD5XW7FfFkAF7eiShDczQDLBg3mifhlAjSjtDb6wDUBXyjLEsU4mQIkZB4TDOAZAcDrcIdjrK0Bm9+RhobYkQOCZ4+/xXB1AGXCpXSYdKECCB/NE/TsYQDrZ8yIAZRxAgUvtMunMLUCSplScfZgXQC8ne14EsDBAvVKWIY5lMUDek4eFWjMUQCusQYUQDS9ARdjw9ErZKEAK+aBns6oTQB1/j+cgLTBA2YSh+187FkAQWDm0yLYxQPGI9wmNLSZAw2SqYFRyEEBF/RuhjJ4jQBfc/Kwf+CZAadtD1cJvKkAFNBE2PP0SQDYawFsgmTlA7hDs5WQPIkBMgd+Z428FQFH/RiijdwlAS8XZh88gP0Db+X5qvLQnQE+KablGfhlANBE2PL1SH0C6kDSl4uweQNKUirMPLyVAGXCpXSZ9KkBRa5p3nFIoQH74DLsCRBVArdUxwYNZMUA2hhOrGWwwQKUHGHCpXRhAcUA4jG+VEkAh+sjAFDgAQAv8zhx//ypAat5xio5EN0DWexfc/Nw7QCxA7jUXUhBAW0I+6Nm8IkAK1HW7cUURQIy2PVQtvBZAHA3gLZDAGUB3UkzLNbIPQBsv3SQGYSFAB1+YTBXMK0B7gAGX2qUOQKyIrbM0igBA+zdCGb2DeEBfmEwVjBo3QBUdyeU/pEZAqsynoSB7OkBL6gQ0EbYPQAJ13W5cqSdAlD0vAlASEEDazvdT4406QNejcD0KQ0lArWawvL6JHkAmeDBP1B8QQJq+xEXb/hpAe4ABl9pFL0A7t/YrigQHQB6CvZzsORdARNXCP3/8OUCadG7tV1QZQFbHBA/moUFA0wMMuNTOMUCjkjoBTXQnQPsSF2172CdA8WPMXUt4JEDR2ISh+78VQM+t/YoiUSdAZrC8vunw8z8FEhQ/xjwvQOQUHcnlPxtAcmVjOLFiOkBpJZotRiI0QBERERERERFAzBP1b4QyDECX/5B++xoUQC9uowG85SlA/7J78rBQHEBF2x6qFj4LQNuvKBI5sjpAW66RN9MX8z9U46WbxAAUQJkCvzPHHw5ANoYTqxkcK0DHc5DqTsoVQGlswtD9lzNAIPeaC0n7MkCEDU+vlIUcQDvcIdjLwTlAkqZUnH04M0AmeDBP1J8TQEymCkYlLUVAkX77OnDuGUAUZPGI9wksQAQx44BweBNAhX/+aCU6MUDP0ig3ZJYdQK6zNMoNuTZA3dqvKBJBMECbUnH24TMNQFr1udqKXSZAa5dJ59YOJUC+VcTWWToZQNGRXP5DLkBAO9wh2MsJAkA3+MJkqnAqQPd4DlLd+URARwN4CyRoIECu2F92T44lQJmWa+TN7DRAQqo7KablB0A3He4Q7EUkQNv5fmq89Po/kOpOimk5PECASL99HTguQNNNYhBYuR5AD3cI9nKSKkBhVFInoIn1P1O7TDq3RjFAgG3qKV+tN0A3Qhm9LcsTQGawvL7pMARA/mX35GHRLkBwqV0mnRsOQNc3He4QrCdA5tNQkMUjD0D2ULXwz78oQJRAXbcblxVA4g7BXk52/z9Mgd+Z49cxQLPFSAnUJSJAoR1dkvCq+T8Jh/GtIpYmQGxTT/nqfQpAVqLZYqTiXECuszTKDdkKQElTKs4+fA9A8T6hsQmXQkCnwx2CvRzxP6fDHYK99DBAqX8jlNHbG0Br4Z8/WmkeQEVHcvkPKRNAYqHWNO8wRUDcaABvgWQeQIU1qBCiTwhAO9wh2MvJBUANuwLkXqMpQKsZLK9v0jRAFUL0kYFJLkAEMeOAcPglQDlqch47zTBAGuJYF7dJNkDC8vqmw9UyQDDgUrtMuidAFYxK6gT0BUBqA5020IkYQJfaZdK5FR1AMHHRtofqFUDEQq1p3ok0QM70JS7a9h5A1AloImwYHkDxzx+tRKMoQBFbZ2mUgzxAIYtHvE+oAECklWi2GJkjQAwkKH6M/UZAPXYq82ko9j+QMXctIb8dQC7a9lC10BlA/RuhjN4mLkAfYMCldrktQLmyMZxYrR9A1xLyQc8mH0DcjSsbw3ksQOOlm8QgACRAPQep7qRkS0BG3kxf4gIcQFsdEzyYBxlAD5wzorTnIEA1XrpJDIIXQPNpKMjiYSJAi0SOmpyHF0CA3GsuJI0fQDTH3+M5iBNAhzsEezk9QUAg0m9fB87wPw9S3UkxzSdAyQc9m1V/HEBv7VcUibwaQPzzRyvRDCdAZc+LAJT8PkAfhetRuE4iQMCAS+0yMTZA3t3d3d19FEBfBKBkhXUPQCFEHxmYIhBAkOpOiml5CUB/RZHIUZMvQC7/If32zURAO9wh2MvZL0DkFB3J5RNCQInS3uALEytAsStA7jVnMUDLoUW2890rQKEdXZLwJkNAoo8MTIFfMEDF2YfPsAscQI/k8h/SNzFAOv4ez0HaN0AT0ETY8PQVQKFCiD4y6DFAPJgn6t8IH0AcDeAtkDA5QH7T4Q7B9jtAkz0vAlACNECyne+nxusmQJq+xEXbLipA0wY6baBTB0Bmi5ESqKMwQNk6S6PcQC5ACvmgZ7PqBECz6nO1FSMwQD98hl0BEi1A2ofPsCuwJ0Ceg1R3UgwNQAV+Z46/ByZAB/NE/Rv5M0BBYOXQIvsjQKqnfPXeBRdAUSRy1OSkPUCGgiwe8X4TQNHbslbHVCRAAU2EDU+fJUC6kDSl4kwhQB/PQao7iRxAQH+0Es2WB0DTco28mf4AQEA4jG8VcSdAOmpyHjs1IUCH9NvXgTMJQN1GA3gLJDNAHl2S8KokSEAaB4TD+NYGQL7BFyZTpURA8IKbn/WDCEDy0k1iEBA4QAKaCBue/idADgiH8a1CHUDa8yIAJesRQM/3U+Ol30ZA3NeBc0bELkC1y6Rza18bQNoYTqxmEB5Ag8DKoUVGI0DPHH+P5xAoQP1iyS+WjC5Ah6qFf/7YI0A3He4Q7MUuQKROQBNhQwdA+g/pt68DFUDF2YfPsMsvQJvB8vqmkypAuUOwl5P9SECJPjIwBV4SQCBB8WPMjTNAuv+1qaesLkB/1g/EjKMVQJxVn6stTJdAEH1kYAr0M0CZcUA4jM8aQKae8tV79y9Awx2CvZz8JkBWn6ut2F8AQC3880cr0f0/jJESqOsWH0CkKRVnHx4lQK5H4XoUbhlAMJb8YslvCEB8gy9MpuorQHT/a1NPQTNA48rGcGJVIkCQ6k6KaXkOQPIcpLqTkiNAwe/M8ffoS0CcespX790aQIFwGN8qMi9A4JwRpb0RMUBSAnXdbiwqQLuTYlquATpAxIwDwmGcIkCmVJx9+BwlQLr/tamnHBNATYQNT6+U/z9gm3rKV9c1QOpwh2AvFylAxEXbHqo2LUDl8h/Sbw9BQGFUUiegaRdAokW28/0ULUDEjAPCYbwsQECk374OnAFASQnUdbvhPEDrmODBPEErQPGq9AADbhJABA/mifo38T8jSnuDL5wpQBRk8Yj3yRhAGwqyeMQbIEA2PL1SltEkQG1Wfa62Yg9AEu8TGpsw+z/wzPH3eI73PyO2ztIoN/s/1XjpJjEoKECVQ4ts55sdQAfzRP0bOTFA3riyMZwYBEBGSqCu2x0qQIeFWtO8Yx5A1JrmHaeoEUA0gLdAggIXQHAY3ypi6x5AescpOpJDM0AOdNpAp80pQHUCmggb5jNAwTkjSnsTJUAExY8xdy0WQBtUCNFH9iFAu0kMAiv3IkBiV4Dca64CQFICdd1uNDlAQMkKa1ChGkADCYofYw4oQLRZ9bnaChhA/awfiBlHJUAvAlCywtoXQIZdAXKv6SJApCkVZx8GMEA/fIZdAWIkQFJMyzXyNjVAitUMltcXF0AExY8xd+0MQFqGONbFrTJAyb3mQtL0GUAUP8bctQQGQHDzs34gljRAWV7fdLjjQUAQejarPvccQDXvOEVHwi1AsglD97+2CUDOz/qBmHEkQJstRkqgniRAoUKIPjKQIECGzIJ2dDkoQKk1zTtOcRpA7FTm01DgIEAZTqxmsAwpQD12KvNpKP4/Qhm9LWsFOEAU03KNvJkvQH6x5BdLXjBAH2DApXbZJkD8X5t6yhcaQJaQD3o2+yJAzxx/j+cgGEAB3gIJih8eQA/BXk72HBNAiou2PVTNHUBza7+iSIQjQGf6EhdtDVtAVXqAAZdaDUB9GgqyeLQoQOTyH9Jva0JAzaehIIuHBEDe3d3d3X1HQLHh6ZWy7B5AlBsyC9oNTEDmHafoSN4gQHkOUt1JsRBAjLY9VC0UQ0BRJHLU5JJTQBPNFiMlyEFAH6oW/vlDIEBL6gQ0ESYhQJ4U03KNfCFAaZHtfD9FLUB+0+EOwV4YQA2W1zcdvjNAw9MrZRmCKkDPHH+P53AkQKpdJp1bqyBATfBgnqj/FUDuoWrhn58mQNSa5h2nuDBAtfDPH62kFEAdWmQ736czQI/C9Shc80VAdr6fGi99GEDsduPKxjASQJvmHafoEDpAssIaVAjxLUBsLiRNqRxDQLRZ9bna+iVAy1fvXXBjQ0BcRWydpbEWQHlVeoABdxRALEDuNReyMkAT8kHPZvUdQF0jb6YvcQhAz0GqO6lQcEDdJAaBlQsxQMtX711wMwdAwjxR/0YIKECnoSCLR+wmQP6KIpGjFiVAqe6kmJarJkC8TDq39ssmQJBWotliYEFAlmvkzfRFFEA1XrpJDCI2QLnULpPO7S1AG+WGzIJ2CkDd/9rUUxYyQOXQItv5/hhAD1LdSTF9IUAxvlXE1kkuQKVOQBNhwxBAAZfaZdKZE0D9rB+IGdcuQPumwx2CfQVAjisbw4m1E0BnRGlv8KUQQEm/fR04RxZAVukBBlwqH0CRyFGT8zgdQOtOimm5piZAc0aU9gavK0DWVuwvu7cgQM/SKDdkFitABjptoNPGE0BXEVtnaVQ3QABKVliDkjhAJSusQYVAN0A+w64AuRcPQOUaeTN9KTVA33S4Q7AXBUBAWolmixk2QPQiACUr/CxA5on6N0JpJkCvJeSDng0EQEFg5dAiey1AukbeTF8eQkCSplScfWg6QJAxdy0hH/8/sZrB8vrmBUBJUyrOPjw1QIuzD59htxZAxSPeJzRmIkCdNtBpAx30P+ltWatjCjlAd3d3d3dHIkAWak3zjvMkQJkF7eiS1CtAxf6ye/LQGEBNhA1Pr0QsQCuHFtnOHzBAVzaGE6vpI0Bq3nGKjqQVQEvF2YfPkB1A+g/pt6/PQ0AQn2FXgFwkQF6VHmDAJQxA1JrmHad4OEBJCdR1u6EoQBcmUwWjQipA0WwxUgJ1CkANJ1YzWABaQGooyOIRvyBA9pfdk4fFGEAlCa9KD5AmQNCwK0DuJSZAWV7fdLgjEkDDGlQI0ScZQBsv3SQGARNABFYOLbI9GkBfB84ZUUJAQF9zIWlKlTVA07zjFB1JB0A1OY+dyuQ0QHAY3ypiax5AMlUwKqnTG0CWRrkhs0AjQHkwT9S/0SlAYcPTK2VpLkBpImx4euUFQAva0SUJTyJAVZ+rrdjPJkASqOt247IzQBvAWyBBQShAq/QAAy5NMkDQji5JePUWQAqNTRi6ry5ASsKr0gNUMkCHqoV//jgwQNejcD0K9yBAat5xio6YQ0Da8yIAJcNBQB/PQao7bUFA8c8frUTjJkAPC7WmeScZQPcJjU0YOghAFIkcNTmvEkCK1QyW19cWQFk5tMh2/iFA97829ZTPH0CSgSnwO3MEQCfq3whlNC9AM5+Ggiw+IED3vzb1lO8hQNweqhb+ySxAUSRy1OTsJ0DfKmLrLK0bQMTWWRrlhiJARbPFSAkUIEC6/7Wpp6RCQP/80Uo0GzxAgNxrLiRFQkD90Uo0W+wSQFXE1lkatUNAGQRWDi1yGUC/DpwzonQGQFfKMsSxjh9A8tJNYhCYAkBJv30dOJ9BQCNvpi9xASFAtO2hauGPI0DkXnMhafopQJoIG55eOSVApb3BFyZLM0CKsOHplTIWQESOmpzHhjJAyzLEsS4eJkAQMw4Ih01JQH/ZPXlYyDJAfWRgCvzOCUBZgwoh+hAxQAK/M8ffkyVADElTKs6eF0CGE6sZLM8TQPyp8dJNpXxA/awfiBlPQkCTGARWDm0VQK0fiBkHRB5AcYdgLydWY0BdI2+mL9EfQOYdp+hIPiFA6pWyDHHsCECbd5yiI5kTQJSHhVrTfCpAPi8CULJCBkCxBhVC9Hk/QJZGuSGz4DRABz2bVZ+bL0ARoo8MTGFBQPZysudF4BlAs+pztRVLIkAeEzyYJ9ZEQLTIdr6f+iJAQqo7KaZVMEBqKMjiEY8ZQNZZGuWG7CJAkKD4MebOFEAW/vmjlYA2QL7mQtKU+iVALmt1TPAAGUC7Jw8LtQ43QPRsVn2udhlAOyZ4ME+UHUBjyS+W/NIkQCQDU+B35iJAD3cI9nKSF0A9wIBL7cIhQG40gLdAwhFAOv4ez0EqHkAzWF7fdHgWQJX5NBRkASdANqs+V1tZM0AVHcnlP6QcQBBYObTIljNAtTomeDBvFkAaUdobfHEhQG7ILGhHFyJAAZfaZdL5CUAEDLjULjMWQFNP+eq9qyRAQqo7KaZlLEBeJp1b+yUjQD55WKg1jRpAKoToIwOTAEAmeDBP1F8qQB1/j+cg1QdAikFg5dBCFUAk4VXpAc4xQAvXo3A96hFALK9vOtyBFUCuIrbO0ugTQFPgd+b4UzdAAd4CCYqHM0BwqV0mndslQIY41sVtNBZADLjULpMOHUAqX713wZU5QJHFI94ndEBAglFJnYBONEDPsCtA7mUwQF6VHmDABThAFYxK6gT0AEDyHKS6k3I+QPRsVn2uNiVA1qBCiD6CNUDMyZ4XATgtQBlOrGawXB5Anu+nxkt3MECDdnRJwvsgQO9/beop3/4/koEp8DuvS0Blz4sAlIwmQNFHBqbAHzVA0yg3ZBY0FEB+seQXS34GQLzg5mf9UCRAtMh2vp9KJkDPQao7KWYSQMm95kLS9B9A1CtlGeIIL0CEMnpb1hogQNbqmODBnBZA4eZn/UB8IkAsr2863JEiQG0xUgJ1LUNARWydpVFuIkCQe82FpBkoQB5gwKV2EUBAZYhjXdx2OUBfcyFpSgUUQLfRAN4CqRlAXGqXSeeWI0AWtKNLEt4VQAqvSg8wiDNAXpUeYMAVLECHhVrTvK9TQByhjN6WtRdAjJESqOt2BUAC4TC+VYQGQDpqch479R1AB/NE/RuROEB2dEnCq/IbQPpZPxAz3iZAu3FlYzgBMED//NFKNDscQHaZdG7tBzNApVFuyCyIOEARx7q4jVYlQKblGnkznTNAlBsyC9oxF0B5eqUsQ9wcQI+dynwaqjBAH2DApXaBO0DuEOzlZM8PQGtQIUQf+RlA1THBg3lCGEBNqTj78NkxQItEjpqcRw9ADCQofoxZGUB6fdPhDoEaQIZdAXKvGUBA5T+k375ODED7Ehdte0gRQIAjlNHb0hVAkTSl4uxDGUAVjErqBHQTQF+9d8HNN0FAlY3hxGrWM0C6Rt5MXyILQNxGA3gLvEBApzKfhoIcKUDmHafoSM4ZQA93CPZyMgVAmuPv8RxkIkAPMOBSu6wUQNcS8kHPzjdAO9wh2MuRMkDLDZkF7ZgkQJDqToppOS1AfvgMuwJkBUDX7caVjYEhQPaX3ZOHRQ9A5on6N0KpMkAkA1Pgd4hUQGZmZmZmZhJA0I4uSXi9QUBM7TLp3NokQL3jFB3J5RFAEYCSFdagH0AuRkqgrsskQFzW6pjgwR1AN0IZvS0rC0AgZhwQDgMaQLwqPcCAqypAVebTUJBFE0CbC0lTKt4pQGt1TPBg3jBAarlG3kyfCECeynwaChIVQGwuJE2pEEJAH89BqjvZI0Dzs34gZlwrQP/Xpp7y9RtAVFInoImwE0Dd/9rUU94rQFV6gAGXxkxA2s73U+N1MUCPCR7ME7UHQCUGgZVDazBAvzPH3+PxMEDxrSK2zlIRQI68mb7EhR9ADN3/2tRjIEDLfBoKsmghQE9DQRaP0DBAfPKwUGvaG0B67FTm0/xAQPs3Qhm9rQ1AoImw4ekVEEAN4C2QoJgUQBGijwxM8SBAfvgMuwJkBECsrdhfdhc7QFICdd1u3CJATtGRXP7DAkA9LNSa5h0tQJqZmZmZCSlAsglD9792CUCWtTomeCAnQPrIwBT4HRVAR3L5D+mXJEC/fR04ZxQnQHBfB84ZsS9AudQuk86tJ0COvJm+xMUNQOUaeTN9CRZAukbeTF+yIUAnVjNYXr8RQOm0gU4baBlAc9cS8kFPDECvSg8w4LIRQPXeBTc/6yFA0WwxUgI1NUCmwO/M8ZcbQLG/7J48TBNAv30dOGckNkCXbhKDwMoEQBueXinLyDdA0ko0W4zUIECP5PIf0qc1QFICdd1unBBArPcuuPm5HkAvJ3teBMRDQIV//mglehJA9QMx44BQEUCXSefWfsX1P5ESqOt2Oz5ACo1NGLp/BkD0IgAlKzwrQP0Yc9cSwkRA268oEjnKIkCWsgxxrOspQDWl4uzDNyBAuR6F61GYJEAn6t8IZeQiQH0/NV66qSlAwBHK6G3pJUBsCfmgZ3MOQPUDMeOA8ApAAAAAAAAAKUDRRwamwO8UQOspX713MSBAmQK/M8d3N0BheX3T4c4QQFR3UkzLvTJAxCCwcmgRG0BOGLr/tQkWQHwX3Pys3xlAnYAmwoa/OkBKVliDCoEoQDWD5fVNpxpA82koyOIxGkC5sjGcWL0sQCYxCKwcGhxAckNmQTvaPEAeXZLwquBNQJESqOt2ow9AX3MhaUpFHED7N0IZve0SQFai2WKkpBNAzTtO0ZG8IEDStoeqhb8QQEFdtxtXRixAI2+mL3ExEEAdf4/nIJUnQM0WIyVQtzlAw2SqYFTyJkB5eqUsQ/xNQJ19+Ay7gitAcdG2h6rFDEAi/fZ14FwbQIxvFbF1dhtA0pSKsw9/HUDbQKcNdFoYQEW28/3UeDRAPQep7qRYKECg0wY6bUAYQAxJUyrOvhxAOUVHcvkfPkDKL5b8YjExQESzxUgJdB1AcoqO5PK/F0AKr0oPMOAXQMqeFwEot1BAcWI1g+VFLECnMp+GgswmQPd14JwRBRNAhDJ6W9aSM0ABcq+5kPQkQO5aQj7o+R1Abef7qfESIEBK59Z+RREHQH77OnDOcDBA+cJkqmB0HEADLrXLpEs3QP/80Uo0iypADwu1pnnDQEDV52or9ucjQFWfq63YLyVAltc3He7gIEAJG55eKYsMQA93CPZy0iZAg3Z0ScILJUDMf0i/fX0gQDUUZPGInzhAD5wzorTHJ0DJUZPz2CkqQPaX3ZOHpR1AFSD3mgsBM0Dc/KwfiMkjQBueXinLEAhAmggbnl65JUBMgd+Z488aQJ1b+xVFajdA6Ugu/yE9JEAeFmpN844OQA1Mgd+ZowlA07zjFB3JFUBcj8L1KJwfQNMGOm2gEw5ACUDJCmuAMkAhH/RsVl0hQF+9d8HN9zJAw4nVDJYXB0DzaSjI4pEPQIIsHvE+QR5A3UkxLdfoLkC30QDeAlkiQI9TdCSXTzNA7hDs5WRPJkBpAG+BBAVGQHFAOIxvdRpA5Tx2KvNJEkCyU5lPQ0FMQNmEoftfiy9Aa5p3nKKjIEB8zYWkKSUtQAG511xInkZAJOFV6QFGEUDo2az6XD0wQB3uEOzl5BtAynnsVOaTH0CK1QyW128/QKNLEl6VHhhANOwKkHtNHEBiEFg5tOgXQAWjkjoBX1dAuY0G8BbYPEDjEe8TGhs7QNXCP3+0UhFAWc1geX0/S0ALkHvNhcQnQCBmHBAOUyRAxGfYFSB3CUBuD1UL/zwBQNZZGuWGHCNA3riyMZyYLkByr7mQNCUHQDxz/D2eQzNAW2dplBtyJ0BPimm5Rj4TQGwJ+aBnAzNASp2AJsLWKEADnTbQafMlQND6gZhxYDpAp8Mdgr3cLEAfz0GqO5klQMFeTva8iAhAzYJ2dEmiJEDaGE6sZhAgQNoYTqxm4CJA3ic0NmGoGEAVZx8+w740QP0Yc9cS4kZALUMc6+J2D0CRoybnsZMDQP9GKKO31TlAA8JhfKs4I0Dr4jYawJNQQMtaHRM8WBBAkTSl4uzDD0D1SlmGOJYWQCYxCKwcyipALmt1TPDg+j+OUEZvy/ohQGklmi1GajJAZtXnaiuWKUCOBvAWSLAaQOFV6QEGXAxAYhBYObTIJUBecPOzfqD8P5T2Bl+YLBtAVukBBlxiN0AlCa9KDzAlQEI+6NmsKjpASp2AJsI2K0Cg0NiEodspQLAoEjlqsjFARZHIUZOzBEArYussjbIZQMpUwaikrhhALNSa5h3XJUBlrY4JHpxCQIJRSZ2AhiVACYofY+4WRUBtDCdWM6AyQL3jFB3J5RRA0diEofuvLkCPLkl4VQokQPd14JwRZQxAUCFEHxnYFEAGNz/rB+IkQN5uXNkYhj1Az639iiJxEUD9YskvljwZQKIjufyH9DRAQqo7KaZVJEBxPQrXo1AcQCpfvXfBLRxA8IXJVMGoAUAgHMa3CoCQQCcPC7WmeQpAkvCq9ACD/z+c6UtctO32P+Olm8QgUDBAmy1GSqBuFECRWdCOLukhQNS/EcrofSBAnTbQaQOlP0CAkhXWoDIyQJI305e4iCRAALapp3wVLEAjACUrrIEaQB3uEOzlRB9AuR6F61EIIUB/arx0kxRJQBzotIFOKylA3UYDeAtUI0BDrWneceotQMX+snvyUClAiWNd3EbjEkBChRB9ZAAeQN3/2tRTLilAQ0EWj3j/MkC+5kLSlMohQKH4MeauBRNAdEnCq9KjKEAXJlMFo7IaQLfRAN4C+ThAe4MvTKZaIEDnsVOZT+MXQBiV1AlosiBA1zcd7hBMHUD99nXgnLEZQL10kxgEpjZA1L8Ryuh5QEC+d8HNzzoKQJlMFYxKmiRAItjLyZ4XL0BScfbhM0wfQMLQ/a9NfQZAEzyYJ+pfI0CoEKKPDHwgQDXyZvoSHzJARSJHTc6jEUA3rmwMJxYnQNjLyZ4Xl1BAE80WIyXgN0D24TPsCmAyQEvF2YfPMAtAZvfkYaE2IUBHTc5jpwIqQD2bVZ+rTSZAWvW52orxRUDbiv1l95Q6QJzpS1y0fTFA7xMamzA0EkDm+Hs8B2kTQLeK2DpLMyxARZHIUZNzJEAkctTkPLYhQKsZLK9vOvE/97829ZTvEUC2qad89R4qQKBkhTWoQDNA9iuKRI5qPEBw87N+ID40QCD3mgtJ0yRABAy41C6THkDG3LWEfJAAQKMBvAUS5CNA2RUg95qbKEDBXk72vMguQBtUCNFHdiJAnYAmwoavMECKQWDl0EIaQOb4ezwH2SxAfBfc/Kw/JECavsRF214IQAWjkjoBZ1FALK9vOtwhJUC7AuRec+EgQMaSXyz5ZTVABA/mifpXF0DBOSNKe3MrQPGtIrbOwixAwaikTkATIkBU46WbxKAXQEXY8PRKFU9AAShZYQ2aNEAamAK/MwcKQHXdblzZyCtAACUrrEFFIEDxiPcJjb03QO4Q7OVkzxlAXEVsnaWxL0DG3LWEfFAlQKFCiD4y2EVAQFqJZosNR0BvgQTFjyFKQK6zNMoNGS1AQog+MjBFLkAT8kHPZhUMQCs9wIBLjRJAAuEwvlUkHEAjJVDX7ZYkQBx8YTJVUBFANYPl9U2nJUCuR+F6FG4JQIRXpQcYYCdAjErqBDRRB0C1gU4b6LQbQLsk4VXpYSZAFiMlUNe9NUBGb8taHSsxQOB35vh7/DZAxUgJ1HWbGUBR/0Yoo7cpQKbA78zxNxZArBxaZDsfFECXuGjbQxUsQCUGgZVDSxVARiV1AppAMUAWak3zjrMTQNtApw102gVAUgJ13W6MJ0A7kst/SI8rQE3LNfJmojhA1n5FkcjRJ0Bf4qJtD1UbQDBP1L8RokZAT/nqvQtGMECXSefWftUnQF9zIWlKBRZAM+nc2q+gNUCnwx2CvRwjQFUwKqkT0ClAUENBFo/4CUBuowG8BaIrQKNtD1ULfxNAAG+BBMUDSUBxPQrXo6AtQGTxiPcJ7RFAUm7ILGj3L0BMEl6VHqADQMff4zlIbTJAyuhtWatjCUB9GgqyeMT6Pz0s1JrmHQRARZHIUZNjO0Ci2WKkBCo2QC8kTak4+w5ANjy9UpY5M0A2PL1SloEnQPxfm3rKlwZAukkMAiuHIECdW/sVRQIzQNweqhb+eRNAMjAFfmduHUBaGuWGzFozQO1U5tNQwC9A57FTmU8TQEAbCrJ4xKshQGPJL5b8YgtAToc7BHv5FUCDUUmdgA4wQAtrUCFEry5AcvkP6bc/JEDuEOzlZE8dQH6MuWsJ+SNAZ7Pqc7XFJUCQxSPeJ1QWQF66SQwC2y5A0gDeAgn6OkCWa+TN9CUbQDLmriXkwxpAhA1Pr5SlE0CkKRVnH/4dQI1NGLr/NURAg8DKoUUGJECGE6sZLH8jQFAhRB8ZOBtAr2863CEYDUCQMXctIZ8vQEHMOCAcNilA/T2eg1TXE0BT4Hfm+MM8QB4TPJgn2iZARZHIUZMjKUAkKH6MuZM/QEcGpsDvzCdAWx0TPJjnAEAyMAV+Zy4oQHW7cWVj+DxAEl6VHmBgL0BzsudFAMoUQN4CCYofIwtAkjfTl7joCkCAbeopX90RQAKaCBueniRAAU2EDU+vEED8X5t6yr82QEMc6+I2ukdAnhTTco28KECxv+yePAwkQBDpt68DdyNAsZrB8vq2KkD2ULXwz98aQDEIrBxaNCdAt9EA3gJ5KkDWoEKIPpo2QC9JeFV6QDRA2mKkBOr6HEDXo3A9CvcrQJHtfD81Li9AjblrCfnAEUB5eqUsQ6w5QOPHmLuWQCBAFGTxiPcJKUCqXSadW/sVQGlv8IXJBCFAtoeqhX8+JEBGSqCu2y0jQFFrmnecYgpA5M30JS4aKEBXpQcYcOkRQKYKRiV1oiVAhqdXyjJUK0CqzKehIIs9QKNtD1ULXyhAApoIG57mOkBx0baHqsUgQHbgnBGlPRlAlD0vAlAyAECmeccpOjIpQBbZzvdTUzhAu924sjE8KkCv3rvg5qcQQOqVsgxx/C5AUWuad5w2QUA5+/AZdoUpQL4Lbn7WhzJAUI2XbhIjGUCO5PIf0vtAQJHtfD815jhA14FzRpRWG0BGlPYGXzgcQD55WKg1zQ9Ad5yiI7m0NkDqJjEIrHwQQLzg5mf9gBZA7CyNckMmIUC0Es0WI70wQAPnjCjt7RZARwamwO98K0CNvJm+xKFAQEvqBDQRFiJAEzyYJ+q/FUCEeaL+jVAKQOzAOSNK6yRAd1JMyzUyKkCFoftfm7oTQDzfT42XDhZAzj58hl1hHkDah8+wK+AhQFK4HoXrEShAguLHmLtWFUCOmpzHTqUbQLLnRQBKljFAabYYKYFKLUAn6t8IZXT+P0ymCkYlxS5AE9BE2PAUGUCuIrbO0oAzQF4Bcq+5sCdA5YbMgnakLEDaPXlYqNUoQNtl0rm1HyJAV+9dcPPzJ0AbVAjRR2YTQNQrZRni2BpA/PNHK9FUMkB02kCnDaQ2QPDM8fd47iFANhrAWyAdUUA/MjAFfn84QAG511xI+hdAYXl90+EKTkBkO99PjdcMQBCfYVeAnAFAoiCLR7zvLkChZ7Pqc3UsQDMOCIfxLShAiRkHhMNoJUDVwj9/tDIlQNAfrUSzBQ9Az9IoN2SW+D+aUnH24QMhQA6+MJkqqCxArpE305c4HEB0/2tTTwkjQNZ7F9z8rPk/TDeJQWA1JEAamAK/MzcyQHKvuZA0ZRxAke18PzWeDUD8OnDOiNIRQBosr2863AdAzBP1b4RCLkCWtTomeLD/P1xFbJ2lASdAx3OQ6k6KAUBY711w86MgQLfRAN4CqRtAihw1OY+9EkCaT0NBFi8qQKHWNO841S9Aw9MrZRkiEkDnaiv2l30bQMI8Uf9GqPk/blmrY4LHD0Dc/KwfiEkkQBt5M32JSxBAjwkezBPVIUARx7q4jYYFQNFsMVICNRBA6rrduLLhIEC7Jw8LtWYUQGf6EhdtmypA24r9ZffUKEA73CHYy6k4QKvP1Vbs7yFAwz9/tBLtH0Almi1GSiAaQBB6Nqs+rzNAFo94n9AoKUBjE4buf80TQFNP+eq9ix1AjErqBDTRE0C1pnnHKbomQK0fiBkH1DxA6gEGXGpnPEDqJjEIrFwpQGNd3EYDOANAuddcSJpSE0CRyFGT8xgDQOELk6mC4SlA8/qmwx3CG0DqBDQRNlBAQBAzDgiH5UZAo0sSXpV+IUCwvL7pcBckQPQAAy61CwpARWydpVFuH0ACmggbnkY0QBVC9JGB+TJArWnecYruFEAx44BwGB8eQJHIUZPzCDBA52or9pddLECaKhiV1J1DQE8b6LSBLiJA3I0rG8MJLkADnTbQaeMQQK8l5IOeDRtA3f/a1FMOQkDlGnkzfdklQG7F/rJ7QiJAW4lmi5GS8j/bG3xhMrUVQEVsnaVRAkRAJ8W0XCMPG0DPrf2KIjlCQN6Th4Va0w1AvlXE1llaIUDqlbIMcUwqQBOrGSyvrw5AcPOzfiD2IkD3U+Olm1QxQGLGAeEwvvQ/NMoNmQVtJUBjE4buf60ZQApD9782VRxA3GgAb4E0MEDjNhrAW4AVQCIiIiIiIhNAZ/oSF217DUDwp8ZLN0kbQNk6S6PcYCBA9SUu2vbwLEBpR5ckvEoaQNS/EcrobSZAYAr8zhw/CkAcDeAtkGAoQPMf0m9fVyNA/q9NPeUTP0BUUiegiUAjQL+fGi/dtCVAKoG6bjceJ0DhehSuR6EYQNGRXP5DGhpA4uzDZ9gVFEBWDi2yna85QJLLf0i/fS5AR3L5D+n3GEClmJZr5F1NQEKFEH1kECJAS+oENBH2EEBx9uEz7MoNQDXvOEVHIi1A5kLSlIq7NUBNOrf2K8ooQLj5WT8QozBADeAtkKBYGUCVHmDApbYXQCuHFtnONxFANRRk8YjnIkDAyqFFthMrQME5I0p70yNA+sjAFPh1M0AFo5I6Ae0kQDcd7hDsdSpAHqfoSC7fHEDmZM+LAIQ4QDMOCIfxvS5At2Wtjgk+GEAbL90kBmVCQDKfhoIsrjRA4xHvExqDNEAJZfS2rDUhQAmsHFpk4zlA7HbjysbQFUDO9CUu2lYyQNpipATqOv4/M8SxLm6j/j+dgCbChn80QOrc2q8oaj9AvnrvgpufEEDDrgC513wuQBa0o0sShj9A4jPsCpD7GEBO9rwIQKkUQKA/WolmKxNAO9wh2MtpIUDxY8xdSwgSQCRy1OQ8tgdALY1yQ2ZhHUAgrUSzxcgIQOZn/UDMWB5AVJx9+AwjOUAh+sjAFLgMQAbwFkhQfBVAJZotRkoAGEBb07zjFC0gQH+0Es0WoxFApuUaeTNdMkCqXSadW8MwQMOuALnX3AVA7AqQe80FN0A2zTtO0R1AQK4its7SSBBAPeJ9QmPzF0AN4C2QoPgSQHIeO5X59ARA+aBns+rTMkB7pSxDHIsbQBueXinLkCNA8hykupOCF0De3d3d3b0nQGXPiwCUlDxALWhHlyT8IkBuD1UL/7wpQIofY+5aggZAR03OY6cyN0AJrBxaZLv9P4GVQ4ts00tA7Q2+MJnKFEBEREREREQSQGyad5yiYwNAnHrKV+8dCEDkF0t+saQMQP6vTT3lSxlAAG+BBMXPDkCt1THBg3lIQFV6gAGXiiZAs8VICdQ1I0CE6CMDU2A3QFvTvOMUZTJAwvL6psPdCUCf8tV7FzwlQGHD0ytliTVAeVV6gAG3KUCRNKXi7DMlQCH6yMAUwDRAg1R3Ukz7PEAh+sjAFHgQQGRgCvzOTCtAUrgehetBJkAywYN5or4EQBXWoEKINjVA1VO+eu9CGEBB8WPMXSsYQCD3mgtJkxxAckNmQTuqJEBSk/PYqVxOQH+P5yDVPRZAnDOitDcgNEATYcPTKyUSQNvUU7567yBAjnVxGw3QJECpNc07TrEQQI51cRsNoBRAEoPAyqGVN0DS3uALk4kWQGaLkRKoyytAfT81XrpJ8T++VcTWWdIxQJDqToppaSFAgAGX2mVSFEDBqKROQHMhQDQRNjy9kgRAdd1uXNkYFUD0bFZ9rnYXQA2W1zcdLi9A/kDMOCDkMUBrK/aX3WMnQPP6psMdwgNAylTBqKRODkAS7xMamzAgQDAFfmeO3ytA+zdCGb3NFUAjts7SKMcvQPA7c/w9fhJAVscED+ZdSEBjyS+W/GIEQJaQD3o2U0JAvQhAyQprD0C7k2JarqEjQIdgLyd7vh5AMuauJeSjGkCti9toAC8vQEKqOymmxRtAaQBvgQSNM0B0bu1XFOkiQOWGzIJ2xDJALGUZ4liX9j+Foftfm5ovQJngwTxRHxtAfIMvTKZyMUBcsb/snhwuQE+KablGnjVAyi+W/GL5P0CamZmZmXk1QE06t/YrSiVAJw8LtaZZHUClLEMc67JBQLapp3z11jdAgEi/fR34EUCu/YoikWMKQOSoyXnsRCZACh7ME/V3P0BseHqlLEMUQCwbw4nVrCBAfIMvTKZqI0Dmifo3QrkYQOB35vh7PC9ALWhHlyS8B0AkctTkPHYkQNo9eVio9RhAsN674ObHJkCNTRi6/7UaQJkF7eiS9DBA3ypi6yx9IECbVZ+rrRggQHozfYmL9hhA7OVkz4vQMkAmLtr2UCUpQC+4+Vk/UBlAE2HD0yuFGkDrToppuS41QI8uSXhVugdA7zhFR3KJKkBPZT4NBRkLQKkQoo8MHDdA/BVFIkeNKEDPiNLe4DshQONbRWydYUJAa3IeO5U5EkB6ov6NUFY7QNXnaiv2VwJAL5POrf2aKkCA/mglmh0rQOHBPFH/hi5APzIwBX7HEUAg95oLSXMXQKzSAwy4ZCdAT4ppuUZuJEDOYHl90wETQLEGFUL0cSNAP8bctYS8C0CkTkATYcMKQP6vTT3lmzhA8oslv1gyE0BBpw102pAiQMRF2x6qCk5ABvAWSFBMPECGyVTBqCBAQEE7uiThtTJAHOviNhqgIUDyHKS6k0IdQFV6gAGX0jJA0iUJr0qPK0AamAK/M4cJQJWN4cRqBhhAQoUQfWRwMUDHTmU+DVUsQLQ3+MJkwjFARZHIUZNzGUC3G1c2hgMrQIofY+5aUiNAvJaQD3p2DkDazvdT46UHQOQXS36xxBdAAUpWWIMiMEAt18ib6WMyQKwcWmQ73wlA8WPMXUuoFEBGlPYGX9gwQEcoo7dl/S5A+cJkqmBsM0CNl24Sg8D3PzqSy39InxBAcWI1g+U1EEDBg3mi/r0xQB1aZDvfT/0/bQwnVjPYHED6yMAU+F0JQOq63biywSBAJi7a9lDlJUDDidUMlrcdQAisHFpk+wBAbg9VC//cFUB0ScKr0sMVQJAMTIHfaTFAhJ7Nqs+1K0D24TPsCnA5QGkAb4EEhRVAHoK9nOzZLkCa4+/xHNQuQJEPejarnhNANfJm+hKnOkDC0P2vTb0zQC3880crcR1A3dqvKBKZJECEeaL+jdADQF66SQwCixJA/Knx0k1iJkANltc3HU4kQCD3mgtJY0RA8WPMXUuYJUDTKDdkFhQTQJvmHafoeCNAfM2FpCk1H0DaGE6sZrAiQIljXdxGQxRAnJ/1AzEjGECbVZ+rrchAQIFL7TLp7DhArWawvL75KECvALnXXOgbQGFUUiegKR5AawbL65tuHEBC9JGBKRAWQPMf0m9fhxFA6Ugu/yFNMUAx44BwGD8TQJyf9QMxSzhAd8HNz/oBLEB0bu1XFAkvQPzOHH+P5yRAl9pl0rl1IkBQ1+3Gle0dQEZvy1odEw5ANx3uEOy9NkDpSC7/Ic0pQFrQji5JOD9AYzixmsGCNEBpthgpgToMQFPgd+b4uyBAYAr8zhzfLUAA29RTvvI7QCmjt2WtCkVAvEw6t/YrEUB90LNZ9ckxQBQamzB0TzdA7Z48LNQKIkBf4qJtD6U+QFk5tMh23idAguLHmLtGKUD/snvysGAqQMdOZT4NnTVACvmgZ7PqKUCDm5/1A1EeQDAFfmeOny5AylTBqKSOGUBjf9k9eYg5QAeEw/hWISlAPN9PjZd+MUBKeFV6gGEzQMBbIEHxoxpA6tzarygyHkDjysZwYj0/QF4mnVv7xSdAygprUCFcQUB+rrZif1nzP6qnfPXexQ5AIkdNzmOnBEBzRpT2Bt/4P75VxNZZGgNAt2Wtjgm+KECeqH8jlJEYQKDTBjptoAdAqsynoSBrGkBJ5KjJeYwTQMYB4TC+rT1AMuauJeRDHEBCGb0tawUiQKxBhRB9LDNAqjj78BnWHUDTAwy41A48QKAaL90kxitAwhcmUwVTKECWIY51cTskQFdbsb/svh5Am+Ydp+hIM0DqS1y07eEWQLdAguLHKDBAmUwVjEpqLEAt/PNHK2kxQJvB8vqmQ/4/hHzQs1n1FEB5VXqAASclQPfkYaHWVBRA9NvXgXO+MEBEjpqcx94+QDGZKhiV1P4/hDJ6W9YaIECTXyz5xWIhQFfvXXDzgytAZIU1qBAyKEAZTqxmsPQ4QOAtkKD4MTZAVscED+YJHECwKBI5arIOQC4hH/RsVj1AoPUDMePgJEAJZfS2rJUWQEDuNReSFi5AD3cI9nLaX0BBXbcbV34wQLHh6ZWyDCRAnFWfq60AOEDQs1n1uToRQKrx0k1i0DdAJOFV6QFmEUCppE5AE3EtQPuBmHFA+AVAVOOlm8QQNUCQxSPeJzQkQHIbDeAtMBBABe3okoQ3IUBK59Z+RfEQQPIcpLqT4hVA2RUg95pLFkCSXP5D+s0kQAaBlUOLbAdAikFg5dAiAUCt1THBg/kHQJTR27JW5zFA6dms+ly9JkBGb8taHbMlQAtrUCFE20hAR7xPaGxaQ0AzorQ3+FImQE5AE2HDMyBA3ZBZ0I6+JEA07AqQey0SQEREREREdChAxreK2DqLPUBrdUzwYB4BQI0o7Q2+cBxAxY8xdy1lQkDcjSsbw0kxQFle33S4MztA+1xtxf46OEBd2RhOrGYFQO6hauGfPwdAxW00gLdABkCHOwR7OblLQDxz/D2eYytABxhwqV1mGEBQssIaVNg8QL4Lbn7WHzJAsLy+6XCH9D8+DQVZPKIwQGLrLI1yQzVAJZotRkrYM0DLEMe6uI02QM+t/YoisR5AO5X5NBQ0MUA1qBCijzQyQNTkPHYqKzFAsi5uowFcHEAVQvSRgckhQJ6lUW7IxDVAWoY41sVNHUBlYzixmqEwQMwT9W+EcglAWtCOLkkAR0DwhclUwQgiQDF0/2tTLxNAXPsVRSK3I0CzMZxYzSAJQB+qFv75ow1AQKTfvg50MEDCYXyriKU3QB8ZmAK/+zVAQ2ZBO7qsO0AkTak4++AgQF0jb6Yv0RFAzBP1b4QSIkBr4Z8/WskeQF4Bcq+5QCNAK84+fIZdGEBZObTIdl4jQI94n9DYRCxArR+IGQc0MEBGSqCu27FFQEA1XrpJvC1AthgpgbruEEBzIWlKxVn1P4/C9ShcryNAIGPuWkL+AkDJUZPz2EklQG5+1g/ENDJAr0oPMKBvl0DO9CUu2nYSQBXTco28GSBAEA7jW0WkOECx4emVsiwTQJx6ylfvrSRAodY07ziFBEA/MjAFfkcmQMP4VhFbhyxACvmgZ7OaJEBTmU9DQR4xQEW28/3UMENASgwCK4e2KkAjb6YvcXEXQEp4VXqAsSZAxiYM3f8aDUCeXinLEKcVQDRbjJRALSBAUUmdgCYiM0B7XgSgZAUTQCBB8WPM7StAcoqO5PK/IED6xZJfLBkaQPoP6bevwxRAM+nc2q8AMUB1cRsN4C0MQKnJeexURhFApHNrv6IYL0DlhsyCdlQgQIyREqjrdh5An/LVexdcD0CxK0DuNfcpQPOzfiBmfBFAV1uxv+xuOkCGyVTBqGQRQHkOUt1JERFA82koyOKxEUAQn2FXgPwfQJOEV6UHaCJApN++DpwjJ0CuIrbO0qAxQOfWfkWRyA9A/9emnvK1IUAh+sjAFAggQHcI9nKyRx5AEoPAyqElHUDXyJvpS0wkQEm/fR04pxZA9CIAJSvsHUCh1jTvOAUbQF4Bcq+50C9As6AdXZIwKEDUvxHK6G0pQEQfGZgCHxBA4QuTqYIxFkBXgNxrLmQlQAdfmEwVvCVA4VXpAQYIQkCQxSPeJ7w/QKbA78zxdxpARrkhs6ANN0DC8vqmw10BQOkjA1Pgy1pAV4Dcay4EMEB/arx0k5g6QCdWM1hePylA0baHqoWHPEDjgHAY30odQEe8T2hsQvo/63O1FfsTNEChHV2S8Fo+QMqeFwEouSZA3ZBZ0I7eIEDbZdK5tcc6QMsQx7q4DSBAEoPAyqFlE0DNFiMlUHc0QK5H4XoUbgNAGSmBum73FkD6yMAU+H0fQMkHPZtVpzNAihw1OY89GEBcsb/snkRBQPeaC0lTWiZAV+9dcPNzFECTPS8CUBIcQJ3seRGAEhZAQ9KUirPvJECpEKKPDDwzQBT1b4QyuilAX3MhaUplIkDa8yIAJesSQNIlCa9Kj/g/TO0y6dwyMUCyCUP3v9YeQJPz2KnM5w1Atl9RJHJ0IEDkzfQlLmojQDLmriXkIxBAZdK5tV8RH0B+0+EOwR4oQLK/7J48mEBAXUiaUnH2EkDtDb4wmSo4QBOG7n9tWiFAjLlrCfkoQEBL6gQ0EbYGQDojSnuDLwVAXZLwqvQwIUB/2T15WDgwQP9GKKO3hSJA/M4cf4/nNkBeukkMAusIQFqGONbFkUNAOkh1J8UEK0A94n1CYws9QMl2vp8abxJANjy9UpYBEkANJ1YzWN4IQMOuALnX7CJAoNMGOm2AGkA/fIZdATIDQA/BXk72LCBAJ1YzWF4fG0AQxIwDwgEsQLwFEhQ/6kdAtFn1udqKFUBJdSfFtBwTQF1txf6y6ypAL0l4VXo0QkAcxreK2LoBQMLy+qbDnRlAsN674OYnGEAZldQJaOIKQAWjkjoBvSJArD5XW7GfFkB3UkzLNZIbQMQdgr2cLABA5Tx2KvM1QkCpNc07Tsk+QHSQ6k6KcTFAoGSFNaj4M0Bns+pztRURQNVW7C+7hxNAB/NE/RuhRUBVwaikTshAQJlxQDiMDyVAJVDX7cYVCEAV03KNvBnwP6xBhRB9hCJAVVVVVVU1NEBChRB9ZCAhQE+vlGWIox1AmeDBPFF/C0CSXP5D+k01QNc3He4QbBVAGpgCvzOHIUDswDkjSpsWQPS2rNUxgQNAmZZr5M309T9kqmBUUqczQPSRgSnwGxBAehGAkhVaVkBpke18PxUWQFpkO99PzR9A7jUXkqaoQUD9GHPXEnIiQL5674Kb3xVAXwfOGVFaN0D9YskvllwhQPmdOf4eDwJAKX6MuWtpPUDzaSjI4lE3QNo9eViodRNAwxpUCNH3LEBjXdxGAwgkQBlwqV0mwUNAh/Tb14FzOkBZPOJ9QnMjQOZC0pSKMx9Ahl0Bcq+dQEBqKMjiEc9BQIrVDJbXNwhAldQJaCLsEEAMJCh+jHkJQKNLEl6VbiJAeznZ8yKoO0Dl9U2HOzQhQOn+16ae8vs/bL+iSORIFUBHKKO3Zc0bQP7UeOkmURlAtKNLEl7FLUB0RpT2Bl8QQHAVsXWWRgNAEu8TGpuwCkDlhsyCdsQ0QKpdJp1bSyVAHFc2hhPrEECEeaL+jRAIQKk1zTtO4TBAxPuExiYMIUAmDN3/2nQUQKla+OePJiJAqX8jlNHLI0DCPFH/RlBGQAEoWWENKgdAw2SqYFSSBEC73biyMewwQLF1lka5eThAVxSJHDVJJECvALnXXCg1QKNLEl6VHhNAUI2XbhLjGkCBcBjfKmIAQIVa07zj9BlADzDgUrv8IUD5xZJfLAkhQKee8tV7NyBA5tNQkMUjJkBLWYY41jVKQBJelR5g4BlAPXYq82lIG0BHKKO3ZW03QKW9wRcmUxZA95oLSVMKFkDnaiv2lxU1QOWGzIJ21BRAygprUCEECEAHhMP4VtErQC7a9lC1oCdA0+EOwV7+QkA/6wdixiEVQJeTPS8CUAtAcBWxdZZGAkD66r0LbhY7QFO7TDq31h5Azj58hl1BGUBwhDJ6W9YDQP32deCcEQBAOkh1J8UEKEA6I0p7g58gQNXnaiv2VxVAmeDBPFEfEEA5RUdy+a8WQPXeBTc/qxRAQDVeuklMAUA+eVioNd0yQDG+VcTWuSFAwaikTkDTBECFoftfm/ozQAV+Z46/5xFAnA53CPbyAUAiaUrF2YcQQBNhw9Mr5QBAK6xBhRCdFkDGkl8s+UUbQEcr0WwxMhJAhMP4VhH7FEAe8T6hsSkUQCntDb4wWSNAe4MvTKYKAUD2crLnRXg2QBvDidUM9hlAb8taHRNcEEAe8T6hsUFEQA+cM6K0twRAYlqukTdT8z+BJsKGpx8/QDGZKhiV5CpAYMCldpn0J0AOKoToIzsyQDTsCpB7jRNAFbF1lkYxOECpyXnsVH41QJVDi2zn+/8/SzRbjJQYMUBQ/Bhz13IVQA5Pr5RlWChAx9/jOUh1EkD8zhx/jycZQB3uEOzlBBtAItjLyZ7XGUCH8a0itk4wQEPSlIqzjx5AkxgEVg49QUDGSzeJQeD1PyPb+X5qXC1AmioYldTJFUBcsb/snnwSQAeEw/hWkRRAbzeubAxnCkAEoGSFNcg0QFcRW2dplDBA1FCQxSP+LkANTIHfmYMXQHrsVObTACZA2V92Tx4WOUBqKMjiEddCQG1Wfa62IjJAEqW9wRduPkCh+1+bes5KQGAs+cWSnwFA9ZSv3rsgC0AOKoToI8MzQNkVIPeaywZAih9j7loiGEAW/vmjlagAQEa5IbOgLSFAWtCOLkmoJECywhpUCJEKQO7rwDkjCgNAEqjrduOaKUADwmF8q7giQHW7cWVjWBRA1JrmHafoHkDXgXNGlP5BQGSFNagQYhVAYcPTK2W5JECBS+0y6ZwfQI94n9DYjDZA+THmriWcRUBzRpT2Bt8VQCIiIiIikiBAH4XrUbjeG0ARx7q4jWYXQMnAFPidiTZAaSJseHqVNkBvXNkYTqwcQIv9ZffkwSdALpCg+DF2JUCNckNmQTsBQP5l9+RhIf8/ejN9iYuWKUB6fdPhDgEKQME5I0p7Qw1AAAAAAABwIECPeJ/Q2MQRQDVeukkMohRAn2FXgNx7JED90Uo0W0wXQI8JHswTVSpAia2zNMrBRkBnaZQbMjsoQG40gLdAAhVAjnVxGw0wKkDv7u7u7g4aQDKfhoIsnh5AqzsppuUaH0D2ULXwz5c8QO/u7u7uHjpANe84RUdiJkCcM6K0N9geQDEIrBxapAVADZbXNx2mNkBZzWB5fRMLQEATYcPTmyFAzH9Iv329HUAQejarPjcoQAxuftYPZCFAD1UL//wRHUD0kYEp8HsiQAMutcuk8wZAMsGDeaJeHkB6ov6NUCYcQE72vAhASRVAguLHmLt2HEAxLdfIm1ksQGLGAeEwzidA4zYawFtgIUBGSqCu2y0aQCwbw4nVvCdAkvCq9ADDGEAqyxDHutgVQPGI9wmN3UlA6gEGXGrXKUAXS36x5JcfQB8+w64AORhAlNHbslZ/PUB8YTJVMIorQDxO0ZFcfh5Aa+GfP1pJFUAkA1Pgd6YeQDqPncp8SiRAKe0NvjAZDkDteRGAkhUdQBKlvcEX5iRAOYxvFbGlLkASqOt24yI3QAPkXnMhZUpA3SQGgZXTOkB5VXqAAYcgQGWtjgkeTBpAJuexU5kPHUCLR7xPaLwwQEeXJLwqDS1A+lk/EDOuLUChZ7PqcyUgQN1GA3gLxCZAcdG2h6pFK0A+noNUdxIHQCSX/5B+2x9A3EPVwj8PKEBkggfzRH3wP8p57FTmqzNAUrgehetRJ0BhDSqE6GMyQJVothgp0TJAF9z8rB+ID0D/snvysGAuQBWxdZZGsTNAVAjRRwbWLEDWexfc/KwRQC8kTak4OyNAPSzUmuZdKEAj2/l+atwqQO/Jw0KtaQdAejN9iYvGJUDlPHYq8yknQL5VxNZZOhRAFR3J5T+kDUAikaMm53EaQDeJQWDl0B1A0NVW7C+bFkBXgNxrLmdoQPZQtfDPTyFAla/eu+DGHkAtjXJDZqEYQCRNqTj7cBVAArwFEhSPI0D9h/Tb1wERQErCq9IDDA1AhHmi/o1IM0Bz/D2eg1T7Px47lfk0WEBA++3rwDnjDEBg5dAi26E/QCGwcmiROUZAMuauJeTLRkBcjJRAXfcWQEmaUnH2IRFAAU2EDU9vBEDDrgC51/wUQC/dJAaBLTpAOwFNhA0PDUDmZM+LAPQQQMw4IBzG9wZAT0ATYcNT8z8vJE2pODsRQA4Ih/GtAhtABAy41C5TEEB2dEnCq/ITQIGVQ4tsbzNAXEVsnaVxJUAK+aBns5JFQEpWWIMKIRpAFrSjSxIeMkD5wmSqYPQTQKBkhTWocBxAmSfq3wglEUD6yMAU+H0lQHJDZkE7Ki9AriK2ztLIGEAQ6bevAycJQDKcWM1gWRZA/h7PQar7DUDfdLhDsK8zQK8AuddcgDVAF217qFoILEBi6yyNclsxQGsr9pfdezJAzaehIIsHGUCmnvLVezcdQGDl0CLbcTFAecT7hMYGFEDUCWgibCgyQJckvCo9WD9AACUrrEFlGkCA3GsuJA0bQFNP+eq9KyNAov6NUEbvJEByZWM4sZoDQNTkPHYqQzBAXEVsnaWBKkA6baDTBno3QNv2ULXwDyJA8/3UeOk2JkBE+u3rwIlGQHOy50UARkRAUUmdgCbiHkDn+6nx0t02QEBaiWaLkQZApi9x0bYnHED9YskvlnwdQG17qFr4NylApsDvzPE3AECL2DpLo7QyQFCNl24SezxAblmrY4IHD0A5Z0Rpb1AnQCupE9BEqCNAxgHhML6xSUDgLZCg+BEZQA6ZBe3ocitAfRoKsnikF0CVirMPn6E5QNZ+RZHIkSRArthfdk+OIUBFIkdNzqMsQFZYgwohGiZArwC511zIJUDWD8SMA8IjQCTeJzQ2gRlAKRI5anJuJEDuoWrhn38uQOIOwV5ORixAcKldJp1b8z9QssIaVFggQDN9iYu2/QVAat5xio40N0Dday4kTdkiQAnRRwamwPk/Rbbz/dT4FkBRRm/LWv0RQA4tsp3vbzBAFdagQog+EUA3Qhm9LesYQPFjzF1LgDJA3NeBc0acMkDjx5i7lhhAQEaU9gZfmAxAf9YPxIzDBkBbrpE30wcqQDyYJ+rfKC1AppvEILACMECqglFJnYgwQLfRAN4CyQxA++3rwDnDKkAjb6YvcfEcQJ7y1XsXNDBApZiWa+TNNEB+Z46/x/MIQCBj7lpCHhdAEOm3rwO/OUCqE9BE2IA0QPzOHH+PZxFAejarPldbE0AmDN3/2mw+QHNGlPYGnydAnxcBKFlhCkDdtYR80OMzQGXSubVfIS9A5kLSlIojKkCcn/UDMcMRQAPCYXyrKBFAcKldJp1bCkBjggfzRB07QIWkKRVnvxdAaWzC0P0/MUBdkvCq9GASQEymCkYllRlAn82qz9XWG0AExY8xd40UQG6jAbwFkg9AMzMzMzMTOEALRiV1AmpBQNo9eViorTBAb6YvcdE2KUCVaLYYKfEhQClZYQ0qNCRAACUrrEElEkD1lK/eu+AaQIfPsCtAbi1A1VO+eu/SM0DmQtKUitMYQJ7vp8ZL9ypAaZHtfD8FTEARgJIV1qD3P0aU9gZfuChAKssQx7q4OEB0ScKr0l9MQAep7qSYBj5AQcw4IBxGFkBqA5020HkjQOexU5lPsypAYjWD5fXNJEAFo5I6AU0uQJvB8vqmQ/M/BFYOLbKtNUDWNO84RccKQGYcEA7jOy1AWj8QMw5IG0CUrLAGFXIhQM1dS8gHPTFA4seYu5YQBUCZJ+rfCPUlQHulLEMc+ylAthgpgbrOIUCFoftfm/r/P1GQxSPe5wRA+Xs8B6n2NUDqlbIMcbwgQMQgsHJo8SVA6f7Xpp5yB0BHvE9obFo1QHdSTMs1sgZA5Tx2KvPRNkBScfbhM2wKQMYmDN3/2vQ/z639iiIRCkCitDf4wpQvQEYDeAskmDNAn6ut2F/0U0DP91PjpdsfQLfRAN4C6RFAbef7qfGCQECqzKehIMsQQEOtad5xWiBAGy/dJAaxNUBzIWlKxbEwQBkpgbpuN/k/y8ZwYjXDFUDFtFwjb0YrQDnWxW00gBBAZMxdS8hHJEAZc9cS8mEsQItHvE9oWE5AUdobfGGyJ0CL/WX35AETQBFbZ2mUm/U/7MA5I0p7BUA6baDTBmokQAqyeMT7JBBAHxmYAr8zGkBNzmOnMj8sQPdT46WbxPg/ZYhjXdyGF0C+eu+Cm+8kQAQP5on6dwtAGwqyeMS7J0AaLK9vOuQyQN90uEOw3zVAZ7Pqc7UVAkB0kOpOijkxQKBkhTWoEP0/Ece6uI3GJUAmDN3/2lT/P0eXJLwqXSBAUCFEHxmYJ0AZldQJaKILQCZTBaOSegVAZ9gVIPfqI0B0/2tTTzkEQNagQog+8iBA7FG4HoV7KUBKnYAmwkpBQH0aCrJ4JBpAcfOzfiB2IECAAZfaZVIWQHsUrkfhEjJASXUnxbQ4Q0CamZmZmTkSQBPNFiMlcB1AHX+P5yDVH0BEaW/whfkuQBfc/KwfWCVAVqLZYqS0JEDJ4hHvE8oxQF6VHmDAZQ5ANMoNmQWNGED8FUUiR00IQPAWSFD86C1AzTtO0ZHc9T8XJlMFo9IcQE5iEFg5lCFApHNrv6IIFEBhDSqE6Ds5QC4hH/RstjNA3pOHhVpTGEBVVVVVVSUjQL8zx9/j+SlAbaDTBjodJUD1KFyPwrUXQLRZ9bnaqh1A1THBg3miF0C7JOFV6SEbQLWmeccpijhAyuU/pN+OJkBw87N+IIYVQC61y6Rz6/0/ZWM4sZpBHkCbLUZKoB4iQP32deCcASlARLPFSAkMOECxdZZGuZk5QIdgLyd7njFA549WotlSJ0Da0SUJr8ogQEZKoK7b7RxAs8VICdRVIUD6D+m3r0MVQMW0XCNvNjtAPJgn6t84KEDnj1ai2aIPQItpuUbe/ClAGpswdP8rG0DLoUW28/0yQHKvuZA0BTdAySxoR5ckFEDEZ9gVIBcdQOsENBE2nCJAagOdNtDJEEBMXLTtodonQOtztRX7qx1AbOTN9CXeJkACdd1uXJkPQNBpA5028BJA549WotliDEAJZfS2rEUlQLMxnFjNUCtADeAtkKC4P0DCPFH/RmgTQHjBzc/6AQFAglFJnYA2NEDVnRTTco0YQELPZtXnWiRActTkPHZqAkDXo3A9Cs8yQAZcapdJDzFAt9EA3gJJLkArzj58hp0GQOQ5SHUnNS5AYMCldpkEKkB3nKIjuTwTQK8Auddc6BJA606Kabl2JEAkTak4+5AZQL5VxNZZmiZADElTKs4OIkC9CEDJCusCQPZysudFxFtAXNbqmOAhKUBUd1JMy1UeQIaCLB7xvhFATFy07aHGQkCwvL7pcGdJQIc7BHs5ORNARUdy+Q8pIkAHhMP4VpEtQNR1u3Fl4zBA1sVtNIA3AEAV+8vuyYMPQAlAyQprEAhAexSuR+G6MEDy1XsX3FwnQNxoAG+BZCBA6ylfvXehEkBpJZotRkosQJ88LNSatihAfdCzWfW5J0BJv30dOGcaQMqeFwEooT5AyeIR7xMa/z+ZTBWMShJFQBkpgbpu1ydAQ2ZBO7okJ0BfB84ZUXI9QFJuyCxo5xVA5h2n6EiuBkAPC7WmeYceQBLK6G1Zq/o/1Z0U03JNGEBVC//80YoHQF6VHmDANSRAXiadW/s1IUBkFrSjS0IiQOhqK/aXXTBAJHLU5DyWHkAa4lgXt5EfQGAvJ3te7D9A63O1Fft7IECFpCkVZ18dQLeK2DpLAxdAYzixmsFyKECmL3HRtgckQE0Yuv+1WSBAfdCzWfU5NkA7kst/SL/yP/umwx2CnT1AB6nupJi2FkBpbMLQ/Sc2QDaGE6sZ7BBA4VXpAQY8IUA+CtejcH0TQF1txf6yj0FAPXYq82mIOkCAI5TR2zLxPwY3P+sHUi1A1sVtNICXKEB88rBQa3ojQJEPejarvi1ABHs52fOiI0DBFPidOT4fQByhjN6WG1BAsZrB8vomBkBJeFV6gCEQQJ19+Ay7UitAa3VM8GDuJ0BvXNkYTjwsQOpLXLTtof4/6pWyDHHsEkCPCR7ME7UPQKSVaLYY6QNA4XoUrkeBKEDpt68D5+wuQHNGlPYGXxNAAgZcapfJ9T+n6Egu/zEmQAsh+sjARDRA78nDQq1ZJ0AvSXhVelAqQMpUwaikfiBAnu+nxks/OEAPVQv//Ek7QBdLfrHkRyxAlKywBhWCBkCze/KwUHsjQCrLEMe6OBtAIY51cRv9JED8hMYmDL0yQNFHBqbAjyFAItjLyZ5HLEAOKoToI6MWQKMBvAUSJCpA9k2HOwTrJkAldQKaCJsDQLnXXEiakiBAC2tQIUQf8j9/2T15WEgTQIZdAXKveQhAFrSjSxL+KUBb+OePVh5BQElQ/BhzFzZAOfvwGXaF+j9rvHSTGEQcQJHtfD81VjNAM5+GgixeAEDifUJjE8YtQG7ILGhH5ypAf0WRyFGzJUAGpsDvzGE0QNCzWfW5+hFAwFsgQfGjLECG7n9t6hkhQDy9UpYhjhpAoiO5/Ie8OUDGcGI1gw1OQAFNhA1PTxtAP1dbsb8sAED6yMAU+EVDQP+ye/KwkC9AmQXt6JKEFUDuEOzlZD8uQBfc/KwfaBZApVFuyCwIGEB+HThnRLkuQAdfmEwVHChA+zdCGb0dJEBe3EYDeEsRQLFQa5p3LCJAZvfkYaF2LEAvSXhVekADQAN4CyQojjpAdJDqToohRECHFtnO91tBQLxxZWM4MQtAHxmYAr/bPkD2l92ThyU9QPNE/RuhzANAvQhAyQqDNkDrBDQRNhwrQLF1lka5YRtAaEeXJLz6IEDE+4TGJpwiQGzkzfQlzhxARyijt2XNKEAD54wo7U0aQLXwzx+txP4/oPUDMeOA+D/DZKpgVDI7QBAO41tF7Po/RiV1ApooH0CMkRKo65YaQNqs+lxtRQBA3pOHhVpzPkBEs8VICXQfQMT7hMYmzAZAjJESqOuGJEB3wc3P+oEDQIrVDJbXxzBAb4EExY+5QUBWDi2ync8SQGm2GCmBSi5ATx4Wak2jPkCRyFGT83hCQO4Q7OVkTyVATDeJQWDlEkBMgd+Z448hQF7fdLhDECxAimm5Rt7sEEDRji5JeOlAQM3x93gOsiFAT2U+DQU5GUD+1HjpJnELQCrLEMe6yDxAvODmZ/1AK0BsCfmgZ7P4P3STGARWBjVAPeJ9QmNTRUAmwoanV9oxQC61y6RzKyJA+6bDHYK9AUCrOymm5dofQDwEeznZcwVAn82qz9U2EUBnRGlv8E06QNlfdk8edhZAS6Cu242LG0BUvnrvghsiQO5aQj7oaSFAPp6DVHcSC0B++Ay7AmQeQLpG3kxfUi1A4C2QoPjxD0B7gAGX2o02QOq63biysStAxiYM3f86JUCmCkYldQIeQC7/If325SBAgy9MpgqmFkDfcYqO5OoxQG4PVQv/vBBA/ooikaOGIUBBFo94n+g1QDZh6P7XzjJAHjhnRGlvBEB/2T15WKA9QCpfvXfBzRRAszTKDZk1J0AfPsOuAP1BQNHYhKH7HwJAMU/UvxEqIEA7JngwT5QgQM7P+oGYASRAl0nn1n69RkDtMunc2m8GQKFCiD4y0BhApzKfhoJ8IUCMkRKo6wYuQG4PVQv/PAdAo5I6AU0kIEDrToppuSYZQC/dJAaBpSNATBJelR6AEEAsr2863DEhQCHVnRTTSjlAETY8vVKOMEDFSAnUdYsxQD3ifUJj60tASp2AJsJ2IkBb07zjFK0sQM70JS7aHjxAtj1ULfxDKkAqX713wbFCQAzd/9rUcx5A6+I2GsAbEEBWfa62Yr8YQJvmHafoiBhABMWPMXfNJUCGyVTBqMxAQIKYcUA47BVARyvRbDFS+j+VjeHEah40QIanV8oyxCJA9W+EMnqrIkC3Za2OCS4tQKv0AAMuAUVA2qz6XG0lEkCL/WX35F1GQKEdXZLwyiBAGsBbIEGxEEC9UpYhjrUMQP1iyS+WjCNAq6qqqqo6JkAUP8bctVQqQHHRtoeqtSNAubIxnFhNAEDlq/cuuKE+QNS/EcrolTRAAU2EDU9/OEA73CHYy+kQQA0nVjNYrjVAsJeTPS8CDkDah8+wKyAWQP32deCcwSFA4n1CYxOG9z8XIyVQ1y0gQPdT46Wb5BVAYhBYObRYIkDk7/EcpNpAQKYvcdG2lyRAivo3QhntJ0AlK6xBhdAjQKBkhTWowCBAXNbqmOABHkCE6CMDU4AcQKKPDEyBU0BAM+nc2q8oB0AjACUrrFE1QJ/y1XsXfB5AJ8W0XCO/PUArrEGFEIU3QBKo63bjSgRA8Dtz/D1eEUB8hl0Bch8lQDYawFsgESRAcYdgLyd7IEAU+J05/h4OQPXeBTc/mzRAmwtJUypmOEArPcCAS80wQMCldpl0ThZAE9BE2PB0B0CX/5B++xocQGkAb4EEZRNAZPGI9wl1MEAPUt1JMQ0fQF8pyxDHiiJASZpScfYhCED+1HjpJsEoQLHkF0t+ESFA8kHPZtVnIUBL6gQ0EfYbQMrDQq1pfhlAZ7Pqc7VVEECCvZzsefEUQP2sH4gZK1lAjpqcx07lHUCqglFJnXgzQLy7u7u7WxFATj3lq/feJkAQejarPlcZQF9O9rwIIBVA4FK7TDrXGkAFNBE2PD0HQOdFAEpW+CxA8/3UeOkWKEC5HoXrUWgzQPRHK9FsQSlARt5MX+IiHUBGuSGzoD02QKmkTkATcSVAIpGjJuexIkAq8Dtz/O01QE2EDU+v1BVAJCh+jLmbMkCCB/NE/esvQFc2hhOr2QFAelioNc1bH0A8c/w9nsMfQEIZvS1r9RZAKRI5anIeHEDXo3A9CpceQE/UvxHKLEZAIPeaC0lrNECL/WX35EEjQEl4VXqAQQBAoWez6nPFIEAJQMkKa7ARQBSJHDU540ZAhcYmDN0LQkCCmHFAOKwkQMGDeaL+1ThAKl+9d8FtFEDD+FYRW0cpQDYawFsgARJAUm7ILGi3KEAwTKYKRoUbQP0boYzetiRAvODmZ/2MQkCNl24Sg0AoQPZysudFYBNAzj58hl1xIECmm8QgsAIgQHrsVObTwCVAM1he33S4EEB2mXRu7df9P0vqBDQR1hNA+1xtxf4yA0BFkchRkxMZQJM9LwJQUhRA5IOezapvEEA7t/Yrigw6QLU6JngwLyZAnjn+Hs9RJUArzj58ht36PzZh6P7XZgpAB2LGAeGwIUC1hHzQs3kXQG17qFr4f0ZAxty1hHxgJUAzfYmLtv0EQFRSJ6CJLEVAnVv7FUWCI0CyU5lPQ2EZQP32deCc2UBA/F+bespnOEDc14FzRuQpQFo/EDMOiARATMgHPZtVFEBLe4MvTKYfQPJm+hIXDSBAVC3880eLH0CQe82FpBVAQIxvFbF11hdADzDgUrs8IkBb+OePVqISQBT4nTn+HgtA4seYu5aQAUD7Ehdte2g+QFr1udqKLSBArWnecYpuHUAhsHJoke0qQNXnaiv2U0JA606KabnG/T9kFrSjS5L0P71SliGOFS1ATKYKRiV1C0Da0SUJr4oOQH4dOGdEqQBA0ETY8PQKG0ASFD/G3LXwP494n9DYdCNAOrTIdr4/EUB5WKg1zQsgQBVnHz7DThxAZ7Pqc7UV+z/aGE6sZgAnQIfPsCtATiFAjpqcx06lKUCSy39Iv20kQDCW/GLJI0xA268oEjmKHEBrBsvrm64ZQAu1pnnHaRdA48rGcGKlL0Bsv6JI5KA4QBFbZ2mUWx1AnFjNYHkdHUDKL5b8Ysk9QCJseHqljBZAXLG/7J58CUDrvQtufgY8QIljXdxG8y9ATMgHPZtNOEAlBoGVQ9suQKxjggfzJDJArBxaZDu/LEAEMeOAcEg2QKXi7MNnWC9Ayp4XASiZB0ATzRYjJWAuQJ19+Ay7wgVAHA3gLZCgKEAAkX77OjAfQFtCPujZvDhAcIQyelsWDEC6/If029f4P2RgCvzOXBFAt2WtjgneFUBc1uqY4CESQI0o7Q2+cANAZvfkYaGGMkAXbXuoWhgoQE/UvxHKiB1A/vmjlWj+O0CfhoIsHjEtQE2EDU+vNCdA9UpZhvjkjkBKVliDCjEjQKae8tV79xRA2ofPsCugEUCCBMWPMbcgQD6eg1R3UvU/ov6NUEYvDUCSFdagQkhCQFk5tMh2PvM/kjfTl7jYIkBz/D2egxQNQKxjggfztC1Al24Sg8AeQUCOBvAWSMg4QIBt6ilfnSFA0SLb+X4KE0BjXdxGAxgiQM07TtGR3DZAGnYFyL1+O0DmriXkg34QQF0jb6YvkRhAyZvpS1xkIkBxrIvbaEAAQAKaCBuenhZAlfk0FGQxC0BaYQ0qhOgZQPa8CEDJGiNAGbr/talXJUCklWi2GMkiQEE7uiThdTVANBE2PL2SGUBtDCdWM3A4QHqi/o1QdjZAtDTKDZllIEDQji5JeMUuQPKwUGuaJyJAwjxR/0Y4NkAe8T6hsRkmQFVVVVVVVSVAejarPlebBkBq3nGKjtQgQN+74OZnZUxAabYYKYGaGEBuD1UL/wwuQGmR7Xw/9QVADbsC5F5TKUDdSTEt14gUQBb++aOVWCJAmbuWkA86F0BBguLHmHsFQNtl0rm1vx5ABOq63bhyJ0DyHKS6k8IRQKla+OeP1v4/lY3hxGpmJEApEjlqch4FQHPXEvJBPyFA7AqQe80VKEDWNO84RecgQLtuN65sjPg/UI2XbhITLEByZWM4sVZAQBbZzvdTgy5AU3Qkl/9INUBZF7fRAD4iQM2CdnRJUilAwFsgQfHjJUDl9U2HO6QXQBlwqV0mHRlAtRX7y+4pI0A95av3LqgpQO3DZ9gVUCBAR7xPaGyyKUA305e4aFs0QMs18mb68jBAMJb8Ysk/IUBT4Hfm+FsyQOwHYsYBoTJARgBKVljjI0A7lfk0FDQgQNMoN2QWtA1AHhM8mCfqJUCfhoIsHjEMQA7jW0VsGUNAQhm9LWuVOkC5HoXrUbgQQDHjgHAYXztAtFwjb6bvEkAg95oLSSMjQFQI0UcGBj1Al92Th4XaDEAhsHJokU0UQNuvKBI5KhlAo0jkqMnpKECQe82FpOkiQATFjzF3/TVAnoNUd1IMK0AbL90kBgE3QIfxrSK2TiFAtKNLEl6lKkAi/fZ14MwoQEyB35nj9zxA2RUg95pbKkDtDb4wmRpGQPNE/RuhnDVA9uEz7AoAJ0Dp2az6XI0bQEDJCmtQoQ1AvJaQD3pGJ0B7XgSgZPUgQDZh6P7XpglAFiMlUNdtI0CSplScfSghQPyExiYMdT5ArWnecYqeJUDhC5OpgiEhQFdbsb/sPhdAVliDCiG6C0A07AqQe00YQHGsi9toYC5Az9IoN2QmKEC9mb7ERZsdQFWfq63YXzRAwaikTkDTDEBAE2HD08scQMOuALnXfBpAeznZ8yIwJEDeTF/ioo0dQAy41C6TxjhAmk9DQRbvH0AhjnVxG60kQKXi7MNnmBVA5av3LrjZJUA1g+X1TV86QLBNPeWr9/E/711w87NOK0BmHBAO4/sXQLapp3z11jlA22XSubXvIkB9ZGAK/C4vQOcg1Z0USz1AfGEyVTAKIECX/5B++3IzQO7GlY3hxPw/48rGcGI1GUCOBvAWSGhDQO4Q7OVkDxBAJHLU5DxuQEDkzfQlLqomQF1ImlJxdhtAFBqbMHR/EUAep+hILr8qQNcS8kHPJg1A0I4uSXglIUCnoSCLRxweQKVRbsgsaAxA3wU3P+vHBkA3rmwMJxYVQGLGAeEwXiFACq9KDzBgGUA9LNSa5l0CQN+74OZnfSJA37vg5md9BkBrl0nn1j4PQKK0N/jChDFAHz7DrgC5FUCnfPXeBfcFQLq1X1EkchJADwu1pnmvO0D2l92Th6UcQMKGp1fKsjFAhl0Bcq+pKUDbrygSOVorQD5ULfzz1yhA3UkxLdc4OUBOhzsEe7FIQD55WKg1bRZAUNftxpVdKECqglFJnWAnQCcPC7WmOTNAoo8MTIH/GEDzRP0boYwnQDU5j53K/BNAQ4ts5/v5JEDCPFH/RigtQC1oR5ckPPw/zBP1b4TyLkAuIR/0bBYhQCPb+X5qHDRARrkhs6DVOUBa9bnair0qQKL+jVBGfz1AlUOLbOcnQUCdgCbChucTQH6utmJ/CT1APCmm5RqBM0DiM+wKkN9BQHteBKBkxSJApLqTYlqeI0A/xty1hBwfQHA63CHYyxFAiRkHhMP4IkCdNtBpA90RQOU8dirzaR5AUI2XbhKTIUCc6UtctE0fQGYcEA7jZ0BAjryZvsRFIUBP+eq9Cx4jQPbhM+wKsB9AKDQ2Yeg2MEBq3nGKjqQEQJ9hV4DcSyFAMEymCkblJEAlUNftxoUjQO15EYCSVSFAi0SOmpynLEDV52or9sclQFkXt9EAfhRAjZduEoNwK0Dn+6nx0q0lQCYJr0oPsBBA2vMiACVrAUCVirMPn2FCQOM2GsBb4AZAEce6uI0mEUBFR3L5D8ktQLdlrY4JfjNA8kHPZtUHI0CV1AloIrwlQAn2crLndSZAF217qFooIkCyeMT7hEb6P32Ji7Y9FCNAOyZ4ME/MO0D/a1NP+TokQGf6EhdtyzhAL0l4VXr0SEDwFkhQ/Bj6PzY8vVKWsSRAUyrOPnzuNEDBzc/6gYgnQPmdOf4eLyFAsgxxrIvLIUCF61G4HuUkQA502kCnfTxA7zhFR3K5EECWIY51cWskQO7GlY3hNDlANqs+V1uVQEDaPXlYqFUbQKo4+/AZth9A4qJtD1U7IUDQH61Esz00QL6c7HkRIBxAGXCpXSYVNUAutcukc49DQAll9Las5SlALfnFkl8MOEB1u3FlYxgqQJ9hV4Dc2ydAEA7jW0WsA0BK59Z+RZE3QK2wBhVCNBdAAnXdblw1QEAxdy0hH7xCQEmaUnH2cTFAxyk6kss/JUALa1AhRJc5QFrQji5JuClAJuexU5lPHEDtMunc2i8jQMYmDN3/mgNA7lpCPug5HkAnoImw4akjQLQ3+MJkWj1AJLn8h/RbAEAPwV5O9hwYQAQMuNQuAyhANjy9UpYJMUBjE4buf108QMsNmQXtmCFAUZDFI96nIEDaYqQE6n5AQF66SQwCCy5A3m5c2RhWN0APUt1JMW0yQGWtjgke3CFAy1fvXXBHREDwzPH3eP4hQGNd3EYDaCVAD3cI9nLSK0A7S6PckCk2QMEU+J05Li9AgnNGlPYGBEDcIdjLyT4yQD55WKg1bThApHA9CtdjGEDlYaHWNG/7P807TtGR/BVA/yH99nWwNUDk7/EcpFIwQPvt68A5gxVA6bSBThtQPEBPQBNhw2MlQFJx9uEzbAdACUDJCmtQDkCujgkezJMVQNG2h6qFnxlA7TLp3NrXNUAZBFYOLRIXQMZwYjWD5Q5AfIZdAXKvPUA1OY+dyrRBQOspX7134TNAYXl90+EGN0CqzKehIKMxQG/whclUoRJAts7SKDfEMkBUwaikTgAIQMyCdnRJghBAM+nc2q9oCUCgibDh6RUcQHCpXSadn0RAW4lmi5FyF0D6o5Votpj7P6mkTkATgRVAEDMOCIeBLkCxUGuadzwgQFxFbJ2lIUJAY+5aQj4ANEAC4TC+VYQJQL2+6XCHYBZAlBsyC9qRDUCdgCbChucLQGOkBOq63RxAMVICdd0uFEBwOtwh2FszQMGopE5A8zVARGlv8IXpIkDZOkuj3LASQLevA+eMSDVACYofY+4qJUB9GgqyeMQWQLLnRQBKthVADnTaQKctHUCcWM1geV0YQCO2ztIo5zNAcmVjOLH6GEDQRNjw9JotQABKVliDihZAvnrvgptPL0DW6pjgwTwOQHFiNYPl9RRAQ4ts5/uJL0AwTKYKRkUlQKsZLK9vCidACawcWmQLOkCijwxMgT8oQLyWkA96Ni1AvU9obMJwGEBA7jUXkk46QMOuALnXdDJAX3MhaUq1IUCKsOHplXILQOQ5SHUn9TBA9gZfmEwVI0AVIPeaC4kNQEDJCmtQYRhAVxSJHDVBMkAegr2c7FkcQD8yMAV+ty9AO9wh2MvJFUAZ3ypi62wdQEcGpsDvjCNAs1bHBA+mDkCcM6K0N6ghQCKRoybnASlANoYTqxn8LUBE+u3rwPkPQK2wBhVCZDZABDHjgHCYCUA305e4aDM3QGBRJHLUDDVAoNMGOm2wLUC0fiBmHBAnQE1f4qJtw0NAX+KibQ91IUBHBqbA76waQEA1XrpJjAJAVVVVVVU1EkBdtxtXNuYnQDu39iuKRAxA8c8frUQzCUDtMunc2q8UQP8h/fZ1gCNARkqgrts9IECHOwR7OXkaQGSnMp+GwhhA4eZn/UDcIECS8Kr0ACMiQA4Ih/Gt0iBAejarPldbIUDQH61Es8ULQAu1pnnHGSdAdSfFtFxTJECeFNNyjUwrQK7YX3ZPJj5A/M4cf49nIECitDf4wqQUQIBt6ilfFTpAnVv7FUUKPEBTKs4+fCYXQJwzorQ3UDZA9iuKRI4aHEATYcPTKyUQQGDl0CLbmTBAThi6/7W5I0ATqxksr7c0QF1ImlJx5iRAgQTFjzEvMUCjkjoBTbQmQGJ8q4itcwRAVZ+rrdh/JEAXt9EA3oJGQNc3He4QFDNA1JrmHafYMkCze/KwUCsRQOJ9QmMTxghA/ooikaPGGEA62fMiAGUXQPrt68A5E0BA4L4OnDPuQ0B67FTm03AyQBmV1AloohlAV+9dcPPzJ0D/16ae8tUPQPnCZKpg9ChAXNbqmOCBD0Cp7qSYlqsjQHrsVObTcCNAsp3vp8YVY0DdkFnQjv4wQK+UZYhjHQlANMoNmQUNGkCS8Kr0AKMUQN5uXNkYjiZAwe/M8feYF0BU46WbxAAeQAPkXnMhafg//DpwzogyFkC9nOx5ERRAQGzkzfQlXj9A44BwGN9qE0CDwMqhRa42QB5dkvCqhCNASjEt18jbMkA3P+sHYoYpQGx4eqUsoyxAXwSgZIVVEUAPUt1JMc0eQALhML5VBAxATc5jpzKvOkDa9lC18A8hQCZ4ME/UTzBABX5njr+HL0D/Riijtx0xQO1U5tNQgD5AWTzifULj8j9qSsXZh+8SQPCCm5/1gytADpkF7egaM0Da0SUJrxohQPvt68A5o/M/O5LLf0iPI0AbL90kBgk2QDPEsS5uEyNAr5RliGNdDEA7AU2EDc8YQC4hH/RsVilA63O1FfsrEUDK6G1Zq6MqQFtCPujZhDRAtFwjb6bvAkDKVMGopM4IQBSuR+F6FP0/JuexU5mvEEAeEzyYJ7omQNPhDsFebiZA5DlIdScVPEA07AqQe6U6QB6CvZzsWSVAgy9MpgoGM0BZzWB5fZMLQBT1b4Qy2hJA6ktctO3BLUDLxnBiNQMFQB87lfk0NBJAy8ZwYjUjHUBKeFV6gBEiQEe8T2hsIhZAxSPeJzTmJkAcoYzeltURQG+BBMWPMRpAzTtO0ZGcDEABcq+5kBQWQFZ9rrZi/xxA670Lbn4WI0CSN9OXuBAxQNQJaCJsmBxAlmvkzfQFPECpWvjnj8YvQFMqzj58hiFA9uEz7ApQIUAsQO41F4IpQImtszTKzRxAObGawfIIUkCKH2PuWjowQIPAyqFFhiBAvODmZ/2gIUCmm8QgsFo5QK6zNMoNiStArWawvL7JFUDULpPOrT0iQGLGAeEwfgNAQMkKa1DxIkCuR+F6FC4rQOWGzIJ2NA1AME/UvxGKHUC0Es0WI4UgQNCzWfW5eiRABMWPMXc9KUDlhsyCdhQWQMtX711wgyRAC5B7zYWk8z/Oqs/VVuQ1QEztMunc6ihAM32Ji7ZNNEAjts7SKLcuQMCAS+0ywTFAkMUj3icUSECwA+eMKA0TQBUdyeU/dClAMLsnDwsFL0AdWmQ7348nQKUHGHCpuUFADi2yne+nI0DeblzZGPY3QFvTvOMUPRZA6iYxCKwcN0CC4seYuxYWQKMBvAUSFClA7hDs5WS/M0BFtvP91BgVQD2bVZ+rjR1AG55eKcuQFEBaq2OCB9MqQHDzs34g9itA/WLJL5Y8EED5wmSqYBQdQNMDDLjUXiBA1L8RyuitGEAzMzMzM7MQQBWMSuoEvDZAJsKGp1cKGUCNKO0NvkAiQBb++aOV6Pk/nqVRbsikOEC0N/jCZIoVQFO7TDq39j1AXpUeYMAl8T96ov6NUCYiQDhnRGlvADFAHvE+obGZMkB7ylfvXahGQCW/WPKL5RNAzDggHMZXH0D8hMYmDJ0bQHQkl/+Qfg5AS36x5BcLJkDaPXlYqNUSQE3OY6cyn/g/Z46/x3OQ9j8XJlMFI/54QATqut248jhAryXkg57tEEClBxhwqbUzQHW7cWVjGBlAPHP8PZ6D9T85IBzGt3I+QGI1g+X1LSFAsN674OaHHECg9QMx4zApQEUiR03OQytAJgzd/9q0GkDdtYR80DMQQBPNFiMlWDVAvuZC0pSiQkAZuv+1qV8xQOrc2q8o8hVAZdK5tV9RD0AEDLjULjMTQHteBKBkZRVAvJaQD3o2F0AmUwWjkkowQBcmUwWjEvY/oGSFNajwIUCmm8QgsJIhQLZif9k9kTlA0yg3ZBb0GkDj7/EcpHoBQOf7qfHSjTJAEzyYJ+pfDkC+VcTWWXJEQFJMyzXyakNA1g/EjAPiGEBFtvP91Pj8P96Th4Va4ydA5IOezarPA0DgmePv8dwIQN2QWdCOLgdAKRI5anKe+D/XXEiaUlEqQDEt18ibSSZAFPidOf6+M0BtVn2utjIoQC5rdUzw6DJAbuopX71nJkD6o5VotlggQBueXinLUDBARkqgrttzUUBt5/up8Wo4QL7BFyZTJRVAitUMltdTR0Dn1n5FkbgjQGbSubVfcUBAwxpUCNFH/j/WoEKIPkIkQGAs+cWSHxdAen3T4Q6BFkDNgnZ0SeIfQEUiR03OszBAFkUiR00uHkDzs34gZtwtQIZdAXKvmRlAPAR7OdlDJEDjNhrAW/gyQHJlYzixGhZAz0GqOymmQ0CadG7tV/QZQEyB35njXyFAKVyPwvWIF0ABl9pl0pklQL10kxgENhJAlNHbslaHCUCkKRVnH9hQQLHh6ZWyDBhAuv+1qadcLkDMNfJm+pL/Pxt5M32JOyVArNIDDLg0KUAmDN3/2tQXQDpIdSfFZCJAVZ+rrdgPK0A0NmHo/tcSQFbHBA/miR5Ar9uNKxuDAkCbd5yiI1kjQImIiIiISB9AHKGM3paVKkAG8BZIULwaQNvUU756DxJAjG8VsXU2J0AS7xMam3AKQD0Hqe6k6CdAdnRJwqtyMEBpthgpgToWQFTjpZvEYBdALtr2ULUgLkAC4TC+VaQWQIMKIfrIAAtADr4wmSpYIECCmHFAOCwaQGQWtKNLUhpAZouREqgrEUCXuGjbQ108QLR+IGYcZEVAsp3vp8YbN0DRItv5fmoWQCORoybncTBAlIeFWtO8/T/tVObTUKAuQGklmi1Gyvo/i47k8h82R0DWfkWRyNEcQB2kupNi6jhAnMQgsHLYIkAjSnuDLwwHQEYASlZYGzZAYXl90+HGPECK+jdCGZ0lQACRfvs6UCFAQYLix5i7JEDMNfJm+hL+P68l5IOeLRxAfkJjE4bOIkBfTva8CIAWQKMBvAUSlA1Add1uXNk4GEDjEe8TGhv/P0HxY8xdCyVAY6QE6roNOECmeccpOvIRQDDgUrtMmipAHcnlP6SPIUC0o0sSXlUDQBGijwxM8SpAW0I+6Nk8JUDZX3ZPHsY0QFai2WKk1CFA3CHYy8keHUCjI7n8h4QgQPzOHH+PhyNAkFai2WIcN0Di6ZWyDNEXQGcfPsOuwCRAy1fvXXBzFUCBcBjfKqIjQPOOU3Qk1yVAlNHbslYHE0DMpHNrv8IoQAHeAgmKH/4/t2WtjgleGkB8zYWkKbVAQLBNPeWrtxtAjSjtDb6UUEBBFo94n5AYQOELk6mC8RBA3riyMZwoIEClBxhwqd34P0/56r0L7vE/e1vW6phgFUDwYJ6of1MiQDJVMCqph0RAgCOU0dsyHkB6ov6NUGYZQGcfPsOu8DdAA5oIG56uIEB8YTJVMAonQDsBTYQNbxpAh/GtIrbKQEBZPOJ9QiM4QFfvXXDz8xFAzhlR2htsI0DXXEiaUskwQD8QMw4IrzJAoD9aiWZ7LUBPG+i0gR4hQIfPsCtANjFAyb3mQtKkJUAxvlXE1ok9QE06t/Yrsj1AoNDYhKG7PkAL/M4cf68tQDzfT42X3iZAJ8W0XCNXPkApWWENKgQeQIVa07zjVA9Aq2BUUifQLkBfKcsQx8ZHQG7ILGhHlyJAgP5oJZrRQkCcxCCwcugSQPwVRSJH7RlAnzws1JrGHEDT4Q7BXoYxQDMOCIfxrQtAKe0NvjCZKkA5sZrB8nosQObTUJDFIxtA9d4FNz9LF0DifUJjEyYcQOxRuB6FawpAA+RecyHpB0Brl0nn1p4WQCnI4hHvUzBAPzIwBX6nGkBdtxtXNoY2QBNhw9MrdT9AtMh2vp+yR0C5HoXrUfgbQI0o7Q2+QCZAql0mnVvbHUCSFdagQsg3QLmyMZxYDS5A1FCQxSO+G0CSOgFNhPUxQDuV+TQU7ENAYqHWNO84LECmwO/M8VtEQG17qFr4hydAbg9VC/9sK0BTBaOSOiEoQOQXS36xPEhAEoPAyqH1QkBUwaikTgAKQCntDb4w6SlAOSAcxrcKG0BBYOXQIisuQJTR27JWBwVAseHplbLcJkCFoftfm1o7QFqukTfTXzBAPZtVn6vtEkA5sZrB8pobQG3n+6nxUvM/AZfaZdL5HkD9rB+IGec9QPL3eA5S5T1A0t7gC5NpH0AzfYmLtm0pQMDKoUW2MwtAXynLEMdKIkCBJsKGpycnQNc3He4QbBNAmioYldQJN0Bc+xVFImchQN64sjGcOBJAdQKaCBteFEC/WPKLJR8bQB4Wak3zriZAhu5/berpFUBF2PD0SiE2QElTKs4+jCtArpE305e4BkB8PAep7kQQQHqi/o1QZhlAGXPXEvI5MkA+LwJQskIbQPcJjU0Yug1A3ZBZ0I6OG0Ai/fZ14BwvQNY07zhFxw1Aa3VM8GB+IUC7JOFV6eEXQGrecYqO/D5A4TC+VcR2FUBSk/PYqWwcQNG2h6qFnxRAFiMlUNc9JUBlrY4JHsweQKrMp6EgWyNAEFg5tMhWGUAxvlXE1tktQIbJVMGopA5AUI2XbhJDI0Dy93gOUh0RQGU+DQVZPCNAeznZ8yLgKEDK6G1Zq6NJQFG18M8fLQZAy3waCrLoKkAwTKYKRiUNQCQofoy5uydAjZduEoOQN0DhwTxR/9YhQJyiI7n8VzBAXrpJDAKbMkBgm3rKV28FQMDHc5DqThZAqqd89d4lJkCxv+yePGwVQPL3eA5SrTJAgAGX2mXqPkAUiRw1Of8uQDojSnuD7whAJJf/kH7bIUDt6JKEV2UjQAPkXnMh6f8/QmDl0CJjMEDcjSsbwwkNQOwsjXJDJiNAB2LGAeFQIkDvExqbMEQoQPH0SlmGOAdAYOXQItuZE0DwO3P8Pa4gQGlswtD9g0NAfdCzWfUZJUA1XrpJDBoxQN64sjGc6CZAMLsnDwt5QUB7ylfvXTAHQKyt2F92FzJA5vh7PAd5IUCmL3HRtrciQI68mb7E7TlAk86t/YriC0AkctTkPE4xQCVQ1+3GFQVA7+7u7u5mOkA5IBzGt+oSQBlOrGawPBFAVqLZYqT0N0B5eqUsQ7weQOzAOSNKCyxAZ46/x3NwHUAhjnVxG40UQNZ7F9z8rApAsE095asXFUClvcEXJhMPQE4Yuv+1KRxA1g/EjAMiIkC2GCmBug4VQAC2qad89S1AQ61p3nFqIkDHuriNBnABQI3elrU6ljxA1VO+eu+KMkB5xPuExm46QNYPxIwDoiVAMeOAcBgvIEDmifo3Qok1QChZYQ0qlDBAUgJ13W5MJEBlrY4JHkwaQIV//mglGhdAzTtO0ZG8HUB9PzVeuskCQA+fYVeA/DBATKPckFnQC0AywYN5on4hQBYjJVDXTSdAcdG2h6rVL0ARoo8MTAEPQAZcapdJhxVAg8DKoUX2OEAmLtr2UHUkQN90uEOwtxJAYVRSJ6AJFUCPCR7MEwUmQGwuJE2pCDFAsE095auHJUBk8Yj3CR0xQH313gU3byVADbsC5F6zEEDek4eFWtMUQHT/a1NP0TNAmnRu7VdwRUA3iUFg5VAzQHCEMnpbxjBAthgpgbpuCkDMyZ4XAQglQAV+Z46/1zhApHNrv6JoFECvJeSDnnU2QC2NckNmAQVAdpZGuSGjMECMbOf7qbEaQN+74OZntUZA3f/a1FOuJ0D029eBc+YXQM/3U+OlGyBAXwfOGVHa9z+9UpYhjjUSQJeTPS8CECRA8WPMXUsIIECvbzrcIfgSQCFEHxmYgitA0ZFc/kNqPUAg95oLSVP/P23C0P2vjRFA8ar0AAPuGkBP+eq9C44WQHvvgpuf9SVA4L4OnDMiBECX/5B++zoRQPzOHH+PZwRAzoWkKRXnKkCEDU+vlAUYQPCnxks36SRAi7MPn2E3FED3deCcEUUTQA2W1zcd7jlA2ofPsCsADUADeAskKP4YQIuO5PIfUh5A/PAZdgXIFECe76fGSzcxQDZh6P7XDjNAYMCldpm8OUBLWYY41hUvQIBt6ilfvRdAE9BE2PCUE0B7ylfvXXAfQJBWotliJBZAj1N0JJdPJUAJih9j7tobQN9xio7kwiZAoo8MTIFfHkAPVQv//NEYQJ1b+xVF4h9A07zjFB2hMEDWMcGDeXpAQI0DwmF8qyNABVk84n2CK0AezBP1b5QiQBe30QDeohpAduCcEaWdLECeFNNyjfQyQHYFyL3mohFALyRNqTirKkCs9y64+ckgQEku/yH9BjFApJVothjZKECPCR7ME0UiQGsr9pfd0w5AkVnQji7ZIkDERdseqrY/QGB2Tx4WahFAuY0G8BaICUC6kDSl4lw3QF/iom0P1RpAMXctIR/kKkBgm3rKV188QHAVsXWWph1Ar9uNKxuvR0ASpb3BF84zQGklmi1GyiRA4n1CYxPmIkDTl7ho28P6P0beTF/ighNAg+X1TYf7CEDDGlQI0ccGQCwbw4nVzBNA4FK7TDo/OEAGNz/rB0ITQE06t/YrGiFARGlv8IVpIkAyC9rRJSkcQCNvpi9x0QNAvAUSFD9mFEB+jLlrCTkaQIxvFbF1dhRAkoEp8DtTFUC/okjkqCk4QHSTGARWjitAkoEp8Dtz+j90/2tTT1kZQEdNzmOn8ghAJuexU5nPAECyne+nxssOQOzlZM+LADFACGLGAeEwAEBdtxtXNmYtQAfOGVHa+ylAxdmHz7BrKUDp/temnnIJQNfIm+lL3BBAlyS8Kj2gHkDCPFH/RogiQPNpKMjikRJAzDggHMavPEDxGXYFyE0rQOzAOSNK+xlACrJ4xPuUMUDnINWdFPMcQErCq9IDjBpA8hykupMSIED4nTn+Hr8gQIqw4emVmjZAL90kBoFVI0CKH2PuWmo7QC3880cr0RVAQj7o2ayKI0AnVjNYXt8jQGU+DQVZPPI/1n5FkcgRH0DkzfQlzs6SQLN78rBQCypACUDJCmuINECOmpzHTmU3QPZNhzsEWx9AXSNvpi8RKEB67FTm09AeQOWGzIJ2tCVAtoeqhX8eFEAfz0GqO8kSQI+dynwaSgtAZmZmZmYmB0AAJSusQZUkQIIsHvE+ofU/NTmPncqMIkAwcdG2hyobQFQt/PNHmyJArBxaZDu/FECtRLPFSAksQG7ILGhHhytAw9MrZRmiJkBW6QEGXCodQMKr0gMMSCFAN/jCZKogJ0CBS+0y6Vw1QHvvgpufFSxAdr6fGi/dAkARNjy9UvYeQMdzkOpOmj5AgAGX2mWSHkDdtYR80LMRQIkZB4TD+B9AQO41F5JmMUBiWq6RN8s8QP/Xpp7ydRtArthfdk++G0A0NmHo/vcqQMOJ1QyWFxhAZT4NBVm8O0CLIpGjJicPQMuhRbbzXSdAoD9aiWbrFEBTBaOSOkETQMWPMXctAS1A80T9G6G8IEAKHswT9W8FQJfdk4eFWhZAQ9KUirNPAEDGJgzd/xonQDnWxW00gBpAUkmdgCZCEEDNFiMlUAcvQFAhRB8ZWDFAk86t/YpCEUDsUbgehZstQGsr9pfdkw9Af0WRyFFzEUDb9lC18H8lQPdT46WbpBNABDHjgHA4GUBKVliDCoEbQGaLkRKo2ytAi7MPn2HXDED6fmq8dAs8QMUj3ic0LjNAJJf/kH4DN0DwYJ6of4M2QBiV1AloSkBACRueXinL8D9CGb0ta3UfQOUaeTN9ITJAy3waCrIYE0AJ0UcGpgAlQEku/yH9fjZAoK7bjSvbJ0DyiyW/WMIpQNrO91PjZRVADQVZPOLdKUC3rwPnjIgXQJRAXbcblwxACD2bVZ9bQECxmsHy+hpOQEB/tBLN1hJAKoG6bjd+IUB2vp8aL10WQLIubqMBbCVA5BdLfrF0K0BzaJHtfI8iQCO5/If02wZAUWuad5xCJECwcmiR7ZwWQLbz/dR4qQlA78nDQq0ZKEC8Kj3AgKsWQLZif9k94TNAJVDX7cblIkCzoB1dkjAEQC8CULLC+ilAadtD1cJ/BkDGkl8s+QUtQFG18M8fLQtAov6NUEZfJkDuEOzlZG8QQO8TGpswlDhATFy07aHSO0DqlbIMcYwVQG3C0P2vnSZAO3DOiNKeKECUrLAGFeo0QFbpAQZcKiBA6nCHYC8HM0D+QMw4IBzzP4Bt6ilfXRJA18ib6UscFEDGSzeJQdArQKRza7+iqDNA50UASlZYE0Ctad5xioY+QK6OCR7MUwVAThi6/7VJG0AmnVv7FSUfQMIXJlMFQzhA9Ecr0WxRLUBi6yyNcoMuQCSX/5B+czVARdjw9EoZBUCnDXTaQIVdQGrecYqOZCxAycAU+J3tR0CFWtO84zQhQDuV+TQUZABAsStA7jXHKEDZX3ZPHpYZQC7a9lC1cPo/Dk+vlGUIFkCc6UtctJ0kQA3gLZCgGBdAHz7DrgB5E0A3iUFg5WAuQLMMcayLWyBADgiH8a3iAEAfz0GqO6kOQAK/M8ff4wtARt5MX+KiAUCSXP5D+p0gQA/BXk72tDRAIK1Es8WYPEDMyZ4XAWA1QAQx44BwuDVAdJDqTopJK0ARNjy9UtYbQIofY+5ackFAhqdXyjKEDUAnNDZh6D4PQGpN845T9C1A7AqQe83FFkAZuv+1qScLQKA/WolmywhAW9O84xQ9O0B7OdnzIvg1QMDHc5DqHiJAd8HNz/q1REDkzfQlLgI0QJPz2KnMxzVA+jQUZPEICEDXyJvpSxwLQFfKMsSxLjJAj8L1KFxvIEADnTbQaUMAQBGAkhXWYDJAKvA7c/y9DkBVVVVVVbUSQJWN4cRqliJAjG8VsXWW/D8gQfFjzD0uQDcd7hDsNHFAsE095av3/j+zD59hV5AtQJ3HTmU+/SpAY+5aQj7IJ0BS3UkxLVcjQMPTK2UZYhRAG55eKcsQIEDkzfQlLhoZQFcRW2dpBExA5O/xHKRqMEAuIR/0bNYcQBe30QDeYihAhqdXyjLEFUBifKuIras7QHHRtoeqBRdA+Xs8B6kSTUBXFIkcNQEyQDWD5fVNNzhAPlQt/PMnJkA+noNUdxImQJoIG55e+SFAvlXE1lmeQEByQ2ZBOxoVQF+YTBWMahxAQfFjzF3zOkDxiPcJjd0uQE8eFmpNgzJAjd6WtTpGIUBiV4Dca94gQF8pyxDHOidAT6+UZYhjGECwA+eMKE0iQL7mQtKUKitAA3gLJCjOJUBuftYPxMwhQOvfCGX01h1AbC4kTal4EECPncp8GpoqQCcPC7Wm+R1ADr4wmSroKUAM3f/a1NMeQHGHYC8ne/A/BMWPMXfNL0A3P+sHYt45QEVHcvkP+TBATak4+/DxPkBte6ha+Kc5QKEdXZLweiVAgy9Mpgq2J0DNFiMlUI8yQDfTl7ho2ylAC2tQIUT/HkCMSuoENGVBQLLnRQBKNiFAvODmZ/2AIkCitDf4wgQqQMLy+qbD3RZATc5jpzLfHEA/6wdixmEUQI8uSXhVSidARkqgrtutFUDWNO84RUccQMMdgr2cTBFAncdOZT4NIUBMEl6VHjAnQBSJHDU5Dx9A4C2QoPgBKkA8mCfq37goQHHRtoeq1TZAvsEXJlMlJUC/DpwzotQdQNxrLiRNeTBAgZVDi2xHEkAamAK/M99BQFpkO99PLSVApb3BFyZzIECbd5yiIykmQIpBYOXQwhRAR5ckvCrtNUClvcEXJgMgQBBYObTI9v8/I2+mL3ExLUDflrU6JpgfQL10kxgEFi5AIBzGt4qANkAqyxDHugxRQB44Z0RpzyFAT/nqvQu+MkCMkRKo6+YjQMe6uI0GkBJAF7fRAN6CG0AExY8xdw0aQEp4VXqAoSRA5h2n6EgOM0COKxvDiVUWQMARyuhtiSBAnMQgsHLo/z9W6QEGXMoTQAn2crLndSZAOUVHcvmHNkDAx3OQ6k4RQACRfvs68ANASQnUdbvhJED7psMdgiVCQKw+V1uxfxNAr7Zif9k9C0BKnYAmwkYNQBDpt68Db0VAE2HD0ytFHEBkYAr8zqQ0QPQiACUr5DJANFuMlEDdDEBsmnecogMlQN9PjZdu8iBAh6qFf/5IG0ARx7q4jQYVQOpwh2AvxyZAbXuoWvjHE0CcWM1geWUzQIuzD59hFwBAH4XrUbjON0DlGnkzfRE4QLr/tamnLCZAhDJ6W9baIkBte6ha+AcoQH/WD8SMoxJAdP9rU0/JJkB5ME/Uv+EnQAnRRwamwCBAzKRza7+iIUCeqH8jlAElQIwlv1jyeyZA5yDVnRSbO0CKQWDl0Eo0QN+74OZn/QJARwN4CyTQMEAQ6bevA2f9PwuQe82FvDFAXnDzs35gRUBF2x6qFn70Pxlz1xLy4RFA5T+k375mMUAsZRniWMcqQH2Ji7Y99BVAs3vysFCLLEDgCGX0ttwpQKnrduPKTjRARm/LWh2zMkA6tMh2vv8SQCGwcmiRbRVAUGhswtC9KEDCFyZTBWMJQB87lfk0VCdAEHo2qz6nKUDCq9IDDBBEQEOwl5M97yVAVg4tsp2PJUB248rGcBJOQEI+6Nms2j5AtmJ/2T3hNEC6kDSl4iwWQFFrmnecAilAoK7bjSsbHkAbwFsgQdEdQFXE1lkabT1Aw64AudeMNUArGJXUCYgYQJkCvzPHPyJAdbtxZWMYH0BA7jUXkgYVQKwcWmQ7TzNAU5lPQ0GuNECmnvLVe8ctQNUJaCJsqDBAQqo7KaYlAkAdf4/nIL1DQDy9UpYhbhVAxIwDwmF8GUDSAN4CCdZBQPcJjU0YaiRA3kxf4qLNH0Ag95oLSZMLQEvF2YfPgC1A5PIf0m/PNEDptIFOG9guQJKBKfA7AyJAEce6uI0G9j9gLyd7XgQSQCXkg57NKhZAZvfkYaEWHUBrBsvrm+4WQM0WIyVQtyRAm+Ydp+gYKkCbMHT/a9MZQE5iEFg5FB9ASnhVeoDBJkD9GHPXEuIjQKzSAwy41BtAQcw4IBz6QUDflrU6JhgcQDEt18ibaSJAKRI5anJeH0CX2mXSuXULQPw6cM6IEhFAvLu7u7srPkB6EYCSFbYXQOcg1Z0UwypAN9OXuGhbKEB8PAep7uQSQM0WIyVQdxpAAJF++zpAJUC9CEDJCissQCD3mgtJ8xpA/Yf029dhIECnxks3iVEkQLohs6AdrS9AcPOzfiDmEUCU0duyVgcfQEJjE4bu//U/w9MrZRnCFUCgP1qJZuscQJB7zYWkaQlAm+Ydp+hoGUCW1zcd7kAnQFCywhpUyABAVTAqqROIP0A4He4Q7MUwQHGHYC8nWyhA4Jnj7/H8HEDC8vqmw20kQClZYQ0qZBdAXbTtoWpBGEAcfGEyVZAUQDc/6wdi1iVAK6kT0ETAMUDyZvoSFyVRQJHIUZPz+CFApnnHKTrSA0B3CPZysp8xQNOXuGjbww9Awc3P+oG4HkBaq2OCB/dAQO41F5Km1CBAOfvwGXb1IkBlPg0FWVwgQCVQ1+3GRSVAEsrobVmrJ0Ci/o1QRs8UQN0kBoGVAyVAlmvkzfSVKkDrmODBPCEnQF6VHmDAJRtA9W+EMnoLIEC1FfvL7skHQO5aQj7omRdA8WPMXUtYI0CS8Kr0ANMgQHTaQKcNZCFAglFJnYAWJUD24TPsCvAvQF3ZGE6sxh1A97829ZRvIkBMpgpGJdUtQPcuuPlZDzBAv1jyiyW/JECbMHT/a4MkQLsnDwu1JgBAfyBmHBBuIkDANvWUr14RQNtl0rm1XwBAEFg5tMiGIUDaYqQE6nIxQIxs5/upMTJAUGhswtCdFEAyn4aCLPZNQEm/fR04BxBAV1uxv+weBkAq8Dtz/P0SQGAs+cWSPx9Ayw2ZBe2YJkAZTqxmsCQyQBBYObTI/jhAomrhnz+6EUCs9y64+UkmQJmWa+TNtApAOWdEaW9wBUC3G1c2htMgQPJm+hIXpTBAI7n8h/SbF0CU9gZfmJRAQNyyVscEPzZAr7mQNKUCE0C+MJkqGJUqQPJBz2bVHzBAU5lPQ0HWDUDmHafoSJ44QLkehetRWClANTmPncr8D0D2crLnRRA+QEe8T2hsQv0/AZSssAYVB0BRtfDPHy36P7wqPcCAyxlAbcLQ/a+VOkBEREREROQTQBx8YTJVCD1APgrXo3BdFEAQn2FXgLRNQM+LAJSssBVAseHplbKUQEBbQj7o2ZwrQKYKRiV1ggRAkMUj3ic0+j8SqOt248oMQObTUJDFowtAimaLkRIoEkCUrLAGFbpDQLR+IGYcEAlA5tNQkMUjGED3deCcEeUDQFc2hhOrqTxAtFwjb6bvBkBPG+i0gcZDQE3wYJ6om0hAMb5VxNbZD0BNqTj78Lk3QIfPsCtAdjNA8mb6Ehf9OkDOYHl906EbQCRy1OQ8zkRAgphxQDhsPUC7JOFV6XE4QHA63CHYuzFAw4nVDJZXDEA7t/YrihQ2QDy9UpYhjhZAPSzUmuYtJEDYy8meF/FAQHTaQKcNZCFAt/YrikROCUBgm3rKV+8yQPZQtfDP7ytAj1N0JJe/E0DLfBoKslgxQA8LtaZ5lzdAZrC8vulYP0DJdr6fGk8ZQOf7qfHSjQ1AmUwVjEqqLUDNzMzMzIwVQJIV1qBCeCNAubIxnFgtG0BZXt90uMMVQJQbMgvakRhArkfhehSmMkA/EDMOCE9FQAeEw/hWMSZALGUZ4linMUDP0ig3ZFYYQNxD1cI//wdAoybnsVPRNUAhsHJoka0FQA0nVjNYzj5AETY8vVJGIEDAyqFFtvP1P0X9G6GMvjBAIfrIwBTIIUC07aFq4V8QQJ3seRGAkixA8tV7F9ycF0CklWi2GDkuQDy9UpYh3i5AAr8zx9/jEkBMyAc9m6U8QIQNT6+UJRNATMgHPZvVDkCE6CMDU6A5QK6zNMoN2RxAsN674OYnJkBvXNkYTqwOQFvTvOMU7TJA+g/pt6+DNUAb5YbMgrYMQKKPDEyB/xlAUm7ILGgHGkB6Nqs+V5NBQOTyH9JvPxxATDeJQWDNOkCZlmvkzdQjQGsr9pfdExRAKhVnHz6DLkCwA+eMKE0iQOPKxnBixTlAIpGjJueRJ0AikaMm5/EYQP6vTT3lozRA0t7gC5PJGkDLMsSxLi4dQJKmVJx9eA1ACkP3vzaFKECmeccpOpIMQD3ifUJjE/M/omrhnz+qN0C+d8HNz/oZQLpJDAIrNyBAEu8TGpuIMUCMSuoENFEkQCMlUNft9iZA7MA5I0qTMkBWWIMKISoyQG1Wfa62YhBAoImw4en1M0CsQYUQfWT9P7LkF0t+YSBAmbuWkA86AkDVVuwvuxcsQFOZT0NBlh9AC/zOHH8fKkD+r0095esBQJAxdy0hTyhAy3waCrLoPED66r0Lbn43QCUrrEGFkB9APg0FWTw6N0B8zYWkKRUJQLHh6ZWyrBNA8IKbn/U7OUCh1jTvOIUmQEWRyFGTcxlAwoanV8pqOEATPJgn6r8mQAXIveZCyjFAXpUeYMCtQUCXkz0vAlAWQDsmeDBPtBBABxhwqV1GIED/16ae8lUHQOpwh2AvJxhAsglD978WH0AGy+ubDncNQKcyn4aCbCtAAU2EDU+PIkCx5BdLfmEmQKfGSzeJjUJAB84ZUdrbB0B1u3FlY7gJQGXPiwCUTCJARGlv8IVJAUBPHhZqTQsxQJBWotlixClAXUiaUnHGIEB7W9bqmFA9QPeaC0lT2ixAH6oW/vmDEkAqOpLLfygjQKsZLK9vOhZA7FG4HoXrD0CyDHGsi9sOQI4rG8OJXTpA3kxf4qKtEEAlUNftxlUEQA==",
          "dtype": "f8"
         },
         "y0": " ",
         "yaxis": "y"
        },
        {
         "alignmentgroup": "True",
         "hovertemplate": "Rider Type=%{x}<br>Trip Duration (min)=%{y}<extra></extra>",
         "legendgroup": "casual",
         "marker": {
          "color": "gold"
         },
         "name": "casual",
         "notched": false,
         "offsetgroup": "casual",
         "orientation": "v",
         "showlegend": true,
         "type": "box",
         "x": [
          "casual",
          "casual",
          "casual",
          "casual",
          "casual",
          "casual",
          "casual",
          "casual",
          "casual",
          "casual",
          "casual",
          "casual",
          "casual",
          "casual",
          "casual",
          "casual",
          "casual",
          "casual",
          "casual",
          "casual",
          "casual",
          "casual",
          "casual",
          "casual",
          "casual",
          "casual",
          "casual",
          "casual",
          "casual",
          "casual",
          "casual",
          "casual",
          "casual",
          "casual",
          "casual",
          "casual",
          "casual",
          "casual",
          "casual",
          "casual",
          "casual",
          "casual",
          "casual",
          "casual",
          "casual",
          "casual",
          "casual",
          "casual",
          "casual",
          "casual",
          "casual",
          "casual",
          "casual",
          "casual",
          "casual",
          "casual",
          "casual",
          "casual",
          "casual",
          "casual",
          "casual",
          "casual",
          "casual",
          "casual",
          "casual",
          "casual",
          "casual",
          "casual",
          "casual",
          "casual",
          "casual",
          "casual",
          "casual",
          "casual",
          "casual",
          "casual",
          "casual",
          "casual",
          "casual",
          "casual",
          "casual",
          "casual",
          "casual",
          "casual",
          "casual",
          "casual",
          "casual",
          "casual",
          "casual",
          "casual",
          "casual",
          "casual",
          "casual",
          "casual",
          "casual",
          "casual",
          "casual",
          "casual",
          "casual",
          "casual",
          "casual",
          "casual",
          "casual",
          "casual",
          "casual",
          "casual",
          "casual",
          "casual",
          "casual",
          "casual",
          "casual",
          "casual",
          "casual",
          "casual",
          "casual",
          "casual",
          "casual",
          "casual",
          "casual",
          "casual",
          "casual",
          "casual",
          "casual",
          "casual",
          "casual",
          "casual",
          "casual",
          "casual",
          "casual",
          "casual",
          "casual",
          "casual",
          "casual",
          "casual",
          "casual",
          "casual",
          "casual",
          "casual",
          "casual",
          "casual",
          "casual",
          "casual",
          "casual",
          "casual",
          "casual",
          "casual",
          "casual",
          "casual",
          "casual",
          "casual",
          "casual",
          "casual",
          "casual",
          "casual",
          "casual",
          "casual",
          "casual",
          "casual",
          "casual",
          "casual",
          "casual",
          "casual",
          "casual",
          "casual",
          "casual",
          "casual",
          "casual",
          "casual",
          "casual",
          "casual",
          "casual",
          "casual",
          "casual",
          "casual",
          "casual",
          "casual",
          "casual",
          "casual",
          "casual",
          "casual",
          "casual",
          "casual",
          "casual",
          "casual",
          "casual",
          "casual",
          "casual",
          "casual",
          "casual",
          "casual",
          "casual",
          "casual",
          "casual",
          "casual",
          "casual",
          "casual",
          "casual",
          "casual",
          "casual",
          "casual",
          "casual",
          "casual",
          "casual",
          "casual",
          "casual",
          "casual",
          "casual",
          "casual",
          "casual",
          "casual",
          "casual",
          "casual",
          "casual",
          "casual",
          "casual",
          "casual",
          "casual",
          "casual",
          "casual",
          "casual",
          "casual",
          "casual",
          "casual",
          "casual",
          "casual",
          "casual",
          "casual",
          "casual",
          "casual",
          "casual",
          "casual",
          "casual",
          "casual",
          "casual",
          "casual",
          "casual",
          "casual",
          "casual",
          "casual",
          "casual",
          "casual",
          "casual",
          "casual",
          "casual",
          "casual",
          "casual",
          "casual",
          "casual",
          "casual",
          "casual",
          "casual",
          "casual",
          "casual",
          "casual",
          "casual",
          "casual",
          "casual",
          "casual",
          "casual",
          "casual",
          "casual",
          "casual",
          "casual",
          "casual",
          "casual",
          "casual",
          "casual",
          "casual",
          "casual",
          "casual",
          "casual",
          "casual",
          "casual",
          "casual",
          "casual",
          "casual",
          "casual",
          "casual",
          "casual",
          "casual",
          "casual",
          "casual",
          "casual",
          "casual",
          "casual",
          "casual",
          "casual",
          "casual",
          "casual",
          "casual",
          "casual",
          "casual",
          "casual",
          "casual",
          "casual",
          "casual",
          "casual",
          "casual",
          "casual",
          "casual",
          "casual",
          "casual",
          "casual",
          "casual",
          "casual",
          "casual",
          "casual",
          "casual",
          "casual",
          "casual",
          "casual",
          "casual",
          "casual",
          "casual",
          "casual",
          "casual",
          "casual",
          "casual",
          "casual",
          "casual",
          "casual",
          "casual",
          "casual",
          "casual",
          "casual",
          "casual",
          "casual",
          "casual",
          "casual",
          "casual",
          "casual",
          "casual",
          "casual",
          "casual",
          "casual",
          "casual",
          "casual",
          "casual",
          "casual",
          "casual",
          "casual",
          "casual",
          "casual",
          "casual",
          "casual",
          "casual",
          "casual",
          "casual",
          "casual",
          "casual",
          "casual",
          "casual",
          "casual",
          "casual",
          "casual",
          "casual",
          "casual",
          "casual",
          "casual",
          "casual",
          "casual",
          "casual",
          "casual",
          "casual",
          "casual",
          "casual",
          "casual",
          "casual",
          "casual",
          "casual",
          "casual",
          "casual",
          "casual",
          "casual",
          "casual",
          "casual",
          "casual",
          "casual",
          "casual",
          "casual",
          "casual",
          "casual",
          "casual",
          "casual",
          "casual",
          "casual",
          "casual",
          "casual",
          "casual",
          "casual",
          "casual",
          "casual",
          "casual",
          "casual",
          "casual",
          "casual",
          "casual",
          "casual",
          "casual",
          "casual",
          "casual",
          "casual",
          "casual",
          "casual",
          "casual",
          "casual",
          "casual",
          "casual",
          "casual",
          "casual",
          "casual",
          "casual",
          "casual",
          "casual",
          "casual",
          "casual",
          "casual",
          "casual",
          "casual",
          "casual",
          "casual",
          "casual",
          "casual",
          "casual",
          "casual",
          "casual",
          "casual",
          "casual",
          "casual",
          "casual",
          "casual",
          "casual",
          "casual",
          "casual",
          "casual",
          "casual",
          "casual",
          "casual",
          "casual",
          "casual",
          "casual",
          "casual",
          "casual",
          "casual",
          "casual",
          "casual",
          "casual",
          "casual",
          "casual",
          "casual",
          "casual",
          "casual",
          "casual",
          "casual",
          "casual",
          "casual",
          "casual",
          "casual",
          "casual",
          "casual",
          "casual",
          "casual",
          "casual",
          "casual",
          "casual",
          "casual",
          "casual",
          "casual",
          "casual",
          "casual",
          "casual",
          "casual",
          "casual",
          "casual",
          "casual",
          "casual",
          "casual",
          "casual",
          "casual",
          "casual",
          "casual",
          "casual",
          "casual",
          "casual",
          "casual",
          "casual",
          "casual",
          "casual",
          "casual",
          "casual",
          "casual",
          "casual",
          "casual",
          "casual",
          "casual",
          "casual",
          "casual",
          "casual",
          "casual",
          "casual",
          "casual",
          "casual",
          "casual",
          "casual",
          "casual",
          "casual",
          "casual",
          "casual",
          "casual",
          "casual",
          "casual",
          "casual",
          "casual",
          "casual",
          "casual",
          "casual",
          "casual",
          "casual",
          "casual",
          "casual",
          "casual",
          "casual",
          "casual",
          "casual",
          "casual",
          "casual",
          "casual",
          "casual",
          "casual",
          "casual",
          "casual",
          "casual",
          "casual",
          "casual",
          "casual",
          "casual",
          "casual",
          "casual",
          "casual",
          "casual",
          "casual",
          "casual",
          "casual",
          "casual",
          "casual",
          "casual",
          "casual",
          "casual",
          "casual",
          "casual",
          "casual",
          "casual",
          "casual",
          "casual",
          "casual",
          "casual",
          "casual",
          "casual",
          "casual",
          "casual",
          "casual",
          "casual",
          "casual",
          "casual",
          "casual",
          "casual",
          "casual",
          "casual",
          "casual",
          "casual",
          "casual",
          "casual",
          "casual",
          "casual",
          "casual",
          "casual",
          "casual",
          "casual",
          "casual",
          "casual",
          "casual",
          "casual",
          "casual",
          "casual",
          "casual",
          "casual",
          "casual",
          "casual",
          "casual",
          "casual",
          "casual",
          "casual",
          "casual",
          "casual",
          "casual",
          "casual",
          "casual",
          "casual",
          "casual",
          "casual",
          "casual",
          "casual",
          "casual",
          "casual",
          "casual",
          "casual",
          "casual",
          "casual",
          "casual",
          "casual",
          "casual",
          "casual",
          "casual",
          "casual",
          "casual",
          "casual",
          "casual",
          "casual",
          "casual",
          "casual",
          "casual",
          "casual",
          "casual",
          "casual",
          "casual",
          "casual",
          "casual",
          "casual",
          "casual",
          "casual",
          "casual",
          "casual",
          "casual",
          "casual",
          "casual",
          "casual",
          "casual",
          "casual",
          "casual",
          "casual",
          "casual",
          "casual",
          "casual",
          "casual",
          "casual",
          "casual",
          "casual",
          "casual",
          "casual",
          "casual",
          "casual",
          "casual",
          "casual",
          "casual",
          "casual",
          "casual",
          "casual",
          "casual",
          "casual",
          "casual",
          "casual",
          "casual",
          "casual",
          "casual",
          "casual",
          "casual",
          "casual",
          "casual",
          "casual",
          "casual",
          "casual",
          "casual",
          "casual",
          "casual",
          "casual",
          "casual",
          "casual",
          "casual",
          "casual",
          "casual",
          "casual",
          "casual",
          "casual",
          "casual",
          "casual",
          "casual",
          "casual",
          "casual",
          "casual",
          "casual",
          "casual",
          "casual",
          "casual",
          "casual",
          "casual",
          "casual",
          "casual",
          "casual",
          "casual",
          "casual",
          "casual",
          "casual",
          "casual",
          "casual",
          "casual",
          "casual",
          "casual",
          "casual",
          "casual",
          "casual",
          "casual",
          "casual",
          "casual",
          "casual",
          "casual",
          "casual",
          "casual",
          "casual",
          "casual",
          "casual",
          "casual",
          "casual",
          "casual",
          "casual",
          "casual",
          "casual",
          "casual",
          "casual",
          "casual",
          "casual",
          "casual",
          "casual",
          "casual",
          "casual",
          "casual",
          "casual",
          "casual",
          "casual",
          "casual",
          "casual",
          "casual",
          "casual",
          "casual",
          "casual",
          "casual",
          "casual",
          "casual",
          "casual",
          "casual",
          "casual",
          "casual",
          "casual",
          "casual",
          "casual",
          "casual",
          "casual",
          "casual",
          "casual",
          "casual",
          "casual",
          "casual",
          "casual",
          "casual",
          "casual",
          "casual",
          "casual",
          "casual",
          "casual",
          "casual",
          "casual",
          "casual",
          "casual",
          "casual",
          "casual",
          "casual",
          "casual",
          "casual",
          "casual",
          "casual",
          "casual",
          "casual",
          "casual",
          "casual",
          "casual",
          "casual",
          "casual",
          "casual",
          "casual",
          "casual",
          "casual",
          "casual",
          "casual",
          "casual",
          "casual",
          "casual",
          "casual",
          "casual",
          "casual",
          "casual",
          "casual",
          "casual",
          "casual",
          "casual",
          "casual",
          "casual",
          "casual",
          "casual",
          "casual",
          "casual",
          "casual",
          "casual",
          "casual",
          "casual",
          "casual",
          "casual",
          "casual",
          "casual",
          "casual",
          "casual",
          "casual",
          "casual",
          "casual",
          "casual",
          "casual",
          "casual",
          "casual",
          "casual",
          "casual",
          "casual",
          "casual",
          "casual",
          "casual",
          "casual",
          "casual",
          "casual",
          "casual",
          "casual",
          "casual",
          "casual",
          "casual",
          "casual",
          "casual",
          "casual",
          "casual",
          "casual",
          "casual",
          "casual",
          "casual",
          "casual",
          "casual",
          "casual",
          "casual",
          "casual",
          "casual",
          "casual",
          "casual",
          "casual",
          "casual",
          "casual",
          "casual",
          "casual",
          "casual",
          "casual",
          "casual",
          "casual",
          "casual",
          "casual",
          "casual",
          "casual",
          "casual",
          "casual",
          "casual",
          "casual",
          "casual",
          "casual",
          "casual",
          "casual",
          "casual",
          "casual",
          "casual",
          "casual",
          "casual",
          "casual",
          "casual",
          "casual",
          "casual",
          "casual",
          "casual",
          "casual",
          "casual",
          "casual",
          "casual",
          "casual",
          "casual",
          "casual",
          "casual",
          "casual",
          "casual",
          "casual",
          "casual",
          "casual",
          "casual",
          "casual",
          "casual",
          "casual",
          "casual",
          "casual",
          "casual",
          "casual",
          "casual",
          "casual",
          "casual",
          "casual",
          "casual",
          "casual",
          "casual",
          "casual",
          "casual",
          "casual",
          "casual",
          "casual",
          "casual",
          "casual",
          "casual",
          "casual",
          "casual",
          "casual",
          "casual",
          "casual",
          "casual",
          "casual",
          "casual",
          "casual",
          "casual",
          "casual",
          "casual",
          "casual",
          "casual",
          "casual",
          "casual",
          "casual",
          "casual",
          "casual",
          "casual",
          "casual",
          "casual",
          "casual",
          "casual",
          "casual",
          "casual",
          "casual",
          "casual",
          "casual",
          "casual",
          "casual",
          "casual",
          "casual",
          "casual",
          "casual",
          "casual",
          "casual",
          "casual",
          "casual",
          "casual",
          "casual",
          "casual",
          "casual",
          "casual",
          "casual",
          "casual",
          "casual",
          "casual",
          "casual",
          "casual",
          "casual",
          "casual",
          "casual",
          "casual",
          "casual",
          "casual",
          "casual",
          "casual",
          "casual",
          "casual",
          "casual",
          "casual",
          "casual",
          "casual",
          "casual",
          "casual",
          "casual",
          "casual",
          "casual",
          "casual",
          "casual",
          "casual",
          "casual",
          "casual",
          "casual",
          "casual",
          "casual",
          "casual",
          "casual",
          "casual",
          "casual",
          "casual",
          "casual",
          "casual",
          "casual",
          "casual",
          "casual",
          "casual",
          "casual",
          "casual",
          "casual",
          "casual",
          "casual",
          "casual",
          "casual",
          "casual",
          "casual",
          "casual",
          "casual",
          "casual",
          "casual",
          "casual",
          "casual",
          "casual",
          "casual",
          "casual",
          "casual",
          "casual",
          "casual",
          "casual",
          "casual",
          "casual",
          "casual",
          "casual",
          "casual",
          "casual",
          "casual",
          "casual",
          "casual",
          "casual",
          "casual",
          "casual",
          "casual",
          "casual",
          "casual",
          "casual",
          "casual",
          "casual",
          "casual",
          "casual",
          "casual",
          "casual",
          "casual",
          "casual",
          "casual",
          "casual",
          "casual",
          "casual",
          "casual",
          "casual",
          "casual",
          "casual",
          "casual",
          "casual",
          "casual",
          "casual",
          "casual",
          "casual",
          "casual",
          "casual",
          "casual",
          "casual",
          "casual",
          "casual",
          "casual",
          "casual",
          "casual",
          "casual",
          "casual",
          "casual",
          "casual",
          "casual",
          "casual",
          "casual",
          "casual",
          "casual",
          "casual",
          "casual",
          "casual",
          "casual",
          "casual",
          "casual",
          "casual",
          "casual",
          "casual",
          "casual",
          "casual",
          "casual",
          "casual",
          "casual",
          "casual",
          "casual",
          "casual",
          "casual",
          "casual",
          "casual",
          "casual",
          "casual",
          "casual",
          "casual",
          "casual",
          "casual",
          "casual",
          "casual",
          "casual",
          "casual",
          "casual",
          "casual",
          "casual",
          "casual",
          "casual",
          "casual",
          "casual",
          "casual",
          "casual",
          "casual",
          "casual",
          "casual",
          "casual",
          "casual",
          "casual",
          "casual",
          "casual",
          "casual",
          "casual",
          "casual",
          "casual",
          "casual",
          "casual",
          "casual",
          "casual",
          "casual",
          "casual",
          "casual",
          "casual",
          "casual",
          "casual",
          "casual",
          "casual",
          "casual",
          "casual",
          "casual",
          "casual",
          "casual",
          "casual",
          "casual",
          "casual",
          "casual",
          "casual",
          "casual",
          "casual",
          "casual",
          "casual",
          "casual",
          "casual",
          "casual",
          "casual",
          "casual",
          "casual",
          "casual",
          "casual",
          "casual",
          "casual",
          "casual",
          "casual",
          "casual",
          "casual",
          "casual",
          "casual",
          "casual",
          "casual",
          "casual",
          "casual",
          "casual",
          "casual",
          "casual",
          "casual",
          "casual",
          "casual",
          "casual",
          "casual",
          "casual",
          "casual",
          "casual",
          "casual",
          "casual",
          "casual",
          "casual",
          "casual",
          "casual",
          "casual",
          "casual",
          "casual",
          "casual",
          "casual",
          "casual",
          "casual",
          "casual",
          "casual",
          "casual",
          "casual",
          "casual",
          "casual",
          "casual",
          "casual",
          "casual",
          "casual",
          "casual",
          "casual",
          "casual",
          "casual",
          "casual",
          "casual",
          "casual",
          "casual",
          "casual",
          "casual",
          "casual",
          "casual",
          "casual",
          "casual",
          "casual",
          "casual",
          "casual",
          "casual",
          "casual",
          "casual",
          "casual",
          "casual",
          "casual",
          "casual",
          "casual",
          "casual",
          "casual",
          "casual",
          "casual",
          "casual",
          "casual",
          "casual",
          "casual",
          "casual",
          "casual",
          "casual",
          "casual",
          "casual",
          "casual",
          "casual",
          "casual",
          "casual",
          "casual",
          "casual",
          "casual",
          "casual",
          "casual",
          "casual",
          "casual",
          "casual",
          "casual",
          "casual",
          "casual",
          "casual",
          "casual",
          "casual",
          "casual",
          "casual",
          "casual",
          "casual",
          "casual",
          "casual",
          "casual",
          "casual",
          "casual",
          "casual",
          "casual",
          "casual",
          "casual",
          "casual",
          "casual",
          "casual",
          "casual",
          "casual",
          "casual",
          "casual",
          "casual",
          "casual",
          "casual",
          "casual",
          "casual",
          "casual",
          "casual",
          "casual",
          "casual",
          "casual",
          "casual",
          "casual",
          "casual",
          "casual",
          "casual",
          "casual",
          "casual",
          "casual",
          "casual",
          "casual",
          "casual",
          "casual",
          "casual",
          "casual",
          "casual",
          "casual",
          "casual",
          "casual",
          "casual",
          "casual",
          "casual",
          "casual",
          "casual",
          "casual",
          "casual",
          "casual",
          "casual",
          "casual",
          "casual",
          "casual",
          "casual",
          "casual",
          "casual",
          "casual",
          "casual",
          "casual",
          "casual",
          "casual",
          "casual",
          "casual",
          "casual",
          "casual",
          "casual",
          "casual",
          "casual",
          "casual",
          "casual",
          "casual",
          "casual",
          "casual",
          "casual",
          "casual",
          "casual",
          "casual",
          "casual",
          "casual",
          "casual",
          "casual",
          "casual",
          "casual",
          "casual",
          "casual",
          "casual",
          "casual",
          "casual",
          "casual",
          "casual",
          "casual",
          "casual",
          "casual",
          "casual",
          "casual",
          "casual",
          "casual",
          "casual",
          "casual",
          "casual",
          "casual",
          "casual",
          "casual",
          "casual",
          "casual",
          "casual",
          "casual",
          "casual",
          "casual",
          "casual",
          "casual",
          "casual",
          "casual",
          "casual",
          "casual",
          "casual",
          "casual",
          "casual",
          "casual",
          "casual",
          "casual",
          "casual",
          "casual",
          "casual",
          "casual",
          "casual",
          "casual",
          "casual",
          "casual",
          "casual",
          "casual",
          "casual",
          "casual",
          "casual",
          "casual",
          "casual",
          "casual",
          "casual",
          "casual",
          "casual",
          "casual",
          "casual",
          "casual",
          "casual",
          "casual",
          "casual",
          "casual",
          "casual",
          "casual",
          "casual",
          "casual",
          "casual",
          "casual",
          "casual",
          "casual",
          "casual",
          "casual",
          "casual",
          "casual",
          "casual",
          "casual",
          "casual",
          "casual",
          "casual",
          "casual",
          "casual",
          "casual",
          "casual",
          "casual",
          "casual",
          "casual",
          "casual",
          "casual",
          "casual",
          "casual",
          "casual",
          "casual",
          "casual",
          "casual",
          "casual",
          "casual",
          "casual",
          "casual",
          "casual",
          "casual",
          "casual",
          "casual",
          "casual",
          "casual",
          "casual",
          "casual",
          "casual",
          "casual",
          "casual",
          "casual",
          "casual",
          "casual",
          "casual",
          "casual",
          "casual",
          "casual",
          "casual",
          "casual",
          "casual",
          "casual",
          "casual",
          "casual",
          "casual",
          "casual",
          "casual",
          "casual",
          "casual",
          "casual",
          "casual",
          "casual",
          "casual",
          "casual",
          "casual",
          "casual",
          "casual",
          "casual",
          "casual",
          "casual",
          "casual",
          "casual",
          "casual",
          "casual",
          "casual",
          "casual",
          "casual",
          "casual",
          "casual",
          "casual",
          "casual",
          "casual",
          "casual",
          "casual",
          "casual",
          "casual",
          "casual",
          "casual",
          "casual",
          "casual",
          "casual",
          "casual",
          "casual",
          "casual",
          "casual",
          "casual",
          "casual",
          "casual",
          "casual",
          "casual",
          "casual",
          "casual",
          "casual",
          "casual",
          "casual",
          "casual",
          "casual",
          "casual",
          "casual",
          "casual",
          "casual",
          "casual",
          "casual",
          "casual",
          "casual",
          "casual",
          "casual",
          "casual",
          "casual",
          "casual",
          "casual",
          "casual",
          "casual",
          "casual",
          "casual",
          "casual",
          "casual",
          "casual",
          "casual",
          "casual",
          "casual",
          "casual",
          "casual",
          "casual",
          "casual",
          "casual",
          "casual",
          "casual",
          "casual",
          "casual",
          "casual",
          "casual",
          "casual",
          "casual",
          "casual",
          "casual",
          "casual",
          "casual",
          "casual",
          "casual",
          "casual",
          "casual",
          "casual",
          "casual",
          "casual",
          "casual",
          "casual",
          "casual",
          "casual",
          "casual",
          "casual",
          "casual",
          "casual",
          "casual",
          "casual",
          "casual",
          "casual",
          "casual",
          "casual",
          "casual",
          "casual",
          "casual",
          "casual",
          "casual",
          "casual",
          "casual",
          "casual",
          "casual",
          "casual",
          "casual",
          "casual",
          "casual",
          "casual",
          "casual",
          "casual",
          "casual",
          "casual",
          "casual",
          "casual",
          "casual",
          "casual",
          "casual",
          "casual",
          "casual",
          "casual",
          "casual",
          "casual",
          "casual",
          "casual",
          "casual",
          "casual",
          "casual",
          "casual",
          "casual",
          "casual",
          "casual",
          "casual",
          "casual",
          "casual",
          "casual",
          "casual",
          "casual",
          "casual",
          "casual",
          "casual",
          "casual",
          "casual",
          "casual",
          "casual",
          "casual",
          "casual",
          "casual",
          "casual",
          "casual",
          "casual",
          "casual",
          "casual",
          "casual",
          "casual",
          "casual",
          "casual",
          "casual",
          "casual",
          "casual",
          "casual",
          "casual",
          "casual",
          "casual",
          "casual",
          "casual",
          "casual",
          "casual",
          "casual",
          "casual",
          "casual",
          "casual",
          "casual",
          "casual",
          "casual",
          "casual",
          "casual",
          "casual",
          "casual",
          "casual",
          "casual",
          "casual",
          "casual",
          "casual",
          "casual",
          "casual",
          "casual",
          "casual",
          "casual",
          "casual",
          "casual",
          "casual",
          "casual",
          "casual",
          "casual",
          "casual",
          "casual",
          "casual",
          "casual",
          "casual",
          "casual",
          "casual",
          "casual",
          "casual",
          "casual",
          "casual",
          "casual",
          "casual",
          "casual",
          "casual",
          "casual",
          "casual",
          "casual",
          "casual",
          "casual",
          "casual",
          "casual",
          "casual",
          "casual",
          "casual",
          "casual",
          "casual",
          "casual",
          "casual",
          "casual",
          "casual",
          "casual",
          "casual",
          "casual",
          "casual",
          "casual",
          "casual",
          "casual",
          "casual",
          "casual",
          "casual",
          "casual",
          "casual",
          "casual",
          "casual",
          "casual",
          "casual",
          "casual",
          "casual",
          "casual",
          "casual",
          "casual",
          "casual",
          "casual",
          "casual",
          "casual",
          "casual",
          "casual",
          "casual",
          "casual",
          "casual",
          "casual",
          "casual",
          "casual",
          "casual",
          "casual",
          "casual",
          "casual",
          "casual",
          "casual",
          "casual",
          "casual",
          "casual",
          "casual",
          "casual",
          "casual",
          "casual",
          "casual",
          "casual",
          "casual",
          "casual",
          "casual",
          "casual",
          "casual",
          "casual",
          "casual",
          "casual",
          "casual",
          "casual",
          "casual",
          "casual",
          "casual",
          "casual",
          "casual",
          "casual",
          "casual",
          "casual",
          "casual",
          "casual",
          "casual",
          "casual",
          "casual",
          "casual",
          "casual",
          "casual",
          "casual",
          "casual",
          "casual",
          "casual",
          "casual",
          "casual",
          "casual",
          "casual",
          "casual",
          "casual",
          "casual",
          "casual",
          "casual",
          "casual",
          "casual",
          "casual",
          "casual",
          "casual",
          "casual",
          "casual",
          "casual",
          "casual",
          "casual",
          "casual",
          "casual",
          "casual",
          "casual",
          "casual",
          "casual",
          "casual",
          "casual",
          "casual",
          "casual",
          "casual",
          "casual",
          "casual",
          "casual",
          "casual",
          "casual",
          "casual",
          "casual",
          "casual",
          "casual",
          "casual",
          "casual",
          "casual",
          "casual",
          "casual",
          "casual",
          "casual",
          "casual",
          "casual",
          "casual",
          "casual",
          "casual",
          "casual",
          "casual",
          "casual",
          "casual",
          "casual",
          "casual",
          "casual",
          "casual",
          "casual",
          "casual",
          "casual",
          "casual",
          "casual",
          "casual",
          "casual",
          "casual",
          "casual",
          "casual",
          "casual",
          "casual",
          "casual",
          "casual",
          "casual",
          "casual",
          "casual",
          "casual",
          "casual",
          "casual",
          "casual",
          "casual",
          "casual",
          "casual",
          "casual",
          "casual",
          "casual",
          "casual",
          "casual",
          "casual",
          "casual",
          "casual",
          "casual",
          "casual",
          "casual",
          "casual",
          "casual",
          "casual",
          "casual",
          "casual",
          "casual",
          "casual",
          "casual",
          "casual",
          "casual",
          "casual",
          "casual",
          "casual",
          "casual",
          "casual",
          "casual",
          "casual",
          "casual",
          "casual",
          "casual",
          "casual",
          "casual",
          "casual",
          "casual",
          "casual",
          "casual",
          "casual",
          "casual",
          "casual",
          "casual",
          "casual",
          "casual",
          "casual",
          "casual",
          "casual",
          "casual",
          "casual",
          "casual",
          "casual",
          "casual",
          "casual",
          "casual",
          "casual",
          "casual",
          "casual",
          "casual",
          "casual",
          "casual",
          "casual",
          "casual",
          "casual",
          "casual",
          "casual",
          "casual",
          "casual",
          "casual",
          "casual",
          "casual",
          "casual",
          "casual",
          "casual",
          "casual",
          "casual",
          "casual",
          "casual",
          "casual",
          "casual",
          "casual",
          "casual",
          "casual",
          "casual",
          "casual",
          "casual",
          "casual",
          "casual",
          "casual",
          "casual",
          "casual",
          "casual",
          "casual",
          "casual",
          "casual",
          "casual",
          "casual",
          "casual",
          "casual",
          "casual",
          "casual",
          "casual",
          "casual",
          "casual",
          "casual",
          "casual",
          "casual",
          "casual",
          "casual",
          "casual",
          "casual",
          "casual",
          "casual",
          "casual",
          "casual",
          "casual",
          "casual",
          "casual",
          "casual",
          "casual",
          "casual",
          "casual",
          "casual",
          "casual",
          "casual",
          "casual",
          "casual",
          "casual",
          "casual",
          "casual",
          "casual",
          "casual",
          "casual",
          "casual",
          "casual",
          "casual",
          "casual",
          "casual",
          "casual",
          "casual",
          "casual",
          "casual",
          "casual",
          "casual",
          "casual",
          "casual",
          "casual",
          "casual",
          "casual",
          "casual",
          "casual",
          "casual",
          "casual",
          "casual",
          "casual",
          "casual",
          "casual",
          "casual",
          "casual",
          "casual",
          "casual",
          "casual",
          "casual",
          "casual",
          "casual",
          "casual",
          "casual",
          "casual",
          "casual",
          "casual",
          "casual",
          "casual",
          "casual",
          "casual",
          "casual",
          "casual",
          "casual",
          "casual",
          "casual",
          "casual",
          "casual",
          "casual",
          "casual",
          "casual",
          "casual",
          "casual",
          "casual",
          "casual",
          "casual",
          "casual",
          "casual",
          "casual",
          "casual",
          "casual",
          "casual",
          "casual",
          "casual",
          "casual",
          "casual",
          "casual",
          "casual",
          "casual",
          "casual",
          "casual",
          "casual",
          "casual",
          "casual",
          "casual",
          "casual",
          "casual",
          "casual",
          "casual",
          "casual",
          "casual",
          "casual",
          "casual",
          "casual",
          "casual",
          "casual",
          "casual",
          "casual",
          "casual",
          "casual",
          "casual",
          "casual",
          "casual",
          "casual",
          "casual",
          "casual",
          "casual",
          "casual",
          "casual",
          "casual",
          "casual",
          "casual",
          "casual",
          "casual",
          "casual",
          "casual",
          "casual",
          "casual",
          "casual",
          "casual",
          "casual",
          "casual",
          "casual",
          "casual",
          "casual",
          "casual",
          "casual",
          "casual",
          "casual",
          "casual",
          "casual",
          "casual",
          "casual",
          "casual"
         ],
         "x0": " ",
         "xaxis": "x",
         "y": {
          "bdata": "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",
          "dtype": "f8"
         },
         "y0": " ",
         "yaxis": "y"
        }
       ],
       "layout": {
        "boxmode": "overlay",
        "legend": {
         "font": {
          "color": "black"
         },
         "title": {
          "text": "Rider Type"
         },
         "tracegroupgap": 0
        },
        "plot_bgcolor": "white",
        "template": {
         "data": {
          "bar": [
           {
            "error_x": {
             "color": "#2a3f5f"
            },
            "error_y": {
             "color": "#2a3f5f"
            },
            "marker": {
             "line": {
              "color": "#E5ECF6",
              "width": 0.5
             },
             "pattern": {
              "fillmode": "overlay",
              "size": 10,
              "solidity": 0.2
             }
            },
            "type": "bar"
           }
          ],
          "barpolar": [
           {
            "marker": {
             "line": {
              "color": "#E5ECF6",
              "width": 0.5
             },
             "pattern": {
              "fillmode": "overlay",
              "size": 10,
              "solidity": 0.2
             }
            },
            "type": "barpolar"
           }
          ],
          "carpet": [
           {
            "aaxis": {
             "endlinecolor": "#2a3f5f",
             "gridcolor": "white",
             "linecolor": "white",
             "minorgridcolor": "white",
             "startlinecolor": "#2a3f5f"
            },
            "baxis": {
             "endlinecolor": "#2a3f5f",
             "gridcolor": "white",
             "linecolor": "white",
             "minorgridcolor": "white",
             "startlinecolor": "#2a3f5f"
            },
            "type": "carpet"
           }
          ],
          "choropleth": [
           {
            "colorbar": {
             "outlinewidth": 0,
             "ticks": ""
            },
            "type": "choropleth"
           }
          ],
          "contour": [
           {
            "colorbar": {
             "outlinewidth": 0,
             "ticks": ""
            },
            "colorscale": [
             [
              0,
              "#0d0887"
             ],
             [
              0.1111111111111111,
              "#46039f"
             ],
             [
              0.2222222222222222,
              "#7201a8"
             ],
             [
              0.3333333333333333,
              "#9c179e"
             ],
             [
              0.4444444444444444,
              "#bd3786"
             ],
             [
              0.5555555555555556,
              "#d8576b"
             ],
             [
              0.6666666666666666,
              "#ed7953"
             ],
             [
              0.7777777777777778,
              "#fb9f3a"
             ],
             [
              0.8888888888888888,
              "#fdca26"
             ],
             [
              1,
              "#f0f921"
             ]
            ],
            "type": "contour"
           }
          ],
          "contourcarpet": [
           {
            "colorbar": {
             "outlinewidth": 0,
             "ticks": ""
            },
            "type": "contourcarpet"
           }
          ],
          "heatmap": [
           {
            "colorbar": {
             "outlinewidth": 0,
             "ticks": ""
            },
            "colorscale": [
             [
              0,
              "#0d0887"
             ],
             [
              0.1111111111111111,
              "#46039f"
             ],
             [
              0.2222222222222222,
              "#7201a8"
             ],
             [
              0.3333333333333333,
              "#9c179e"
             ],
             [
              0.4444444444444444,
              "#bd3786"
             ],
             [
              0.5555555555555556,
              "#d8576b"
             ],
             [
              0.6666666666666666,
              "#ed7953"
             ],
             [
              0.7777777777777778,
              "#fb9f3a"
             ],
             [
              0.8888888888888888,
              "#fdca26"
             ],
             [
              1,
              "#f0f921"
             ]
            ],
            "type": "heatmap"
           }
          ],
          "histogram": [
           {
            "marker": {
             "pattern": {
              "fillmode": "overlay",
              "size": 10,
              "solidity": 0.2
             }
            },
            "type": "histogram"
           }
          ],
          "histogram2d": [
           {
            "colorbar": {
             "outlinewidth": 0,
             "ticks": ""
            },
            "colorscale": [
             [
              0,
              "#0d0887"
             ],
             [
              0.1111111111111111,
              "#46039f"
             ],
             [
              0.2222222222222222,
              "#7201a8"
             ],
             [
              0.3333333333333333,
              "#9c179e"
             ],
             [
              0.4444444444444444,
              "#bd3786"
             ],
             [
              0.5555555555555556,
              "#d8576b"
             ],
             [
              0.6666666666666666,
              "#ed7953"
             ],
             [
              0.7777777777777778,
              "#fb9f3a"
             ],
             [
              0.8888888888888888,
              "#fdca26"
             ],
             [
              1,
              "#f0f921"
             ]
            ],
            "type": "histogram2d"
           }
          ],
          "histogram2dcontour": [
           {
            "colorbar": {
             "outlinewidth": 0,
             "ticks": ""
            },
            "colorscale": [
             [
              0,
              "#0d0887"
             ],
             [
              0.1111111111111111,
              "#46039f"
             ],
             [
              0.2222222222222222,
              "#7201a8"
             ],
             [
              0.3333333333333333,
              "#9c179e"
             ],
             [
              0.4444444444444444,
              "#bd3786"
             ],
             [
              0.5555555555555556,
              "#d8576b"
             ],
             [
              0.6666666666666666,
              "#ed7953"
             ],
             [
              0.7777777777777778,
              "#fb9f3a"
             ],
             [
              0.8888888888888888,
              "#fdca26"
             ],
             [
              1,
              "#f0f921"
             ]
            ],
            "type": "histogram2dcontour"
           }
          ],
          "mesh3d": [
           {
            "colorbar": {
             "outlinewidth": 0,
             "ticks": ""
            },
            "type": "mesh3d"
           }
          ],
          "parcoords": [
           {
            "line": {
             "colorbar": {
              "outlinewidth": 0,
              "ticks": ""
             }
            },
            "type": "parcoords"
           }
          ],
          "pie": [
           {
            "automargin": true,
            "type": "pie"
           }
          ],
          "scatter": [
           {
            "fillpattern": {
             "fillmode": "overlay",
             "size": 10,
             "solidity": 0.2
            },
            "type": "scatter"
           }
          ],
          "scatter3d": [
           {
            "line": {
             "colorbar": {
              "outlinewidth": 0,
              "ticks": ""
             }
            },
            "marker": {
             "colorbar": {
              "outlinewidth": 0,
              "ticks": ""
             }
            },
            "type": "scatter3d"
           }
          ],
          "scattercarpet": [
           {
            "marker": {
             "colorbar": {
              "outlinewidth": 0,
              "ticks": ""
             }
            },
            "type": "scattercarpet"
           }
          ],
          "scattergeo": [
           {
            "marker": {
             "colorbar": {
              "outlinewidth": 0,
              "ticks": ""
             }
            },
            "type": "scattergeo"
           }
          ],
          "scattergl": [
           {
            "marker": {
             "colorbar": {
              "outlinewidth": 0,
              "ticks": ""
             }
            },
            "type": "scattergl"
           }
          ],
          "scattermap": [
           {
            "marker": {
             "colorbar": {
              "outlinewidth": 0,
              "ticks": ""
             }
            },
            "type": "scattermap"
           }
          ],
          "scattermapbox": [
           {
            "marker": {
             "colorbar": {
              "outlinewidth": 0,
              "ticks": ""
             }
            },
            "type": "scattermapbox"
           }
          ],
          "scatterpolar": [
           {
            "marker": {
             "colorbar": {
              "outlinewidth": 0,
              "ticks": ""
             }
            },
            "type": "scatterpolar"
           }
          ],
          "scatterpolargl": [
           {
            "marker": {
             "colorbar": {
              "outlinewidth": 0,
              "ticks": ""
             }
            },
            "type": "scatterpolargl"
           }
          ],
          "scatterternary": [
           {
            "marker": {
             "colorbar": {
              "outlinewidth": 0,
              "ticks": ""
             }
            },
            "type": "scatterternary"
           }
          ],
          "surface": [
           {
            "colorbar": {
             "outlinewidth": 0,
             "ticks": ""
            },
            "colorscale": [
             [
              0,
              "#0d0887"
             ],
             [
              0.1111111111111111,
              "#46039f"
             ],
             [
              0.2222222222222222,
              "#7201a8"
             ],
             [
              0.3333333333333333,
              "#9c179e"
             ],
             [
              0.4444444444444444,
              "#bd3786"
             ],
             [
              0.5555555555555556,
              "#d8576b"
             ],
             [
              0.6666666666666666,
              "#ed7953"
             ],
             [
              0.7777777777777778,
              "#fb9f3a"
             ],
             [
              0.8888888888888888,
              "#fdca26"
             ],
             [
              1,
              "#f0f921"
             ]
            ],
            "type": "surface"
           }
          ],
          "table": [
           {
            "cells": {
             "fill": {
              "color": "#EBF0F8"
             },
             "line": {
              "color": "white"
             }
            },
            "header": {
             "fill": {
              "color": "#C8D4E3"
             },
             "line": {
              "color": "white"
             }
            },
            "type": "table"
           }
          ]
         },
         "layout": {
          "annotationdefaults": {
           "arrowcolor": "#2a3f5f",
           "arrowhead": 0,
           "arrowwidth": 1
          },
          "autotypenumbers": "strict",
          "coloraxis": {
           "colorbar": {
            "outlinewidth": 0,
            "ticks": ""
           }
          },
          "colorscale": {
           "diverging": [
            [
             0,
             "#8e0152"
            ],
            [
             0.1,
             "#c51b7d"
            ],
            [
             0.2,
             "#de77ae"
            ],
            [
             0.3,
             "#f1b6da"
            ],
            [
             0.4,
             "#fde0ef"
            ],
            [
             0.5,
             "#f7f7f7"
            ],
            [
             0.6,
             "#e6f5d0"
            ],
            [
             0.7,
             "#b8e186"
            ],
            [
             0.8,
             "#7fbc41"
            ],
            [
             0.9,
             "#4d9221"
            ],
            [
             1,
             "#276419"
            ]
           ],
           "sequential": [
            [
             0,
             "#0d0887"
            ],
            [
             0.1111111111111111,
             "#46039f"
            ],
            [
             0.2222222222222222,
             "#7201a8"
            ],
            [
             0.3333333333333333,
             "#9c179e"
            ],
            [
             0.4444444444444444,
             "#bd3786"
            ],
            [
             0.5555555555555556,
             "#d8576b"
            ],
            [
             0.6666666666666666,
             "#ed7953"
            ],
            [
             0.7777777777777778,
             "#fb9f3a"
            ],
            [
             0.8888888888888888,
             "#fdca26"
            ],
            [
             1,
             "#f0f921"
            ]
           ],
           "sequentialminus": [
            [
             0,
             "#0d0887"
            ],
            [
             0.1111111111111111,
             "#46039f"
            ],
            [
             0.2222222222222222,
             "#7201a8"
            ],
            [
             0.3333333333333333,
             "#9c179e"
            ],
            [
             0.4444444444444444,
             "#bd3786"
            ],
            [
             0.5555555555555556,
             "#d8576b"
            ],
            [
             0.6666666666666666,
             "#ed7953"
            ],
            [
             0.7777777777777778,
             "#fb9f3a"
            ],
            [
             0.8888888888888888,
             "#fdca26"
            ],
            [
             1,
             "#f0f921"
            ]
           ]
          },
          "colorway": [
           "#636efa",
           "#EF553B",
           "#00cc96",
           "#ab63fa",
           "#FFA15A",
           "#19d3f3",
           "#FF6692",
           "#B6E880",
           "#FF97FF",
           "#FECB52"
          ],
          "font": {
           "color": "#2a3f5f"
          },
          "geo": {
           "bgcolor": "white",
           "lakecolor": "white",
           "landcolor": "#E5ECF6",
           "showlakes": true,
           "showland": true,
           "subunitcolor": "white"
          },
          "hoverlabel": {
           "align": "left"
          },
          "hovermode": "closest",
          "mapbox": {
           "style": "light"
          },
          "paper_bgcolor": "white",
          "plot_bgcolor": "#E5ECF6",
          "polar": {
           "angularaxis": {
            "gridcolor": "white",
            "linecolor": "white",
            "ticks": ""
           },
           "bgcolor": "#E5ECF6",
           "radialaxis": {
            "gridcolor": "white",
            "linecolor": "white",
            "ticks": ""
           }
          },
          "scene": {
           "xaxis": {
            "backgroundcolor": "#E5ECF6",
            "gridcolor": "white",
            "gridwidth": 2,
            "linecolor": "white",
            "showbackground": true,
            "ticks": "",
            "zerolinecolor": "white"
           },
           "yaxis": {
            "backgroundcolor": "#E5ECF6",
            "gridcolor": "white",
            "gridwidth": 2,
            "linecolor": "white",
            "showbackground": true,
            "ticks": "",
            "zerolinecolor": "white"
           },
           "zaxis": {
            "backgroundcolor": "#E5ECF6",
            "gridcolor": "white",
            "gridwidth": 2,
            "linecolor": "white",
            "showbackground": true,
            "ticks": "",
            "zerolinecolor": "white"
           }
          },
          "shapedefaults": {
           "line": {
            "color": "#2a3f5f"
           }
          },
          "ternary": {
           "aaxis": {
            "gridcolor": "white",
            "linecolor": "white",
            "ticks": ""
           },
           "baxis": {
            "gridcolor": "white",
            "linecolor": "white",
            "ticks": ""
           },
           "bgcolor": "#E5ECF6",
           "caxis": {
            "gridcolor": "white",
            "linecolor": "white",
            "ticks": ""
           }
          },
          "title": {
           "x": 0.05
          },
          "xaxis": {
           "automargin": true,
           "gridcolor": "white",
           "linecolor": "white",
           "ticks": "",
           "title": {
            "standoff": 15
           },
           "zerolinecolor": "white",
           "zerolinewidth": 2
          },
          "yaxis": {
           "automargin": true,
           "gridcolor": "white",
           "linecolor": "white",
           "ticks": "",
           "title": {
            "standoff": 15
           },
           "zerolinecolor": "white",
           "zerolinewidth": 2
          }
         }
        },
        "title": {
         "font": {
          "color": "black"
         },
         "text": "Trip Duration Distribution by Rider Type"
        },
        "xaxis": {
         "anchor": "y",
         "categoryarray": [
          "member",
          "casual"
         ],
         "categoryorder": "array",
         "domain": [
          0,
          1
         ],
         "tickfont": {
          "color": "black"
         },
         "title": {
          "font": {
           "color": "black"
          },
          "text": "Rider Type"
         }
        },
        "yaxis": {
         "anchor": "x",
         "domain": [
          0,
          1
         ],
         "tickfont": {
          "color": "black"
         },
         "title": {
          "font": {
           "color": "black"
          },
          "text": "Trip Duration (min)"
         }
        }
       }
      },
      "image/png": "[encoded data removed]"
     },
     "metadata": {},
     "output_type": "display_data"
    }
   ],
   "source": [
    "fig7 = px.box(\n",
    "    df,\n",
    "    x='member_casual',\n",
    "    y='trip_duration_min',\n",
    "    color='member_casual',\n",
    "    title='Trip Duration Distribution by Rider Type',\n",
    "    labels={\n",
    "        'member_casual': 'Rider Type',\n",
    "        'trip_duration_min': 'Trip Duration (min)'\n",
    "    },\n",
    "    color_discrete_map={'member': 'orange', 'casual': 'gold'}\n",
    ")\n",
    "\n",
    "fig7.update_layout(\n",
    "    xaxis=dict(title_font=dict(color='black'), tickfont=dict(color='black')),\n",
    "    yaxis=dict(title_font=dict(color='black'), tickfont=dict(color='black')),\n",
    "    title_font=dict(color='black'),\n",
    "    legend_font=dict(color='black'),\n",
    "    plot_bgcolor='white'\n",
    ")\n",
    "\n",
    "fig7.show()\n"
   ]
  },
  {
   "cell_type": "code",
   "execution_count": 23,
   "id": "5e85be6c-e67a-472b-be07-cc3cf8697b67",
   "metadata": {},
   "outputs": [
    {
     "ename": "KeyError",
     "evalue": "'started_at'",
     "output_type": "error",
     "traceback": [
      "\u001b[0;31m---------------------------------------------------------------------------\u001b[0m",
      "\u001b[0;31mKeyError\u001b[0m                                  Traceback (most recent call last)",
      "File \u001b[0;32m/Applications/anaconda3/envs/citibike_2022/lib/python3.10/site-packages/pandas/core/indexes/base.py:3812\u001b[0m, in \u001b[0;36mIndex.get_loc\u001b[0;34m(self, key)\u001b[0m\n\u001b[1;32m   3811\u001b[0m \u001b[38;5;28;01mtry\u001b[39;00m:\n\u001b[0;32m-> 3812\u001b[0m     \u001b[38;5;28;01mreturn\u001b[39;00m \u001b[38;5;28;43mself\u001b[39;49m\u001b[38;5;241;43m.\u001b[39;49m\u001b[43m_engine\u001b[49m\u001b[38;5;241;43m.\u001b[39;49m\u001b[43mget_loc\u001b[49m\u001b[43m(\u001b[49m\u001b[43mcasted_key\u001b[49m\u001b[43m)\u001b[49m\n\u001b[1;32m   3813\u001b[0m \u001b[38;5;28;01mexcept\u001b[39;00m \u001b[38;5;167;01mKeyError\u001b[39;00m \u001b[38;5;28;01mas\u001b[39;00m err:\n",
      "File \u001b[0;32mpandas/_libs/index.pyx:167\u001b[0m, in \u001b[0;36mpandas._libs.index.IndexEngine.get_loc\u001b[0;34m()\u001b[0m\n",
      "File \u001b[0;32mpandas/_libs/index.pyx:196\u001b[0m, in \u001b[0;36mpandas._libs.index.IndexEngine.get_loc\u001b[0;34m()\u001b[0m\n",
      "File \u001b[0;32mpandas/_libs/hashtable_class_helper.pxi:7088\u001b[0m, in \u001b[0;36mpandas._libs.hashtable.PyObjectHashTable.get_item\u001b[0;34m()\u001b[0m\n",
      "File \u001b[0;32mpandas/_libs/hashtable_class_helper.pxi:7096\u001b[0m, in \u001b[0;36mpandas._libs.hashtable.PyObjectHashTable.get_item\u001b[0;34m()\u001b[0m\n",
      "\u001b[0;31mKeyError\u001b[0m: 'started_at'",
      "\nThe above exception was the direct cause of the following exception:\n",
      "\u001b[0;31mKeyError\u001b[0m                                  Traceback (most recent call last)",
      "Cell \u001b[0;32mIn[23], line 5\u001b[0m\n\u001b[1;32m      2\u001b[0m \u001b[38;5;28;01mimport\u001b[39;00m\u001b[38;5;250m \u001b[39m\u001b[38;5;21;01mplotly\u001b[39;00m\u001b[38;5;21;01m.\u001b[39;00m\u001b[38;5;21;01mexpress\u001b[39;00m\u001b[38;5;250m \u001b[39m\u001b[38;5;28;01mas\u001b[39;00m\u001b[38;5;250m \u001b[39m\u001b[38;5;21;01mpx\u001b[39;00m\n\u001b[1;32m      4\u001b[0m \u001b[38;5;66;03m# Step 1: Convert start/end time columns to datetime\u001b[39;00m\n\u001b[0;32m----> 5\u001b[0m df[\u001b[38;5;124m'\u001b[39m\u001b[38;5;124mstarted_at\u001b[39m\u001b[38;5;124m'\u001b[39m] \u001b[38;5;241m=\u001b[39m pd\u001b[38;5;241m.\u001b[39mto_datetime(\u001b[43mdf\u001b[49m\u001b[43m[\u001b[49m\u001b[38;5;124;43m'\u001b[39;49m\u001b[38;5;124;43mstarted_at\u001b[39;49m\u001b[38;5;124;43m'\u001b[39;49m\u001b[43m]\u001b[49m)\n\u001b[1;32m      6\u001b[0m df[\u001b[38;5;124m'\u001b[39m\u001b[38;5;124mended_at\u001b[39m\u001b[38;5;124m'\u001b[39m] \u001b[38;5;241m=\u001b[39m pd\u001b[38;5;241m.\u001b[39mto_datetime(df[\u001b[38;5;124m'\u001b[39m\u001b[38;5;124mended_at\u001b[39m\u001b[38;5;124m'\u001b[39m])\n\u001b[1;32m      8\u001b[0m \u001b[38;5;66;03m# Step 2: Create trip_duration column in minutes\u001b[39;00m\n",
      "File \u001b[0;32m/Applications/anaconda3/envs/citibike_2022/lib/python3.10/site-packages/pandas/core/frame.py:4107\u001b[0m, in \u001b[0;36mDataFrame.__getitem__\u001b[0;34m(self, key)\u001b[0m\n\u001b[1;32m   4105\u001b[0m \u001b[38;5;28;01mif\u001b[39;00m \u001b[38;5;28mself\u001b[39m\u001b[38;5;241m.\u001b[39mcolumns\u001b[38;5;241m.\u001b[39mnlevels \u001b[38;5;241m>\u001b[39m \u001b[38;5;241m1\u001b[39m:\n\u001b[1;32m   4106\u001b[0m     \u001b[38;5;28;01mreturn\u001b[39;00m \u001b[38;5;28mself\u001b[39m\u001b[38;5;241m.\u001b[39m_getitem_multilevel(key)\n\u001b[0;32m-> 4107\u001b[0m indexer \u001b[38;5;241m=\u001b[39m \u001b[38;5;28;43mself\u001b[39;49m\u001b[38;5;241;43m.\u001b[39;49m\u001b[43mcolumns\u001b[49m\u001b[38;5;241;43m.\u001b[39;49m\u001b[43mget_loc\u001b[49m\u001b[43m(\u001b[49m\u001b[43mkey\u001b[49m\u001b[43m)\u001b[49m\n\u001b[1;32m   4108\u001b[0m \u001b[38;5;28;01mif\u001b[39;00m is_integer(indexer):\n\u001b[1;32m   4109\u001b[0m     indexer \u001b[38;5;241m=\u001b[39m [indexer]\n",
      "File \u001b[0;32m/Applications/anaconda3/envs/citibike_2022/lib/python3.10/site-packages/pandas/core/indexes/base.py:3819\u001b[0m, in \u001b[0;36mIndex.get_loc\u001b[0;34m(self, key)\u001b[0m\n\u001b[1;32m   3814\u001b[0m     \u001b[38;5;28;01mif\u001b[39;00m \u001b[38;5;28misinstance\u001b[39m(casted_key, \u001b[38;5;28mslice\u001b[39m) \u001b[38;5;129;01mor\u001b[39;00m (\n\u001b[1;32m   3815\u001b[0m         \u001b[38;5;28misinstance\u001b[39m(casted_key, abc\u001b[38;5;241m.\u001b[39mIterable)\n\u001b[1;32m   3816\u001b[0m         \u001b[38;5;129;01mand\u001b[39;00m \u001b[38;5;28many\u001b[39m(\u001b[38;5;28misinstance\u001b[39m(x, \u001b[38;5;28mslice\u001b[39m) \u001b[38;5;28;01mfor\u001b[39;00m x \u001b[38;5;129;01min\u001b[39;00m casted_key)\n\u001b[1;32m   3817\u001b[0m     ):\n\u001b[1;32m   3818\u001b[0m         \u001b[38;5;28;01mraise\u001b[39;00m InvalidIndexError(key)\n\u001b[0;32m-> 3819\u001b[0m     \u001b[38;5;28;01mraise\u001b[39;00m \u001b[38;5;167;01mKeyError\u001b[39;00m(key) \u001b[38;5;28;01mfrom\u001b[39;00m\u001b[38;5;250m \u001b[39m\u001b[38;5;21;01merr\u001b[39;00m\n\u001b[1;32m   3820\u001b[0m \u001b[38;5;28;01mexcept\u001b[39;00m \u001b[38;5;167;01mTypeError\u001b[39;00m:\n\u001b[1;32m   3821\u001b[0m     \u001b[38;5;66;03m# If we have a listlike key, _check_indexing_error will raise\u001b[39;00m\n\u001b[1;32m   3822\u001b[0m     \u001b[38;5;66;03m#  InvalidIndexError. Otherwise we fall through and re-raise\u001b[39;00m\n\u001b[1;32m   3823\u001b[0m     \u001b[38;5;66;03m#  the TypeError.\u001b[39;00m\n\u001b[1;32m   3824\u001b[0m     \u001b[38;5;28mself\u001b[39m\u001b[38;5;241m.\u001b[39m_check_indexing_error(key)\n",
      "\u001b[0;31mKeyError\u001b[0m: 'started_at'"
     ]
    }
   ],
   "source": [
    "import pandas as pd\n",
    "import plotly.express as px\n",
    "\n",
    "# Step 1: Convert start/end time columns to datetime\n",
    "df['started_at'] = pd.to_datetime(df['started_at'])\n",
    "df['ended_at'] = pd.to_datetime(df['ended_at'])\n",
    "\n",
    "# Step 2: Create trip_duration column in minutes\n",
    "df['trip_duration'] = (df['ended_at'] - df['started_at']).dt.total_seconds() / 60\n",
    "\n",
    "# Step 3: Extract day of the week\n",
    "df['day_of_week'] = df['started_at'].dt.day_name()\n",
    "\n",
    "# Step 4: Group by day and rider type, calculate average trip duration\n",
    "avg_duration_day = df.groupby(['day_of_week', 'member_casual'])['trip_duration'].mean().reset_index()\n",
    "\n",
    "# Step 5: Reorder the days\n",
    "days_order = ['Monday', 'Tuesday', 'Wednesday', 'Thursday', 'Friday', 'Saturday', 'Sunday']\n",
    "avg_duration_day['day_of_week'] = pd.Categorical(avg_duration_day['day_of_week'], categories=days_order, ordered=True)\n",
    "avg_duration_day = avg_duration_day.sort_values('day_of_week')\n",
    "\n",
    "# Step 6: Plot with gold/orange theme\n",
    "CUSTOM_COLORS = {\n",
    "\n",
    "    'casual': 'gold',\n",
    "    'member': 'orange'\n",
    "}\n",
    "\n",
    "fig6 = px.bar(\n",
    "    avg_duration_day,\n",
    "    x='day_of_week',\n",
    "    y='trip_duration',\n",
    "    color='member_casual',\n",
    "    title='Average Trip Duration by Day and Rider Type',\n",
    "    labels={\n",
    "        'day_of_week': 'Day of the Week',\n",
    "        'trip_duration': 'Average Duration (min)',\n",
    "        'member_casual': 'Rider Type'\n",
    "    },\n",
    "    color_discrete_map=CUSTOM_COLORS\n",
    ")\n",
    "\n",
    "# Step 7: Styling\n",
    "fig6.update_layout(\n",
    "    xaxis=dict(title_font=dict(color='black'), tickfont=dict(color='black')),\n",
    "    yaxis=dict(title_font=dict(color='black'), tickfont=dict(color='black')),\n",
    "    title_font=dict(color='black'),\n",
    "    legend_title_font=dict(color='black'),\n",
    "    legend_font=dict(color='black'),\n",
    "    plot_bgcolor='white'\n",
    ")\n",
    "\n",
    "fig6.show()\n"
   ]
  },
  {
   "cell_type": "markdown",
   "id": "1e0152db-8ee8-4df8-8616-bc4d05e0fe24",
   "metadata": {},
   "source": [
    "### Average Trip Duration by Day and Rider Type\n",
    "\n",
    "This stacked bar chart displays the **average trip duration (in minutes)** for both casual riders and members, grouped by each day of the week.  \n",
    "\n",
    "**Key Observations:**\n",
    "- **Saturday** shows the highest average trip duration for both rider types, suggesting increased leisure riding on weekends.\n",
    "- **Monday** also has relatively longer trip durations compared to midweek days, potentially due to start-of-week commutes or leisure rides.\n",
    "- **Tuesday to Friday** display shorter average trip durations, likely reflecting work commutes or shorter weekday trips.\n",
    "- Casual riders generally have **longer trips** compared to members across all days.\n",
    "\n",
    "**Insights:**\n",
    "- Weekend marketing campaigns could be targeted toward casual riders who tend to ride longer on Saturdays.\n",
    "- Member engagement could be improved by promoting longer scenic rides during weekdays.\n"
   ]
  },
  {
   "cell_type": "code",
   "execution_count": 20,
   "id": "a792c504-ff57-469d-bfa2-4fb49fe6382e",
   "metadata": {},
   "outputs": [
    {
     "name": "stdout",
     "output_type": "stream",
     "text": [
      "['ride_id', 'rideable_type', 'started_at', 'ended_at', 'start_station_name', 'start_station_id', 'end_station_name', 'end_station_id', 'start_lat', 'start_lng', 'end_lat', 'end_lng', 'member_casual', 'date', 'avg_temp_f_tenths', 'avg_temp_f', 'trip_duration_min', 'day_of_week', 'month', 'trip_duration']\n",
      "Missing after fixes: []\n"
     ]
    },
    {
     "data": {
      "text/html": [
       "<div>\n",
       "<style scoped>\n",
       "    .dataframe tbody tr th:only-of-type {\n",
       "        vertical-align: middle;\n",
       "    }\n",
       "\n",
       "    .dataframe tbody tr th {\n",
       "        vertical-align: top;\n",
       "    }\n",
       "\n",
       "    .dataframe thead th {\n",
       "        text-align: right;\n",
       "    }\n",
       "</style>\n",
       "<table border=\"1\" class=\"dataframe\">\n",
       "  <thead>\n",
       "    <tr style=\"text-align: right;\">\n",
       "      <th></th>\n",
       "      <th>date</th>\n",
       "      <th>bike_rides_daily</th>\n",
       "      <th>start_station_name</th>\n",
       "      <th>avgTemp</th>\n",
       "      <th>season</th>\n",
       "    </tr>\n",
       "  </thead>\n",
       "  <tbody>\n",
       "    <tr>\n",
       "      <th>0</th>\n",
       "      <td>2022-01-01</td>\n",
       "      <td>7</td>\n",
       "      <td>5 Ave &amp; E 63 St</td>\n",
       "      <td>52.9</td>\n",
       "      <td>Winter</td>\n",
       "    </tr>\n",
       "    <tr>\n",
       "      <th>1</th>\n",
       "      <td>2022-01-02</td>\n",
       "      <td>12</td>\n",
       "      <td>11 Ave &amp; W 59 St</td>\n",
       "      <td>52.5</td>\n",
       "      <td>Winter</td>\n",
       "    </tr>\n",
       "    <tr>\n",
       "      <th>2</th>\n",
       "      <td>2022-01-03</td>\n",
       "      <td>11</td>\n",
       "      <td>11 Ave &amp; W 41 St</td>\n",
       "      <td>34.5</td>\n",
       "      <td>Winter</td>\n",
       "    </tr>\n",
       "    <tr>\n",
       "      <th>3</th>\n",
       "      <td>2022-01-04</td>\n",
       "      <td>7</td>\n",
       "      <td>E 20 St &amp; 2 Ave</td>\n",
       "      <td>27.1</td>\n",
       "      <td>Winter</td>\n",
       "    </tr>\n",
       "    <tr>\n",
       "      <th>4</th>\n",
       "      <td>2022-01-05</td>\n",
       "      <td>14</td>\n",
       "      <td>2 Ave &amp; E 31 St</td>\n",
       "      <td>37.8</td>\n",
       "      <td>Winter</td>\n",
       "    </tr>\n",
       "  </tbody>\n",
       "</table>\n",
       "</div>"
      ],
      "text/plain": [
       "        date  bike_rides_daily start_station_name  avgTemp  season\n",
       "0 2022-01-01                 7    5 Ave & E 63 St     52.9  Winter\n",
       "1 2022-01-02                12   11 Ave & W 59 St     52.5  Winter\n",
       "2 2022-01-03                11   11 Ave & W 41 St     34.5  Winter\n",
       "3 2022-01-04                 7    E 20 St & 2 Ave     27.1  Winter\n",
       "4 2022-01-05                14    2 Ave & E 31 St     37.8  Winter"
      ]
     },
     "execution_count": 20,
     "metadata": {},
     "output_type": "execute_result"
    }
   ],
   "source": [
    "import pandas as pd\n",
    "import numpy as np\n",
    "\n",
    "# Peek at what you actually have\n",
    "print(df.columns.tolist())\n",
    "\n",
    "# ---- 1) Rename common variants to the names we need ----\n",
    "rename_map = {}\n",
    "\n",
    "# date\n",
    "for c in [\"date\",\"Date\",\"ride_date\",\"started_at\",\"start_time\",\"starttime\"]:\n",
    "    if c in df.columns: \n",
    "        rename_map[c] = \"date\"; break\n",
    "\n",
    "# temperature -> avgTemp (°F)\n",
    "for c in [\"avgTemp\",\"avgTemp_f\",\"avg_temp_f\",\"temperature_f\",\"tavg_f\",\"tavg\",\"avg_temp\",\"temp_f\"]:\n",
    "    if c in df.columns:\n",
    "        rename_map[c] = \"avgTemp\"; break\n",
    "\n",
    "# start station\n",
    "for c in [\"start_station_name\",\"Start Station Name\",\"start_station\",\"from_station_name\"]:\n",
    "    if c in df.columns:\n",
    "        rename_map[c] = \"start_station_name\"; break\n",
    "\n",
    "df = df.rename(columns=rename_map).copy()\n",
    "\n",
    "# Ensure datetime\n",
    "if \"date\" in df.columns:\n",
    "    df[\"date\"] = pd.to_datetime(df[\"date\"], errors=\"coerce\")\n",
    "\n",
    "# ---- 2) Create 'bike_rides_daily' if missing (from trip-level) ----\n",
    "if \"bike_rides_daily\" not in df.columns:\n",
    "    # If rows are trips and you have a timestamp per row, aggregate per day:\n",
    "    if \"date\" in df.columns and df[\"date\"].notna().any():\n",
    "        daily_counts = df.groupby(df[\"date\"].dt.date).size().reset_index(name=\"bike_rides_daily\")\n",
    "        daily_counts[\"date\"] = pd.to_datetime(daily_counts[\"date\"])\n",
    "        # keep a slim daily table for the dashboard\n",
    "        slim = daily_counts.copy()\n",
    "        # try to carry a representative start_station_name if present (optional)\n",
    "        if \"start_station_name\" in df.columns:\n",
    "            tmp = (df.dropna(subset=[\"date\",\"start_station_name\"])\n",
    "                     .assign(day=df[\"date\"].dt.date)\n",
    "                     .groupby([\"day\",\"start_station_name\"]).size()\n",
    "                     .reset_index(name=\"rides\")\n",
    "                     .sort_values([\"day\",\"rides\"], ascending=[True,False])\n",
    "                     .drop_duplicates([\"day\"])[[\"day\",\"start_station_name\"]]\n",
    "                   )\n",
    "            tmp.rename(columns={\"day\":\"date\"}, inplace=True)\n",
    "            tmp[\"date\"] = pd.to_datetime(tmp[\"date\"])\n",
    "            slim = slim.merge(tmp, on=\"date\", how=\"left\")\n",
    "        # attach temperature if present\n",
    "        if \"avgTemp\" in df.columns:\n",
    "            daily_temp = (df[[\"date\",\"avgTemp\"]]\n",
    "                          .dropna()\n",
    "                          .groupby(df[\"date\"].dt.date)[\"avgTemp\"]\n",
    "                          .mean().reset_index())\n",
    "            daily_temp[\"date\"] = pd.to_datetime(daily_temp[\"date\"])\n",
    "            slim = slim.merge(daily_temp, on=\"date\", how=\"left\")\n",
    "        df = slim  # switch df to daily level\n",
    "\n",
    "# ---- 3) Create 'season' if missing ----\n",
    "if \"season\" not in df.columns:\n",
    "    if \"date\" not in df.columns:\n",
    "        raise ValueError(\"No 'date' column to derive 'season' from.\")\n",
    "    m = df[\"date\"].dt.month\n",
    "    season_map = {12:\"Winter\",1:\"Winter\",2:\"Winter\",3:\"Spring\",4:\"Spring\",5:\"Spring\",\n",
    "                  6:\"Summer\",7:\"Summer\",8:\"Summer\",9:\"Fall\",10:\"Fall\",11:\"Fall\"}\n",
    "    df[\"season\"] = m.map(season_map)\n",
    "\n",
    "# Final sanity check\n",
    "need = [\"date\",\"bike_rides_daily\",\"avgTemp\",\"start_station_name\",\"season\"]\n",
    "missing = [c for c in need if c not in df.columns]\n",
    "print(\"Missing after fixes:\", missing)\n",
    "df.head()\n"
   ]
  },
  {
   "cell_type": "code",
   "execution_count": 21,
   "id": "095ed3ab-fd71-4e27-b5f5-dad35b1545db",
   "metadata": {},
   "outputs": [
    {
     "data": {
      "text/plain": [
       "(26, 5)"
      ]
     },
     "execution_count": 21,
     "metadata": {},
     "output_type": "execute_result"
    }
   ],
   "source": [
    "np.random.seed(32)\n",
    "\n",
    "use_cols = [\"date\",\"bike_rides_daily\",\"avgTemp\",\"start_station_name\",\"season\"]\n",
    "df_small = df[use_cols].copy()\n",
    "\n",
    "mask = np.random.rand(len(df_small)) <= 0.08    # ~8%\n",
    "sample_df = df_small[mask].reset_index(drop=True)\n",
    "\n",
    "sample_df.to_csv(\"reduced_data_to_plot_7.csv\", index=False)\n",
    "sample_df.shape\n"
   ]
  },
  {
   "cell_type": "code",
   "execution_count": 22,
   "id": "88e8d85d-660f-4c2e-a997-09b01b70f850",
   "metadata": {},
   "outputs": [
    {
     "name": "stdout",
     "output_type": "stream",
     "text": [
      "/Users/muhammaddildar/Desktop/citibike_2022_dashboard/reduced_data_to_plot_7.csv\n"
     ]
    },
    {
     "data": {
      "text/html": [
       "<div>\n",
       "<style scoped>\n",
       "    .dataframe tbody tr th:only-of-type {\n",
       "        vertical-align: middle;\n",
       "    }\n",
       "\n",
       "    .dataframe tbody tr th {\n",
       "        vertical-align: top;\n",
       "    }\n",
       "\n",
       "    .dataframe thead th {\n",
       "        text-align: right;\n",
       "    }\n",
       "</style>\n",
       "<table border=\"1\" class=\"dataframe\">\n",
       "  <thead>\n",
       "    <tr style=\"text-align: right;\">\n",
       "      <th></th>\n",
       "      <th>date</th>\n",
       "      <th>bike_rides_daily</th>\n",
       "      <th>avgTemp</th>\n",
       "      <th>start_station_name</th>\n",
       "      <th>season</th>\n",
       "    </tr>\n",
       "  </thead>\n",
       "  <tbody>\n",
       "    <tr>\n",
       "      <th>0</th>\n",
       "      <td>2022-01-18</td>\n",
       "      <td>10</td>\n",
       "      <td>35.2</td>\n",
       "      <td>Amsterdam Ave &amp; W 119 St</td>\n",
       "      <td>Winter</td>\n",
       "    </tr>\n",
       "    <tr>\n",
       "      <th>1</th>\n",
       "      <td>2022-02-01</td>\n",
       "      <td>9</td>\n",
       "      <td>28.9</td>\n",
       "      <td>Central Park North &amp; Adam Clayton Powell Blvd</td>\n",
       "      <td>Winter</td>\n",
       "    </tr>\n",
       "    <tr>\n",
       "      <th>2</th>\n",
       "      <td>2022-02-05</td>\n",
       "      <td>11</td>\n",
       "      <td>27.0</td>\n",
       "      <td>21 St &amp; 43 Ave</td>\n",
       "      <td>Winter</td>\n",
       "    </tr>\n",
       "    <tr>\n",
       "      <th>3</th>\n",
       "      <td>2022-02-20</td>\n",
       "      <td>13</td>\n",
       "      <td>27.3</td>\n",
       "      <td>5 Ave &amp; E 135 St</td>\n",
       "      <td>Winter</td>\n",
       "    </tr>\n",
       "    <tr>\n",
       "      <th>4</th>\n",
       "      <td>2022-02-24</td>\n",
       "      <td>16</td>\n",
       "      <td>34.0</td>\n",
       "      <td>1 Ave &amp; E 18 St</td>\n",
       "      <td>Winter</td>\n",
       "    </tr>\n",
       "  </tbody>\n",
       "</table>\n",
       "</div>"
      ],
      "text/plain": [
       "         date  bike_rides_daily  avgTemp  \\\n",
       "0  2022-01-18                10     35.2   \n",
       "1  2022-02-01                 9     28.9   \n",
       "2  2022-02-05                11     27.0   \n",
       "3  2022-02-20                13     27.3   \n",
       "4  2022-02-24                16     34.0   \n",
       "\n",
       "                              start_station_name  season  \n",
       "0                       Amsterdam Ave & W 119 St  Winter  \n",
       "1  Central Park North & Adam Clayton Powell Blvd  Winter  \n",
       "2                                 21 St & 43 Ave  Winter  \n",
       "3                               5 Ave & E 135 St  Winter  \n",
       "4                                1 Ave & E 18 St  Winter  "
      ]
     },
     "execution_count": 22,
     "metadata": {},
     "output_type": "execute_result"
    }
   ],
   "source": [
    "import os, pandas as pd\n",
    "print(os.path.abspath(\"reduced_data_to_plot_7.csv\"))\n",
    "pd.read_csv(\"reduced_data_to_plot_7.csv\").head()\n"
   ]
  },
  {
   "cell_type": "code",
   "execution_count": null,
   "id": "331dd760-6039-4355-858b-9e2cf2672cd5",
   "metadata": {},
   "outputs": [],
   "source": []
  }
 ],
 "metadata": {
  "kernelspec": {
   "display_name": "Python (citibike_2022)",
   "language": "python",
   "name": "citibike_2022"
  },
  "language_info": {
   "codemirror_mode": {
    "name": "ipython",
    "version": 3
   },
   "file_extension": ".py",
   "mimetype": "text/x-python",
   "name": "python",
   "nbconvert_exporter": "python",
   "pygments_lexer": "ipython3",
   "version": "3.10.18"
  }
 },
 "nbformat": 4,
 "nbformat_minor": 5
}
